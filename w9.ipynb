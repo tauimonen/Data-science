{
 "cells": [
  {
   "cell_type": "code",
   "execution_count": null,
   "id": "b5340d21-3f01-41a2-a9d3-c9763b85632a",
   "metadata": {},
   "outputs": [],
   "source": [
    "#bitrace\n",
    "memory = {}\n",
    "\n",
    "def count(s):\n",
    "    n = len(s)\n",
    "    if n == 0: # onnistuneesti tyhjennetty\n",
    "        return 1\n",
    "    if n % 2 == 1: # parittoman pituista ei voi tyhjentää\n",
    "        return 0\n",
    "    elif s in memory: #\n",
    "        return memory[s]\n",
    "    elif \"00\" not in s and \"11\" not in s: # ei poistettavia bittiyhdistelmiä\n",
    "        memory[s] = 0\n",
    "        return 0\n",
    "    else:\n",
    "        res = 0\n",
    "        for i in range(1, n):\n",
    "            if s[i] == s[i-1]:\n",
    "                res += count(s[:i-1]+s[i+1:])\n",
    "        memory[s] = res\n",
    "        return res\n",
    "\n",
    "if __name__ == \"__main__\":\n",
    "    print(count(\"1100\")) # 2\n",
    "    print(count(\"1001\")) # 1\n",
    "    print(count(\"100111\")) # 5\n",
    "    print(count(\"11001\")) # 0\n",
    "    print(count(\"1100110011100111\")) # 113925"
   ]
  },
  {
   "cell_type": "code",
   "execution_count": null,
   "id": "06c35b68-63d4-4b93-ac2b-ef0a9eba5777",
   "metadata": {},
   "outputs": [],
   "source": [
    "# coins\n",
    "def count(t):\n",
    "    s = sum(t)\n",
    "    summat = [False]*(s+1)\n",
    "    summat[0] = True\n",
    "    for i in range(len(t)):\n",
    "        for j in range(s, -1, -1):\n",
    "            if summat[j]:\n",
    "                summat[j + t[i]] = True\n",
    "    return summat.count(True) - 1 # jätetään pois summa == 0\n",
    "\n",
    "\n",
    "\n",
    "if __name__ == \"__main__\":\n",
    "    print(count([3,4,5])) # 7\n",
    "    print(count([1,1,2])) # 4\n",
    "    print(count([2,2,2,3,3,3])) # 13\n",
    "    print(count([42,5,5,100,1,3,3,7])) # 91"
   ]
  },
  {
   "cell_type": "code",
   "execution_count": 1,
   "id": "a78194da-ad7d-41e0-87e1-03ecc6fc5729",
   "metadata": {},
   "outputs": [
    {
     "name": "stdout",
     "output_type": "stream",
     "text": [
      "5\n",
      "2\n",
      "0\n",
      "58\n",
      "525456\n"
     ]
    }
   ],
   "source": [
    "# jumping\n",
    "def count(n,a,b):\n",
    "    jumps = [0] * (n + 1)\n",
    "    jumps[a] = 1\n",
    "    for i in range(2*a, b, a):\n",
    "        jumps[i] = 1\n",
    "    jumps[b] = 2 if b % a == 0 else 1\n",
    "\n",
    "    for i in range(b + 1, n + 1):\n",
    "        jumps[i] = jumps[i-a] + jumps[i-b]\n",
    "    return jumps[n]\n",
    "\n",
    "if __name__ == \"__main__\":\n",
    "    print(count(4,1,2)) # 5\n",
    "    print(count(10,2,5)) # 2\n",
    "    print(count(10,6,7)) # 0\n",
    "    print(count(30,3,5)) # 58\n",
    "    print(count(50,2,3)) # 525456"
   ]
  },
  {
   "cell_type": "code",
   "execution_count": null,
   "id": "80ae2497-2b33-470a-bbe2-d91a069913f3",
   "metadata": {},
   "outputs": [],
   "source": [
    "# monsters\n",
    "def count(r):\n",
    "    n = len(r)\n",
    "    reitit = [[None]*n for _ in range(n)]\n",
    "    for y in range(n):\n",
    "        for x in range(n):\n",
    "            res = 0\n",
    "            if r[y][x] == \"#\":\n",
    "                res = -1\n",
    "            elif x==0 and y==0:\n",
    "                res = 1 if r[y][x] == \"@\" else 0\n",
    "            else:\n",
    "                left = reitit[y][x-1] if x > 0 else -1\n",
    "                up = reitit[y-1][x] if y > 0 else -1\n",
    "                cur = 1 if r[y][x] == \"@\" else 0\n",
    "                if left == -1 and up == -1: # ei reittiä\n",
    "                    res = -1\n",
    "                elif left == -1:\n",
    "                    res = cur + up\n",
    "                elif up == -1:\n",
    "                    res = cur + left\n",
    "                else:\n",
    "                    res = cur + min(left, up)\n",
    "            reitit[y][x] = res\n",
    "    return reitit[n-1][n-1]\n",
    "                \n",
    "\n",
    "if __name__ == \"__main__\":\n",
    "    r = [\"....@\",\n",
    "         \"@##.#\",\n",
    "         \".##@#\",\n",
    "         \".@..#\",\n",
    "         \"###@.\"]\n",
    "    print(count(r)) # 2"
   ]
  },
  {
   "cell_type": "code",
   "execution_count": 2,
   "id": "4be7b403-b8f1-486a-8cd9-6116334f0403",
   "metadata": {},
   "outputs": [
    {
     "name": "stdout",
     "output_type": "stream",
     "text": [
      "5\n",
      "1\n",
      "4\n"
     ]
    }
   ],
   "source": [
    "# onediff \n",
    "def find(t):\n",
    "    pisin = [1]*len(t)\n",
    "    for k in range(len(t)):\n",
    "        for x in range(k):\n",
    "            if abs(t[x] - t[k]) == 1 and pisin[x] + 1 > pisin[k]:\n",
    "                pisin[k] = pisin[x]+1\n",
    "    return max(pisin)\n",
    "\n",
    "if __name__ == \"__main__\":\n",
    "    print(find([1,2,3,4,5])) # 5\n",
    "    print(find([5,5,5,5,5])) # 1\n",
    "    print(find([5,2,3,8,2,4,1])) # 4"
   ]
  },
  {
   "cell_type": "code",
   "execution_count": null,
   "id": "7161293c-8344-4036-bbb8-14de93c20702",
   "metadata": {},
   "outputs": [],
   "source": []
  }
 ],
 "metadata": {
  "kernelspec": {
   "display_name": "Python 3",
   "language": "python",
   "name": "python3"
  },
  "language_info": {
   "codemirror_mode": {
    "name": "ipython",
    "version": 3
   },
   "file_extension": ".py",
   "mimetype": "text/x-python",
   "name": "python",
   "nbconvert_exporter": "python",
   "pygments_lexer": "ipython3",
   "version": "3.8.10"
  }
 },
 "nbformat": 4,
 "nbformat_minor": 5
}
