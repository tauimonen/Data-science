{
 "cells": [
  {
   "cell_type": "code",
   "execution_count": 2,
   "id": "9f78e81b-9013-416c-b3ee-6af25ea7eae7",
   "metadata": {},
   "outputs": [],
   "source": [
    "import numpy as np"
   ]
  },
  {
   "cell_type": "code",
   "execution_count": 3,
   "id": "03f5348e-cd06-4fb4-a47a-2febd9c0e493",
   "metadata": {},
   "outputs": [
    {
     "name": "stdout",
     "output_type": "stream",
     "text": [
      "1.20.3\n"
     ]
    }
   ],
   "source": [
    "print(np.__version__)"
   ]
  },
  {
   "cell_type": "code",
   "execution_count": 4,
   "id": "89dbe726-229a-4926-b2a3-6b93b82defd3",
   "metadata": {},
   "outputs": [
    {
     "data": {
      "text/plain": [
       "[[100, 200, 50, 400], [50, 0, 0, 100], [350, 100, 50, 200]]"
      ]
     },
     "execution_count": 4,
     "metadata": {},
     "output_type": "execute_result"
    }
   ],
   "source": [
    "data = [[100, 200, 50, 400], [50, 0, 0, 100], [350, 100, 50, 200]]\n",
    "data"
   ]
  },
  {
   "cell_type": "code",
   "execution_count": 6,
   "id": "f59d426e-ed9b-4b51-bcbd-c13cb71a82b5",
   "metadata": {},
   "outputs": [
    {
     "data": {
      "text/plain": [
       "array([[100, 200,  50, 400],\n",
       "       [ 50,   0,   0, 100],\n",
       "       [350, 100,  50, 200]])"
      ]
     },
     "execution_count": 6,
     "metadata": {},
     "output_type": "execute_result"
    }
   ],
   "source": [
    "a = np.array(data)\n",
    "a"
   ]
  },
  {
   "cell_type": "code",
   "execution_count": 7,
   "id": "8c026407-98d7-473a-81e2-ee312bc7d229",
   "metadata": {},
   "outputs": [
    {
     "name": "stdout",
     "output_type": "stream",
     "text": [
      "number elements:  12\n",
      "number of dimnesions:  2\n",
      "shape:  (3, 4)\n",
      "data type:  int32\n",
      "strides:  (16, 4)\n",
      "flags: \n",
      "  C_CONTIGUOUS : True\n",
      "  F_CONTIGUOUS : False\n",
      "  OWNDATA : True\n",
      "  WRITEABLE : True\n",
      "  ALIGNED : True\n",
      "  WRITEBACKIFCOPY : False\n",
      "  UPDATEIFCOPY : False\n",
      "\n"
     ]
    }
   ],
   "source": [
    "def print_info(a):\n",
    "    print(\"number elements: \", a.size)\n",
    "    print(\"number of dimnesions: \", a.ndim)\n",
    "    print(\"shape: \", a.shape)\n",
    "    print(\"data type: \", a.dtype)\n",
    "    print(\"strides: \", a.strides)\n",
    "    print(\"flags: \")\n",
    "    print(a.flags)\n",
    "    \n",
    "print_info(a)"
   ]
  },
  {
   "cell_type": "code",
   "execution_count": 8,
   "id": "e9f372e2-6fec-448d-8d7f-36fedcd46f36",
   "metadata": {},
   "outputs": [
    {
     "name": "stdout",
     "output_type": "stream",
     "text": [
      "<memory at 0x00000244E12A4EE0>\n"
     ]
    }
   ],
   "source": [
    "print(a.data)"
   ]
  },
  {
   "cell_type": "code",
   "execution_count": 11,
   "id": "b07ee2f2-1142-4872-b20d-3add33897a23",
   "metadata": {},
   "outputs": [],
   "source": [
    "abytes = a.ravel().view(dtype=np.uint8)"
   ]
  },
  {
   "cell_type": "code",
   "execution_count": 13,
   "id": "6753087f-bb11-4745-a149-e9b3c235c73a",
   "metadata": {},
   "outputs": [
    {
     "name": "stdout",
     "output_type": "stream",
     "text": [
      "[100   0   0   0 200   0   0   0  50   0   0   0 144   1   0   0  50   0\n",
      "   0   0   0   0   0   0]\n"
     ]
    }
   ],
   "source": [
    "print(abytes[:24])"
   ]
  },
  {
   "cell_type": "code",
   "execution_count": 14,
   "id": "4a45c288-90a0-466b-8ca8-b535100a09bc",
   "metadata": {},
   "outputs": [
    {
     "name": "stdout",
     "output_type": "stream",
     "text": [
      "number elements:  48\n",
      "number of dimnesions:  1\n",
      "shape:  (48,)\n",
      "data type:  uint8\n",
      "strides:  (1,)\n",
      "flags: \n",
      "  C_CONTIGUOUS : True\n",
      "  F_CONTIGUOUS : True\n",
      "  OWNDATA : False\n",
      "  WRITEABLE : True\n",
      "  ALIGNED : True\n",
      "  WRITEBACKIFCOPY : False\n",
      "  UPDATEIFCOPY : False\n",
      "\n"
     ]
    }
   ],
   "source": [
    "print_info(abytes)"
   ]
  },
  {
   "cell_type": "code",
   "execution_count": null,
   "id": "989404fd-0060-4fbf-a73d-3fde2e034f73",
   "metadata": {},
   "outputs": [],
   "source": []
  }
 ],
 "metadata": {
  "kernelspec": {
   "display_name": "Python 3",
   "language": "python",
   "name": "python3"
  },
  "language_info": {
   "codemirror_mode": {
    "name": "ipython",
    "version": 3
   },
   "file_extension": ".py",
   "mimetype": "text/x-python",
   "name": "python",
   "nbconvert_exporter": "python",
   "pygments_lexer": "ipython3",
   "version": "3.8.10"
  }
 },
 "nbformat": 4,
 "nbformat_minor": 5
}
