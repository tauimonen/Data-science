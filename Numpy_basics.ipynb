{
 "cells": [
  {
   "cell_type": "code",
   "execution_count": 2,
   "metadata": {},
   "outputs": [],
   "source": [
    "import numpy as np"
   ]
  },
  {
   "cell_type": "code",
   "execution_count": 2,
   "metadata": {},
   "outputs": [
    {
     "data": {
      "text/plain": [
       "array([1, 2, 3])"
      ]
     },
     "execution_count": 2,
     "metadata": {},
     "output_type": "execute_result"
    }
   ],
   "source": [
    "# One dimensional array\n",
    "np.array([1,2,3])"
   ]
  },
  {
   "cell_type": "code",
   "execution_count": 3,
   "metadata": {},
   "outputs": [
    {
     "data": {
      "text/plain": [
       "array([[1, 2, 3],\n",
       "       [4, 5, 6]])"
      ]
     },
     "execution_count": 3,
     "metadata": {},
     "output_type": "execute_result"
    }
   ],
   "source": [
    "# Two dimensional array\n",
    "np.array([[1,2,3], [4,5,6]])"
   ]
  },
  {
   "cell_type": "code",
   "execution_count": 4,
   "metadata": {},
   "outputs": [
    {
     "data": {
      "text/plain": [
       "array([[[1, 2],\n",
       "        [3, 4]],\n",
       "\n",
       "       [[5, 6],\n",
       "        [7, 8]]])"
      ]
     },
     "execution_count": 4,
     "metadata": {},
     "output_type": "execute_result"
    }
   ],
   "source": [
    "# Three dimensional array \n",
    "np.array([[[1,2], [3,4]], [[5,6], [7,8]]])"
   ]
  },
  {
   "cell_type": "code",
   "execution_count": 5,
   "metadata": {},
   "outputs": [
    {
     "data": {
      "text/plain": [
       "array([[0., 0., 0., 0.],\n",
       "       [0., 0., 0., 0.],\n",
       "       [0., 0., 0., 0.]])"
      ]
     },
     "execution_count": 5,
     "metadata": {},
     "output_type": "execute_result"
    }
   ],
   "source": [
    "# Create a 0-array\n",
    "np.zeros((3, 4))"
   ]
  },
  {
   "cell_type": "code",
   "execution_count": 6,
   "metadata": {},
   "outputs": [
    {
     "data": {
      "text/plain": [
       "array([[1., 1., 1.],\n",
       "       [1., 1., 1.]])"
      ]
     },
     "execution_count": 6,
     "metadata": {},
     "output_type": "execute_result"
    }
   ],
   "source": [
    "# initializes all elements to one\n",
    "np.ones((2, 3))"
   ]
  },
  {
   "cell_type": "code",
   "execution_count": 7,
   "metadata": {},
   "outputs": [
    {
     "data": {
      "text/plain": [
       "array([[0, 0, 0, 0],\n",
       "       [0, 0, 0, 0],\n",
       "       [0, 0, 0, 0]])"
      ]
     },
     "execution_count": 7,
     "metadata": {},
     "output_type": "execute_result"
    }
   ],
   "source": [
    "# Change the datatype float -> int\n",
    "np.zeros((3,4), dtype=int)"
   ]
  },
  {
   "cell_type": "code",
   "execution_count": 8,
   "metadata": {},
   "outputs": [
    {
     "data": {
      "text/plain": [
       "array([[7, 7, 7],\n",
       "       [7, 7, 7]])"
      ]
     },
     "execution_count": 8,
     "metadata": {},
     "output_type": "execute_result"
    }
   ],
   "source": [
    "np.full((2,3), fill_value=7)"
   ]
  },
  {
   "cell_type": "code",
   "execution_count": 9,
   "metadata": {},
   "outputs": [
    {
     "data": {
      "text/plain": [
       "array([[0.0000000e+000, 0.0000000e+000, 0.0000000e+000, 0.0000000e+000],\n",
       "       [0.0000000e+000, 5.6718736e-321, 1.2461147e-306, 0.0000000e+000]])"
      ]
     },
     "execution_count": 9,
     "metadata": {},
     "output_type": "execute_result"
    }
   ],
   "source": [
    "np.empty((2,4))"
   ]
  },
  {
   "cell_type": "code",
   "execution_count": 10,
   "metadata": {},
   "outputs": [
    {
     "data": {
      "text/plain": [
       "array([[1, 0, 0, 0, 0],\n",
       "       [0, 1, 0, 0, 0],\n",
       "       [0, 0, 1, 0, 0],\n",
       "       [0, 0, 0, 1, 0],\n",
       "       [0, 0, 0, 0, 1]])"
      ]
     },
     "execution_count": 10,
     "metadata": {},
     "output_type": "execute_result"
    }
   ],
   "source": [
    "# eye creates a identity matrix\n",
    "np.eye(5, dtype=int)"
   ]
  },
  {
   "cell_type": "code",
   "execution_count": 11,
   "metadata": {},
   "outputs": [
    {
     "data": {
      "text/plain": [
       "array([0, 2, 4, 6, 8])"
      ]
     },
     "execution_count": 11,
     "metadata": {},
     "output_type": "execute_result"
    }
   ],
   "source": [
    "# arange creates an array (not a list like range)\n",
    "np.arange(0,10,2)"
   ]
  },
  {
   "cell_type": "code",
   "execution_count": 12,
   "metadata": {},
   "outputs": [
    {
     "data": {
      "text/plain": [
       "array([0.        , 0.78539816, 1.57079633, 2.35619449, 3.14159265])"
      ]
     },
     "execution_count": 12,
     "metadata": {},
     "output_type": "execute_result"
    }
   ],
   "source": [
    "np.linspace(0, np.pi, 5) "
   ]
  },
  {
   "cell_type": "code",
   "execution_count": 13,
   "metadata": {},
   "outputs": [
    {
     "data": {
      "text/plain": [
       "array([[0.51873978, 0.1841213 , 0.33758214, 0.5092622 ],\n",
       "       [0.50047335, 0.75850964, 0.35587859, 0.33767982],\n",
       "       [0.89510042, 0.81597671, 0.21911388, 0.31630926]])"
      ]
     },
     "execution_count": 13,
     "metadata": {},
     "output_type": "execute_result"
    }
   ],
   "source": [
    "np.random.random((3,4))    "
   ]
  },
  {
   "cell_type": "code",
   "execution_count": 14,
   "metadata": {},
   "outputs": [
    {
     "data": {
      "text/plain": [
       "array([[ 0.557334  ,  0.96556386,  1.79053921, -0.05218513],\n",
       "       [-0.27783934,  2.00224557,  1.56633291,  1.35287683],\n",
       "       [ 1.3512305 , -0.08182338, -1.86826899,  1.57320417]])"
      ]
     },
     "execution_count": 14,
     "metadata": {},
     "output_type": "execute_result"
    }
   ],
   "source": [
    "# mean = 0, standard deviation = 1:\n",
    "np.random.normal(0, 1, (3,4))"
   ]
  },
  {
   "cell_type": "code",
   "execution_count": 17,
   "metadata": {},
   "outputs": [
    {
     "data": {
      "text/plain": [
       "array([[ 0, -2,  9,  1,  1,  0, -2,  6,  6, -1,  0, -1,  7,  8,  6],\n",
       "       [ 8,  1, -2,  7,  1,  5,  6,  6, -2, -1,  8,  4,  1,  9,  4],\n",
       "       [ 9,  5,  1,  7,  2,  8,  6,  2,  0,  0,  0,  7, -2,  1,  0],\n",
       "       [ 8,  8,  9,  1,  3,  7,  6,  7,  1,  1,  9,  1,  8,  0,  7],\n",
       "       [ 2, -1,  7,  4,  9,  4,  9,  3,  0,  2,  9,  4,  2,  1, -2],\n",
       "       [-1,  5,  8,  5,  7,  5, -1,  0,  6,  5,  6,  0, -1,  1,  0],\n",
       "       [ 1,  7,  1,  2,  6,  6,  7,  1,  1,  3,  2,  9,  4,  8,  5],\n",
       "       [ 0, -1,  7,  2, -2,  7, -2,  2,  3,  1,  3,  4,  8,  8,  1],\n",
       "       [ 7,  7,  8,  5, -1,  2,  1,  6,  3, -1,  0,  3,  7,  1,  7],\n",
       "       [ 5,  0, -1,  2,  5,  9,  5,  5,  4,  5,  8,  3,  2, -2,  1],\n",
       "       [-1,  6, -2,  2,  1, -1,  7,  4,  0,  1, -2,  7,  4,  3,  1],\n",
       "       [ 6, -2,  0,  4,  9, -2,  1, -1,  9,  5,  5,  7,  6,  0,  4],\n",
       "       [ 2,  0,  6,  6, -1, -2,  4,  6,  7,  9, -2,  4,  2,  3,  5],\n",
       "       [-2,  4,  8,  4,  4,  6,  9,  1,  9,  7,  9,  7,  1,  0,  2],\n",
       "       [ 1,  3, -2,  8,  1, -2,  5, -1,  1,  9,  3,  8,  8,  5,  4],\n",
       "       [ 2,  3,  3, -1,  0,  5,  9,  1,  2,  5,  5,  2,  4,  0,  4],\n",
       "       [ 3,  6,  8, -2,  7,  5, -1, -1, -2,  0,  3,  4,  9,  6, -2],\n",
       "       [ 4,  3,  3,  7,  4,  1, -1,  0,  3,  5, -1, -1,  7,  2,  7],\n",
       "       [ 8,  8,  1,  6, -1,  6,  3,  9,  6,  9,  7,  3, -2,  1,  0],\n",
       "       [-2,  0,  5,  5,  7,  8,  7, -1,  8, -1,  6, -2,  4,  5,  2]])"
      ]
     },
     "execution_count": 17,
     "metadata": {},
     "output_type": "execute_result"
    }
   ],
   "source": [
    "# uniformly distributed integers from the half-open interval [-2,10)\n",
    "np.random.randint(-2, 10, (20,15))  "
   ]
  },
  {
   "cell_type": "code",
   "execution_count": 22,
   "metadata": {},
   "outputs": [
    {
     "name": "stdout",
     "output_type": "stream",
     "text": [
      "[44 47 64 67 67  9 83 21 36 87]\n",
      "[ 1.26611853 -0.50587654  2.54520078  1.08081191  0.48431215  0.57914048\n",
      " -0.18158257  1.41020463 -0.37447169  0.27519832]\n"
     ]
    }
   ],
   "source": [
    "# random numbers deterministically\n",
    "np.random.seed(0)\n",
    "print(np.random.randint(0, 100, 10))\n",
    "print(np.random.normal(0, 1, 10))"
   ]
  },
  {
   "cell_type": "code",
   "execution_count": 24,
   "metadata": {},
   "outputs": [
    {
     "data": {
      "text/plain": [
       "array([66, 92, 98, 17, 83, 57, 86, 97, 96, 47])"
      ]
     },
     "execution_count": 24,
     "metadata": {},
     "output_type": "execute_result"
    }
   ],
   "source": [
    "new_generator = np.random.RandomState(seed=123)  # RandomState is a class, so we give the seed to its constructor\n",
    "new_generator.randint(0, 100, 10)"
   ]
  },
  {
   "cell_type": "code",
   "execution_count": 7,
   "metadata": {},
   "outputs": [],
   "source": [
    "# Array types and attributes... Let's create info function:\n",
    "\n",
    "def info(name, a):\n",
    "    print(f\"{name} has dim {a.ndim}, shape {a.shape}, size {a.size}, and dtype {a.dtype}:\")\n",
    "    print(a)"
   ]
  },
  {
   "cell_type": "code",
   "execution_count": 26,
   "metadata": {},
   "outputs": [
    {
     "name": "stdout",
     "output_type": "stream",
     "text": [
      "b has dim 2, shape (2, 3), size 6, and dtype int32:\n",
      "[[1 2 3]\n",
      " [4 5 6]]\n"
     ]
    }
   ],
   "source": [
    "b=np.array([[1,2,3], [4,5,6]])\n",
    "info(\"b\", b)"
   ]
  },
  {
   "cell_type": "code",
   "execution_count": 27,
   "metadata": {},
   "outputs": [
    {
     "name": "stdout",
     "output_type": "stream",
     "text": [
      "c has dim 3, shape (2, 2, 3), size 12, and dtype int32:\n",
      "[[[1 2 3]\n",
      "  [4 5 6]]\n",
      "\n",
      " [[1 2 3]\n",
      "  [4 5 6]]]\n"
     ]
    }
   ],
   "source": [
    " # Creates a 3-dimensional array because b array x 2\n",
    "    \n",
    "c=np.array([b, b])         \n",
    "info(\"c\", c)"
   ]
  },
  {
   "cell_type": "code",
   "execution_count": 28,
   "metadata": {},
   "outputs": [
    {
     "name": "stdout",
     "output_type": "stream",
     "text": [
      "d has dim 2, shape (1, 4), size 4, and dtype int32:\n",
      "[[1 2 3 4]]\n"
     ]
    }
   ],
   "source": [
    "# a row vector\n",
    "d=np.array([[1,2,3,4]])                \n",
    "info(\"d\", d)"
   ]
  },
  {
   "cell_type": "code",
   "execution_count": 29,
   "metadata": {},
   "outputs": [
    {
     "name": "stdout",
     "output_type": "stream",
     "text": [
      "4\n",
      "9\n"
     ]
    }
   ],
   "source": [
    "# Indexing\n",
    "a=np.array([1,4,2,7,9,5])\n",
    "print(a[1])\n",
    "print(a[-2])"
   ]
  },
  {
   "cell_type": "code",
   "execution_count": 30,
   "metadata": {},
   "outputs": [
    {
     "name": "stdout",
     "output_type": "stream",
     "text": [
      "[[10  2  3]\n",
      " [ 4  5  6]]\n"
     ]
    }
   ],
   "source": [
    "b[0,0] = 10\n",
    "print(b)"
   ]
  },
  {
   "cell_type": "code",
   "execution_count": 31,
   "metadata": {},
   "outputs": [
    {
     "name": "stdout",
     "output_type": "stream",
     "text": [
      "[1 4 2 7 9 5]\n"
     ]
    }
   ],
   "source": [
    "print(a)"
   ]
  },
  {
   "cell_type": "code",
   "execution_count": 32,
   "metadata": {},
   "outputs": [
    {
     "name": "stdout",
     "output_type": "stream",
     "text": [
      "[4 2]\n"
     ]
    }
   ],
   "source": [
    "print(a[1:3])"
   ]
  },
  {
   "cell_type": "code",
   "execution_count": 33,
   "metadata": {},
   "outputs": [
    {
     "name": "stdout",
     "output_type": "stream",
     "text": [
      "[5 9 7 2 4 1]\n"
     ]
    }
   ],
   "source": [
    "# reverse\n",
    "print(a[::-1])  "
   ]
  },
  {
   "cell_type": "code",
   "execution_count": 34,
   "metadata": {},
   "outputs": [
    {
     "name": "stdout",
     "output_type": "stream",
     "text": [
      "[[10  2  3]\n",
      " [ 4  5  6]]\n",
      "[10  4]\n",
      "[10  2  3]\n",
      "[[2 3]\n",
      " [5 6]]\n"
     ]
    }
   ],
   "source": [
    "print(b)\n",
    "print(b[:,0])\n",
    "print(b[0,:])\n",
    "print(b[:,1:])"
   ]
  },
  {
   "cell_type": "code",
   "execution_count": 36,
   "metadata": {},
   "outputs": [
    {
     "name": "stdout",
     "output_type": "stream",
     "text": [
      "[[10  7  7]\n",
      " [ 4  7  7]]\n"
     ]
    }
   ],
   "source": [
    "# assaining a slice\n",
    "\n",
    "b[:,1:] = 7\n",
    "print(b)"
   ]
  },
  {
   "cell_type": "code",
   "execution_count": 37,
   "metadata": {},
   "outputs": [
    {
     "name": "stdout",
     "output_type": "stream",
     "text": [
      "[10  4]\n",
      "[4 7 7]\n"
     ]
    }
   ],
   "source": [
    "print(b[:,0])    \n",
    "print(b[1,:])   "
   ]
  },
  {
   "cell_type": "code",
   "execution_count": 11,
   "metadata": {},
   "outputs": [
    {
     "name": "stdout",
     "output_type": "stream",
     "text": [
      "[0 1 2 3 4 5 6 7 8]\n"
     ]
    }
   ],
   "source": [
    "a=np.arange(9)\n",
    "print(a)"
   ]
  },
  {
   "cell_type": "code",
   "execution_count": 8,
   "metadata": {},
   "outputs": [
    {
     "name": "stdout",
     "output_type": "stream",
     "text": [
      "anew has dim 2, shape (3, 3), size 9, and dtype int32:\n",
      "[[0 1 2]\n",
      " [3 4 5]\n",
      " [6 7 8]]\n",
      "a has dim 1, shape (9,), size 9, and dtype int32:\n",
      "[0 1 2 3 4 5 6 7 8]\n"
     ]
    }
   ],
   "source": [
    "anew = a.reshape(3,3)\n",
    "info(\"anew\", anew)\n",
    "info(\"a\", a)"
   ]
  },
  {
   "cell_type": "code",
   "execution_count": 12,
   "metadata": {},
   "outputs": [
    {
     "data": {
      "text/plain": [
       "array([0, 1, 2, 3])"
      ]
     },
     "execution_count": 12,
     "metadata": {},
     "output_type": "execute_result"
    }
   ],
   "source": [
    "# one dimensional array\n",
    "d = np.arange(4)\n",
    "d"
   ]
  },
  {
   "cell_type": "code",
   "execution_count": 13,
   "metadata": {},
   "outputs": [
    {
     "data": {
      "text/plain": [
       "array([[0, 1, 2, 3]])"
      ]
     },
     "execution_count": 13,
     "metadata": {},
     "output_type": "execute_result"
    }
   ],
   "source": [
    "# reshaping to 2D row vector (one row, four columns)\n",
    "dr = d.reshape(1,4)\n",
    "dr"
   ]
  },
  {
   "cell_type": "code",
   "execution_count": 14,
   "metadata": {},
   "outputs": [
    {
     "data": {
      "text/plain": [
       "array([[0],\n",
       "       [1],\n",
       "       [2],\n",
       "       [3]])"
      ]
     },
     "execution_count": 14,
     "metadata": {},
     "output_type": "execute_result"
    }
   ],
   "source": [
    "# reshaping to 2D column vector (four rows, one column)\n",
    "dc = d.reshape(4,1)\n",
    "dc"
   ]
  },
  {
   "cell_type": "code",
   "execution_count": 15,
   "metadata": {},
   "outputs": [
    {
     "name": "stdout",
     "output_type": "stream",
     "text": [
      "d has dim 1, shape (4,), size 4, and dtype int32:\n",
      "[0 1 2 3]\n"
     ]
    }
   ],
   "source": [
    "info(\"d\", d)"
   ]
  },
  {
   "cell_type": "code",
   "execution_count": 16,
   "metadata": {},
   "outputs": [
    {
     "name": "stdout",
     "output_type": "stream",
     "text": [
      "drow has dim 2, shape (4, 1), size 4, and dtype int32:\n",
      "[[0]\n",
      " [1]\n",
      " [2]\n",
      " [3]]\n"
     ]
    }
   ],
   "source": [
    "info(\"drow\", d[:, np.newaxis])"
   ]
  },
  {
   "cell_type": "code",
   "execution_count": 17,
   "metadata": {},
   "outputs": [
    {
     "name": "stdout",
     "output_type": "stream",
     "text": [
      "drow has dim 2, shape (1, 4), size 4, and dtype int32:\n",
      "[[0 1 2 3]]\n"
     ]
    }
   ],
   "source": [
    "info(\"drow\", d[np.newaxis, :])"
   ]
  },
  {
   "cell_type": "code",
   "execution_count": 18,
   "metadata": {},
   "outputs": [
    {
     "name": "stdout",
     "output_type": "stream",
     "text": [
      "dcol has dim 2, shape (4, 1), size 4, and dtype int32:\n",
      "[[0]\n",
      " [1]\n",
      " [2]\n",
      " [3]]\n"
     ]
    }
   ],
   "source": [
    "info(\"dcol\", d[:, np.newaxis])"
   ]
  },
  {
   "cell_type": "code",
   "execution_count": 19,
   "metadata": {},
   "outputs": [
    {
     "name": "stdout",
     "output_type": "stream",
     "text": [
      "[[6 8 8 0]\n",
      " [3 5 1 2]\n",
      " [6 3 3 2]\n",
      " [9 1 2 0]]\n"
     ]
    }
   ],
   "source": [
    "a=np.random.randint(0, 10, (4,4))\n",
    "print(a)"
   ]
  },
  {
   "cell_type": "code",
   "execution_count": 20,
   "metadata": {},
   "outputs": [
    {
     "name": "stdout",
     "output_type": "stream",
     "text": [
      "[[6 3 6 9]\n",
      " [8 5 3 1]\n",
      " [8 1 3 2]\n",
      " [0 2 2 0]]\n"
     ]
    }
   ],
   "source": [
    "# T = transpose method\n",
    "print(a.T)\n"
   ]
  },
  {
   "cell_type": "code",
   "execution_count": 21,
   "metadata": {},
   "outputs": [
    {
     "name": "stdout",
     "output_type": "stream",
     "text": [
      "a has shape (2,): [0 1]\n",
      "b has shape (3,): [2 3 4]\n"
     ]
    },
    {
     "data": {
      "text/plain": [
       "array([0, 1, 2, 3, 4])"
      ]
     },
     "execution_count": 21,
     "metadata": {},
     "output_type": "execute_result"
    }
   ],
   "source": [
    "a=np.arange(2)\n",
    "b=np.arange(2,5)\n",
    "print(f\"a has shape {a.shape}: {a}\")\n",
    "print(f\"b has shape {b.shape}: {b}\")\n",
    "np.concatenate((a,b))"
   ]
  },
  {
   "cell_type": "code",
   "execution_count": 22,
   "metadata": {},
   "outputs": [
    {
     "name": "stdout",
     "output_type": "stream",
     "text": [
      "c has shape (2, 2):\n",
      "[[1 2]\n",
      " [3 4]]\n"
     ]
    }
   ],
   "source": [
    "c = np.arange(1,5).reshape(2,2)\n",
    "print(f\"c has shape {c.shape}:\", c, sep=\"\\n\")"
   ]
  },
  {
   "cell_type": "code",
   "execution_count": 23,
   "metadata": {},
   "outputs": [
    {
     "data": {
      "text/plain": [
       "array([[1, 2],\n",
       "       [3, 4],\n",
       "       [1, 2],\n",
       "       [3, 4]])"
      ]
     },
     "execution_count": 23,
     "metadata": {},
     "output_type": "execute_result"
    }
   ],
   "source": [
    "np.concatenate((c,c))"
   ]
  },
  {
   "cell_type": "code",
   "execution_count": 24,
   "metadata": {},
   "outputs": [
    {
     "data": {
      "text/plain": [
       "array([[1, 2, 1, 2],\n",
       "       [3, 4, 3, 4]])"
      ]
     },
     "execution_count": 24,
     "metadata": {},
     "output_type": "execute_result"
    }
   ],
   "source": [
    "# Joining arrays horizontally\n",
    "np.concatenate((c,c), axis=1)"
   ]
  },
  {
   "cell_type": "code",
   "execution_count": 31,
   "metadata": {},
   "outputs": [
    {
     "name": "stdout",
     "output_type": "stream",
     "text": [
      "[0 1]\n"
     ]
    },
    {
     "data": {
      "text/plain": [
       "array([[0, 1]])"
      ]
     },
     "execution_count": 31,
     "metadata": {},
     "output_type": "execute_result"
    }
   ],
   "source": [
    "a = np.arange(2)\n",
    "print(a)\n",
    "a.reshape(1,2) # to 3rd dimension"
   ]
  },
  {
   "cell_type": "code",
   "execution_count": 32,
   "metadata": {},
   "outputs": [
    {
     "name": "stdout",
     "output_type": "stream",
     "text": [
      "New row:\n",
      "[[1 2]\n",
      " [3 4]\n",
      " [0 1]]\n",
      "New column:\n",
      "[[1 2 0]\n",
      " [3 4 1]]\n"
     ]
    }
   ],
   "source": [
    "# Then we can catenate arrays: \n",
    "print(\"New row:\")\n",
    "print(np.concatenate((c,a.reshape(1,2))))\n",
    "print(\"New column:\")\n",
    "print(np.concatenate((c,a.reshape(2,1)), axis=1))"
   ]
  },
  {
   "cell_type": "code",
   "execution_count": 33,
   "metadata": {},
   "outputs": [
    {
     "data": {
      "text/plain": [
       "array([[2, 3, 4],\n",
       "       [2, 3, 4]])"
      ]
     },
     "execution_count": 33,
     "metadata": {},
     "output_type": "execute_result"
    }
   ],
   "source": [
    "np.stack((b,b))"
   ]
  },
  {
   "cell_type": "code",
   "execution_count": 34,
   "metadata": {},
   "outputs": [
    {
     "data": {
      "text/plain": [
       "array([[2, 2],\n",
       "       [3, 3],\n",
       "       [4, 4]])"
      ]
     },
     "execution_count": 34,
     "metadata": {},
     "output_type": "execute_result"
    }
   ],
   "source": [
    "np.stack((b,b), axis=1)"
   ]
  },
  {
   "cell_type": "code",
   "execution_count": 35,
   "metadata": {},
   "outputs": [
    {
     "name": "stdout",
     "output_type": "stream",
     "text": [
      "[[ 0  1]\n",
      " [ 2  3]\n",
      " [ 4  5]\n",
      " [ 6  7]\n",
      " [ 8  9]\n",
      " [10 11]]\n"
     ]
    }
   ],
   "source": [
    "d = np.arange(12).reshape(6,2)\n",
    "print(d)"
   ]
  },
  {
   "cell_type": "code",
   "execution_count": 42,
   "metadata": {},
   "outputs": [
    {
     "name": "stdout",
     "output_type": "stream",
     "text": [
      "[[0 1]\n",
      " [2 3]\n",
      " [4 5]]\n",
      "====================\n",
      "[[ 6  7]\n",
      " [ 8  9]\n",
      " [10 11]]\n"
     ]
    }
   ],
   "source": [
    "# Split to two equal arrays\n",
    "d1, d2 = np.split(d, 2)\n",
    "print(d1)\n",
    "print(20*\"=\")\n",
    "print(d2)"
   ]
  },
  {
   "cell_type": "code",
   "execution_count": 43,
   "metadata": {},
   "outputs": [
    {
     "name": "stdout",
     "output_type": "stream",
     "text": [
      "[[ 0  1  2  3  4  5]\n",
      " [ 6  7  8  9 10 11]]\n"
     ]
    }
   ],
   "source": [
    "d = np.arange(12).reshape(2,6)\n",
    "print(d)"
   ]
  },
  {
   "cell_type": "code",
   "execution_count": 46,
   "metadata": {},
   "outputs": [
    {
     "name": "stdout",
     "output_type": "stream",
     "text": [
      "part: 0\n",
      "[[ 0  1  2  3  4  5]\n",
      " [ 6  7  8  9 10 11]]\n",
      "part: 1\n",
      "[]\n",
      "part: 2\n",
      "[]\n",
      "part: 3\n",
      "[]\n"
     ]
    }
   ],
   "source": [
    "parts = np.split(d, (0,1,), axis=0)\n",
    "for i, p in enumerate(parts):\n",
    "    print(\"part:\", i)\n",
    "    print(p)"
   ]
  },
  {
   "cell_type": "code",
   "execution_count": null,
   "metadata": {},
   "outputs": [],
   "source": []
  }
 ],
 "metadata": {
  "kernelspec": {
   "display_name": "Python 3",
   "language": "python",
   "name": "python3"
  },
  "language_info": {
   "codemirror_mode": {
    "name": "ipython",
    "version": 3
   },
   "file_extension": ".py",
   "mimetype": "text/x-python",
   "name": "python",
   "nbconvert_exporter": "python",
   "pygments_lexer": "ipython3",
   "version": "3.8.3"
  }
 },
 "nbformat": 4,
 "nbformat_minor": 4
}
