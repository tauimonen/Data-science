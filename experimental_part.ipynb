{
 "cells": [
  {
   "cell_type": "code",
   "execution_count": 1,
   "id": "4946b65c-a189-4da3-a713-6418caa00217",
   "metadata": {},
   "outputs": [],
   "source": [
    "import numpy as np\n",
    "from numba import jit\n",
    "from timeit import timeit\n",
    "import matplotlib.pyplot as plt"
   ]
  },
  {
   "cell_type": "code",
   "execution_count": 2,
   "id": "b4bd169d-ee91-444a-8975-d88efcfda0f5",
   "metadata": {},
   "outputs": [],
   "source": [
    "# Luo vektorit NumPy-pohjaista ajonottoa varten.\n",
    "\n",
    "a_array = np.random.randn(10**3)\n",
    "b_array = np.random.randn(10**3)\n",
    "\n",
    "# Luo listat Python-pohjaista ajonottoa varten.\n",
    "\n",
    "a_list = list(a_array)\n",
    "b_list = list(b_array)"
   ]
  },
  {
   "cell_type": "code",
   "execution_count": 3,
   "id": "deb724d9-ca0d-46df-b246-80679a6f40d0",
   "metadata": {},
   "outputs": [
    {
     "name": "stdout",
     "output_type": "stream",
     "text": [
      "NumPy a_array (head):\n",
      " [-0.25175801 -1.31406029 -0.24133439  1.15022476 -0.86798695  0.28982036\n",
      "  0.58451588  0.60683853  0.44738528 -0.67520176]\n",
      "NumPy b_array (head):\n",
      " [-0.70440691  0.11528539  1.16195085  0.45827554  0.00295295 -0.31425678\n",
      "  1.21269268 -0.40475974  0.75327475 -0.64842686]\n",
      "\n",
      "a_list (head):\n",
      " [-0.2517580081845451, -1.3140602862614745, -0.24133438978779467, 1.1502247555466019, -0.8679869526938955, 0.2898203638985574, 0.5845158778230031, 0.6068385295764961, 0.44738528281892703, -0.6752017575828714]\n",
      "\n",
      "b_list (head):\n",
      " [-0.704406907673781, 0.11528539327305247, 1.1619508529035911, 0.4582755416825712, 0.0029529461010060595, -0.3142567821730671, 1.2126926801604712, -0.40475973595023235, 0.7532747486891841, -0.6484268642311184]\n"
     ]
    }
   ],
   "source": [
    "# Tulostetaan kaikista ensimmäiset 10, jotta nähdään, että sisältävät lukuja. \n",
    "\n",
    "print(\"NumPy a_array (head):\\n\", a_array[:10])\n",
    "print(\"NumPy b_array (head):\\n\", b_array[:10])\n",
    "print(\"\\na_list (head):\\n\", a_list[:10])\n",
    "print(\"\\nb_list (head):\\n\", b_list[:10])"
   ]
  },
  {
   "cell_type": "code",
   "execution_count": 4,
   "id": "47d5a5d0-a600-430d-8ad3-9dd3d8609ddf",
   "metadata": {},
   "outputs": [],
   "source": [
    "def dot(a, b):\n",
    "    \"\"\"\n",
    "    Takes two vectors as a parameter and returns their dot product.\n",
    "    Param: array-like floats\n",
    "    Return: float\n",
    "    \"\"\"\n",
    "    \n",
    "    dot_product = 0\n",
    "    for a, b in zip(a, b):\n",
    "        dot_product += a * b\n",
    "    \n",
    "    return dot_product"
   ]
  },
  {
   "cell_type": "code",
   "execution_count": 5,
   "id": "1ce66e6e-3ef8-4c4b-827b-432e70b1c9b9",
   "metadata": {},
   "outputs": [],
   "source": [
    "@jit(nopython=True)\n",
    "def dot_numba(a, b):\n",
    "    \"\"\"\n",
    "    Takes two vectors as a parameter and returns their dot product.\n",
    "    Param: array-like floats\n",
    "    Return: float\n",
    "    \"\"\"\n",
    "    \n",
    "    dot_product = 0\n",
    "    for a, b in zip(a, b):\n",
    "        dot_product += a * b\n",
    "    \n",
    "    return dot_product"
   ]
  },
  {
   "cell_type": "code",
   "execution_count": 6,
   "id": "e1e2c7e0-a40e-41b0-a3a5-9fe23154e5c1",
   "metadata": {},
   "outputs": [],
   "source": [
    "@jit(nopython=True)\n",
    "def dot_np_numba(a, b):\n",
    "    \"\"\"\n",
    "    Takes two vectors as a parameter and returns their dot product.\n",
    "    Param: array-like floats\n",
    "    Return: float\n",
    "    \"\"\"\n",
    "    return np.dot(a, b)"
   ]
  },
  {
   "cell_type": "code",
   "execution_count": 7,
   "id": "2b4346d3-e90b-4b84-bc8d-0e7ada002bd9",
   "metadata": {},
   "outputs": [
    {
     "name": "stdout",
     "output_type": "stream",
     "text": [
      "2143.1781999999657 ms\n"
     ]
    }
   ],
   "source": [
    "# dot-funktion ajo listoilla \n",
    "list_time = timeit(lambda: dot(a_list, b_list), number=10000)\n",
    "\n",
    "print((list_time * 1000), \"ms\")"
   ]
  },
  {
   "cell_type": "code",
   "execution_count": 8,
   "id": "4164edf0-b9c7-4401-ac24-0e46281a52dc",
   "metadata": {},
   "outputs": [
    {
     "name": "stdout",
     "output_type": "stream",
     "text": [
      "3258.8150999999925 ms\n"
     ]
    }
   ],
   "source": [
    "# Vertailun vuoksi saman dot-funktion ajo NumPy-taulukoilla.\n",
    "np_arr_time = timeit(lambda: dot(a_array, b_array), number=10000)\n",
    "\n",
    "print((np_arr_time * 1000), \"ms\")"
   ]
  },
  {
   "cell_type": "code",
   "execution_count": 17,
   "id": "d542a4e7-ce91-4f2c-b16c-0b6a1bdd5440",
   "metadata": {},
   "outputs": [
    {
     "name": "stdout",
     "output_type": "stream",
     "text": [
      "24.39219999996567 ms\n"
     ]
    }
   ],
   "source": [
    "# Numban ensimmäinen ajo\n",
    "numba_time = timeit(lambda: dot_numba(a_array, b_array), number=10000)\n",
    "\n",
    "print((numba_time * 1000), \"ms\")"
   ]
  },
  {
   "cell_type": "code",
   "execution_count": 18,
   "id": "bb10d571-f9e6-4475-bbeb-5d739ac3f48a",
   "metadata": {},
   "outputs": [
    {
     "name": "stdout",
     "output_type": "stream",
     "text": [
      "18.309399999907328 ms\n"
     ]
    }
   ],
   "source": [
    "# Numban toinen ajo\n",
    "numba_time = timeit(lambda: dot_numba(a_array, b_array), number=10000)\n",
    "\n",
    "print((numba_time * 1000), \"ms\")"
   ]
  },
  {
   "cell_type": "code",
   "execution_count": 19,
   "id": "db593798-808d-4cb2-a684-dd8b2146780d",
   "metadata": {},
   "outputs": [
    {
     "name": "stdout",
     "output_type": "stream",
     "text": [
      "38.63059999980578 ms\n"
     ]
    }
   ],
   "source": [
    "# NumPyn oma dot-operaatio\n",
    "numpy_time = timeit(lambda: np.dot(a_array, b_array), number=10000)\n",
    "\n",
    "print((numpy_time * 1000), \"ms\")"
   ]
  },
  {
   "cell_type": "code",
   "execution_count": 20,
   "id": "9340b585-d865-4fb3-9ee0-18bbe3217e77",
   "metadata": {},
   "outputs": [
    {
     "name": "stdout",
     "output_type": "stream",
     "text": [
      "19.828700000061872 ms\n"
     ]
    }
   ],
   "source": [
    "# Numba + NumPy ensimmäinen ajo\n",
    "numba_plus_numpy_time = timeit(lambda: dot_np_numba(a_array, b_array), number=10000)\n",
    "\n",
    "print((numba_plus_numpy_time * 1000), \"ms\")"
   ]
  },
  {
   "cell_type": "code",
   "execution_count": 21,
   "id": "5e2b15dd-1b3c-4e24-a264-121ab5d979ca",
   "metadata": {},
   "outputs": [
    {
     "name": "stdout",
     "output_type": "stream",
     "text": [
      "8.089200000085839 ms\n"
     ]
    }
   ],
   "source": [
    "# Numba + NumPy toinen ajo\n",
    "numba_plus_numpy_time = timeit(lambda: dot_np_numba(a_array, b_array), number=10000)\n",
    "\n",
    "print((numba_plus_numpy_time * 1000), \"ms\")"
   ]
  },
  {
   "cell_type": "code",
   "execution_count": 22,
   "id": "cdaa14f2-d5bc-4b87-bc2f-5b158cf9128d",
   "metadata": {},
   "outputs": [
    {
     "name": "stdout",
     "output_type": "stream",
     "text": [
      "19.515299999966373 ms\n"
     ]
    }
   ],
   "source": [
    "# Numba + NumPy toinen ajo\n",
    "numba_plus_numpy_time = timeit(lambda: dot_np_numba(a_array, b_array), number=10000)\n",
    "\n",
    "print((numba_plus_numpy_time * 1000), \"ms\")"
   ]
  },
  {
   "cell_type": "code",
   "execution_count": 23,
   "id": "3142cfba-881c-446a-b58b-97fa19d0a5e5",
   "metadata": {},
   "outputs": [
    {
     "data": {
      "image/png": "[encoded data removed]",
      "text/plain": [
       "<Figure size 432x288 with 1 Axes>"
      ]
     },
     "metadata": {
      "needs_background": "light"
     },
     "output_type": "display_data"
    }
   ],
   "source": [
    "fig = plt.figure()\n",
    "ax = fig.add_axes([0,0,1,1])\n",
    "langs = ['Python list','NumPy arrays in Python']\n",
    "students = [list_time, np_arr_time]\n",
    "ax.bar(langs,students)\n",
    "plt.show()"
   ]
  },
  {
   "cell_type": "code",
   "execution_count": 24,
   "id": "72e69294-9fb9-40d8-a2a0-58bc56d9f635",
   "metadata": {},
   "outputs": [
    {
     "data": {
      "image/png": "[encoded data removed]",
      "text/plain": [
       "<Figure size 432x288 with 1 Axes>"
      ]
     },
     "metadata": {
      "needs_background": "light"
     },
     "output_type": "display_data"
    }
   ],
   "source": [
    "fig = plt.figure()\n",
    "ax = fig.add_axes([0,0,1,1])\n",
    "langs = ['Numba', 'NumPy', 'NumPy + Numba']\n",
    "students = [numba_time, numpy_time, numba_plus_numpy_time]\n",
    "ax.bar(langs,students)\n",
    "plt.show()"
   ]
  },
  {
   "cell_type": "code",
   "execution_count": null,
   "id": "b0aca4c7-b044-498d-b7f4-1c63299efa3d",
   "metadata": {},
   "outputs": [],
   "source": []
  },
  {
   "cell_type": "code",
   "execution_count": null,
   "id": "a4c4e21d-a0d5-465c-bb86-6bb23bafd5f6",
   "metadata": {},
   "outputs": [],
   "source": []
  }
 ],
 "metadata": {
  "kernelspec": {
   "display_name": "Python 3",
   "language": "python",
   "name": "python3"
  },
  "language_info": {
   "codemirror_mode": {
    "name": "ipython",
    "version": 3
   },
   "file_extension": ".py",
   "mimetype": "text/x-python",
   "name": "python",
   "nbconvert_exporter": "python",
   "pygments_lexer": "ipython3",
   "version": "3.8.10"
  }
 },
 "nbformat": 4,
 "nbformat_minor": 5
}
