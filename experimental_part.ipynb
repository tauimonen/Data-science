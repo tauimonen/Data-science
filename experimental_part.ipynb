{
 "cells": [
  {
   "cell_type": "code",
   "execution_count": 1,
   "id": "4946b65c-a189-4da3-a713-6418caa00217",
   "metadata": {},
   "outputs": [],
   "source": [
    "import numpy as np\n",
    "from numba import jit\n",
    "from timeit import timeit\n",
    "import matplotlib.pyplot as plt"
   ]
  },
  {
   "cell_type": "code",
   "execution_count": 2,
   "id": "b4bd169d-ee91-444a-8975-d88efcfda0f5",
   "metadata": {},
   "outputs": [],
   "source": [
    "# Luo vektorit NumPy-pohjaista ajonottoa varten.\n",
    "\n",
    "a_array = np.random.randn(10**3)\n",
    "b_array = np.random.randn(10**3)\n",
    "\n",
    "# Luo listat Python-pohjaista ajonottoa varten.\n",
    "\n",
    "a_list = list(a_array)\n",
    "b_list = list(b_array)"
   ]
  },
  {
   "cell_type": "code",
   "execution_count": 3,
   "id": "deb724d9-ca0d-46df-b246-80679a6f40d0",
   "metadata": {},
   "outputs": [
    {
     "name": "stdout",
     "output_type": "stream",
     "text": [
      "NumPy a_array (head):\n",
      " [-0.2742843   0.15796679  0.56730787  1.84619737 -0.22081612 -1.00940158\n",
      "  1.46790231  0.72815418  1.18520635 -1.65851292]\n",
      "NumPy b_array (head):\n",
      " [ 0.55158152 -0.70936082  1.20928849 -0.97845958  0.04855829  0.40013748\n",
      "  0.24428458 -1.29908161 -0.12894304 -1.81491343]\n",
      "\n",
      "a_list (head):\n",
      " [-0.27428430221324374, 0.15796679339520175, 0.5673078725010805, 1.8461973702103114, -0.2208161205651782, -1.0094015809711863, 1.467902310228312, 0.7281541811288946, 1.1852063453037793, -1.658512920625028]\n",
      "\n",
      "b_list (head):\n",
      " [0.5515815224557072, -0.7093608223046496, 1.2092884925437675, -0.9784595776312073, 0.04855828510667322, 0.4001374817241671, 0.24428457742760948, -1.2990816076494254, -0.12894303721132505, -1.8149134307705663]\n"
     ]
    }
   ],
   "source": [
    "# Tulostetaan kaikista ensimmäiset 10, jotta nähdään, että sisältävät lukuja. \n",
    "\n",
    "print(\"NumPy a_array (head):\\n\", a_array[:10])\n",
    "print(\"NumPy b_array (head):\\n\", b_array[:10])\n",
    "print(\"\\na_list (head):\\n\", a_list[:10])\n",
    "print(\"\\nb_list (head):\\n\", b_list[:10])"
   ]
  },
  {
   "cell_type": "code",
   "execution_count": 4,
   "id": "47d5a5d0-a600-430d-8ad3-9dd3d8609ddf",
   "metadata": {},
   "outputs": [],
   "source": [
    "def dot(a, b):\n",
    "    \"\"\"\n",
    "    Takes two vectors as a parameter and returns their dot product.\n",
    "    Param: array-like floats\n",
    "    Return: float\n",
    "    \"\"\"\n",
    "    \n",
    "    dot_product = 0\n",
    "    for a, b in zip(a, b):\n",
    "        dot_product += a * b\n",
    "    \n",
    "    return dot_product"
   ]
  },
  {
   "cell_type": "code",
   "execution_count": 5,
   "id": "1ce66e6e-3ef8-4c4b-827b-432e70b1c9b9",
   "metadata": {},
   "outputs": [],
   "source": [
    "@jit(nopython=True)\n",
    "def dot_numba(a, b):\n",
    "    \"\"\"\n",
    "    Takes two vectors as a parameter and returns their dot product.\n",
    "    Param: array-like floats\n",
    "    Return: float\n",
    "    \"\"\"\n",
    "    \n",
    "    dot_product = 0\n",
    "    for a, b in zip(a, b):\n",
    "        dot_product += a * b\n",
    "    \n",
    "    return dot_product"
   ]
  },
  {
   "cell_type": "code",
   "execution_count": 6,
   "id": "e1e2c7e0-a40e-41b0-a3a5-9fe23154e5c1",
   "metadata": {},
   "outputs": [],
   "source": [
    "@jit(nopython=True)\n",
    "def dot_np_numba(a, b):\n",
    "    \"\"\"\n",
    "    Takes two vectors as a parameter and returns their dot product.\n",
    "    Param: array-like floats\n",
    "    Return: float\n",
    "    \"\"\"\n",
    "    return np.dot(a, b)"
   ]
  },
  {
   "cell_type": "code",
   "execution_count": 7,
   "id": "2b4346d3-e90b-4b84-bc8d-0e7ada002bd9",
   "metadata": {},
   "outputs": [
    {
     "name": "stdout",
     "output_type": "stream",
     "text": [
      "2157.5659999999743 ms\n"
     ]
    }
   ],
   "source": [
    "# dot-funktion ajo listoilla \n",
    "list_time = timeit(lambda: dot(a_list, b_list), number=10000)\n",
    "\n",
    "print((list_time * 1000), \"ms\")"
   ]
  },
  {
   "cell_type": "code",
   "execution_count": 8,
   "id": "4164edf0-b9c7-4401-ac24-0e46281a52dc",
   "metadata": {},
   "outputs": [
    {
     "name": "stdout",
     "output_type": "stream",
     "text": [
      "3077.8809999999908 ms\n"
     ]
    }
   ],
   "source": [
    "# Vertailun vuoksi saman dot-funktion ajo NumPy-taulukoilla.\n",
    "np_arr_time = timeit(lambda: dot(a_array, b_array), number=10000)\n",
    "\n",
    "print((np_arr_time * 1000), \"ms\")"
   ]
  },
  {
   "cell_type": "code",
   "execution_count": 9,
   "id": "d542a4e7-ce91-4f2c-b16c-0b6a1bdd5440",
   "metadata": {},
   "outputs": [
    {
     "name": "stdout",
     "output_type": "stream",
     "text": [
      "296.70010000000957 ms\n"
     ]
    }
   ],
   "source": [
    "# Numban ensimmäinen ajo\n",
    "numba_time = timeit(lambda: dot_numba(a_array, b_array), number=10000)\n",
    "\n",
    "print((numba_time * 1000), \"ms\")"
   ]
  },
  {
   "cell_type": "code",
   "execution_count": 27,
   "id": "bb10d571-f9e6-4475-bbeb-5d739ac3f48a",
   "metadata": {},
   "outputs": [
    {
     "name": "stdout",
     "output_type": "stream",
     "text": [
      "27.126000000066597 ms\n"
     ]
    }
   ],
   "source": [
    "# Numban toinen ajo\n",
    "numba_time = timeit(lambda: dot_numba(a_array, b_array), number=10000)\n",
    "\n",
    "print((numba_time * 1000), \"ms\")"
   ]
  },
  {
   "cell_type": "code",
   "execution_count": 28,
   "id": "db593798-808d-4cb2-a684-dd8b2146780d",
   "metadata": {},
   "outputs": [
    {
     "name": "stdout",
     "output_type": "stream",
     "text": [
      "32.62780000000021 ms\n"
     ]
    }
   ],
   "source": [
    "# NumPyn oma dot-operaatio\n",
    "numpy_time = timeit(lambda: np.dot(a_array, b_array), number=10000)\n",
    "\n",
    "print((numpy_time * 1000), \"ms\")"
   ]
  },
  {
   "cell_type": "code",
   "execution_count": 12,
   "id": "9340b585-d865-4fb3-9ee0-18bbe3217e77",
   "metadata": {},
   "outputs": [
    {
     "name": "stdout",
     "output_type": "stream",
     "text": [
      "167.530700000043 ms\n"
     ]
    }
   ],
   "source": [
    "# Numba + NumPy ensimmäinen ajo\n",
    "numba_plus_numpy_time = timeit(lambda: dot_np_numba(a_array, b_array), number=10000)\n",
    "\n",
    "print((numba_plus_numpy_time * 1000), \"ms\")"
   ]
  },
  {
   "cell_type": "code",
   "execution_count": 24,
   "id": "5e2b15dd-1b3c-4e24-a264-121ab5d979ca",
   "metadata": {},
   "outputs": [
    {
     "name": "stdout",
     "output_type": "stream",
     "text": [
      "8.67849999997361 ms\n"
     ]
    }
   ],
   "source": [
    "# Numba + NumPy toinen ajo\n",
    "numba_plus_numpy_time = timeit(lambda: dot_np_numba(a_array, b_array), number=10000)\n",
    "\n",
    "print((numba_plus_numpy_time * 1000), \"ms\")"
   ]
  },
  {
   "cell_type": "code",
   "execution_count": 32,
   "id": "a580c06d-8df9-4f2e-958f-84ad622f1dd1",
   "metadata": {},
   "outputs": [],
   "source": [
    "# Lasketaan nopeutuskertoimet verrattuna Pythonin list-toteutukseen\n",
    "\n",
    "numba_x = list_time / numba_time\n",
    "numpy_x = list_time / numpy_time\n",
    "numba_plus_numpy_x = list_time / numba_plus_numpy_time"
   ]
  },
  {
   "cell_type": "code",
   "execution_count": 33,
   "id": "72e69294-9fb9-40d8-a2a0-58bc56d9f635",
   "metadata": {},
   "outputs": [
    {
     "data": {
      "image/png": "[encoded data removed]",
      "text/plain": [
       "<Figure size 432x288 with 1 Axes>"
      ]
     },
     "metadata": {
      "needs_background": "light"
     },
     "output_type": "display_data"
    }
   ],
   "source": [
    "fig = plt.figure()\n",
    "ax = fig.add_axes([0,0,1,1])\n",
    "langs = ['Numba', 'NumPy', 'NumPy + Numba']\n",
    "students = [numba_x, numpy_x, numba_plus_numpy_x]\n",
    "ax.bar(langs,students)\n",
    "plt.show()"
   ]
  },
  {
   "cell_type": "code",
   "execution_count": null,
   "id": "a4c4e21d-a0d5-465c-bb86-6bb23bafd5f6",
   "metadata": {},
   "outputs": [],
   "source": [
    "fig, ax = plt.subplots()\n",
    "\n",
    "p1 = ax.bar(ind, menMeans, width, yerr=menStd, label='Men')\n",
    "p2 = ax.bar(ind, womenMeans, width,\n",
    "            bottom=menMeans, yerr=womenStd, label='Women')\n",
    "\n",
    "ax.axhline(0, color='grey', linewidth=0.8)\n",
    "ax.set_ylabel('Scores')\n",
    "ax.set_title('Scores by group and gender')\n",
    "ax.set_xticks(ind, labels=['G1', 'G2', 'G3', 'G4', 'G5'])\n",
    "ax.legend()\n",
    "\n",
    "# Label with label_type 'center' instead of the default 'edge'\n",
    "ax.bar_label(p1, label_type='center')\n",
    "ax.bar_label(p2, label_type='center')\n",
    "ax.bar_label(p2)\n",
    "\n",
    "plt.show()"
   ]
  }
 ],
 "metadata": {
  "kernelspec": {
   "display_name": "Python 3",
   "language": "python",
   "name": "python3"
  },
  "language_info": {
   "codemirror_mode": {
    "name": "ipython",
    "version": 3
   },
   "file_extension": ".py",
   "mimetype": "text/x-python",
   "name": "python",
   "nbconvert_exporter": "python",
   "pygments_lexer": "ipython3",
   "version": "3.8.10"
  }
 },
 "nbformat": 4,
 "nbformat_minor": 5
}
