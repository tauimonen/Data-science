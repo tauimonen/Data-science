{
 "cells": [
  {
   "cell_type": "code",
   "execution_count": 81,
   "id": "4946b65c-a189-4da3-a713-6418caa00217",
   "metadata": {},
   "outputs": [],
   "source": [
    "import numpy as np\n",
    "from numba import jit\n",
    "from timeit import timeit\n",
    "import matplotlib.pyplot as plt"
   ]
  },
  {
   "cell_type": "code",
   "execution_count": 82,
   "id": "b4bd169d-ee91-444a-8975-d88efcfda0f5",
   "metadata": {},
   "outputs": [],
   "source": [
    "# Luo vektorit NumPy-pohjaista ajonottoa varten.\n",
    "\n",
    "a_array = np.random.randn(10**3)\n",
    "b_array = np.random.randn(10**3)\n",
    "\n",
    "# Luo listat NumPy-pohjaista ajonottoa varten.\n",
    "\n",
    "a_list = list(a_array)\n",
    "b_list = list(b_array)"
   ]
  },
  {
   "cell_type": "code",
   "execution_count": 83,
   "id": "deb724d9-ca0d-46df-b246-80679a6f40d0",
   "metadata": {},
   "outputs": [
    {
     "name": "stdout",
     "output_type": "stream",
     "text": [
      "NumPy a_array (head):\n",
      " [-0.65021302  0.14391285  0.14741304  1.63629234 -0.49571756 -0.115643\n",
      " -0.32677316 -0.07672179 -0.52636041  0.5627449 ]\n",
      "NumPy b_array (head):\n",
      " [ 1.00565732  1.03836827  2.12371791 -1.46477323 -1.19163686  0.04628054\n",
      "  1.91699408 -1.59641069  0.78499045  1.00267239]\n",
      "\n",
      "a_list (head):\n",
      " [-0.6502130209420357, 0.14391285431573614, 0.1474130428505866, 1.6362923449530045, -0.49571755643372717, -0.11564299920234668, -0.32677316291733904, -0.07672179487515916, -0.5263604093699785, 0.5627449016544727]\n",
      "\n",
      "b_list (head):\n",
      " [1.0056573185672428, 1.0383682664991438, 2.123717908389228, -1.4647732271716836, -1.191636857377996, 0.04628053977197214, 1.9169940800888798, -1.5964106900626478, 0.784990449842325, 1.002672385641151]\n"
     ]
    }
   ],
   "source": [
    "# Tulostetaan kaikista ensimmäiset 10, jotta nähdään, että sisältävät lukuja. \n",
    "\n",
    "print(\"NumPy a_array (head):\\n\", a_array[:10])\n",
    "print(\"NumPy b_array (head):\\n\", b_array[:10])\n",
    "print(\"\\na_list (head):\\n\", a_list[:10])\n",
    "print(\"\\nb_list (head):\\n\", b_list[:10])"
   ]
  },
  {
   "cell_type": "code",
   "execution_count": 84,
   "id": "47d5a5d0-a600-430d-8ad3-9dd3d8609ddf",
   "metadata": {},
   "outputs": [],
   "source": [
    "def dot(a, b):\n",
    "    \"\"\"\n",
    "    Takes two vectors as a parameter and returns their dot product.\n",
    "    Param: array-like floats\n",
    "    Return: float\n",
    "    \"\"\"\n",
    "    \n",
    "    dot_product = 0\n",
    "    for a, b in zip(a, b):\n",
    "        dot_product += a * b\n",
    "    \n",
    "    return dot_product"
   ]
  },
  {
   "cell_type": "code",
   "execution_count": 85,
   "id": "1ce66e6e-3ef8-4c4b-827b-432e70b1c9b9",
   "metadata": {},
   "outputs": [],
   "source": [
    "@jit(nopython=True)\n",
    "def dot_numba(a, b):\n",
    "    \"\"\"\n",
    "    Takes two vectors as a parameter and returns their dot product.\n",
    "    Param: array-like floats\n",
    "    Return: float\n",
    "    \"\"\"\n",
    "    \n",
    "    dot_product = 0\n",
    "    for a, b in zip(a, b):\n",
    "        dot_product += a * b\n",
    "    \n",
    "    return dot_product"
   ]
  },
  {
   "cell_type": "code",
   "execution_count": 86,
   "id": "e1e2c7e0-a40e-41b0-a3a5-9fe23154e5c1",
   "metadata": {},
   "outputs": [],
   "source": [
    "# Make function for NumPy's dot product, which can then be Numba compiled.\n",
    "\n",
    "@jit(nopython=True)\n",
    "def dot_np_numba(a, b):\n",
    "    return np.dot(a, b)"
   ]
  },
  {
   "cell_type": "code",
   "execution_count": 87,
   "id": "ff6c24cb-29a5-4570-91ab-4ea8f134b21e",
   "metadata": {},
   "outputs": [],
   "source": [
    "n = 1000"
   ]
  },
  {
   "cell_type": "code",
   "execution_count": 88,
   "id": "2b4346d3-e90b-4b84-bc8d-0e7ada002bd9",
   "metadata": {},
   "outputs": [
    {
     "name": "stdout",
     "output_type": "stream",
     "text": [
      "224.75988000001053 ms\n"
     ]
    }
   ],
   "source": [
    "# dot-funktion ajo listoilla \n",
    "list_time = timeit(lambda: dot(a_list, b_list), number=10000)\n",
    "\n",
    "print(((list_time * n) / 10), \"ms\")"
   ]
  },
  {
   "cell_type": "code",
   "execution_count": 89,
   "id": "4164edf0-b9c7-4401-ac24-0e46281a52dc",
   "metadata": {},
   "outputs": [
    {
     "name": "stdout",
     "output_type": "stream",
     "text": [
      "312.7010600000176 ms\n"
     ]
    }
   ],
   "source": [
    "# Vertailun vuoksi saman dot-funktion ajo NumPy-taulukoilla.\n",
    "np_arr_time = timeit(lambda: dot(a_array, b_array), number=10000)\n",
    "\n",
    "print(((np_arr_time * 1000) / 10), \"ms\")"
   ]
  },
  {
   "cell_type": "code",
   "execution_count": 90,
   "id": "d542a4e7-ce91-4f2c-b16c-0b6a1bdd5440",
   "metadata": {},
   "outputs": [
    {
     "name": "stdout",
     "output_type": "stream",
     "text": [
      "14.204609999978857 ms\n"
     ]
    }
   ],
   "source": [
    "# Numban ensimmäinen ajo\n",
    "numba_time = timeit(lambda: dot_numba(a_array, b_array), number=10000)\n",
    "\n",
    "print(((numba_time * n) / 10), \"ms\")"
   ]
  },
  {
   "cell_type": "code",
   "execution_count": 91,
   "id": "bb10d571-f9e6-4475-bbeb-5d739ac3f48a",
   "metadata": {},
   "outputs": [
    {
     "name": "stdout",
     "output_type": "stream",
     "text": [
      "1.8994800000200485 ms\n"
     ]
    }
   ],
   "source": [
    "# Numban toinen ajo\n",
    "numba_time = timeit(lambda: dot_numba(a_array, b_array), number=10000)\n",
    "\n",
    "print(((numba_time * n) / 10), \"ms\")"
   ]
  },
  {
   "cell_type": "code",
   "execution_count": 92,
   "id": "db593798-808d-4cb2-a684-dd8b2146780d",
   "metadata": {},
   "outputs": [
    {
     "name": "stdout",
     "output_type": "stream",
     "text": [
      "2.3025200000120094 ms\n"
     ]
    }
   ],
   "source": [
    "# NumPyn oma dot-operaatio\n",
    "numpy_time = timeit(lambda: np.dot(a_array, b_array), number=10000)\n",
    "\n",
    "print(((numpy_time * n) / 10), \"ms\")"
   ]
  },
  {
   "cell_type": "code",
   "execution_count": 93,
   "id": "9340b585-d865-4fb3-9ee0-18bbe3217e77",
   "metadata": {},
   "outputs": [
    {
     "name": "stdout",
     "output_type": "stream",
     "text": [
      "9.568549999994502 ms\n"
     ]
    }
   ],
   "source": [
    "# Numba + NumPy ensimmäinen ajo\n",
    "numba_plus_numpy_time = timeit(lambda: dot_np_numba(a_array, b_array), number=10000)\n",
    "\n",
    "print(((numba_plus_numpy_time * n) / 10), \"ms\")"
   ]
  },
  {
   "cell_type": "code",
   "execution_count": 94,
   "id": "5e2b15dd-1b3c-4e24-a264-121ab5d979ca",
   "metadata": {},
   "outputs": [
    {
     "name": "stdout",
     "output_type": "stream",
     "text": [
      "0.8151499999712541 ms\n"
     ]
    }
   ],
   "source": [
    "# Numba + NumPy toinen ajo\n",
    "numba_plus_numpy_time = timeit(lambda: dot_np_numba(a_array, b_array), number=10000)\n",
    "\n",
    "print(((numba_plus_numpy_time * n) / 10), \"ms\")"
   ]
  },
  {
   "cell_type": "code",
   "execution_count": 100,
   "id": "3142cfba-881c-446a-b58b-97fa19d0a5e5",
   "metadata": {},
   "outputs": [
    {
     "data": {
      "image/png": "[encoded data removed]",
      "text/plain": [
       "<Figure size 432x288 with 1 Axes>"
      ]
     },
     "metadata": {
      "needs_background": "light"
     },
     "output_type": "display_data"
    }
   ],
   "source": [
    "fig = plt.figure()\n",
    "ax = fig.add_axes([0,0,1,1])\n",
    "langs = ['Python list','NumPy arrays in Python']\n",
    "students = [list_time, np_arr_time]\n",
    "ax.bar(langs,students)\n",
    "plt.show()"
   ]
  },
  {
   "cell_type": "code",
   "execution_count": 101,
   "id": "72e69294-9fb9-40d8-a2a0-58bc56d9f635",
   "metadata": {},
   "outputs": [
    {
     "data": {
      "image/png": "[encoded data removed]",
      "text/plain": [
       "<Figure size 432x288 with 1 Axes>"
      ]
     },
     "metadata": {
      "needs_background": "light"
     },
     "output_type": "display_data"
    }
   ],
   "source": [
    "fig = plt.figure()\n",
    "ax = fig.add_axes([0,0,1,1])\n",
    "langs = ['Numba', 'NumPy', 'NumPy + Numba']\n",
    "students = [numba_time, numpy_time, numba_plus_numpy_time]\n",
    "ax.bar(langs,students)\n",
    "plt.show()"
   ]
  },
  {
   "cell_type": "code",
   "execution_count": null,
   "id": "b0aca4c7-b044-498d-b7f4-1c63299efa3d",
   "metadata": {},
   "outputs": [],
   "source": []
  }
 ],
 "metadata": {
  "kernelspec": {
   "display_name": "Python 3",
   "language": "python",
   "name": "python3"
  },
  "language_info": {
   "codemirror_mode": {
    "name": "ipython",
    "version": 3
   },
   "file_extension": ".py",
   "mimetype": "text/x-python",
   "name": "python",
   "nbconvert_exporter": "python",
   "pygments_lexer": "ipython3",
   "version": "3.8.10"
  }
 },
 "nbformat": 4,
 "nbformat_minor": 5
}
