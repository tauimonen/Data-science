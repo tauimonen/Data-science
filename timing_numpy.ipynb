{
 "cells": [
  {
   "cell_type": "markdown",
   "id": "d56c392f-15c5-4204-bbb8-3136d89d9256",
   "metadata": {},
   "source": [
    "This timing example is inspired by: https://github.com/edkrueger/dot-product-timing/blob/master/dot_product_timing.ipynb"
   ]
  },
  {
   "cell_type": "code",
   "execution_count": 5,
   "id": "784b3152-445e-4b4d-a09f-7c44343afd6a",
   "metadata": {},
   "outputs": [],
   "source": [
    "import numpy as np\n",
    "from timeit import timeit\n",
    "import matplotlib.pyplot as plt\n",
    "from numba import jit"
   ]
  },
  {
   "cell_type": "code",
   "execution_count": 6,
   "id": "7a66be3c-6e2b-46f7-8579-253fef36d413",
   "metadata": {},
   "outputs": [],
   "source": [
    "# Create the vectors for NumPy-based timing.\n",
    "\n",
    "a_array = np.random.randn(10**3)\n",
    "b_array = np.random.randn(10**3)\n",
    "\n",
    "# Create lists for the loop-based timing.\n",
    "\n",
    "a_list = list(a_array)\n",
    "b_list = list(b_array)"
   ]
  },
  {
   "cell_type": "code",
   "execution_count": 7,
   "id": "bde79fdc-5c9c-4391-af56-74eda94ba96a",
   "metadata": {},
   "outputs": [
    {
     "name": "stdout",
     "output_type": "stream",
     "text": [
      "NumPy a_array (head):\n",
      " [-0.01992059  0.87797015 -1.24025138  0.24760007  0.45813698 -0.08636306\n",
      "  1.29097543  0.03138651 -1.26850282 -0.68913519]\n",
      "\n",
      "a_list (head):\n",
      " [-0.019920589794068, 0.8779701528775584, -1.2402513821844512, 0.2476000711626958, 0.45813697509014284, -0.08636305507127616, 1.2909754294060043, 0.031386505039503715, -1.2685028206619118, -0.6891351919958324]\n"
     ]
    }
   ],
   "source": [
    "print(\"NumPy a_array (head):\\n\", a_array[:10])\n",
    "print(\"\\na_list (head):\\n\", a_list[:10])"
   ]
  },
  {
   "cell_type": "code",
   "execution_count": 9,
   "id": "68e7d6c7-4837-4900-9349-9479f66cb5d3",
   "metadata": {
    "tags": []
   },
   "outputs": [],
   "source": [
    "def dot(a_array, b_array):\n",
    "    \"\"\"\n",
    "    Takes two vectors as a parameter and returns their dot product.\n",
    "    Param: array-like floats\n",
    "    Return: float\n",
    "    \"\"\"\n",
    "    \n",
    "    dot_product = 0\n",
    "    for a, b in zip(a_array, b_array):\n",
    "        dot_product += a * b\n",
    "    \n",
    "    return dot_product"
   ]
  },
  {
   "cell_type": "code",
   "execution_count": 10,
   "id": "e6ad6bcc-4749-4d82-b1d3-bb363a1d8179",
   "metadata": {},
   "outputs": [],
   "source": [
    "@jit(nopython=True)\n",
    "def dot_numba(a_array, b_array):\n",
    "    \"\"\"\n",
    "    Takes two vectors as a parameter and returns their dot product.\n",
    "    Param: array-like floats\n",
    "    Return: float\n",
    "    \"\"\"\n",
    "    \n",
    "    dot_product = 0\n",
    "    for a, b in zip(a_array, b_array):\n",
    "        dot_product += a * b\n",
    "    \n",
    "    return dot_product"
   ]
  },
  {
   "cell_type": "code",
   "execution_count": 11,
   "id": "60477f6b-afd6-4040-abc7-d4c9b6329be7",
   "metadata": {},
   "outputs": [
    {
     "name": "stdout",
     "output_type": "stream",
     "text": [
      "484 µs ± 206 µs per loop (mean ± std. dev. of 7 runs, 10 loops each)\n"
     ]
    }
   ],
   "source": [
    "# Find the average of 10 runs of the loop-based dot product function\n",
    "# using arrays as inputs\n",
    "\n",
    "%timeit -n 10 dot(a_array, b_array)"
   ]
  },
  {
   "cell_type": "code",
   "execution_count": 14,
   "id": "ce49f6df-ad87-4e19-b454-07ce9a9f7d47",
   "metadata": {},
   "outputs": [
    {
     "name": "stdout",
     "output_type": "stream",
     "text": [
      "3.46 µs ± 863 ns per loop (mean ± std. dev. of 7 runs, 10 loops each)\n"
     ]
    }
   ],
   "source": [
    "# Same using Numba compiling, 2nd run\n",
    "%timeit -n 10 dot_numba(a_array, b_array)"
   ]
  },
  {
   "cell_type": "code",
   "execution_count": 46,
   "id": "d0d5ac61-42f5-4426-9404-9c9e30e9d888",
   "metadata": {},
   "outputs": [
    {
     "name": "stdout",
     "output_type": "stream",
     "text": [
      "281 µs ± 61.1 µs per loop (mean ± std. dev. of 7 runs, 10 loops each)\n"
     ]
    }
   ],
   "source": [
    "# Find the average of 10 runs of the loop-based dot product function\n",
    "# using lists as inputs\n",
    "\n",
    "%timeit -n 10 dot(a_list, b_list)"
   ]
  },
  {
   "cell_type": "code",
   "execution_count": 17,
   "id": "d4cb0f51-769e-41d9-a5f6-38d60d30f2d4",
   "metadata": {},
   "outputs": [
    {
     "name": "stdout",
     "output_type": "stream",
     "text": [
      "6.36 ms ± 835 µs per loop (mean ± std. dev. of 7 runs, 10 loops each)\n"
     ]
    }
   ],
   "source": [
    "%timeit -n 10 dot_numba(a_list, b_list)"
   ]
  },
  {
   "cell_type": "code",
   "execution_count": 32,
   "id": "93e1496d-3dbd-4a96-94ee-cd1aba4effee",
   "metadata": {},
   "outputs": [
    {
     "name": "stdout",
     "output_type": "stream",
     "text": [
      "The slowest run took 19.16 times longer than the fastest. This could mean that an intermediate result is being cached.\n",
      "43.6 µs ± 35.8 µs per loop (mean ± std. dev. of 7 runs, 10 loops each)\n"
     ]
    }
   ],
   "source": [
    "# Find average of 10 runs of numpy's dot product\n",
    "\n",
    "%timeit -n 10 np.dot(a_array, b_array)"
   ]
  },
  {
   "cell_type": "code",
   "execution_count": 33,
   "id": "121ed42a-4bdb-42dd-9150-e1077a4d2507",
   "metadata": {},
   "outputs": [],
   "source": [
    "# Make function for NumPy's dot product, which can then be Numba compiled.\n",
    "\n",
    "@jit(nopython=True)\n",
    "def dot_np_numba(a_array, b_array):\n",
    "    return np.dot(a_array, b_array)"
   ]
  },
  {
   "cell_type": "code",
   "execution_count": 37,
   "id": "c6c31383-e725-4d23-af3f-f06c6f195907",
   "metadata": {},
   "outputs": [
    {
     "name": "stdout",
     "output_type": "stream",
     "text": [
      "2.14 µs ± 710 ns per loop (mean ± std. dev. of 7 runs, 10 loops each)\n"
     ]
    }
   ],
   "source": [
    "%timeit -n 10 dot_np_numba(a_array, b_array)"
   ]
  },
  {
   "cell_type": "markdown",
   "id": "7898ad37-2cd5-49b6-a74f-b69b3b9f20b1",
   "metadata": {},
   "source": [
    "Use timeit package to create an enviroment to time a function. \n",
    "It turns off garbage collection and caching by default."
   ]
  },
  {
   "cell_type": "markdown",
   "id": "5c174fcc-619b-4c7b-a04a-33f92ec4d9ec",
   "metadata": {},
   "source": [
    "In order to use timeit, create a function with no arguments to time. The timeit function from the timeit package expects a function with no arguments. This can be done by passing a lambda function, with no arguements, as an argument to timeit."
   ]
  },
  {
   "cell_type": "code",
   "execution_count": 65,
   "id": "bc55e452-7f12-4b18-bf1b-4929e2a2a42c",
   "metadata": {},
   "outputs": [
    {
     "name": "stdout",
     "output_type": "stream",
     "text": [
      "0.3520899999784888 ms\n"
     ]
    }
   ],
   "source": [
    "time = timeit(lambda: dot(a_array, b_array), number=10)\n",
    "\n",
    "print(((time * 1000) / 10), \"ms\")"
   ]
  },
  {
   "cell_type": "code",
   "execution_count": 66,
   "id": "6d0a00a9-44ce-426e-a05c-0f3d11564aa1",
   "metadata": {},
   "outputs": [
    {
     "name": "stdout",
     "output_type": "stream",
     "text": [
      "0.23995999999897322 ms\n"
     ]
    }
   ],
   "source": [
    "time = timeit(lambda: dot(a_list, b_list), number=10)\n",
    "\n",
    "print(((time * 1000) / 10), \"ms\")"
   ]
  },
  {
   "cell_type": "code",
   "execution_count": 71,
   "id": "7493a809-7318-427e-be1f-5c578bb253be",
   "metadata": {},
   "outputs": [
    {
     "name": "stdout",
     "output_type": "stream",
     "text": [
      "0.035359999992579105 ms\n"
     ]
    }
   ],
   "source": [
    "time = timeit(lambda: np.dot(a_array, b_array), number=10)\n",
    "\n",
    "print(((time * 1000) / 10), \"ms\")"
   ]
  },
  {
   "cell_type": "markdown",
   "id": "2e625b1d-1641-4523-8698-b61b5c050e61",
   "metadata": {},
   "source": [
    "The caching problem does not apply anymore."
   ]
  },
  {
   "cell_type": "code",
   "execution_count": 38,
   "id": "f5629875-4601-4759-8ce8-685c07a91ae4",
   "metadata": {},
   "outputs": [],
   "source": [
    "def time_function(function, *args, reps=10):\n",
    "    \"\"\"\n",
    "    Times function execution reps times, and returns the average execution\n",
    "    time in milliseconds.\n",
    "    Param: function, function arguments\n",
    "    Return: float\n",
    "    \"\"\"\n",
    "\n",
    "    avg_time = timeit(lambda: function(*args), number=reps) / reps\n",
    "    \n",
    "    return avg_time * 1000"
   ]
  },
  {
   "cell_type": "code",
   "execution_count": 39,
   "id": "1434c376-c1ca-450d-9c46-7b98e2c0c502",
   "metadata": {},
   "outputs": [
    {
     "data": {
      "text/plain": [
       "0.701359999993656"
      ]
     },
     "execution_count": 39,
     "metadata": {},
     "output_type": "execute_result"
    }
   ],
   "source": [
    "time_function(dot, a_array, b_array)"
   ]
  },
  {
   "cell_type": "code",
   "execution_count": 40,
   "id": "804c864e-3d19-4977-ba20-0cfaa18989b3",
   "metadata": {},
   "outputs": [
    {
     "data": {
      "text/plain": [
       "0.5186500000036176"
      ]
     },
     "execution_count": 40,
     "metadata": {},
     "output_type": "execute_result"
    }
   ],
   "source": [
    "time_function(dot, a_list, b_list)"
   ]
  },
  {
   "cell_type": "code",
   "execution_count": 41,
   "id": "be9c4ba7-875d-4c8e-80df-06848f169702",
   "metadata": {},
   "outputs": [
    {
     "data": {
      "text/plain": [
       "0.09285999999519845"
      ]
     },
     "execution_count": 41,
     "metadata": {},
     "output_type": "execute_result"
    }
   ],
   "source": [
    "time_function(np.dot, a_array, b_array)"
   ]
  },
  {
   "cell_type": "code",
   "execution_count": 44,
   "id": "d3d735ac-3c8e-45c7-8e60-ac1f12538f5d",
   "metadata": {
    "tags": []
   },
   "outputs": [
    {
     "data": {
      "text/plain": [
       "0.004269999999451102"
      ]
     },
     "execution_count": 44,
     "metadata": {},
     "output_type": "execute_result"
    }
   ],
   "source": [
    "time_function(dot_np_numba, a_array, b_array)"
   ]
  },
  {
   "cell_type": "markdown",
   "id": "bd50b733-cd4a-4619-bada-7574afdc07fe",
   "metadata": {},
   "source": [
    "Lent's next see how the times change as the legth of the vector grows. \n",
    "\n",
    "Build a function to time the different dot product functions at different lengths. Timing the function multiple times using the same vector might produce an inaccurate result, because the dot product may be faster to compute for some vectors. Repeat over different vectors to ensure fair test."
   ]
  },
  {
   "cell_type": "code",
   "execution_count": 46,
   "id": "06e68064-74f0-4a06-93b4-939a50e15bba",
   "metadata": {},
   "outputs": [],
   "source": [
    "def time_dot_product(\n",
    "    func,\n",
    "    vector_length,\n",
    "    input_type = \"array\",\n",
    "    data_reps = 10,\n",
    "    reps = 10\n",
    "):\n",
    "    \n",
    "    \"\"\"\n",
    "    Takes func, a function that perfroms a calculation on two vectors (array-lines) and   \n",
    "    returns the times (in ms) the function takes to run on std. normal generated vectors.\n",
    "    \n",
    "    Arguments:\n",
    "    ----------\n",
    "    func (function): a function that perfroms a calculation on two vectors (array-lines)\n",
    "    vector_length (int): the length that the radom vectors should be\n",
    "    input_type (str): Vontrols the data type of the random vector. Takes values \\\"list\\\" or \\\"array\\\"\n",
    "    data_reps (int): the number of times to generate the data\n",
    "    reps (int): the number of time to run the timer for each data set\n",
    "    \"\"\"\n",
    "    \n",
    "    total_time = 0\n",
    "    \n",
    "    for i in range(0, data_reps):\n",
    "        \n",
    "        A = np.random.standard_normal(vector_length)\n",
    "        B = np.random.standard_normal(vector_length)\n",
    "        \n",
    "        if input_type == \"list\":\n",
    "            A = list(A)\n",
    "            B = list(B)\n",
    "            \n",
    "        inst_time = time_function(func, A, B, reps=reps)\n",
    "        \n",
    "        total_time += inst_time\n",
    "    \n",
    "    avg_time = total_time / data_reps\n",
    "    \n",
    "    return avg_time"
   ]
  },
  {
   "cell_type": "markdown",
   "id": "0774c476-6c68-48a8-8599-202312fe25dc",
   "metadata": {},
   "source": [
    "Time each of the functions for vectors of lengths 1 to 1,000,000. For a slower computer a lower order of magnitude should be chosen. With a faster computer, it might be interesting to see how the functions perform on much longer vectors."
   ]
  },
  {
   "cell_type": "code",
   "execution_count": 47,
   "id": "fa9fedb8-3da2-424d-bf5e-c90bea5d469c",
   "metadata": {},
   "outputs": [],
   "source": [
    "# Create an array of increasing times\n",
    "\n",
    "ord_mag = 6\n",
    "lengths = [10 ** n for n in range(0, ord_mag + 1)]"
   ]
  },
  {
   "cell_type": "code",
   "execution_count": 48,
   "id": "a96d3caa-248c-4a69-b06d-80bcbb60f897",
   "metadata": {},
   "outputs": [
    {
     "data": {
      "text/plain": [
       "[0.0013920000037614955,\n",
       " 0.003855000006751652,\n",
       " 0.03361899999845264,\n",
       " 0.2883930000029977,\n",
       " 2.257343999999648,\n",
       " 21.61714399999937,\n",
       " 211.98563599999488]"
      ]
     },
     "execution_count": 48,
     "metadata": {},
     "output_type": "execute_result"
    }
   ],
   "source": [
    "loop_list_times = [time_dot_product(dot, e, \"list\") for e in lengths]\n",
    "loop_list_times"
   ]
  },
  {
   "cell_type": "code",
   "execution_count": 49,
   "id": "38fddadc-8ada-41fc-b381-7a62b21084dc",
   "metadata": {},
   "outputs": [
    {
     "data": {
      "text/plain": [
       "[0.004584000000704691,\n",
       " 0.011234000003241817,\n",
       " 0.03714099999797327,\n",
       " 0.35235800000009476,\n",
       " 2.9266280000001643,\n",
       " 29.721105000003263,\n",
       " 291.2360259999923]"
      ]
     },
     "execution_count": 49,
     "metadata": {},
     "output_type": "execute_result"
    }
   ],
   "source": [
    "loop_array_times = [time_dot_product(dot, length, \"array\") for length in lengths]\n",
    "loop_array_times"
   ]
  },
  {
   "cell_type": "code",
   "execution_count": 60,
   "id": "285b4318-25d1-4259-8906-d01b07206731",
   "metadata": {
    "tags": []
   },
   "outputs": [
    {
     "data": {
      "text/plain": [
       "[0.014605999999730557,\n",
       " 0.0038309999990815413,\n",
       " 0.0029069999982311856,\n",
       " 0.0032809999970595527,\n",
       " 0.01326899999867237,\n",
       " 0.03909499999735999,\n",
       " 1.0171519999994416]"
      ]
     },
     "execution_count": 60,
     "metadata": {},
     "output_type": "execute_result"
    }
   ],
   "source": [
    "np_times = [time_dot_product(np.dot, length) for length in lengths]\n",
    "np_times"
   ]
  },
  {
   "cell_type": "code",
   "execution_count": 61,
   "id": "4b7f2b8e-39d7-443f-be15-b49489894c7b",
   "metadata": {},
   "outputs": [
    {
     "data": {
      "text/plain": [
       "[0.0024909999979172426,\n",
       " 0.0021859999992557277,\n",
       " 0.002469000000928645,\n",
       " 0.003964000002270041,\n",
       " 0.006540000001677981,\n",
       " 0.03359800000225732,\n",
       " 0.9710620000032577]"
      ]
     },
     "execution_count": 61,
     "metadata": {},
     "output_type": "execute_result"
    }
   ],
   "source": [
    "np_numba_times = [time_dot_product(dot_np_numba, length) for length in lengths]\n",
    "np_numba_times"
   ]
  },
  {
   "cell_type": "code",
   "execution_count": 62,
   "id": "d4e908a3-95da-4c21-a8ff-1f066ea490e7",
   "metadata": {},
   "outputs": [
    {
     "data": {
      "image/png": "[encoded data removed]",
      "text/plain": [
       "<Figure size 432x288 with 1 Axes>"
      ]
     },
     "metadata": {
      "needs_background": "light"
     },
     "output_type": "display_data"
    }
   ],
   "source": [
    "# plot numpy time v.s. loop time\n",
    "\n",
    "plt.plot(lengths, loop_list_times, label = \"Loop-based function with lists as inputs\")\n",
    "plt.plot(lengths, loop_array_times, label = \"Loop-based function with arrays as inputs\")\n",
    "plt.plot(lengths, np_times, label = \"Numpy's function\")\n",
    "plt.plot(lengths, np_numba_times, label = \"Numba compiled Numpy's function\")\n",
    "plt.title(\"Time Comparison of Dot Product Functions\")\n",
    "plt.xlabel(\"Length of Vectors\")\n",
    "plt.ylabel(\"Average Time (ms)\")\n",
    "plt.legend()\n",
    "plt.show()"
   ]
  },
  {
   "cell_type": "code",
   "execution_count": 63,
   "id": "ca540244-cc4d-4391-9add-c47576db8024",
   "metadata": {},
   "outputs": [
    {
     "data": {
      "image/png": "[encoded data removed]",
      "text/plain": [
       "<Figure size 432x288 with 1 Axes>"
      ]
     },
     "metadata": {
      "needs_background": "light"
     },
     "output_type": "display_data"
    }
   ],
   "source": [
    "plt.plot(lengths, np_times, label = \"Numpy's function\")\n",
    "plt.plot(lengths, np_numba_times, label = \"Numba compiled Numpy's function\")\n",
    "plt.title(\"Time Comparison of Dot Product Functions\")\n",
    "plt.xlabel(\"Length of Vectors\")\n",
    "plt.ylabel(\"Average Time (ms)\")\n",
    "plt.legend()\n",
    "plt.show()"
   ]
  },
  {
   "cell_type": "code",
   "execution_count": 90,
   "id": "90795637-d79c-4252-b870-8b69b5737831",
   "metadata": {},
   "outputs": [
    {
     "data": {
      "image/png": "[encoded data removed]",
      "text/plain": [
       "<Figure size 432x288 with 1 Axes>"
      ]
     },
     "metadata": {
      "needs_background": "light"
     },
     "output_type": "display_data"
    }
   ],
   "source": [
    "plt.plot(lengths, np_times, label = \"Numpy's function\", c = \"C2\")\n",
    "plt.title(\"Time Comparison of Dot Product Functions\")\n",
    "plt.xlabel(\"Length of Vectors\")\n",
    "plt.ylabel(\"Average Time (ms)\")\n",
    "plt.legend()\n",
    "plt.show()"
   ]
  },
  {
   "cell_type": "markdown",
   "id": "0d7e72d2-0be1-4c6f-bf26-ac8ba7828be7",
   "metadata": {},
   "source": [
    "In conclusion, one should use NumPy to compute a dot product and \n",
    "probably for other vector operations. However, it takes significantly \n",
    "more time to iterate over a NumPy array than a list. If one needs to \n",
    "write a loop, lists are faster."
   ]
  },
  {
   "cell_type": "code",
   "execution_count": null,
   "id": "1dc56fd5-adf0-4053-be8f-f3c53d97d069",
   "metadata": {},
   "outputs": [],
   "source": []
  }
 ],
 "metadata": {
  "kernelspec": {
   "display_name": "Python 3",
   "language": "python",
   "name": "python3"
  },
  "language_info": {
   "codemirror_mode": {
    "name": "ipython",
    "version": 3
   },
   "file_extension": ".py",
   "mimetype": "text/x-python",
   "name": "python",
   "nbconvert_exporter": "python",
   "pygments_lexer": "ipython3",
   "version": "3.8.10"
  }
 },
 "nbformat": 4,
 "nbformat_minor": 5
}
