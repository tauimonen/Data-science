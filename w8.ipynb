{
 "cells": [
  {
   "cell_type": "code",
   "execution_count": null,
   "id": "544f8e9e-e1ed-4765-b80f-2652ca1fa539",
   "metadata": {},
   "outputs": [],
   "source": [
    "# kuningatarongelma\n",
    "from typing import List\n",
    "\n",
    "n: int = 11\n",
    "laskuri: int = 0\n",
    "kohta: List[int] = [-1]*n\n",
    "\n",
    "def voi_sijoittaa(y: int, x: int ) -> bool:\n",
    "    global kohta\n",
    "    for i in range(y):\n",
    "        if kohta[i] == x:\n",
    "            return False\n",
    "        elif abs(i-y) == abs(kohta[i]-x):\n",
    "            return False\n",
    "    return True\n",
    "\n",
    "def haku(y: int) -> None:\n",
    "    global n, laskuri, kohta\n",
    "    if y == n:\n",
    "        laskuri += 1\n",
    "    else:\n",
    "        for x in range(n):\n",
    "            if voi_sijoittaa(y, x):\n",
    "                kohta[y] = x\n",
    "                haku(y+1)\n",
    "\n",
    "haku(0)\n",
    "print(n, \":\", laskuri)"
   ]
  },
  {
   "cell_type": "code",
   "execution_count": 1,
   "id": "873f177b-457e-4a5a-8955-f9d232c5edff",
   "metadata": {},
   "outputs": [
    {
     "name": "stdout",
     "output_type": "stream",
     "text": [
      "5\n",
      "7\n",
      "22\n",
      "53174\n"
     ]
    }
   ],
   "source": [
    "# number\n",
    "def part(rem, lim):\n",
    "    if rem < lim:\n",
    "        return 0\n",
    "    elif rem == lim:\n",
    "        return 1\n",
    "    else:\n",
    "        return part(rem - lim, lim) + part(rem, lim + 1)\n",
    "\n",
    "def count(n):\n",
    "    return part(n, 1)\n",
    "\n",
    "if __name__ == \"__main__\":\n",
    "    print(count(4)) # 5\n",
    "    print(count(5)) # 7\n",
    "    print(count(8)) # 22\n",
    "    print(count(42)) # 53174"
   ]
  },
  {
   "cell_type": "code",
   "execution_count": 2,
   "id": "846b1f1d-8a0b-4438-a24d-bbdf92600cda",
   "metadata": {},
   "outputs": [
    {
     "name": "stdout",
     "output_type": "stream",
     "text": [
      "False\n",
      "True\n",
      "True\n",
      "False\n",
      "True\n",
      "True\n"
     ]
    }
   ],
   "source": [
    "# partition\n",
    "def create(word, length, result):\n",
    "    if len(word) == length:\n",
    "        result.append(word)\n",
    "        return\n",
    "    else:\n",
    "        create(word+\"0\", length, result)\n",
    "        create(word+\"1\", length, result)\n",
    "\n",
    "def check(t):\n",
    "    res = []\n",
    "    create(\"\", len(t), res)\n",
    "    for s in res:\n",
    "        sum1 = 0\n",
    "        sum2 = 0\n",
    "        for i, b in enumerate(s):\n",
    "            if b == \"0\":\n",
    "                sum1 += t[i]\n",
    "            else:\n",
    "                sum2 += t[i]\n",
    "        if sum1 == sum2:\n",
    "            return True\n",
    "    return False\n",
    "\n",
    "if __name__ == \"__main__\":\n",
    "    print(check([3,4,5])) # False\n",
    "    print(check([16,8,4,4])) # True\n",
    "    print(check([9,4,8,7,6])) # True\n",
    "    print(check([1,2,3,4,5,6])) # False\n",
    "    print(check([1,2,3,4,5,6,7])) # True\n",
    "    print(check([4,4,4,6,6])) # True"
   ]
  },
  {
   "cell_type": "code",
   "execution_count": null,
   "id": "155916fc-45b7-431a-9682-73f9cb52852c",
   "metadata": {},
   "outputs": [],
   "source": [
    "# permutaatiot\n",
    "n = 9\n",
    "luvut = [None]*n\n",
    "mukana = [False]*n\n",
    "jarjestys = 0\n",
    "\n",
    "def haku(k):\n",
    "    global n, jarjestys, luvut, mukana\n",
    "    if k == n:\n",
    "        jarjestys += 1\n",
    "        if jarjestys == 54321:\n",
    "            print(jarjestys, luvut)\n",
    "    else:\n",
    "        for i in range(n):\n",
    "            if not mukana[i]:\n",
    "                mukana[i] = True\n",
    "                luvut[k] = i + 1\n",
    "                haku(k+1)\n",
    "                mukana[i] = False\n",
    "\n",
    "haku(0)"
   ]
  },
  {
   "cell_type": "code",
   "execution_count": 3,
   "id": "7ec91739-b6b9-4887-a873-faaa031d6b12",
   "metadata": {},
   "outputs": [
    {
     "name": "stdout",
     "output_type": "stream",
     "text": [
      "['A', 'B', 'C']\n",
      "['AB', 'AC', 'BA', 'BC', 'CA', 'CB']\n",
      "48\n"
     ]
    }
   ],
   "source": [
    "# abcdiff\n",
    "def create(n):\n",
    "    if n == 1:\n",
    "        return ['A', 'B', 'C']\n",
    "    else:\n",
    "        res = []\n",
    "        for s in create(n-1):\n",
    "            for c in range(ord('A'), ord('D')):\n",
    "                if ord(s[-1]) != c:\n",
    "                    res.append(s + chr(c))\n",
    "        return res\n",
    "\n",
    "if __name__ == \"__main__\":\n",
    "    print(create(1)) # [A,B,C]\n",
    "    print(create(2)) # [AB,AC,BA,BC,CA,CB]\n",
    "    print(len(create(5))) # 48"
   ]
  },
  {
   "cell_type": "code",
   "execution_count": 4,
   "id": "45ae4e0a-c20c-44a9-acec-4a8b4293d896",
   "metadata": {},
   "outputs": [
    {
     "name": "stdout",
     "output_type": "stream",
     "text": [
      "['A', 'B', 'C']\n",
      "['AA', 'AB', 'AC', 'BA', 'BB', 'BC', 'CA', 'CB', 'CC']\n",
      "243\n"
     ]
    }
   ],
   "source": [
    "# abclist\n",
    "def create(n):\n",
    "    if n == 1:\n",
    "        return ['A', 'B', 'C']\n",
    "    else:\n",
    "        res = []\n",
    "        for s in create(n-1):\n",
    "            res.append(s + 'A')\n",
    "            res.append(s + 'B')\n",
    "            res.append(s + 'C')\n",
    "        return res\n",
    "\n",
    "if __name__ == \"__main__\":\n",
    "    print(create(1)) # [A,B,C]\n",
    "    print(create(2)) # [AA,AB,AC,BA,BB,BC,CA,CB,CC]\n",
    "    print(len(create(5))) # 243"
   ]
  },
  {
   "cell_type": "code",
   "execution_count": 5,
   "id": "eac410fe-a3fe-43c9-a059-8aa598f0fe1b",
   "metadata": {},
   "outputs": [
    {
     "name": "stdout",
     "output_type": "stream",
     "text": [
      "['ab', 'ba']\n",
      "['aabc', 'aacb', 'abac', 'abca', 'acab', 'acba', 'baac', 'baca', 'bcaa', 'caab', 'caba', 'cbaa']\n",
      "1260\n",
      "['bcccc', 'cbccc', 'ccbcc', 'cccbc', 'ccccb']\n"
     ]
    }
   ],
   "source": [
    "# anagram\n",
    "def create2(prefix, ft, res):\n",
    "    if len(ft) == 0:\n",
    "        res.append(prefix)\n",
    "    else:\n",
    "        for char, count in ft.items():\n",
    "            nft = dict(ft)\n",
    "            if count == 1:\n",
    "                del nft[char]\n",
    "            else:\n",
    "                nft[char]=count-1\n",
    "            create2(prefix+char, nft, res)\n",
    "\n",
    "def create(s):\n",
    "    ft = {}\n",
    "    for char in sorted(s):\n",
    "        ft[char] = ft.get(char, 0) + 1\n",
    "    res = []\n",
    "    create2(\"\", ft, res)\n",
    "    return res\n",
    "\n",
    "if __name__ == \"__main__\":\n",
    "    print(create(\"ab\")) # [ab,ba]\n",
    "    print(create(\"abac\")) # [aabc,aacb,abac,abca,acab,acba,baac,baca,bcaa,caab,caba,cbaa]\n",
    "    print(len(create(\"aybabtu\"))) # 1260\n",
    "    print(create(\"ccbcc\"))"
   ]
  },
  {
   "cell_type": "code",
   "execution_count": 6,
   "id": "afd83f18-f24c-46a8-ab8f-8c3a82b51979",
   "metadata": {},
   "outputs": [
    {
     "name": "stdout",
     "output_type": "stream",
     "text": [
      "None\n"
     ]
    }
   ],
   "source": [
    "# cover\n",
    "def count_h(n, m, k):\n",
    "    if k == 1:\n",
    "        return 1\n",
    "    elif k == 2:\n",
    "        return n + m - 2\n",
    "    else:\n",
    "        pass\n",
    "\n",
    "if __name__ == \"__main__\":\n",
    "    print(count_h(2,2,4)) # 8\n",
    "    #print(count(2,3,3)) # 13\n",
    "    #print(count(4,4,1)) # 1\n",
    "    #print(count(4,3,10)) # 3146\n",
    "    #print(count(4,4,16)) # 70878"
   ]
  },
  {
   "cell_type": "code",
   "execution_count": null,
   "id": "4540bbd3-966e-4200-9d4f-bee8e7289313",
   "metadata": {},
   "outputs": [],
   "source": []
  }
 ],
 "metadata": {
  "kernelspec": {
   "display_name": "Python 3",
   "language": "python",
   "name": "python3"
  },
  "language_info": {
   "codemirror_mode": {
    "name": "ipython",
    "version": 3
   },
   "file_extension": ".py",
   "mimetype": "text/x-python",
   "name": "python",
   "nbconvert_exporter": "python",
   "pygments_lexer": "ipython3",
   "version": "3.8.10"
  }
 },
 "nbformat": 4,
 "nbformat_minor": 5
}
