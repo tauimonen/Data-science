{
 "cells": [
  {
   "cell_type": "code",
   "execution_count": null,
   "metadata": {},
   "outputs": [],
   "source": [
    "# Bayes classification using Gaussian distributions."
   ]
  },
  {
   "cell_type": "code",
   "execution_count": 2,
   "metadata": {},
   "outputs": [],
   "source": [
    "import numpy as np\n",
    "import seaborn as sns\n",
    "import matplotlib.pyplot as plt\n",
    "import pandas as pd\n",
    "from sklearn.datasets import make_blobs"
   ]
  },
  {
   "cell_type": "code",
   "execution_count": 3,
   "metadata": {},
   "outputs": [
    {
     "data": {
      "image/png": "[encoded data removed]",
      "text/plain": [
       "<Figure size 432x288 with 1 Axes>"
      ]
     },
     "metadata": {
      "needs_background": "light"
     },
     "output_type": "display_data"
    }
   ],
   "source": [
    "X,y = make_blobs(100, 2, centers=2, random_state=2, cluster_std=1.5)\n",
    "colors=np.array([\"red\", \"blue\"])\n",
    "plt.scatter(X[:, 0], X[:, 1], c=colors[y], s=50)\n",
    "for label, c in enumerate(colors):\n",
    "    plt.scatter([], [], c=c, label=str(label))\n",
    "plt.legend();"
   ]
  },
  {
   "cell_type": "code",
   "execution_count": 4,
   "metadata": {},
   "outputs": [],
   "source": [
    "from sklearn.naive_bayes import GaussianNB\n",
    "from sklearn.naive_bayes import MultinomialNB\n",
    "model = GaussianNB()\n",
    "#model = MultinomialNB()\n",
    "model.fit(X, y);"
   ]
  },
  {
   "cell_type": "code",
   "execution_count": 5,
   "metadata": {},
   "outputs": [
    {
     "name": "stdout",
     "output_type": "stream",
     "text": [
      "Means: [[-1.64939095 -9.36891451]\n",
      " [ 1.29327924 -1.24101221]]\n",
      "Standard deviations: [[2.06097005 2.47716872]\n",
      " [3.33164807 2.22401384]]\n"
     ]
    }
   ],
   "source": [
    "\"\"\"Naive Bayes algorithm fitted two 2-dimensional Gaussian distribution to the \n",
    "data. The means and the variances define these distributions completely.\"\"\"\n",
    "\n",
    "print(\"Means:\", model.theta_)\n",
    "print(\"Standard deviations:\", model.sigma_)"
   ]
  },
  {
   "cell_type": "code",
   "execution_count": 6,
   "metadata": {},
   "outputs": [],
   "source": [
    "# helper function to draw an ellipse that gives the standard deviation in each \n",
    "# direction from the origo.\n",
    "\n",
    "def plot_ellipse(ax, mu, sigma, color=\"k\", label=None):\n",
    "    \"\"\"\n",
    "    Based on\n",
    "    http://stackoverflow.com/questions/17952171/not-sure-how-to-fit-data-with-a-gaussian-python.\n",
    "    \"\"\"\n",
    "    from matplotlib.patches import Ellipse\n",
    "    # Compute eigenvalues and associated eigenvectors\n",
    "    vals, vecs = np.linalg.eigh(sigma)\n",
    "\n",
    "    # Compute \"tilt\" of ellipse using first eigenvector\n",
    "    x, y = vecs[:, 0]\n",
    "    theta = np.degrees(np.arctan2(y, x))\n",
    "\n",
    "    # Eigenvalues give length of ellipse along each eigenvector\n",
    "    w, h = 2 * np.sqrt(vals)\n",
    "\n",
    "    ax.tick_params(axis='both', which='major', labelsize=20)\n",
    "    ellipse = Ellipse(mu, w, h, theta, color=color, label=label)  # color=\"k\")\n",
    "    ellipse.set_clip_box(ax.bbox)\n",
    "    ellipse.set_alpha(0.2)\n",
    "    ax.add_artist(ellipse)\n",
    "    return ellipse"
   ]
  },
  {
   "cell_type": "code",
   "execution_count": null,
   "metadata": {},
   "outputs": [],
   "source": [
    "plt.figure()\n",
    "plt.xlim(-5, 5)\n",
    "plt.ylim(-15, 5)\n",
    "plot_ellipse(plt.gca(), model.theta_[0], np.identity(2)*model.sigma_[0], color=\"red\")\n",
    "plot_ellipse(plt.gca(), model.theta_[1], np.identity(2)*model.sigma_[1], color=\"blue\");"
   ]
  }
 ],
 "metadata": {
  "kernelspec": {
   "display_name": "Python 3",
   "language": "python",
   "name": "python3"
  },
  "language_info": {
   "codemirror_mode": {
    "name": "ipython",
    "version": 3
   },
   "file_extension": ".py",
   "mimetype": "text/x-python",
   "name": "python",
   "nbconvert_exporter": "python",
   "pygments_lexer": "ipython3",
   "version": "3.8.3"
  }
 },
 "nbformat": 4,
 "nbformat_minor": 4
}
