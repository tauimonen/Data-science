{
 "cells": [
  {
   "cell_type": "code",
   "execution_count": 1,
   "id": "91094dd3-8dec-4e1d-acc9-5c6e7e807ec3",
   "metadata": {},
   "outputs": [],
   "source": [
    "\"\"\"\n",
    "Comparing Python function execution and Numba compiled function execution times.\n",
    "\"\"\"\n",
    "\n",
    "from __future__ import print_function\n",
    "import numpy as np\n",
    "from numba import jit\n",
    "import time\n",
    "import random"
   ]
  },
  {
   "cell_type": "code",
   "execution_count": 2,
   "id": "286d8164-8d1e-417d-a165-e62a9b3c53b2",
   "metadata": {},
   "outputs": [],
   "source": [
    "def timethis(method):\n",
    "    '''decorator for timing function calls'''\n",
    "    def timed(*args, **kwargs):\n",
    "        ts = time.time()\n",
    "        result = method(*args, **kwargs)\n",
    "        te = time.time()\n",
    "        print('{!r} {:f} s'.format(method.__name__, te - ts))\n",
    "        return result\n",
    "    return timed"
   ]
  },
  {
   "cell_type": "code",
   "execution_count": 3,
   "id": "74d637c8-6734-4e50-8c71-f4aea6dbd981",
   "metadata": {},
   "outputs": [],
   "source": [
    "@timethis\n",
    "def monte_carlo_pi(nsamples):\n",
    "    acc = 0\n",
    "    for i in range(nsamples):\n",
    "        x = random.random()\n",
    "        y = random.random()\n",
    "        if (x ** 2 + y ** 2) < 1.0:\n",
    "            acc += 1\n",
    "    return 4.0 * acc / nsamples"
   ]
  },
  {
   "cell_type": "code",
   "execution_count": 4,
   "id": "07e64fcf-6579-4d02-964c-90d3f1fa68f3",
   "metadata": {},
   "outputs": [],
   "source": [
    "@timethis\n",
    "@jit(nopython=True)\n",
    "def monte_carlo_pi_numba(nsamples):\n",
    "    acc = 0\n",
    "    for i in range(nsamples):\n",
    "        x = random.random()\n",
    "        y = random.random()\n",
    "        if (x ** 2 + y ** 2) < 1.0:\n",
    "            acc += 1\n",
    "    return 4.0 * acc / nsamples"
   ]
  },
  {
   "cell_type": "code",
   "execution_count": 15,
   "id": "a264a189-b5b2-4c5c-b997-ed6048236002",
   "metadata": {},
   "outputs": [],
   "source": [
    "@timethis\n",
    "@bodo.jit()\n",
    "def monte_carlo_pi_bodo(nsamples):\n",
    "    acc = 0\n",
    "    for i in range(nsamples):\n",
    "        x = random.random()\n",
    "        y = random.random()\n",
    "        if (x ** 2 + y ** 2) < 1.0:\n",
    "            acc += 1\n",
    "    return 4.0 * acc / nsamples"
   ]
  },
  {
   "cell_type": "code",
   "execution_count": 21,
   "id": "7b797a3e-3e44-45af-9538-f98fe050acb6",
   "metadata": {},
   "outputs": [
    {
     "name": "stdout",
     "output_type": "stream",
     "text": [
      "'monte_carlo_pi' 0.690994 s\n"
     ]
    },
    {
     "data": {
      "text/plain": [
       "3.14262"
      ]
     },
     "execution_count": 21,
     "metadata": {},
     "output_type": "execute_result"
    }
   ],
   "source": [
    "monte_carlo_pi(1000000)"
   ]
  },
  {
   "cell_type": "code",
   "execution_count": 22,
   "id": "ae2b1498-8084-482d-b705-efca49452ec0",
   "metadata": {},
   "outputs": [
    {
     "name": "stdout",
     "output_type": "stream",
     "text": [
      "'monte_carlo_pi_numba' 0.034997 s\n"
     ]
    },
    {
     "data": {
      "text/plain": [
       "3.137024"
      ]
     },
     "execution_count": 22,
     "metadata": {},
     "output_type": "execute_result"
    }
   ],
   "source": [
    "# First run for compiling to machine code and after that Numba compiled code is almost 30 times\n",
    "# faster that pure Python\n",
    "monte_carlo_pi_numba(1000000)"
   ]
  },
  {
   "cell_type": "code",
   "execution_count": 23,
   "id": "2c90f366-1fd2-4798-9d13-e48cb3dcbf01",
   "metadata": {},
   "outputs": [
    {
     "name": "stdout",
     "output_type": "stream",
     "text": [
      "'monte_carlo_pi_bodo' 0.033998 s\n"
     ]
    },
    {
     "data": {
      "text/plain": [
       "3.145188"
      ]
     },
     "execution_count": 23,
     "metadata": {},
     "output_type": "execute_result"
    }
   ],
   "source": [
    "monte_carlo_pi_bodo(1000000)"
   ]
  },
  {
   "cell_type": "code",
   "execution_count": null,
   "id": "c6f5e6b5-a2de-45fb-a01a-faaa71f17561",
   "metadata": {},
   "outputs": [],
   "source": []
  }
 ],
 "metadata": {
  "kernelspec": {
   "display_name": "Python 3",
   "language": "python",
   "name": "python3"
  },
  "language_info": {
   "codemirror_mode": {
    "name": "ipython",
    "version": 3
   },
   "file_extension": ".py",
   "mimetype": "text/x-python",
   "name": "python",
   "nbconvert_exporter": "python",
   "pygments_lexer": "ipython3",
   "version": "3.8.10"
  }
 },
 "nbformat": 4,
 "nbformat_minor": 5
}
