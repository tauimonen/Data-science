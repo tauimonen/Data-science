{
 "cells": [
  {
   "cell_type": "code",
   "execution_count": 1,
   "id": "636a9b0e-7f58-416c-8359-00d07ddb4053",
   "metadata": {},
   "outputs": [
    {
     "name": "stdout",
     "output_type": "stream",
     "text": [
      "Collecting psycopg2\n",
      "  Downloading psycopg2-2.9.3-cp38-cp38-win_amd64.whl (1.1 MB)\n",
      "Installing collected packages: psycopg2\n",
      "Successfully installed psycopg2-2.9.3\n"
     ]
    }
   ],
   "source": [
    "!pip install psycopg2"
   ]
  },
  {
   "cell_type": "code",
   "execution_count": 2,
   "id": "836c814e-0dee-4068-9889-65522ebfedf7",
   "metadata": {},
   "outputs": [],
   "source": [
    "import psycopg2"
   ]
  },
  {
   "cell_type": "code",
   "execution_count": 8,
   "id": "3034d5af-774f-49aa-9950-cacb60c68683",
   "metadata": {},
   "outputs": [],
   "source": [
    "# Create connection to the database.\n",
    "\n",
    "try:\n",
    "    conn = psycopg2.connect(\"host=localhost dbname=mytestdb user=postgres password='sokea r33tta_6006'\")\n",
    "except psycopg2.Error as e:\n",
    "    print(\"Error: Could not make connection to the Postgres database\")\n",
    "    print(e)"
   ]
  },
  {
   "cell_type": "code",
   "execution_count": 9,
   "id": "850a8681-1822-45cb-8e02-41ee14eb78db",
   "metadata": {},
   "outputs": [],
   "source": [
    "# Use the connection to get a cursor that can be used to execute queries.\n",
    "\n",
    "try: \n",
    "    cur = conn.cursor()\n",
    "except psycopg2.Error as e:\n",
    "    print(\"Error: Could not get cursor to the database\")\n",
    "    print(e)"
   ]
  },
  {
   "cell_type": "code",
   "execution_count": 10,
   "id": "4bb0ac37-13c3-4d73-8d8a-7a94dadb5fe5",
   "metadata": {},
   "outputs": [],
   "source": [
    "# Set automatic commit to be true so that each action is committed without \n",
    "# having to call conn.commit() after each commit.\n",
    "\n",
    "conn.set_session(autocommit=True)"
   ]
  },
  {
   "cell_type": "raw",
   "id": "3eba94c6-1525-4b47-9538-a35687c8e226",
   "metadata": {},
   "source": [
    "\"\"\" It's now possible to create database (commented out, because I have one)\n",
    "try:\n",
    "    cur.execute(\"CREATE DATABASE mydb\")\n",
    "except psycopg2.Error as e: \n",
    "    print(e)\n",
    "\"\"\""
   ]
  },
  {
   "cell_type": "code",
   "execution_count": 12,
   "id": "d6713075-edc6-4a3f-af0b-2fc44f917000",
   "metadata": {},
   "outputs": [],
   "source": [
    "# Create a students table\n",
    "try:\n",
    "    cur.execute(\"CREATE TABLE IF NOT EXISTS students (student_id int, name varchar(50),\\\n",
    "    age int, gender varchar, subject varchar, marks int);\")\n",
    "except psycopg2.Error as e:\n",
    "    print(\"Error: Issue creating table\")\n",
    "    print(e)"
   ]
  },
  {
   "cell_type": "code",
   "execution_count": 22,
   "id": "2bec73b6-ae88-4580-90b2-26cc694e2f98",
   "metadata": {
    "tags": []
   },
   "outputs": [],
   "source": [
    "# Insert data to the table\n",
    "try:\n",
    "    cur.execute(\"INSERT INTO students (student_id, name, age, gender, subject, marks) \\\n",
    "    VALUES (1, 'Raj', 23, 'Male', 'Python', 85)\")\n",
    "except psycopg2.Error as e:\n",
    "    print(\"Error: Inserting rows\")\n",
    "    print(e)"
   ]
  },
  {
   "cell_type": "code",
   "execution_count": 23,
   "id": "efb009cc-b676-436e-8ae7-45510a13b691",
   "metadata": {},
   "outputs": [],
   "source": [
    "try:\n",
    "    cur.execute(\"INSERT INTO students (student_id, name, age, gender, subject, marks) \\\n",
    "    VALUES (2, 'Priya', 22, 'Female', 'Python', 86);\")\n",
    "except psycopg2.Error as e:\n",
    "    print(\"Error: Inserting rows\")\n",
    "    print(e)"
   ]
  },
  {
   "cell_type": "code",
   "execution_count": 24,
   "id": "c44ec200-0b1c-43ea-8956-581cb2bb8ac2",
   "metadata": {},
   "outputs": [
    {
     "name": "stdout",
     "output_type": "stream",
     "text": [
      "(1, 'Raj', 23, 'Male', 'Python', 85)\n",
      "(2, 'Priya', 22, 'Female', 'Python', 86)\n"
     ]
    }
   ],
   "source": [
    "# Validate that your data was inserted into the table.\n",
    "\n",
    "try:\n",
    "    cur.execute(\"SELECT * FROM students;\")\n",
    "except psycopg2.Error as e:\n",
    "    print(\"Error: Select *\")\n",
    "    print(e)\n",
    "row = cur.fetchone()\n",
    "while row:\n",
    "    print(row)\n",
    "    row = cur.fetchone()"
   ]
  },
  {
   "cell_type": "code",
   "execution_count": 25,
   "id": "d45dfc16-83e4-4123-9ddf-cbaef2aac50e",
   "metadata": {},
   "outputs": [],
   "source": [
    "# Close cursor and connection\n",
    "cur.close()\n",
    "conn.close()"
   ]
  },
  {
   "cell_type": "code",
   "execution_count": null,
   "id": "3760732b-56c0-47fb-994b-69b9ee32e806",
   "metadata": {},
   "outputs": [],
   "source": []
  }
 ],
 "metadata": {
  "kernelspec": {
   "display_name": "Python 3",
   "language": "python",
   "name": "python3"
  },
  "language_info": {
   "codemirror_mode": {
    "name": "ipython",
    "version": 3
   },
   "file_extension": ".py",
   "mimetype": "text/x-python",
   "name": "python",
   "nbconvert_exporter": "python",
   "pygments_lexer": "ipython3",
   "version": "3.8.10"
  }
 },
 "nbformat": 4,
 "nbformat_minor": 5
}
