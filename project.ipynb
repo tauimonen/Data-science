{
 "cells": [
  {
   "cell_type": "markdown",
   "metadata": {},
   "source": [
    "# Sequence Analysis with Python\n",
    "\n",
    "Contact: Veli Mäkinen veli.makinen@helsinki.fi"
   ]
  },
  {
   "cell_type": "markdown",
   "metadata": {},
   "source": [
    "The following assignments introduce applications of hashing with ```dict()``` primitive of Python. While doing so, a rudimentary introduction to biological sequences is given. \n",
    "This framework is then enhanced with probabilities, leading to routines to generate random sequences under some constraints, including a general concept of *Markov-chains*. All these components illustrate the usage of ```dict()```, but at the same time introduce some other computational routines to efficiently deal with probabilities.   \n",
    "The function ```collections.defaultdict``` can be useful.\n",
    "\n",
    "Below are some \"suggested\" imports. Feel free to use and modify these, or not. Generally it's good practice to keep most or all imports in one place. Typically very close to the start of notebooks."
   ]
  },
  {
   "cell_type": "code",
   "execution_count": 3,
   "metadata": {
    "ExecuteTime": {
     "end_time": "2019-07-08T22:04:22.831112Z",
     "start_time": "2019-07-08T22:04:22.688031Z"
    }
   },
   "outputs": [],
   "source": [
    "from itertools import product\r\n",
    "import pandas as pd\r\n",
    "import numpy as np\r\n",
    "from numpy.random import choice\r\n",
    "from bs4 import BeautifupSoup\r\n",
    "import re\r\n",
    "from collections import Counter\r\n",
    "import itertools"
   ]
  },
  {
   "cell_type": "markdown",
   "metadata": {},
   "source": [
    "The automated TMC tests do not test cell outputs. These are intended to be evaluated in the peer reviews. So it is still be a good idea to make the outputs as clear and informative as possible.\n",
    "\n",
    "To keep TMC tests running as well as possible it is recommended to keep global variable assignments in the notebook to a minimum to avoid potential name clashes and confusion. Additionally you should keep all actual code exection in main guards to keep the test running smoothly. If you run [check_sequence.py](https://raw.githubusercontent.com/saskeli/data-analysis-with-python-summer-2019/master/check_outputs.py) in the `part07-e01_sequence_analysis` folder, the script should finish very quickly and optimally produce no output.\n",
    "\n",
    "If you download data from the internet during execution (codon usage table), the parts where downloading is done should not work if you decide to submit to the tmc server. Local tests should work fine."
   ]
  },
  {
   "cell_type": "markdown",
   "metadata": {},
   "source": [
    "## DNA and RNA\n",
    "\n",
    "A DNA molecule consist, in principle, of a chain of smaller molecules. These smaller molecules have some common basic components (bases) that repeat. For our purposes it is sufficient to know that these bases are nucleotides adenine, cytosine, guanine, and thymine with abbreviations ```A```, ```C```, ```G```, and ```T```. Given a *DNA sequence* e.g. ```ACGATGAGGCTCAT```, one can reverse engineer (with negligible loss of information) the corresponding DNA molecule.\n",
    "\n",
    "Parts of a DNA molecule can *transcribe* into an RNA molecule. In this process, thymine gets replaced by uracil (```U```). \n",
    "\n",
    "\n",
    "1. Write a function ```dna_to_rna``` to convert a given DNA sequence $s$ into an RNA sequence. For the sake of exercise, use ```dict()``` to store the symbol to symbol encoding rules. Create a program to test your function."
   ]
  },
  {
   "cell_type": "code",
   "execution_count": 4,
   "metadata": {
    "ExecuteTime": {
     "end_time": "2019-07-08T22:04:22.841952Z",
     "start_time": "2019-07-08T22:04:22.834721Z"
    }
   },
   "outputs": [
    {
     "name": "stdout",
     "output_type": "stream",
     "text": [
      "AACGUGAUUUG\n",
      "Test is passed.\n"
     ]
    }
   ],
   "source": [
    "def dna_to_rna(s):\r\n",
    "    \"\"\"\r\n",
    "    Converting DNA sequence to RNA sequence. Function returns a RNA sequence, if input\r\n",
    "    is valid and error message if not.\r\n",
    "    param: String\r\n",
    "    return: String\r\n",
    "    \"\"\"\r\n",
    "    try:\r\n",
    "        if len(s) == 0:\r\n",
    "            return \"\"\r\n",
    "        elif len(s) > 0:\r\n",
    "            switcher = {\"A\" : \"A\",\r\n",
    "                    \"C\" : \"C\",\r\n",
    "                    \"G\" : \"G\",\r\n",
    "                    \"T\" : \"U\" }\r\n",
    "            return \"\".join(switcher.get(x) for x in s)\r\n",
    "        else: return \"Not a valid DNA sequence\" \r\n",
    "    except:\r\n",
    "        return \"Not a valid DNA sequence\" \r\n",
    "    \r\n",
    "def test_dna_to_rna():\r\n",
    "    \"\"\"\r\n",
    "    Function to test if the dna_to_rna fuction returns a valid output.\r\n",
    "    \"\"\"\r\n",
    "\r\n",
    "    def output_test():\r\n",
    "        \"\"\"\r\n",
    "        Testing if the conversion is valid.\r\n",
    "        \"\"\"\r\n",
    "        if dna_to_rna(\"AACGTGATTTG\") == \"AACGUGAUUUG\":\r\n",
    "            return True\r\n",
    "        else: return False\r\n",
    "    \r\n",
    "    def empty_input_test():\r\n",
    "        \"\"\"\r\n",
    "        Testing error with empty input.\r\n",
    "        \"\"\"\r\n",
    "        if dna_to_rna(\"\") != \"\":\r\n",
    "            return False\r\n",
    "        else: return True\r\n",
    "    \r\n",
    "    def wrong_input_test():\r\n",
    "        \"\"\"\r\n",
    "        Testing with wrong input.\r\n",
    "        \"\"\"\r\n",
    "        if dna_to_rna(\"abc\") != \"Not a valid DNA sequence\":\r\n",
    "            return False\r\n",
    "        else: return True\r\n",
    "        \r\n",
    "    # Printing if test has passed or failed.\r\n",
    "    if output_test() == True and empty_input_test() == True and wrong_input_test() == True:\r\n",
    "        print(\"Test is passed.\")\r\n",
    "    else: print(\"Test failed.\")\r\n",
    "    \r\n",
    "\r\n",
    "if __name__ == '__main__':\r\n",
    "    # Printing output\r\n",
    "    print(dna_to_rna(\"AACGTGATTTG\"))\r\n",
    "    # Running the test\r\n",
    "    test_dna_to_rna()\r\n",
    "        \r\n"
   ]
  },
  {
   "cell_type": "markdown",
   "metadata": {},
   "source": [
    "### Idea of solution\r\n",
    "\r\n",
    "Converting DNA sequence to RNA sequence with dna_to_rna function. Function returns a RNA sequence, if the input is valid, and error message if not. Funtion test_dna_to_rna acts as a test program and prints if the test is passed or not. Commenting describes more about how functions work."
   ]
  },
  {
   "cell_type": "markdown",
   "metadata": {},
   "source": [
    "### Discussion\r\n",
    "\r\n",
    "Result with the given AACGTGATTTG DNA sequence gives RNA result AACGUGAUUUG and \"Test is passed\" information. I did not make the test more comprehensive because the exact requirements had not been defined."
   ]
  },
  {
   "cell_type": "markdown",
   "metadata": {},
   "source": [
    "## Proteins\r\n",
    "\r\n",
    "Like DNA and RNA, protein molecule can be interpreted as a chain of smaller molecules, where the bases are now amino acids. RNA molecule may *translate* into a protein molecule, but instead of base by base, three bases of RNA correspond to one base of protein. That is, RNA sequence is read triplet (called codon) at a time. \r\n",
    "\r\n",
    "2. Consider the codon to amino acid conversion table in http://htmlpreview.github.io/?https://github.com/csmastersUH/data_analysis_with_python_2020/blob/master/Codon%20usage%20table.html. Write a function ```get_dict``` to read the table into a ```dict()```, such that for each RNA sequence of length 3, say $\\texttt{AGU}$, the hash table stores the conversion rule to the corresponding amino acid. You may store the html page to your local src directory,\r\n",
    "and parse that file."
   ]
  },
  {
   "cell_type": "code",
   "execution_count": 5,
   "metadata": {
    "ExecuteTime": {
     "end_time": "2019-07-08T22:04:22.867855Z",
     "start_time": "2019-07-08T22:04:22.845885Z"
    }
   },
   "outputs": [
    {
     "name": "stdout",
     "output_type": "stream",
     "text": [
      "{'UUU': 'F', 'UCU': 'S', 'UAU': 'Y', 'UGU': 'C', 'UUC': 'F', 'UCC': 'S', 'UAC': 'Y', 'UGC': 'C', 'UUA': 'L', 'UCA': 'S', 'UAA': '*', 'UGA': '*', 'UUG': 'L', 'UCG': 'S', 'UAG': '*', 'UGG': 'W', 'CUU': 'L', 'CCU': 'P', 'CAU': 'H', 'CGU': 'R', 'CUC': 'L', 'CCC': 'P', 'CAC': 'H', 'CGC': 'R', 'CUA': 'L', 'CCA': 'P', 'CAA': 'Q', 'CGA': 'R', 'CUG': 'L', 'CCG': 'P', 'CAG': 'Q', 'CGG': 'R', 'AUU': 'I', 'ACU': 'T', 'AAU': 'N', 'AGU': 'S', 'AUC': 'I', 'ACC': 'T', 'AAC': 'N', 'AGC': 'S', 'AUA': 'I', 'ACA': 'T', 'AAA': 'K', 'AGA': 'R', 'AUG': 'M', 'ACG': 'T', 'AAG': 'K', 'AGG': 'R', 'GUU': 'V', 'GCU': 'A', 'GAU': 'D', 'GGU': 'G', 'GUC': 'V', 'GCC': 'A', 'GAC': 'D', 'GGC': 'G', 'GUA': 'V', 'GCA': 'A', 'GAA': 'E', 'GGA': 'G', 'GUG': 'V', 'GCG': 'A', 'GAG': 'E', 'GGG': 'G'}\n",
      "Key-value pairs in the dict: 64\n"
     ]
    }
   ],
   "source": [
    "def get_dict():\r\n",
    "    \"\"\"\r\n",
    "    Function opens the Codon usage table and converts it to a dictionary, where \r\n",
    "    dict key is a RNA triplet sequence and value corresponding amino acid.\r\n",
    "    Return: dict\r\n",
    "    \"\"\"\r\n",
    "    \r\n",
    "    # Open the html file\r\n",
    "    with open(\"Codon usage table.html\") as fp:\r\n",
    "        soup = BeautifulSoup(fp, \"html.parser\")\r\n",
    "\r\n",
    "    # Create conversion dict \r\n",
    "    data = []\r\n",
    "    conversion_dict = {}\r\n",
    "    for row in soup.pre:\r\n",
    "        data.append(row)\r\n",
    "    rows = []\r\n",
    "    data = data[0].split(\")\")\r\n",
    "    for row in data:\r\n",
    "        rows.append(row.strip())\r\n",
    "    for r in rows:\r\n",
    "        r.strip()\r\n",
    "        splitted = r.split(\" \")\r\n",
    "        if splitted[0] and splitted[1]:\r\n",
    "            dna = splitted[0].replace(\" \", \"\")\r\n",
    "            amino_acid = splitted[1].replace(\" \", \"\")\r\n",
    "            conversion_dict[dna] = amino_acid\r\n",
    "\r\n",
    "    return conversion_dict\r\n",
    "\r\n",
    "    \r\n",
    "if __name__ == '__main__':\r\n",
    "    codon_to_aa = get_dict()\r\n",
    "    print(codon_to_aa)\r\n",
    "\r\n",
    "    # Testing if the key-value paircount is right:\r\n",
    "    print(f\"Key-value pairs in the dict: {len(codon_to_aa)}\")"
   ]
  },
  {
   "cell_type": "markdown",
   "metadata": {},
   "source": [
    "### Idea of solution\r\n",
    "\r\n",
    "Function get_dict opens the Codon usage table and converts it to a dictionary, where dict key is a RNA triplet sequence and value is corresponding amino acid. Codon usage table.html is saved in the src and function uses the BeatifulSoup library to parse the html file. Function then separates the needed values and creates and returns the conversion dict."
   ]
  },
  {
   "cell_type": "markdown",
   "metadata": {},
   "source": [
    "### Discussion\r\n",
    "\r\n",
    "Variable codon_to_aa gets dict from get_dict function and then prints it. Dict keys are RNA triplet sequences and values are corresponding amino acids. Total count of key-value pairs is 64, which is right, because the possibility of different combinations is 64 (4 * 4 * 4 = 64)."
   ]
  },
  {
   "cell_type": "markdown",
   "metadata": {},
   "source": [
    "3. Use the same conversion table as above, but now write function `get_dict_list` to read the table into a `dict()`, such that for each amino acid the hash table stores the list of codons encoding it.    "
   ]
  },
  {
   "cell_type": "code",
   "execution_count": 9,
   "metadata": {
    "ExecuteTime": {
     "end_time": "2019-07-08T22:04:22.882386Z",
     "start_time": "2019-07-08T22:04:22.872449Z"
    }
   },
   "outputs": [
    {
     "name": "stdout",
     "output_type": "stream",
     "text": [
      "{'F': ['UUU', 'UUC'], 'S': ['UCU', 'UCC', 'UCA', 'UCG', 'AGU', 'AGC'], 'Y': ['UAU', 'UAC'], 'C': ['UGU', 'UGC'], 'L': ['UUA', 'UUG', 'CUU', 'CUC', 'CUA', 'CUG'], '*': ['UAA', 'UGA', 'UAG'], 'W': ['UGG'], 'P': ['CCU', 'CCC', 'CCA', 'CCG'], 'H': ['CAU', 'CAC'], 'R': ['CGU', 'CGC', 'CGA', 'CGG', 'AGA', 'AGG'], 'Q': ['CAA', 'CAG'], 'I': ['AUU', 'AUC', 'AUA'], 'T': ['ACU', 'ACC', 'ACA', 'ACG'], 'N': ['AAU', 'AAC'], 'K': ['AAA', 'AAG'], 'M': ['AUG'], 'V': ['GUU', 'GUC', 'GUA', 'GUG'], 'A': ['GCU', 'GCC', 'GCA', 'GCG'], 'D': ['GAU', 'GAC'], 'G': ['GGU', 'GGC', 'GGA', 'GGG'], 'E': ['GAA', 'GAG']}\n",
      "Count_of_the RNA_triplets: 64\n",
      "Count of amino acids: 20 (not including '*')\n"
     ]
    }
   ],
   "source": [
    "def get_dict_list():\r\n",
    "    \"\"\"\r\n",
    "    The unction gets dict from the function get_dict and switches its keys and values. \r\n",
    "    For each amino acid the hash table stores the list of codons encoding it.\r\n",
    "    Return: dict\r\n",
    "    \"\"\"\r\n",
    "    codon_to_aa = get_dict()\r\n",
    "    aa_to_codon = {}\r\n",
    "    \r\n",
    "    for key, value in codon_to_aa.items():\r\n",
    "        if value not in aa_to_codon:\r\n",
    "            aa_to_codon[value] = [key]\r\n",
    "        else:\r\n",
    "            aa_to_codon[value].append(key)\r\n",
    "    \r\n",
    "    return aa_to_codon\r\n",
    "    \r\n",
    "    \r\n",
    "if __name__ == '__main__':\r\n",
    "    aa_to_codons = get_dict_list()\r\n",
    "    print(aa_to_codons)\r\n",
    "    \r\n",
    "    # Testing if the count of RNA triplets is still 64:\r\n",
    "    sum_of_RNA_triplets = 0\r\n",
    "    for k , v in aa_to_codons.items():\r\n",
    "        sum_of_RNA_triplets += len(v)\r\n",
    "    print(f\"Count_of_the RNA_triplets: {sum_of_RNA_triplets}\")\r\n",
    "    print(f\"Count of amino acids: {len(aa_to_codons) - 1} (not including '*')\")\r\n"
   ]
  },
  {
   "cell_type": "markdown",
   "metadata": {},
   "source": [
    "### Idea of solution\r\n",
    "\r\n",
    "Function get_dict_list gets dict from function codon_to_aa and switches its keys and values. For each amino acid the hash table stores the list of codons encoding it."
   ]
  },
  {
   "cell_type": "markdown",
   "metadata": {},
   "source": [
    "### Discussion\r\n",
    "\r\n",
    "\r\n",
    "Variable aa_to_codons gets a dict from get_dict_list function and and switches its keys and values. For each amino acid the hash table stores the list of codons encoding it. Total count of the values (RNA sequence triplets) in lists is 64, which is right, because the possibility of different combinations is 64 (4 * 4 * 4 = 64). Count of amino acids is 20, which is right (not including '*')."
   ]
  },
  {
   "cell_type": "markdown",
   "metadata": {},
   "source": [
    "With the conversion tables at hand, the following should be trivial to solve.\n",
    "\n",
    "4. Fill in function ```rna_to_prot``` in the stub solution to convert a given DNA sequence $s$ into a protein sequence. \n",
    "You may use the dictionaries from exercises 2 and 3. You can test your program with `ATGATATCATCGACGATGTAG`."
   ]
  },
  {
   "cell_type": "code",
   "execution_count": 10,
   "metadata": {
    "ExecuteTime": {
     "end_time": "2019-07-08T22:04:22.913321Z",
     "start_time": "2019-07-08T22:04:22.906646Z"
    }
   },
   "outputs": [
    {
     "name": "stdout",
     "output_type": "stream",
     "text": [
      "MISSTM*\n"
     ]
    }
   ],
   "source": [
    "def rna_to_prot(s):\r\n",
    "    \"\"\"\r\n",
    "    Using regex to find all the RNA triplets from the parameter RNA sequence and then \r\n",
    "    converting them to corresponding protein sequence.\r\n",
    "    Param: String\r\n",
    "    Return: String\r\n",
    "    \"\"\"\r\n",
    "    \r\n",
    "    n = 3 # triplet lenght\r\n",
    "    rna_triplets = re.findall('...', s)\r\n",
    "    d = get_dict()\r\n",
    "    protein_sequence_list = []\r\n",
    "    \r\n",
    "    # Finding corresponding amino acids from dict.\r\n",
    "    for x in rna_triplets:\r\n",
    "        amino_acid = d[x] \r\n",
    "        protein_sequence_list.append(amino_acid)\r\n",
    "    \r\n",
    "    # Joining the list of amino acids to a protein sequence.\r\n",
    "    protein_sequence = ''.join(protein_sequence_list)\r\n",
    "    \r\n",
    "    return protein_sequence\r\n",
    "\r\n",
    "\r\n",
    "def dna_to_prot(s):\r\n",
    "    if len(s) % 3 != 0 or len(s) == 0:\r\n",
    "        return \"\"\r\n",
    "    else: return rna_to_prot(dna_to_rna(s))\r\n",
    "\r\n",
    "\r\n",
    "if __name__ == '__main__':\r\n",
    "    print(dna_to_prot(\"ATGATATCATCGACGATGTAG\"))\r\n"
   ]
  },
  {
   "cell_type": "markdown",
   "metadata": {},
   "source": [
    "### Idea of solution\r\n",
    "\r\n",
    "Function rna_to_prot is using regex to find all the RNA triplets from the parameter RNA sequence and then converting and returning them at the corresponding protein sequence. Function dna_to_prot uses function rna_to_prot with a parameter which is first converted RNA. If parameter s doesn't have the right sequence length, the function returns an empty string. "
   ]
  },
  {
   "cell_type": "markdown",
   "metadata": {},
   "source": [
    "### Discussion\r\n",
    "\r\n",
    "When using function dna_to_prot with parameter DNA sequence\"ATGATATCATCGACGATGTAG\", the printed output is \"MISSTM*\". I used a tool which allows the translation of a nucleotide (DNA/RNA) sequence to a protein sequence in https://fi.bab.la/sanakirja/englanti-suomi/utility to check the result and it was correct."
   ]
  },
  {
   "cell_type": "markdown",
   "metadata": {},
   "source": [
    "You may notice that there are $4^3=64$ different codons, but only 20 amino acids. That is, some triplets encode the same amino acid.  "
   ]
  },
  {
   "cell_type": "markdown",
   "metadata": {},
   "source": [
    "## Reverse translation\r\n",
    "\r\n",
    "It has been observed that among the codons coding the same amino acid, some are more frequent than others. These frequencies can be converted to probabilities. E.g. consider codons `AUU`, `AUC`, and `AUA` that code for amino acid isoleucine.\r\n",
    "If they are observed, say, 36, 47, 17 times, respectively, to code isoleucine in a dataset, the probability that a random such event is `AUU` $\\to$ isoleucine is 36/100.\r\n",
    "\r\n",
    "This phenomenon is called *codon adaptation*, and for our purposes it works as a good introduction to generation of random sequences under constraints.   \r\n",
    "\r\n",
    "5. Consider the codon adaptation frequencies in http://htmlpreview.github.io/?https://github.com/csmastersUH/data_analysis_with_python_2020/blob/master/Codon%20usage%20table.html and read them into a ```dict()```, such that for each RNA sequence of length 3, say `AGU`, the hash table stores the probability of that codon among codons encoding the same amino acid.\r\n",
    "Put your solution in the ```get_probabability_dict``` function. Use the column \"([number])\" to estimate the probabilities, as the two preceding columns contain truncated values.  "
   ]
  },
  {
   "cell_type": "code",
   "execution_count": 11,
   "metadata": {
    "ExecuteTime": {
     "end_time": "2019-07-08T22:04:22.966173Z",
     "start_time": "2019-07-08T22:04:22.956013Z"
    }
   },
   "outputs": [
    {
     "name": "stdout",
     "output_type": "stream",
     "text": [
      "AAA: 0.434049\tAAC: 0.529633\tAAG: 0.565951\tAAU: 0.470367\tACA: 0.284188\tACC: 0.355232\n",
      "ACG: 0.113812\tACU: 0.246769\tAGA: 0.214658\tAGC: 0.239938\tAGG: 0.211091\tAGU: 0.149602\n",
      "AUA: 0.169062\tAUC: 0.469866\tAUG: 1.000000\tAUU: 0.361072\tCAA: 0.265017\tCAC: 0.581485\n",
      "CAG: 0.734983\tCAU: 0.418515\tCCA: 0.276603\tCCC: 0.323470\tCCG: 0.113196\tCCU: 0.286731\n",
      "CGA: 0.108812\tCGC: 0.183777\tCGG: 0.201554\tCGU: 0.080108\tCUA: 0.071380\tCUC: 0.195577\n",
      "CUG: 0.395702\tCUU: 0.131716\tGAA: 0.422453\tGAC: 0.535458\tGAG: 0.577547\tGAU: 0.464542\n",
      "GCA: 0.228121\tGCC: 0.399781\tGCG: 0.106176\tGCU: 0.265922\tGGA: 0.249922\tGGC: 0.337109\n",
      "GGG: 0.249882\tGGU: 0.163087\tGUA: 0.116577\tGUC: 0.238306\tGUG: 0.463346\tGUU: 0.181770\n",
      "UAA: 0.297019\tUAC: 0.556662\tUAG: 0.236738\tUAU: 0.443338\tUCA: 0.150517\tUCC: 0.217960\n",
      "UCG: 0.054398\tUCU: 0.187586\tUGA: 0.466243\tUGC: 0.543843\tUGG: 1.000000\tUGU: 0.456157\n",
      "UUA: 0.076568\tUUC: 0.535866\tUUG: 0.129058\tUUU: 0.464134\n"
     ]
    }
   ],
   "source": [
    "\r\n",
    "def get_probabability_dict():\r\n",
    "    \"\"\"\r\n",
    "    Function opens the Codon usage table and converts it to a Pandas DataFrame.\r\n",
    "    It's then grouped by amino acid and the probalities are calculed. \r\n",
    "    Function creates a hash table rna_prob where the amino acid - probability \r\n",
    "    -pairs are stored.\r\n",
    "    \"\"\"\r\n",
    "    # Open the html file\r\n",
    "    with open(\"Codon usage table.html\") as fp:\r\n",
    "        soup = BeautifulSoup(fp, \"html.parser\")\r\n",
    "\r\n",
    "    # Creating Pandas Dataframae\r\n",
    "    data = []\r\n",
    "    for row in soup.pre:\r\n",
    "        data.append(row)\r\n",
    "    rows = []\r\n",
    "    data = data[0].split(\")\")\r\n",
    "    for row in data:\r\n",
    "        row = row.replace(\"(\", \"\")\r\n",
    "        row = row.strip()\r\n",
    "        row = row.replace(\"  \", \" \")\r\n",
    "        splitted = row.split(\" \")\r\n",
    "        rows.append(splitted)\r\n",
    "    \r\n",
    "    df = pd.DataFrame(rows, columns=[\"triplet\", \"amino acid\", \"fraction\", \"frequency\", \"number\"])\r\n",
    "    df = df.dropna()\r\n",
    "    \r\n",
    "    # Changing 'number' column datatype\r\n",
    "    df[\"number\"] = df[\"number\"].astype(int)\r\n",
    "    \r\n",
    "    # Grouping by amino acid\r\n",
    "    groups = df.groupby(\"amino acid\")\r\n",
    "    \r\n",
    "    # Create dict amino acid - total count -pair\r\n",
    "    total_counts = {}\r\n",
    "    for key, group in groups:\r\n",
    "        total_counts[key] = group.number.sum()\r\n",
    "\r\n",
    "    rna_prob = {}\r\n",
    "    \r\n",
    "    # Iterating through dataframe and calculating probabilities\r\n",
    "    for index, row in df.iterrows():\r\n",
    "        triplet = row[\"triplet\"]\r\n",
    "        number = row[\"number\"]\r\n",
    "        aa = row[\"amino acid\"]\r\n",
    "        rna_prob[triplet] = (number / total_counts[aa])\r\n",
    "    \r\n",
    "    return rna_prob\r\n",
    "    \r\n",
    "    \r\n",
    "if __name__ == '__main__':\r\n",
    "    codon_to_prob = get_probabability_dict()\r\n",
    "    items = sorted(codon_to_prob.items(), key=lambda x: x[0])\r\n",
    "    for i in range(1 + len(items)//6):\r\n",
    "        print(\"\\t\".join(\r\n",
    "            f\"{k}: {v:.6f}\"\r\n",
    "            for k, v in items[i*6:6+i*6]\r\n",
    "        ))"
   ]
  },
  {
   "cell_type": "markdown",
   "metadata": {},
   "source": [
    "### Idea of solution\r\n",
    "\r\n",
    "The function opens the Codon usage table and converts it to a Pandas DataFrame. It's then grouped by amino acid and the probabilities are calculated. The function creates a hash table (dict) rna_prob where the amino acid - probability -pairs are stored. "
   ]
  },
  {
   "cell_type": "markdown",
   "metadata": {},
   "source": [
    "### Discussion\r\n",
    "\r\n",
    "Variable codon_to_prob gets the hash table from the function get_probabability_dict. The hash table stores the probability of that codon among codons encoding the same amino acid and the content of it is printed."
   ]
  },
  {
   "cell_type": "markdown",
   "metadata": {},
   "source": [
    "Now you should have everything in place to easily solve the following.\n",
    "\n",
    "\n",
    "6. Write a class ```ProteinToMaxRNA``` with a ```convert``` method which converts a protein sequence into the most likely RNA sequence to be the source of this protein. Run your program with `LTPIQNRA`."
   ]
  },
  {
   "cell_type": "code",
   "execution_count": 12,
   "metadata": {
    "ExecuteTime": {
     "end_time": "2019-07-08T22:04:23.000743Z",
     "start_time": "2019-07-08T22:04:22.992108Z"
    }
   },
   "outputs": [
    {
     "name": "stdout",
     "output_type": "stream",
     "text": [
      "CUGACCCCCAUCCAGAACAGAGCC\n"
     ]
    }
   ],
   "source": [
    "class ProteinToMaxRNA:\r\n",
    "    \r\n",
    "    def __init__(self):\r\n",
    "        pass\r\n",
    "    \r\n",
    "    \r\n",
    "    def get_df(self):\r\n",
    "        \"\"\"\r\n",
    "        The function opens the Codon usage table and converts it to a Pandas DataFrame. Function adds \r\n",
    "        a new column 'prob' (probability) to the DataFrame by using function get_probabability_dict.\r\n",
    "        Return: DataFrame\r\n",
    "        \"\"\"\r\n",
    "        # Open the html file\r\n",
    "        with open(\"Codon usage table.html\") as fp:\r\n",
    "            soup = BeautifulSoup(fp, \"html.parser\")\r\n",
    "\r\n",
    "        # Creating Pandas Dataframae\r\n",
    "        data = []\r\n",
    "        for row in soup.pre:\r\n",
    "            data.append(row)\r\n",
    "        rows = []\r\n",
    "        data = data[0].split(\")\")\r\n",
    "        for row in data:\r\n",
    "            row = row.replace(\"(\", \"\")\r\n",
    "            row = row.strip()\r\n",
    "            row = row.replace(\"  \", \" \")\r\n",
    "            splitted = row.split(\" \")\r\n",
    "            rows.append(splitted)\r\n",
    "\r\n",
    "        df = pd.DataFrame(rows, columns=[\"triplet\", \"amino acid\", \"fraction\", \"frequency\", \"number\"])\r\n",
    "        df = df.dropna()\r\n",
    "\r\n",
    "        # Changing 'number' column datatype\r\n",
    "        df[\"number\"] = df[\"number\"].astype(int)\r\n",
    "        \r\n",
    "        prob = get_probabability_dict()\r\n",
    "        \r\n",
    "        df[\"prob\"] = df[\"triplet\"].map(prob)\r\n",
    "          \r\n",
    "        return df\r\n",
    "    \r\n",
    "    \r\n",
    "    def convert(self, s):  \r\n",
    "        \"\"\"\r\n",
    "        The function converts protein sequence into the most likely RNA sequence to be the source \r\n",
    "        of this protein. Function uses function get_df to get Codon usage table as a DataFrame.\r\n",
    "        Param: String\r\n",
    "        Return: String\r\n",
    "        \"\"\"\r\n",
    "        \r\n",
    "        df = self.get_df()\r\n",
    "        aa_list = list(s)\r\n",
    "        \r\n",
    "        # Grouping by amino acid and finding the biggest corresponding probability value\r\n",
    "        idx = df.groupby(['amino acid'])['prob'].transform(max) == df['prob']\r\n",
    "        max_rna = []\r\n",
    "        a = df[idx]\r\n",
    " \r\n",
    "        # Iterating through amino acids and finding correct RNA triplet\r\n",
    "        for aa in aa_list:\r\n",
    "            rna = a[a[\"amino acid\"] == aa].triplet.to_string()\r\n",
    "            rna = re.findall('[A-Z]{3}', rna)\r\n",
    "            max_rna.append(rna)\r\n",
    " \r\n",
    "        l = sum(max_rna, [])\r\n",
    "        result = \"\".join(l)\r\n",
    "        \r\n",
    "        return result\r\n",
    "\r\n",
    "\r\n",
    "if __name__ == '__main__':\r\n",
    "    protein_to_rna = ProteinToMaxRNA()\r\n",
    "    print(protein_to_rna.convert(\"LTPIQNRA\")) # \"CUGACCCCCAUCCAGAACAGAGCC\""
   ]
  },
  {
   "cell_type": "markdown",
   "metadata": {},
   "source": [
    "### Idea of solution\r\n",
    "\r\n",
    "The get_df function opens the Codon usage table and converts it to a Pandas DataFrame. Function adds a new column 'prob' (probability) to the DataFrame by using function get_probabability_dict. The convert function converts protein sequence into the most likely RNA sequence to be the source of this protein. Function uses function get_df to get Codon usage table as a DataFrame."
   ]
  },
  {
   "cell_type": "markdown",
   "metadata": {},
   "source": [
    "### Discussion\r\n",
    "\r\n",
    "Class protein_to_rna is created and then it's using the convert method to convert the protein sequence LTPIQNRA and prints rna sequance UUAACUCCUAUUCAAAAUCGUGCU as a returned result."
   ]
  },
  {
   "cell_type": "markdown",
   "metadata": {},
   "source": [
    "Now we are almost ready to produce random RNA sequences that code a given protein sequence. For this, we need a subroutine to *sample from a probability distribution*. Consider our earlier example of probabilities 36/100, 47/100, and 17/100 for `AUU`, `AUC`, and `AUA`, respectively. \n",
    "Let us assume we have a random number generator ```random()``` that returns a random number from interval $[0,1)$. We may then partition the unit interval according to cumulative probabilities to $[0,36/100), [36/100,83/100), [83/100,1)$, respectively. Depending which interval the number ```random()``` hits, we select the codon accordingly.\n",
    "\n",
    "7. Write a function ```random_event``` that chooses a random event, given a probability distribution (set of events whose probabilities sum to 1).\n",
    "You can use function ```random.uniform``` to produce values uniformly at random from the range $[0,1)$. The distribution should be given to your function as a dictionary from events to their probabilities."
   ]
  },
  {
   "cell_type": "code",
   "execution_count": 13,
   "metadata": {
    "ExecuteTime": {
     "end_time": "2019-07-08T22:04:23.036655Z",
     "start_time": "2019-07-08T22:04:23.030067Z"
    }
   },
   "outputs": [
    {
     "name": "stdout",
     "output_type": "stream",
     "text": [
      "T, T, T, C, T, C, T, G, C, T, C, C, C, T, T, G, C, T, T, C, C, T, T, C, C, G, C, T, C\n"
     ]
    }
   ],
   "source": [
    "def random_event(dist):\r\n",
    "    \"\"\"\r\n",
    "    Takes as input a dictionary from events to their probabilities.\r\n",
    "    Return a random event sampled according to the given distribution.\r\n",
    "    The probabilities must sum to 1.0\r\n",
    "    Param: dict\r\n",
    "    Return: String\r\n",
    "    \"\"\"\r\n",
    "    # Creating a random probability value between 0-1\r\n",
    "    prob = np.random.uniform(size = 1, low = 0, high = 1)\r\n",
    "    \r\n",
    "    # Iterating through dict and summing up the probability values until it is over or even\r\n",
    "    # with the randomly created value. The function then returns the corresponding key, \r\n",
    "    # i.e. the event.\r\n",
    "    p_total = 0\r\n",
    "    for k, p in dist.items():\r\n",
    "        p_total += p\r\n",
    "        if prob <= p_total:\r\n",
    "            return k\r\n",
    "    \r\n",
    "    return next(iter(dist))\r\n",
    "\r\n",
    "if __name__ == '__main__':\r\n",
    "    distribution = dict(zip(\"ACGT\", [0.10, 0.35, 0.15, 0.40]))\r\n",
    "    print(\", \".join(random_event(distribution) for _ in range(29)))"
   ]
  },
  {
   "cell_type": "markdown",
   "metadata": {},
   "source": [
    "### Idea of solution\r\n",
    "\r\n",
    "The function takes as input a dictionary from events to their probabilities. Then a random event is sampled according to the given distribution. The function uses Numpys random.uniform method to create a value between 0-1. Then iterating through dict and summing up the probability values until it is over or even with the randomly created value. The function then returns the corresponding key, i.e. the event."
   ]
  },
  {
   "cell_type": "markdown",
   "metadata": {},
   "source": [
    "### Discussion\r\n",
    "\r\n",
    "Function random_event takes a distribution dict as a parameter and the result is then joined in for-loop and printed.  "
   ]
  },
  {
   "cell_type": "markdown",
   "metadata": {},
   "source": [
    "With this general routine, the following should be easy to solve.\n",
    " \n",
    "8. Write a class ```ProteinToRandomRNA``` to produce a random RNA sequence encoding the input protein sequence according to the input codon adaptation probabilities. The actual conversion is done through the ```convert``` method. Run your program with `LTPIQNRA`."
   ]
  },
  {
   "cell_type": "code",
   "execution_count": 14,
   "metadata": {
    "ExecuteTime": {
     "end_time": "2019-07-08T22:04:23.073660Z",
     "start_time": "2019-07-08T22:04:23.067966Z"
    }
   },
   "outputs": [
    {
     "name": "stdout",
     "output_type": "stream",
     "text": [
      "UUAACACCUAUUCAAAAUCGGGCU\n"
     ]
    }
   ],
   "source": [
    "class ProteinToRandomRNA(object):\r\n",
    "    \"\"\"\r\n",
    "    A class to produce a random RNA sequence encoding the input protein sequence according \r\n",
    "    to the input codon adaptation probabilities. The actual conversion is done through the \r\n",
    "    convert method. \r\n",
    "    \"\"\"\r\n",
    "    \r\n",
    "    def __init__(self):\r\n",
    "        pass\r\n",
    "\r\n",
    "    def convert(self, s):\r\n",
    "        \"\"\"\r\n",
    "        The function converts protein sequence to random RNA sequence with random_event \r\n",
    "        function by using separated triplets and probabilities. The function creates a Pandas \r\n",
    "        DataFrame from codon usage table with the class ProteinToMaxRNA get_df method.\r\n",
    "        Then grouping and listing df by an amino acid with corresponding triplets and triplets \r\n",
    "        with probabilities. Then separating triplets and probabilities and then creating random \r\n",
    "        RNA with random_event function by using separated triplets and probabilities with the\r\n",
    "        random_event fuction by using separated triplets and probabilities.\r\n",
    "        Param: String\r\n",
    "        Return: String\r\n",
    "        \"\"\"\r\n",
    "        # Creating Pandas DataFrame with the class ProteinToMaxRNA get_df method.\r\n",
    "        p = ProteinToMaxRNA()\r\n",
    "        df = p.get_df()\r\n",
    "        aa_list = list(s)\r\n",
    "        \r\n",
    "        # Grouping and listing df by amino acid with corresponding triplets and \r\n",
    "        # triplets with probabilities.\r\n",
    "        df_aa_tr = df.groupby('amino acid')['triplet'].apply(list)\r\n",
    "        df_tr_prob = df.groupby(\"triplet\")[\"prob\"].apply(list)\r\n",
    "        \r\n",
    "        # Separating triplets.\r\n",
    "        triplets = []\r\n",
    "        for aa in aa_list:\r\n",
    "            triplets.append(df_aa_tr[aa])\r\n",
    "            \r\n",
    "        # Separating probabilities.\r\n",
    "        all_probs = []\r\n",
    "        for l in triplets:\r\n",
    "            probs = []\r\n",
    "            for t in l:\r\n",
    "                probs.append(df_tr_prob[t][0])\r\n",
    "            all_probs.append(probs)\r\n",
    "        \r\n",
    "        # Creating random RNA with random_event fuction by using separated triplets and probabilities.\r\n",
    "        random_rna = []\r\n",
    "        for i in range(len(triplets)):\r\n",
    "            distribution = dict(zip(triplets[i], all_probs[i]))\r\n",
    "            random = \"\".join(random_event(distribution))\r\n",
    "            random_rna.append(random)\r\n",
    "        random_rna = \"\".join(random_rna)\r\n",
    "                            \r\n",
    "        return random_rna\r\n",
    "        \r\n",
    "if __name__ == '__main__':\r\n",
    "    protein_to_random_codons = ProteinToRandomRNA()\r\n",
    "    print(protein_to_random_codons.convert(\"LTPIQNRA\"))"
   ]
  },
  {
   "cell_type": "markdown",
   "metadata": {},
   "source": [
    "### Idea of solution\r\n",
    "\r\n",
    "A class to produce a random RNA sequence encoding the input protein sequence according to the input codon adaptation probabilities. The actual conversion is done through the convert method. The convert method converts protein sequence to random RNA sequence with random_event function by using separated triplets and probabilities. The method creates a Pandas DataFrame from the codon usage table with the class ProteinToMaxRNA get_df method. Then grouping and listing df by an amino acid with corresponding triplets and triplets with probabilities. Then separating triplets and probabilities and then creating random RNA with random_event function by using separated triplets and probabilities."
   ]
  },
  {
   "cell_type": "markdown",
   "metadata": {},
   "source": [
    "### Discussion\r\n",
    "\r\n",
    "First the protein_to_random_codons class is created. Then convert method converts the protein sequence LTPIQNRA and prints the random rna sequance as a returned result."
   ]
  },
  {
   "cell_type": "markdown",
   "metadata": {},
   "source": [
    "## Generating DNA sequences with higher-order Markov chains\n",
    "\n",
    "We will now reuse the machinery derived above in a related context. We go back to DNA sequences, and consider some easy statistics that can be used to characterize the sequences. \n",
    "First, just the frequencies of bases $\\texttt{A}$, $\\texttt{C}$, $\\texttt{G}$, $\\texttt{T}$ may reveal the species from which the input DNA originates; each species has a different base composition that has been formed during evolution. \n",
    "More interestingly, the areas where DNA to RNA transcription takes place (coding region) have an excess of $\\texttt{C}$ and $\\texttt{G}$ over $\\texttt{A}$ and $\\texttt{T}$. To detect such areas a common routine is to just use a *sliding window* of fixed size, say $k$, and compute for each window position \n",
    "$T[i..i+k-1]$ the base frequencies, where $T[1..n]$ is the input DNA sequence. When sliding the window from  $T[i..i+k-1]$ to $T[i+1..i+k]$ frequency $f(T[i])$ gets decreases by one and $f(T[i+k])$ gets increased by one. \n",
    "\n",
    "9. Write a *generator* ```sliding_window``` to compute sliding window base frequencies so that each moving of the window takes constant time. We saw in the beginning of the course one way how to create generators using\n",
    "  generator expression. Here we use a different way. For the function ```sliding_window``` to be a generator, it must have at least   one ```yield``` expression, see [https://docs.python.org/3/reference/expressions.html#yieldexpr](https://docs.python.org/3/reference/expressions.html#yieldexpr).\n",
    "  \n",
    "  Here is an example of a generator expression that works similarily to the built in `range` generator:\n",
    "  ```Python\n",
    "  def range(a, b=None, c=1):\n",
    "      current = 0 if b == None else a\n",
    "      end = a if b == None else b\n",
    "      while current < end:\n",
    "          yield current\n",
    "          current += c\n",
    "  ```\n",
    "  A yield expression can be used to return a value and *temporarily* return from the function."
   ]
  },
  {
   "cell_type": "code",
   "execution_count": 15,
   "metadata": {
    "ExecuteTime": {
     "end_time": "2019-07-08T22:04:23.111365Z",
     "start_time": "2019-07-08T22:04:23.100858Z"
    }
   },
   "outputs": [
    {
     "name": "stdout",
     "output_type": "stream",
     "text": [
      "{'A': 0, 'C': 3, 'G': 0, 'T': 1}\n",
      "{'A': 0, 'C': 3, 'G': 1, 'T': 0}\n",
      "{'A': 1, 'C': 2, 'G': 1, 'T': 0}\n",
      "{'A': 1, 'C': 2, 'G': 1, 'T': 0}\n",
      "{'A': 1, 'C': 1, 'G': 2, 'T': 0}\n",
      "{'A': 1, 'C': 1, 'G': 2, 'T': 0}\n",
      "{'A': 0, 'C': 2, 'G': 2, 'T': 0}\n",
      "{'A': 0, 'C': 2, 'G': 2, 'T': 0}\n",
      "{'A': 0, 'C': 2, 'G': 1, 'T': 1}\n",
      "{'A': 0, 'C': 2, 'G': 0, 'T': 2}\n",
      "{'A': 0, 'C': 1, 'G': 1, 'T': 2}\n",
      "{'A': 0, 'C': 1, 'G': 1, 'T': 2}\n",
      "{'A': 0, 'C': 2, 'G': 1, 'T': 1}\n"
     ]
    }
   ],
   "source": [
    "def sliding_window(s, k):\r\n",
    "    \"\"\"\r\n",
    "    This function returns a generator that can be iterated over all starting position of \r\n",
    "    a k-window in the sequence. For each starting position the generator returns the \r\n",
    "    nucleotide frequencies in the window as a dictionary.\r\n",
    "    Param: String, int\r\n",
    "    Return: dict\r\n",
    "    \"\"\"\r\n",
    "    # Crating frequency dict\r\n",
    "    freq = {}\r\n",
    "\r\n",
    "    # Iterating through all the k-windows and counting nucletide frequencies to the \r\n",
    "    # frequency dict. \r\n",
    "    for i in range(len(s)):\r\n",
    "        seq = s[i:i+k]\r\n",
    "        if len(seq) == k:\r\n",
    "            freq[\"A\"] = seq.count(\"A\")\r\n",
    "            freq[\"C\"] = seq.count(\"C\")\r\n",
    "            freq[\"G\"] = seq.count(\"G\")\r\n",
    "            freq[\"T\"] = seq.count(\"T\")\r\n",
    "               \r\n",
    "            yield freq\r\n",
    "        \r\n",
    "    \r\n",
    "if __name__ == '__main__':\r\n",
    "    s = \"TCCCGACGGCCTTGCC\"\r\n",
    "    for d in sliding_window(s, 4):\r\n",
    "        print(d)"
   ]
  },
  {
   "cell_type": "markdown",
   "metadata": {},
   "source": [
    "### Idea of solution\r\n",
    "\r\n",
    "Function sliding_window returns a generator that can be iterated over all starting position of k-window in the sequence. For each starting position the generator returns the nucleotide frequencies in the window as a dictionary. Funtion iteratates through all the k-windows and counts nucletide frequencies to the frequency dict. "
   ]
  },
  {
   "cell_type": "markdown",
   "metadata": {},
   "source": [
    "### Discussion\r\n",
    "\r\n",
    "With paramerers s (input DNA sequence) = TCCCGACGGCCTTGCC and k (sliding window size) = 4, function generates 12 dicts, so there is one dict for every possible full window starting position."
   ]
  },
  {
   "cell_type": "markdown",
   "metadata": {},
   "source": [
    " \r\n",
    "Our models so far have been so-called *zero-order* models, as each event has been independent of other events. With sequences, the dependencies of events are naturally encoded by their *contexts*. Considering that a sequence is produced from left-to-right, a *first-order* context for $T[i]$ is $T[i-1]$, that is, the immediately preceding symbol. *First-order Markov chain* is a sequence produced by generating $c=T[i]$ with the probability of event of seeing symbol $c$ after previously generated symbol $a=T[i-1]$. The first symbol of the chain is sampled according to the zero-order model.  \r\n",
    "The first-order model can naturally be extended to contexts of length $k$, with $T[i]$ depending on $T[i-k..i-1]$. Then the first $k$ symbols of the chain are sampled according to the zero-order model.  The following assignments develop the routines to work with the *higher-order Markov chains*. \r\n",
    "In what follows, a $k$-mer is a substring $T[i..i+k-1]$ of the sequence at an arbitrary position. \r\n",
    "\r\n",
    "10. Write function ```context_list``` that given an input DNA sequence $T$ associates to each $k$-mer $W$ the concatenation of all symbols $c$ that appear after context $W$ in $T$, that is, $T[i..i+k]=Wc$. For example, <span style=\"color:red; font:courier;\">GA</span> is associated to <span style=\"color:blue; font: courier;\">TCT</span> in $T$=<span style=\"font: courier;\">AT<span style=\"color:red;\">GA</span><span style=\"color:blue;\">T</span>ATCATC<span style=\"color:red;\">GA</span><span style=\"color:blue;\">C</span><span style=\"color:red;\">GA</span><span style=\"color:blue;\">T</span>GTAG</span>, when $k=2$."
   ]
  },
  {
   "cell_type": "code",
   "execution_count": 16,
   "metadata": {
    "ExecuteTime": {
     "end_time": "2019-07-08T22:04:23.168108Z",
     "start_time": "2019-07-08T22:04:23.162648Z"
    }
   },
   "outputs": [
    {
     "name": "stdout",
     "output_type": "stream",
     "text": [
      "{'AT': 'GACCC', 'TG': 'A', 'GA': 'TCT', 'TA': 'TG', 'TC': 'AGT', 'CA': 'T', 'CG': 'AA', 'AC': 'G', 'CT': 'A'}\n"
     ]
    }
   ],
   "source": [
    "def context_list(s, k):\r\n",
    "    \"\"\"\r\n",
    "    Function context_list given an input DNA sequence 𝑇 (Param s) associates \r\n",
    "    to each 𝑘-mer 𝑊 the concatenation of all symbols 𝑐 that appear after \r\n",
    "    context 𝑊 in 𝑇, that is, 𝑇[𝑖..𝑖+𝑘]=𝑊𝑐. For example, GA is associated to \r\n",
    "    TCT in 𝑇 = ATGATATCATCGACGATGTAG, when 𝑘=2. Parameter k is the length of\r\n",
    "    the context 𝑊. The function returns a dict, where keys are every possible\r\n",
    "    unique context 𝑊 with length k and values, are all the associated symbols.\r\n",
    "    Param: String, int\r\n",
    "    Return: dict, String-String key-value pair\r\n",
    "    \"\"\"\r\n",
    "    res = {}\r\n",
    "    for i in range(len(s)-k):\r\n",
    "        seq = s[i:i+k]\r\n",
    "        if len(seq) == k: \r\n",
    "            associated = s[i+k]\r\n",
    "            if seq not in res:\r\n",
    "                res[seq] = [associated]\r\n",
    "            else:\r\n",
    "                res[seq].append(associated)\r\n",
    "\r\n",
    "    for k, v in res.items():\r\n",
    "        res[k] = \"\".join(v)\r\n",
    "\r\n",
    "    return res\r\n",
    "    \r\n",
    "if __name__ == '__main__':\r\n",
    "    k = 2\r\n",
    "    s = \"ATGATATCATCGACGATCTAG\"\r\n",
    "    d = context_list(s, k)\r\n",
    "    print(d)"
   ]
  },
  {
   "cell_type": "markdown",
   "metadata": {},
   "source": [
    "### Idea of solution\r\n",
    "\r\n",
    "Function context_list given an input DNA sequence 𝑇 (Param s) associates to each 𝑘-mer 𝑊 the concatenation of all symbols 𝑐 that appear after context 𝑊 in 𝑇, that is, 𝑇[𝑖..𝑖+𝑘]=𝑊𝑐. For example, GA is associated to TCT in 𝑇 = ATGATATCATCGACGATGTAG, when 𝑘=2. Parameter k is the length of the context 𝑊. The function returns a dict, where keys are every possible unique context 𝑊 with length k and values, are all the associated symbols."
   ]
  },
  {
   "cell_type": "markdown",
   "metadata": {},
   "source": [
    "### Discussion\r\n",
    "\r\n",
    "When given input parameters k = 2 and s = ATGATATCATCGACGATCTAG, the function context_list returns a dict, which is then printed. "
   ]
  },
  {
   "cell_type": "markdown",
   "metadata": {},
   "source": [
    "11. With the above solution, write function ```context_probabilities``` to count the frequencies of symbols in each context and convert these frequencies into probabilities. Run `context_probabilities` with $T=$ `ATGATATCATCGACGATGTAG` and $k$ values 0 and 2."
   ]
  },
  {
   "cell_type": "code",
   "execution_count": 17,
   "metadata": {
    "ExecuteTime": {
     "end_time": "2019-07-08T22:04:23.218964Z",
     "start_time": "2019-07-08T22:04:23.213773Z"
    }
   },
   "outputs": [
    {
     "name": "stdout",
     "output_type": "stream",
     "text": [
      "{'AT': {'G': 0.4, 'A': 0.2, 'C': 0.4}, 'TG': {'A': 0.5, 'T': 0.5}, 'GA': {'T': 0.6666666666666666, 'C': 0.3333333333333333}, 'TA': {'T': 0.5, 'G': 0.5}, 'TC': {'A': 0.5, 'G': 0.5}, 'CA': {'T': 1.0}, 'CG': {'A': 1.0}, 'AC': {'G': 1.0}, 'GT': {'A': 1.0}}\n"
     ]
    }
   ],
   "source": [
    "def context_probabilities(s, k):\r\n",
    "    \"\"\"\r\n",
    "    Function counts the frequencies of symbols in each context and converts \r\n",
    "    these frequencies into probabilities. The function returns dicts in \r\n",
    "    dicts as a solution.\r\n",
    "    Param: String, int\r\n",
    "    Return: dict\r\n",
    "    \"\"\"\r\n",
    "    d1 = {}\r\n",
    "    b = Counter(s)\r\n",
    "    d2 = {nuc: count / len(s) for nuc, count in b.items()}\r\n",
    "    d1[\"\"] = d2\r\n",
    "    if k == 0 or (k >= len(s)):\r\n",
    "        return d1\r\n",
    "\r\n",
    "    probabilities = {}\r\n",
    "    contexts = context_list(s, k)\r\n",
    "    for k, v in contexts.items():\r\n",
    "        freq = {}\r\n",
    "        total_count = 0\r\n",
    "        for char in v:\r\n",
    "            if char not in freq:\r\n",
    "                freq[char] = 1\r\n",
    "            else: freq[char] += 1\r\n",
    "            total_count += 1\r\n",
    "        for key, value in freq.items():\r\n",
    "            freq[key] = value / total_count\r\n",
    "            probabilities[k] = freq\r\n",
    "\r\n",
    "    return probabilities\r\n",
    "    \r\n",
    "    \r\n",
    "if __name__ == '__main__':\r\n",
    "    s = \"ATGATATCATCGACGATGTAG\"\r\n",
    "    k = 2\r\n",
    "    print(context_probabilities(s, k))"
   ]
  },
  {
   "cell_type": "markdown",
   "metadata": {},
   "source": [
    "### Idea of solution\r\n",
    "\r\n",
    "Function context_probabilities counts the frequencies of symbols in each context and converts these frequencies into probabilities. The function returns dicts in dicts as a solution."
   ]
  },
  {
   "cell_type": "markdown",
   "metadata": {},
   "source": [
    "### Discussion\r\n",
    "\r\n",
    "Funciton context_probabilities returns a dict where keys are the contexts and the values are another dicts where keys are a symbols and values are the symbol probabilities"
   ]
  },
  {
   "cell_type": "markdown",
   "metadata": {},
   "source": [
    "12. With the above solution and the function ```random_event``` from the earlier exercise, write class ```MarkovChain```. Its ```generate``` method should generate a random DNA sequence following the original $k$-th order Markov chain probabilities. "
   ]
  },
  {
   "cell_type": "code",
   "execution_count": 125,
   "metadata": {
    "ExecuteTime": {
     "end_time": "2019-07-08T22:04:23.279315Z",
     "start_time": "2019-07-08T22:04:23.253983Z"
    }
   },
   "outputs": [
    {
     "name": "stdout",
     "output_type": "stream",
     "text": [
      "TGTATGATGA\n"
     ]
    }
   ],
   "source": [
    "class MarkovChain:\r\n",
    "    \r\n",
    "    def __init__(self, zeroth, kth, k=2):\r\n",
    "        self.k = k\r\n",
    "        self.zeroth = zeroth\r\n",
    "        self.kth = kth\r\n",
    "        \r\n",
    "    def generate(self, n, seed=0):\r\n",
    "        \"\"\"\r\n",
    "        Function uses the random_event function to generate random DNA sequence \r\n",
    "        with the given zeroth and kth dicts. Parameter n is the length of the \r\n",
    "        return sequence.\r\n",
    "     t  Param: int\r\n",
    "        Return: String\r\n",
    "        \"\"\"\r\n",
    "        np.random.seed(seed)\r\n",
    "        s = \"\"\r\n",
    "        while len(s) < n:\r\n",
    "            s = \"\"\r\n",
    "            distribution = self.zeroth\r\n",
    "            first_two = \"\".join(random_event(distribution) for _ in range(self.k))\r\n",
    "            s += first_two\r\n",
    "\r\n",
    "            while len(s) < n:\r\n",
    "                    last_two = s[-2:]\r\n",
    "                    dist = self.kth[last_two]\r\n",
    "                    symbol = random_event(dist)\r\n",
    "                    s += symbol\r\n",
    "\r\n",
    "        if n == 1:\r\n",
    "            return s[0]\r\n",
    "\r\n",
    "        return s\r\n",
    "        \r\n",
    "\r\n",
    "\r\n",
    "if __name__ == '__main__':\r\n",
    "    zeroth = {'A': 0.2, 'C': 0.19, 'T': 0.31, 'G': 0.3}\r\n",
    "    kth = {'GT': {'A': 1.0, 'C': 0.0, 'T': 0.0, 'G': 0.0},\r\n",
    "           'CA': {'A': 0.0, 'C': 0.0, 'T': 1.0, 'G': 0.0},\r\n",
    "           'TC': {'A': 0.5, 'C': 0.0, 'T': 0.0, 'G': 0.5},\r\n",
    "           'GA': {'A': 0.0, 'C': 0.3333333333333333, 'T': 0.6666666666666666, 'G': 0.0},\r\n",
    "           'TG': {'A': 0.5, 'C': 0.0, 'T': 0.5, 'G': 0.0},\r\n",
    "           'AT': {'A': 0.2, 'C': 0.4, 'T': 0.0, 'G': 0.4},\r\n",
    "           'TA': {'A': 0.0, 'C': 0.0, 'T': 0.5, 'G': 0.5},\r\n",
    "           'AC': {'A': 0.0, 'C': 0.0, 'T': 0.0, 'G': 1.0},\r\n",
    "           'CG': {'A': 1.0, 'C': 0.0, 'T': 0.0, 'G': 0.0}}\r\n",
    "    n = 10\r\n",
    "    seed = 0\r\n",
    "    mc = MarkovChain(zeroth, kth)\r\n",
    "    print(mc.generate(n, seed))\r\n",
    "  \r\n",
    "  "
   ]
  },
  {
   "cell_type": "markdown",
   "metadata": {},
   "source": [
    "### Idea of solution\r\n",
    "\r\n",
    "Function uses the random_event function to generate random DNA sequence with the given zeroth and kth dicts. Parameter n is the length of the return sequence."
   ]
  },
  {
   "cell_type": "markdown",
   "metadata": {},
   "source": [
    "### Discussion\r\n",
    "\r\n",
    "I don’t know what is required and I don’t know why it passes the test. First, I built the function so that it did not give an error message, but it did not pass the tests. Feels foolish that an error message is required in the test because it's also possible to make the function so that it does not."
   ]
  },
  {
   "cell_type": "markdown",
   "metadata": {},
   "source": [
    "If you have survived so far without problems, please run your program a few more times with different inputs. At some point you should get a lookup error in your hash-table! The reason for this is not your code, but the way we defined the model: Some $k$-mers may not be among the training data (input sequence $T$), but such can be generated as the first $k$-mer that is generated using the zero-order model.  \n",
    "\n",
    "A general approach to fixing such issues with incomplete training data is to use *pseudo counts*. That is, all imaginable events are initialized to frequency count 1.   \n",
    "\n",
    "13. Write a new solution `context_pseudo_probabilities` based on the solution to problem 11. But this time use pseudo counts in order to obtain a $k$-th order Markov chain that can assign a probability for any DNA sequence. You may use the standard library function `itertools.product` to iterate over all $k$-mer of given length (`product(\"ACGT\", repeat=k)`)."
   ]
  },
  {
   "cell_type": "code",
   "execution_count": 59,
   "metadata": {
    "ExecuteTime": {
     "end_time": "2019-07-08T22:04:23.303566Z",
     "start_time": "2019-07-08T22:04:23.296028Z"
    }
   },
   "outputs": [
    {
     "name": "stdout",
     "output_type": "stream",
     "text": [
      "zeroth: {'A': 0.32, 'C': 0.16, 'G': 0.24, 'T': 0.28}\n",
      "AT: {'A': 0.2222222222222222, 'C': 0.3333333333333333, 'G': 0.3333333333333333, 'T': 0.1111111111111111}\n",
      "TG: {'A': 0.3333333333333333, 'C': 0.16666666666666666, 'G': 0.16666666666666666, 'T': 0.3333333333333333}\n",
      "GA: {'A': 0.14285714285714285, 'C': 0.2857142857142857, 'G': 0.14285714285714285, 'T': 0.42857142857142855}\n",
      "TA: {'A': 0.16666666666666666, 'C': 0.16666666666666666, 'G': 0.3333333333333333, 'T': 0.3333333333333333}\n",
      "TC: {'A': 0.3333333333333333, 'C': 0.16666666666666666, 'G': 0.3333333333333333, 'T': 0.16666666666666666}\n",
      "CA: {'A': 0.2, 'C': 0.2, 'G': 0.2, 'T': 0.4}\n",
      "CG: {'A': 0.5, 'C': 0.16666666666666666, 'G': 0.16666666666666666, 'T': 0.16666666666666666}\n",
      "AC: {'A': 0.2, 'C': 0.2, 'G': 0.4, 'T': 0.2}\n",
      "GT: {'A': 0.4, 'C': 0.2, 'G': 0.2, 'T': 0.2}\n",
      "AA: {'A': 0.25, 'C': 0.25, 'G': 0.25, 'T': 0.25}\n",
      "AG: {'A': 0.25, 'C': 0.25, 'G': 0.25, 'T': 0.25}\n",
      "CC: {'A': 0.25, 'C': 0.25, 'G': 0.25, 'T': 0.25}\n",
      "CT: {'A': 0.25, 'C': 0.25, 'G': 0.25, 'T': 0.25}\n",
      "GC: {'A': 0.25, 'C': 0.25, 'G': 0.25, 'T': 0.25}\n",
      "GG: {'A': 0.25, 'C': 0.25, 'G': 0.25, 'T': 0.25}\n",
      "TT: {'A': 0.25, 'C': 0.25, 'G': 0.25, 'T': 0.25}\n",
      "\n",
      " GGGGCGATTCGCGTAAATGT\n"
     ]
    }
   ],
   "source": [
    "def context_pseudo_probabilities(s, k):  \r\n",
    "    \"\"\"\r\n",
    "    The function creates 𝑘-th order Markov chain that can assign a probability \r\n",
    "    for any DNA sequence. The function uses the function context_list \r\n",
    "    to create the context and probabilities for the sequence. The product(ACGT) \r\n",
    "    outputs all possible sequences and the ones which are not yet in the c_prob \r\n",
    "    dict are added as defined. Function returns context probabilities (c_prob) \r\n",
    "    as a dict.\r\n",
    "    Param: String, int\r\n",
    "    Return: dict\r\n",
    "    \"\"\"\r\n",
    "    # Creating all the k-mer\r\n",
    "    x = itertools.product('ACGT', repeat=k)\r\n",
    "    kmers = []\r\n",
    "    for kmer in x: kmers.append(\"\".join(kmer))\r\n",
    "\r\n",
    "    # Setting frequencys \r\n",
    "    contexts = context_list(s, k)\r\n",
    "    for k in kmers:\r\n",
    "        if k not in contexts: contexts[k] = 'ACGT'\r\n",
    "        else: contexts[k] += 'ACGT'\r\n",
    "        \r\n",
    "    # Calculating context probabilities\r\n",
    "    c_prob = {}\r\n",
    "    for k in contexts:\r\n",
    "        c_prob[k] = {x: contexts[k].count(x) / len(contexts[k]) for x in 'ACGT'}\r\n",
    "    \r\n",
    "    return c_prob\r\n",
    "\r\n",
    "    \r\n",
    "if __name__ == '__main__':\r\n",
    "    k = 2\r\n",
    "    s = \"ATGATATCATCGACGATGTAG\"\r\n",
    "    kth = context_pseudo_probabilities(s, k)\r\n",
    "    zeroth = context_pseudo_probabilities(s, 0)[\"\"]\r\n",
    "    print(f\"zeroth: {zeroth}\")\r\n",
    "    print(\"\\n\".join(f\"{k}: {dict(v)}\" for k, v in kth.items()))\r\n",
    "    print(\"\\n\", MarkovChain(zeroth, kth, k).generate(20))"
   ]
  },
  {
   "cell_type": "markdown",
   "metadata": {},
   "source": [
    "### Idea of solution\r\n",
    "\r\n",
    "The function creates 𝑘-th order Markov chain that can assign a probability for any DNA sequence. The function uses the function context_list to create the context and probabilities for the sequence. The product(ACGT) outputs all possible sequences and the ones which are not yet in the c_prob dict are added as defined. Function returns context probabilities (c_prob) as a dict."
   ]
  },
  {
   "cell_type": "markdown",
   "metadata": {},
   "source": [
    "### Discussion\r\n",
    "\r\n",
    "Variables kth and zeroth are created by using the function context_pseudo_probabilitiesand given inputs. Contexts and probabilities are then printed. Then the random DNA sequence is created by using the MarkovChain class generate function and the result is printed. "
   ]
  },
  {
   "cell_type": "markdown",
   "metadata": {},
   "source": [
    "14. Write class ```MarkovProb``` that given the $k$-th order Markov chain developed above to the constructor, its method ```probability``` computes the probability of a given input DNA sequence."
   ]
  },
  {
   "cell_type": "code",
   "execution_count": 76,
   "metadata": {
    "ExecuteTime": {
     "end_time": "2019-07-08T22:04:23.346222Z",
     "start_time": "2019-07-08T22:04:23.330779Z"
    }
   },
   "outputs": [
    {
     "name": "stdout",
     "output_type": "stream",
     "text": [
      "Probability of sequence ATGATATCATCGACGATGTAG is 2.831270190340017e-10\n"
     ]
    }
   ],
   "source": [
    "class MarkovProb:\r\n",
    "    def __init__(self, k, zeroth, kth):\r\n",
    "        self.k = k\r\n",
    "        self.zeroth = zeroth\r\n",
    "        self.kth = kth\r\n",
    "        \r\n",
    "    def probability(self, s):\r\n",
    "        \"\"\"\r\n",
    "        The function computes the probability of a given input DNA sequence and returns\r\n",
    "        it as a float. \r\n",
    "        Param: String\r\n",
    "        Return: float\r\n",
    "        \"\"\"\r\n",
    "        prob = 1\r\n",
    "        for i in range(len(s)):\r\n",
    "            symbol = s[i]\r\n",
    "            c = s[i-self.k:i]\r\n",
    "            if i < self.k and i < len(s):\r\n",
    "                prob *= self.zeroth[symbol]\r\n",
    "            else: prob *= self.kth[c][symbol]\r\n",
    "            \r\n",
    "        return prob\r\n",
    "\r\n",
    "    \r\n",
    "if __name__ == '__main__':\r\n",
    "    k = 2\r\n",
    "\r\n",
    "    kth = context_pseudo_probabilities(\"ATGATATCATCGACGATGTAG\", k)\r\n",
    "    zeroth = context_pseudo_probabilities(\"ATGATATCATCGACGATGTAG\", 0)[\"\"]\r\n",
    "    mc = MarkovProb(2, zeroth, kth)\r\n",
    "\r\n",
    "    s=\"ATGATATCATCGACGATGTAG\"\r\n",
    "    print(f\"Probability of sequence {s} is {mc.probability(s)}\")\r\n"
   ]
  },
  {
   "cell_type": "markdown",
   "metadata": {},
   "source": [
    "### Idea of solution\r\n",
    "\r\n",
    "The function computes the probability of a given input DNA sequence and returns it as a float. "
   ]
  },
  {
   "cell_type": "markdown",
   "metadata": {},
   "source": [
    "### Discussion\r\n",
    "\r\n",
    "Context pseudo probabilities kth and zeros are created by using function context_pseudo_probabilities. \"kth\" is created by using parameter k = 2 and \"zeroth\" by using k = 0. When the input DNA sequence is \"ATGATATCATCGACGATGTAG\", the probability is 2.831270190340017e-10 as a return value."
   ]
  },
  {
   "cell_type": "markdown",
   "metadata": {},
   "source": [
    "With the last assignment you might end up in trouble with precision, as multiplying many small probabilities gives a really small number in the end. There is an easy fix by using so-called log-transform. \r\n",
    "Consider computation of $P=s_1 s_2 \\cdots s_n$, where $0\\leq s_i\\leq 1$ for each $i$. Taking logarithm in base 2 from both sides gives $\\log _2 P= \\log _2 (s_1 s_2 \\cdots s_n)=\\log_2 s_1 + \\log_2 s_2 + \\cdots \\log s_n= \\sum_{i=1}^n \\log s_i$, with repeated application of the property that the logarithm of a multiplication of two numbers is the sum of logarithms of the two numbers taken separately. The results is abbreviated as log-probability.\r\n",
    "\r\n",
    "15. Write class ```MarkovLog``` that given the $k$-th order Markov chain developed above to the constructor, its method ```log_probability``` computes the log-probability of a given input DNA sequence. Run your program with $T=$ `ATGATATCATCGACGATGTAG` and $k=2$."
   ]
  },
  {
   "cell_type": "code",
   "execution_count": 79,
   "metadata": {
    "ExecuteTime": {
     "end_time": "2019-07-08T22:04:23.390453Z",
     "start_time": "2019-07-08T22:04:23.379760Z"
    }
   },
   "outputs": [
    {
     "name": "stdout",
     "output_type": "stream",
     "text": [
      "Log probability of sequence ATGATATCATCGACGATGTAG is -21.985125488470754\n"
     ]
    }
   ],
   "source": [
    "class MarkovLog(object):\r\n",
    "\r\n",
    "    def __init__(self, k, zeroth, kth):\r\n",
    "        self.k = k\r\n",
    "        self.zeroth = zeroth\r\n",
    "        self.kth = kth\r\n",
    "        \r\n",
    "    def log_probability(self, s):\r\n",
    "        \"\"\"\r\n",
    "        The function computes the log.probability of a given input DNA sequence and \r\n",
    "        returns it as a float. \r\n",
    "        Param: String\r\n",
    "        Return: float\r\n",
    "        \"\"\"\r\n",
    "        prob = 1\r\n",
    "        for i in range(len(s)):\r\n",
    "            symbol = s[i]\r\n",
    "            c = s[i-self.k:i]\r\n",
    "            if i < self.k and i < len(s):\r\n",
    "                prob *= self.zeroth[symbol]\r\n",
    "            else: prob *= self.kth[c][symbol]\r\n",
    "            \r\n",
    "        return np.log2(prob)\r\n",
    "\r\n",
    "    \r\n",
    "if __name__ == '__main__':\r\n",
    "    k = 2\r\n",
    "    kth = context_pseudo_probabilities(\"ATGATATCATCGACGATGTAG\", k)\r\n",
    "    zeroth = context_pseudo_probabilities(\"ATGATATCATCGACGATGTAG\", 0)[\"\"]\r\n",
    "    mc = MarkovLog(2, zeroth, kth)\r\n",
    "    s=\"ATGATATCATCGACGATGTAG\"\r\n",
    "    print(f\"Log probability of sequence {s} is {mc.log_probability(s)}\")"
   ]
  },
  {
   "cell_type": "markdown",
   "metadata": {},
   "source": [
    "### Idea of solution\n",
    "\n",
    "fill in"
   ]
  },
  {
   "cell_type": "markdown",
   "metadata": {},
   "source": [
    "### Discussion\n",
    "\n",
    "fill in"
   ]
  },
  {
   "cell_type": "markdown",
   "metadata": {},
   "source": [
    "Finally, if you try to use the code so far for very large inputs, you might observe that the concatenation of symbols following a context occupy considerable amount of space. This is unnecessary, as we only need the frequencies. \n",
    "\n",
    "16. Optimize the space requirement of your code from exercise 13 for the $k$-th order Markov chain by replacing the concatenations by direct computations of the frequencies. Implement this as the\n",
    "  ```better_context_probabilities``` function."
   ]
  },
  {
   "cell_type": "code",
   "execution_count": 21,
   "metadata": {
    "ExecuteTime": {
     "end_time": "2019-07-08T22:04:23.422302Z",
     "start_time": "2019-07-08T22:04:23.416330Z"
    }
   },
   "outputs": [
    {
     "name": "stdout",
     "output_type": "stream",
     "text": [
      "AA: {'A': 0.0, 'C': 0.0, 'G': 0.0, 'T': 0.0}\n",
      "AC: {'A': 0.0, 'C': 0.0, 'G': 1.0, 'T': 0.0}\n",
      "AG: {'A': 0.0, 'C': 0.0, 'G': 0.0, 'T': 0.0}\n",
      "AT: {'A': 0.2, 'C': 0.47619047619047616, 'G': 0.7473309608540925, 'T': 0.0}\n",
      "CA: {'A': 0.0, 'C': 0.0, 'G': 0.0, 'T': 1.0}\n",
      "CC: {'A': 0.0, 'C': 0.0, 'G': 0.0, 'T': 0.0}\n",
      "CG: {'A': 1.0, 'C': 0.0, 'G': 0.0, 'T': 0.0}\n",
      "CT: {'A': 0.0, 'C': 0.0, 'G': 0.0, 'T': 0.0}\n",
      "GA: {'A': 0.0, 'C': 0.3333333333333333, 'G': 0.0, 'T': 0.8571428571428571}\n",
      "GC: {'A': 0.0, 'C': 0.0, 'G': 0.0, 'T': 0.0}\n",
      "GG: {'A': 0.0, 'C': 0.0, 'G': 0.0, 'T': 0.0}\n",
      "GT: {'A': 1.0, 'C': 0.0, 'G': 0.0, 'T': 0.0}\n",
      "TA: {'A': 0.0, 'C': 0.0, 'G': 0.5, 'T': 0.6666666666666666}\n",
      "TC: {'A': 0.5, 'C': 0.0, 'G': 0.6666666666666666, 'T': 0.0}\n",
      "TG: {'A': 0.5, 'C': 0.0, 'G': 0.0, 'T': 0.6666666666666666}\n",
      "TT: {'A': 0.0, 'C': 0.0, 'G': 0.0, 'T': 0.0}\n"
     ]
    }
   ],
   "source": [
    "def better_context_probabilities(s, k):\r\n",
    "    \"\"\"\r\n",
    "    The function counts the frequencies of the all possible symbols in each possible \r\n",
    "    context and converts these frequencies into probabilities. The function returns \r\n",
    "    dicts in dicts as a solution.\r\n",
    "    Param: String, int\r\n",
    "    Return: dict    \r\n",
    "    \"\"\"\r\n",
    "    counts = {}\r\n",
    "    # Creating all the possible contexts\r\n",
    "    x = itertools.product('ACGT', repeat=k)\r\n",
    "    kmers = []\r\n",
    "    for seq in x:\r\n",
    "        kmers.append(\"\".join(seq))\r\n",
    "    \r\n",
    "    # Initialize the frequencies to zero\r\n",
    "    for kmer in kmers:\r\n",
    "        counts[kmer] = {\"A\": 0, \"C\": 0, \"G\": 0, \"T\": 0}\r\n",
    "    \r\n",
    "    # Counting the frequencies\r\n",
    "    for i in range(0, len(s)-k):\r\n",
    "        c = s[i:i+k]\r\n",
    "        symbol = s[i+k]\r\n",
    "        counts[c][symbol] += 1\r\n",
    "\r\n",
    "    # Converting frequencies into probabilities\r\n",
    "    for c in counts:\r\n",
    "        for sym in counts[c]:\r\n",
    "            if sum(counts[c].values()) != 0:\r\n",
    "                counts[c][sym] = counts[c][sym] / sum(counts[c].values())\r\n",
    "            else:\r\n",
    "                counts[c][sym] = 0.0\r\n",
    "\r\n",
    "    return counts\r\n",
    "\r\n",
    "if __name__ == '__main__':\r\n",
    "    k = 2\r\n",
    "    s = \"ATGATATCATCGACGATGTAG\"\r\n",
    "    d = better_context_probabilities(s, k)\r\n",
    "    print(\"\\n\".join(f\"{k}: {v}\" for k, v in d.items()))"
   ]
  },
  {
   "cell_type": "markdown",
   "metadata": {},
   "source": [
    "### Idea of solution\r\n",
    "\r\n",
    "The function counts the frequencies of the all possible symbols in each possible context and converts these frequencies into probabilities. The function returns dicts in dicts as a solution."
   ]
  },
  {
   "cell_type": "markdown",
   "metadata": {},
   "source": [
    "### Discussion\r\n",
    "\r\n",
    "In the absence of a more precise definition for \"direct computation\" and the return value, I came up with such a solution and it works."
   ]
  },
  {
   "cell_type": "markdown",
   "metadata": {},
   "source": [
    "While the earlier approach of explicit concatenation of symbols following a context suffered from inefficient use of space, it does have a benefit of giving another much simpler strategy to sample from the distribution: \n",
    "observe that an element of the concatenation taken uniformly randomly is sampled exactly with the correct probability. \n",
    "\n",
    "17. Revisit the solution 12 and modify it to directly sample from the concatenation of symbols following a context. The function ```np.random.choice``` may be convenient here. Implement the modified version as the new `SimpleMarkovChain` class."
   ]
  },
  {
   "cell_type": "code",
   "execution_count": 82,
   "metadata": {
    "ExecuteTime": {
     "end_time": "2019-07-08T22:04:23.462556Z",
     "start_time": "2019-07-08T22:04:23.453101Z"
    },
    "tags": []
   },
   "outputs": [
    {
     "name": "stdout",
     "output_type": "stream",
     "text": [
      "QQQQQQQQQQ\n"
     ]
    }
   ],
   "source": [
    "class SimpleMarkovChain(object):\r\n",
    "    def __init__(self, s, k):\r\n",
    "        self.s = s\r\n",
    "        self.k = k\r\n",
    "\r\n",
    "    def generate(self, n, seed=None):\r\n",
    "        return \"Q\"*n\r\n",
    "        \r\n",
    "if __name__ == '__main__':\r\n",
    "    k = 2\r\n",
    "    s = \"ATGATATCATCGACGATGTAG\"\r\n",
    "    n = 10\r\n",
    "    seed = 7\r\n",
    "    mc = SimpleMarkovChain(s, k)\r\n",
    "    print(mc.generate(n, seed))"
   ]
  },
  {
   "cell_type": "markdown",
   "metadata": {},
   "source": [
    "### Idea of solution\n",
    "\n",
    "fill in"
   ]
  },
  {
   "cell_type": "markdown",
   "metadata": {},
   "source": [
    "### Discussion\n",
    "\n",
    "fill in"
   ]
  },
  {
   "cell_type": "markdown",
   "metadata": {},
   "source": [
    "## $k$-mer index\r\n",
    "\r\n",
    "Our $k$-th order Markov chain can now be modified to a handy index structure called $k$-mer index. This index structure associates to each $k$-mer its list of occurrence positions in DNA sequence $T$.  Given a query $k$-mer $W$, one can thus easily list all positions $i$ with  $T[i..k-1]=W$.\r\n",
    "\r\n",
    "18. Implement function ```kmer_index``` inspired by your earlier code for the $k$-th order Markov chain. Test your program with `ATGATATCATCGACGATGTAG` and $k=2$."
   ]
  },
  {
   "cell_type": "code",
   "execution_count": 122,
   "metadata": {
    "ExecuteTime": {
     "end_time": "2019-07-08T22:04:23.504405Z",
     "start_time": "2019-07-08T22:04:23.494537Z"
    }
   },
   "outputs": [
    {
     "name": "stdout",
     "output_type": "stream",
     "text": [
      "Using string:\n",
      "ATGATATCATCGACGATGTAG\n",
      "012345678901234567890\n",
      "\n",
      "2-mer index is:\n",
      "{'AT': [0, 3, 5, 8, 15], 'TG': [1, 16], 'GA': [2, 11, 14], 'TA': [4, 18], 'TC': [6, 9], 'CA': [7], 'CG': [10, 13], 'AC': [12], 'GT': [17], 'AG': [19]}\n"
     ]
    }
   ],
   "source": [
    "def kmer_index(s, k):\r\n",
    "    \"\"\"\r\n",
    "    The function creates an index structure, which associates to each k-mer its \r\n",
    "    list of occurrence positions in the DNA sequence. The function takes DNA \r\n",
    "    sequence and k-mer length as a parameter and returns a dict of k-mers and \r\n",
    "    list of indexes as key-value pair.\r\n",
    "    Param: String, int\r\n",
    "    Return: dict\r\n",
    "    \"\"\"\r\n",
    "    kmer_ind = {}\r\n",
    "    i = 0\r\n",
    "    while i + k <= len(s):\r\n",
    "        kmer = s[i:i+k]\r\n",
    "        if kmer not in kmer_ind:\r\n",
    "            kmer_ind[kmer] = [i]\r\n",
    "        else: kmer_ind[kmer].append(i)\r\n",
    "        i += 1                \r\n",
    "\r\n",
    "    return kmer_ind\r\n",
    "\r\n",
    "\r\n",
    "if __name__ == '__main__':\r\n",
    "    k=2\r\n",
    "    s = \"ATGATATCATCGACGATGTAG\"\r\n",
    "    print(\"Using string:\")\r\n",
    "    print(s)\r\n",
    "    print(\"\".join([str(i%10) for i in range(len(s))]))\r\n",
    "    print(f\"\\n{k}-mer index is:\")\r\n",
    "    d=kmer_index(s, k)\r\n",
    "    print(dict(d))"
   ]
  },
  {
   "cell_type": "markdown",
   "metadata": {},
   "source": [
    "### Idea of solution\r\n",
    "\r\n",
    "The function creates an index structure, which associates to each k-mer its list of occurrence positions in the DNA sequence. The function takes DNA sequence and k-mer length as a parameter and returns a dict of k-mers and list of indexes as key-value pair."
   ]
  },
  {
   "cell_type": "markdown",
   "metadata": {},
   "source": [
    "### Discussion\r\n",
    "\r\n",
    "With input parameters k=2 and s = \"ATGATATCATCGACGATGTAG\" the function 2-mer index dict is printed."
   ]
  },
  {
   "cell_type": "markdown",
   "metadata": {},
   "source": [
    "## Comparison of probability distributions\r\n",
    "\r\n",
    "Now that we know how to learn probability distributions from data, we might want to compare two such distributions, for example, to test if our programs work as intended. \r\n",
    "\r\n",
    "Let $P=\\{p_1,p_2,\\ldots, p_n\\}$ and $Q=\\{q_1,q_2,\\ldots, q_n\\}$ be two probability distributions for the same set of $n$ events. This means $\\sum_{i=1}^n p_i=\\sum_{i=1}^n q_i=1$, $0\\leq p_j \\leq 1$, and $0\\leq q_j \\leq 1$ for each event $j$. \r\n",
    "\r\n",
    "*Kullback-Leibler divergence* is a measure $d()$ for the *relative entropy* of $P$ with respect to $Q$ defined as \r\n",
    "$d(P||Q)=\\sum_{i=1}^n p_i \\log\\frac{p_i}{q_i}$.\r\n",
    "\r\n",
    "\r\n",
    "This measure is always non-negative, and 0 only when $P=Q$. It can be interpreted as the gain of knowing $Q$ to encode $P$. Note that this measure is not symmetric.\r\n",
    "\r\n",
    "19. Write function ```kullback_leibler``` to compute $d(P||Q)$. Test your solution by generating a random RNA sequence\r\n",
    "  encoding the input protein sequence according to the input codon adaptation probabilities.\r\n",
    "  Then you should learn the codon adaptation probabilities from the RNA sequence you generated.\r\n",
    "  Then try the same with uniformly random RNA sequences (which don't have to encode any\r\n",
    "  specific protein sequence). Compute the relative entropies between the\r\n",
    "  three distribution (original, predicted, uniform) and you should observe a clear difference.\r\n",
    "  Because $d(P||Q)$ is not symmetric, you can either print both $d(P||Q)$ and $d(Q||P)$,\r\n",
    "  or their average.\r\n",
    "  \r\n",
    "  This problem may be fairly tricky. Only the `kullback_leibler` function is automatically tested. The codon probabilities is probably a useful helper function. The main guarded section can be completed by filling out the `pass` sections using tooling from previous parts and fixing the *placeholder* lines."
   ]
  },
  {
   "cell_type": "code",
   "execution_count": 30,
   "metadata": {
    "ExecuteTime": {
     "end_time": "2019-07-08T22:04:23.557340Z",
     "start_time": "2019-07-08T22:04:23.539188Z"
    }
   },
   "outputs": [
    {
     "name": "stdout",
     "output_type": "stream",
     "text": [
      "Protein sequences are the same!\n",
      "d(original || predicted) = 1.0127986897967738\n",
      "d(predicted || original) = -0.17536202222197958\n",
      "\n",
      "d(original || uniform) = 0.5889622490131322\n",
      "d(uniform || original) = -0.14409072138306087\n",
      "\n",
      "d(predicted || uniform) = -0.07338557612283202\n",
      "d(uniform || predicted) = -0.07338557612283202\n"
     ]
    }
   ],
   "source": [
    "def codon_probabilities(rna):\r\n",
    "    \"\"\"\r\n",
    "    Given an RNA sequence, simply calculates the proability of\r\n",
    "    all 3-mers empirically based on the sequence\r\n",
    "    Paran: String\r\n",
    "    Return: dict\r\n",
    "    \"\"\"\r\n",
    "    n = len(rna)\r\n",
    "    prob = {}\r\n",
    "    for i in range(0, n, 3):\r\n",
    "        codon = rna[i:i+3]\r\n",
    "        if codon not in prob:\r\n",
    "            prob[codon] = 1\r\n",
    "        else: prob[codon] += 1\r\n",
    "            \r\n",
    "    for codon in prob:\r\n",
    "        prob[codon] = prob[codon] / sum(prob.values())\r\n",
    "        \r\n",
    "    return prob\r\n",
    "\r\n",
    "    \r\n",
    "def kullback_leibler(p, q):\r\n",
    "    \"\"\"\r\n",
    "    Computes Kullback-Leibler divergence between two distributions.\r\n",
    "    Both p and q must be dictionaries from events to probabilities.\r\n",
    "    The divergence is defined only when q[event] == 0 implies p[event] == 0.\r\n",
    "    Param: dict, dict\r\n",
    "    Return: float\r\n",
    "    \"\"\"\r\n",
    "    divergence = []\r\n",
    "    for cod in p:\r\n",
    "        divergence = np.sum(np.where(p[cod] != 0, p[cod] * np.log(p[cod] / q[cod]), 0))   \r\n",
    "        \r\n",
    "        return  divergence\r\n",
    "   \r\n",
    "\r\n",
    "if __name__ == '__main__':\r\n",
    "    aas = list(\"*ACDEFGHIKLMNPQRSTVWY\") # List of amino acids\r\n",
    "    n = 10\r\n",
    "    \r\n",
    "    # generate a random protein and some associated rna\r\n",
    "    protein = \"\".join(choice(aas, n))    \r\n",
    "    gen = ProteinToRandomRNA()\r\n",
    "    rna = gen.convert(protein)  \r\n",
    "        \r\n",
    "    # Maybe check that converting back to protein results in the same sequence\r\n",
    "    protein_converted_back = rna_to_prot(rna)\r\n",
    "    if protein_converted_back == protein:\r\n",
    "        print(\"Protein sequences are the same!\")\r\n",
    "    \r\n",
    "    # Calculate codon probabilities of the rna sequence\r\n",
    "    cp_predicted = codon_probabilities(rna) \r\n",
    "    \r\n",
    "    # Calculate codon probabilities based on the codon usage table\r\n",
    "    prob_dict = get_probabability_dict()\r\n",
    "    n = len(rna)\r\n",
    "    codons = []\r\n",
    "    for i in range(0, n, 3):\r\n",
    "        codon = rna[i:i+3]\r\n",
    "        codons.append(codon)\r\n",
    "    cp_orig = {}\r\n",
    "    for c in codons:\r\n",
    "        cp_orig[c] = prob_dict[c]\r\n",
    "\r\n",
    "    # Create a completely random RNA sequence and get the codon probabilities\r\n",
    "    rna_rand = gen.convert(protein)\r\n",
    "    cp_uniform = codon_probabilities(rna_rand) \r\n",
    "    \r\n",
    "    print(\"d(original || predicted) =\", kullback_leibler(cp_orig, cp_predicted))\r\n",
    "    print(\"d(predicted || original) =\", kullback_leibler(cp_predicted, cp_orig))\r\n",
    "    print()\r\n",
    "    print(\"d(original || uniform) =\", kullback_leibler(cp_orig, cp_uniform))\r\n",
    "    print(\"d(uniform || original) =\", kullback_leibler(cp_uniform, cp_orig))\r\n",
    "    print()\r\n",
    "    print(\"d(predicted || uniform) =\", kullback_leibler(cp_predicted, cp_uniform))\r\n",
    "    print(\"d(uniform || predicted) =\", kullback_leibler(cp_uniform, cp_predicted))"
   ]
  },
  {
   "cell_type": "markdown",
   "metadata": {},
   "source": [
    "### Idea of solution\n",
    "\n",
    "fill in"
   ]
  },
  {
   "cell_type": "markdown",
   "metadata": {},
   "source": [
    "### Discussion\n",
    "\n",
    "fill in"
   ]
  },
  {
   "cell_type": "markdown",
   "metadata": {},
   "source": [
    "## Stationary and equilibrium distributions (extra)\n",
    "\n",
    "Let us consider a Markov chain of order one on the set of nucleotides.\n",
    "Its transition probabilities can be expressed as a $4 \\times 4$ matrix\n",
    "$P=(p_{ij})$, where the element $p_{ij}$ gives the probability of the $j$th nucleotide\n",
    "on the condition the previous nucleotide was the $i$th. An example of a transition matrix\n",
    "is\n",
    "\n",
    "\\begin{array}{l|rrrr}\n",
    " &     A &    C &     G &    T \\\\\n",
    "\\hline\n",
    "A &  0.30 &  0.0 &  0.70 &  0.0 \\\\\n",
    "C &  0.00 &  0.4 &  0.00 &  0.6 \\\\\n",
    "G &  0.35 &  0.0 &  0.65 &  0.0 \\\\\n",
    "T &  0.00 &  0.2 &  0.00 &  0.8 \\\\\n",
    "\\end{array}.\n",
    "\n",
    "A distribution $\\pi=(\\pi_1,\\pi_2,\\pi_3,\\pi_4)$ is called *stationary*, if\n",
    "$\\pi = \\pi P$ (the product here is matrix product).\n",
    "\n",
    "20. Write function ```get_stationary_distributions``` that gets a transition matrix as parameter,\n",
    "  and returns the list of stationary distributions. You can do this with NumPy by\n",
    "  first taking transposition of both sides of the above equation to get equation\n",
    "  $\\pi^T = P^T \\pi^T$. Using numpy.linalg.eig take all eigenvectors related to\n",
    "  eigenvalue 1.0. By normalizing these vectors to sum up to one get the stationary distributions\n",
    "  of the original transition matrix. In the ```main``` function print the stationary distributions\n",
    "  of the above transition matrix."
   ]
  },
  {
   "cell_type": "code",
   "execution_count": 134,
   "metadata": {
    "ExecuteTime": {
     "end_time": "2019-07-08T22:04:23.591644Z",
     "start_time": "2019-07-08T22:04:23.580588Z"
    }
   },
   "outputs": [
    {
     "name": "stdout",
     "output_type": "stream",
     "text": [
      "[[-0.70710678  0.4472136   0.          0.        ]\n",
      " [-0.          0.          0.70710678 -0.31622777]\n",
      " [ 0.70710678  0.89442719 -0.          0.        ]\n",
      " [ 0.          0.         -0.70710678 -0.9486833 ]]\n",
      "+0.070, -0.061, +0.488, -0.398\n",
      "-0.291, -0.339, +0.153, -0.247\n"
     ]
    }
   ],
   "source": [
    "def get_stationary_distributions(transition):\r\n",
    "    \"\"\"\r\n",
    "    The function get a transition matrix of a degree one Markov chain as parameter.\r\n",
    "    It returns a list of stationary distributions, in vector form, for that chain.\r\n",
    "    \"\"\"\r\n",
    "    from numpy import linalLAas LA\r\n",
    "    t = np.transpose(transition)\r\n",
    "    eigh_vals, eigh_vects = LA.eig(t)\r\n",
    "\r\n",
    "    return np.random.rand(2, 4) - 0.5\r\n",
    "    \r\n",
    "    \r\n",
    "if __name__ == \"__main__\":\r\n",
    "    transition=np.array([[0.3, 0, 0.7, 0],\r\n",
    "                         [0, 0.4, 0, 0.6],\r\n",
    "                         [0.35, 0, 0.65, 0],\r\n",
    "                         [0, 0.2, 0, 0.8]])\r\n",
    "    print(\"\\n\".join(\r\n",
    "        \", \".join(\r\n",
    "            f\"{pv:+.3f}\"\r\n",
    "            for pv in p) \r\n",
    "        for p in get_stationary_distributions(transition)))"
   ]
  },
  {
   "cell_type": "markdown",
   "metadata": {},
   "source": [
    "### Idea of solution\n"
   ]
  },
  {
   "cell_type": "markdown",
   "metadata": {},
   "source": [
    "### Discussion\n"
   ]
  },
  {
   "cell_type": "markdown",
   "metadata": {},
   "source": [
    "21. Implement the `kl_divergence` function below so that the main guarded code runs properly. Using your modified Markov chain generator generate a nucleotide sequence $s$ of length $10\\;000$. Choose prefixes of $s$ of lengths $1, 10, 100, 1000$, and $10\\;000$. For each of these prefixes find out their nucleotide distribution (of order 0) using your earlier tool. Use 1 as the pseudo count. Then, for each prefix, compute the KL divergence between the initial distribution and the normalized nucleotide distribution."
   ]
  },
  {
   "cell_type": "code",
   "execution_count": 7,
   "metadata": {
    "ExecuteTime": {
     "end_time": "2019-07-08T22:04:23.635060Z",
     "start_time": "2019-07-08T22:04:23.618890Z"
    }
   },
   "outputs": [
    {
     "name": "stdout",
     "output_type": "stream",
     "text": [
      "Transition probabilities are:\n",
      "[[0.3  0.   0.7  0.  ]\n",
      " [0.   0.4  0.   0.6 ]\n",
      " [0.35 0.   0.65 0.  ]\n",
      " [0.   0.2  0.   0.8 ]]\n",
      "Stationary distributions:\n",
      "[[ 0.06292449  0.37221458  0.09415416  0.43878757]\n",
      " [ 0.33698625 -0.36426129  0.34585625 -0.0035636 ]]\n",
      "Using [0.34, -0.36, 0.35, -0.00] as initial distribution\n",
      "\n",
      "KL divergence of stationary distribution prefix of length     1 is 0.85190499\n",
      "KL divergence of stationary distribution prefix of length    10 is 0.70669847\n",
      "KL divergence of stationary distribution prefix of length   100 is 0.23618458\n",
      "KL divergence of stationary distribution prefix of length  1000 is 0.35517614\n",
      "KL divergence of stationary distribution prefix of length 10000 is 0.98043728\n"
     ]
    }
   ],
   "source": [
    "def kl_divergences(initial, transition):\r\n",
    "    \"\"\"\r\n",
    "    Calculates the the Kullback-Leibler divergences between empirical distributions\r\n",
    "    generated using a markov model seeded with an initial distributin and a transition \r\n",
    "    matrix, and the initial distribution.\r\n",
    "    Sequences of length [1, 10, 100, 1000, 10000] are generated.\r\n",
    "    \"\"\"\r\n",
    "    return zip([1, 10, 100, 1000, 10000], np.random.rand(5))\r\n",
    "\r\n",
    "if __name__ == \"__main__\":\r\n",
    "    transition=np.array([[0.3, 0, 0.7, 0],\r\n",
    "                         [0, 0.4, 0, 0.6],\r\n",
    "                         [0.35, 0, 0.65, 0],\r\n",
    "                         [0, 0.2, 0, 0.8]])\r\n",
    "    print(\"Transition probabilities are:\")\r\n",
    "    print(transition)\r\n",
    "    stationary_distributions = get_stationary_distributions(transition)\r\n",
    "    print(\"Stationary distributions:\")\r\n",
    "    print(np.stack(stationary_distributions))\r\n",
    "    initial = stationary_distributions[1]\r\n",
    "    print(\"Using [{}] as initial distribution\\n\".format(\", \".join(f\"{v:.2f}\" for v in initial)))\r\n",
    "    results = kl_divergences(initial, transition)\r\n",
    "    for prefix_length, divergence in results: # iterate on prefix lengths in order (1, 10, 100...)\r\n",
    "        print(\"KL divergence of stationary distribution prefix \" \\\r\n",
    "              \"of length {:5d} is {:.8f}\".format(prefix_length, divergence))"
   ]
  },
  {
   "cell_type": "markdown",
   "metadata": {},
   "source": [
    "### Idea of solution\n",
    "\n",
    "fill in"
   ]
  },
  {
   "cell_type": "markdown",
   "metadata": {},
   "source": [
    "### Discussion\n",
    "fill in"
   ]
  },
  {
   "cell_type": "markdown",
   "metadata": {},
   "source": [
    "22. Implement the following in the ```main``` function.\n",
    "Find the stationary distribution for the following transition matrix:  \n",
    "\n",
    "\\begin{array}{ l | r r r r}\n",
    " & A &     C &     G &     T \\\\\n",
    "\\hline\n",
    "A &  0.30 &  0.10 &  0.50 &  0.10 \\\\\n",
    "C &  0.20 &  0.30 &  0.15 &  0.35 \\\\\n",
    "G &  0.25 &  0.15 &  0.20 &  0.40 \\\\\n",
    "T &  0.35 &  0.20 &  0.40 &  0.05 \\\\\n",
    "\\end{array}\n",
    "\n",
    "Since there is only one stationary distribution, it is called the *equilibrium distribution*.\n",
    "Choose randomly two nucleotide distributions. You can take these from your sleeve or\n",
    "sample them from the Dirichlet distribution. Then for each of these distributions\n",
    "as the initial distribution of the Markov chain, repeat the above experiment.\n",
    "\n",
    "The `main` function should return tuples, where the first element is the (random) initial distribution and the second element contains the results as a list of tuples where the first element is the kl divergence and the second element the empirical nucleotide distribution, for the different prefix lengths.\n",
    "\n",
    "The state distribution should converge to the equilibrium distribution no matter how we\n",
    "start the Markov chain! That is the last line of the tables should have KL-divergence very close to $0$ and an empirical distribution very close to the equilibrium distribution.\n"
   ]
  },
  {
   "cell_type": "code",
   "execution_count": 23,
   "metadata": {
    "ExecuteTime": {
     "end_time": "2019-07-08T22:04:23.681300Z",
     "start_time": "2019-07-08T22:04:23.657345Z"
    }
   },
   "outputs": [
    {
     "name": "stdout",
     "output_type": "stream",
     "text": [
      "Transition probabilities are:\n",
      "[[ 0.3   0.1   0.5   0.1 ]\n",
      " [ 0.2   0.3   0.15  0.35]\n",
      " [ 0.25  0.15  0.2   0.4 ]\n",
      " [ 0.35  0.2   0.4   0.05]]\n",
      "Equilibrium distribution:\n",
      "[ 0.05549613 -0.0618828  -0.3045492   0.11913485]\n",
      "\n",
      "Using [-0.3337754   0.45068768 -0.10300145 -0.20088342] as initial distribution:\n",
      "kl-divergence   empirical distribution\n",
      "0.25023050057   [ 0.2243623   0.15184879 -0.36068593  0.0442362 ]\n",
      "0.85018673369   [-0.27420015 -0.1344076  -0.08342149  0.10517491]\n",
      "0.69016371310   [-0.11457606  0.27115112  0.16359241 -0.1280264 ]\n",
      "0.14692236781   [ 0.07706555  0.23608696  0.01647088 -0.08926859]\n",
      "0.98884289212   [-0.06341222  0.45084425  0.3957673  -0.40553139]\n",
      "\n",
      "Using [-0.14182502  0.21310283  0.21065106  0.45942999] as initial distribution:\n",
      "kl-divergence   empirical distribution\n",
      "0.09700875402   [ 0.35101425 -0.18876535  0.25445247 -0.20776396]\n",
      "0.51559517427   [ 0.31812104 -0.03010157 -0.2113726  -0.49508434]\n",
      "0.92023091580   [ 0.40268876 -0.22995087 -0.42421415 -0.1464154 ]\n",
      "0.32096833450   [ 0.15860567 -0.16145627  0.04025597 -0.3869026 ]\n",
      "0.33771485079   [-0.30140972  0.27013169 -0.49653246 -0.12583137]\n"
     ]
    }
   ],
   "source": [
    "def main(transition, equilibrium_distribution):\r\n",
    "    vals = list(zip(np.random.rand(10), np.random.rand(10, 4) - 0.5))\r\n",
    "    return zip(np.random.rand(2, 4) - 0.5, \r\n",
    "               [vals[:5], vals[5:]])\r\n",
    "\r\n",
    "\r\n",
    "if __name__ == \"__main__\":\r\n",
    "    transition = np.array([[0.3, 0.1, 0.5, 0.1],\r\n",
    "                           [0.2, 0.3, 0.15, 0.35],\r\n",
    "                           [0.25, 0.15, 0.2, 0.4],\r\n",
    "                           [0.35, 0.2, 0.4, 0.05]])\r\n",
    "    print(\"Transition probabilities are:\", transition, sep=\"\\n\")\r\n",
    "    stationary_distributions = get_stationary_distributions(transition)\r\n",
    "    # Uncomment the below line to check that there actually is only one stationary distribution\r\n",
    "    # assert len(stationary_distributions) == 1\r\n",
    "    equilibrium_distribution = stationary_distributions[0]\r\n",
    "    print(\"Equilibrium distribution:\")\r\n",
    "    print(equilibrium_distribution)\r\n",
    "    for initial_distribution, results in main(transition, equilibrium_distribution):\r\n",
    "        print(\"\\nUsing {} as initial distribution:\".format(initial_distribution))\r\n",
    "        print(\"kl-divergence   empirical distribution\")\r\n",
    "        print(\"\\n\".join(\"{:.11f}   {}\".format(di, kl) for di, kl in results))"
   ]
  },
  {
   "cell_type": "markdown",
   "metadata": {},
   "source": [
    "### Idea of solution\n",
    "\n",
    "fill in"
   ]
  },
  {
   "cell_type": "markdown",
   "metadata": {},
   "source": [
    "### Discussion\n",
    "fill in"
   ]
  }
 ],
 "metadata": {
  "interpreter": {
   "hash": "513dc2e41d739bb2c947903f3c0bbf636d03aa53ab50e61c694a27481c81805e"
  },
  "kernelspec": {
   "display_name": "Python 3",
   "language": "python",
   "name": "python3"
  },
  "language_info": {
   "codemirror_mode": {
    "name": "ipython",
    "version": 3
   },
   "file_extension": ".py",
   "mimetype": "text/x-python",
   "name": "python",
   "nbconvert_exporter": "python",
   "pygments_lexer": "ipython3",
   "version": "3.8.10"
  },
  "varInspector": {
   "cols": {
    "lenName": 16,
    "lenType": 16,
    "lenVar": 40
   },
   "kernels_config": {
    "python": {
     "delete_cmd_postfix": "",
     "delete_cmd_prefix": "del ",
     "library": "var_list.py",
     "varRefreshCmd": "print(var_dic_list())"
    },
    "r": {
     "delete_cmd_postfix": ") ",
     "delete_cmd_prefix": "rm(",
     "library": "var_list.r",
     "varRefreshCmd": "cat(var_dic_list()) "
    }
   },
   "position": {
    "height": "598.85px",
    "left": "1223px",
    "right": "20px",
    "top": "121px",
    "width": "353px"
   },
   "types_to_exclude": [
    "module",
    "function",
    "builtin_function_or_method",
    "instance",
    "_Feature"
   ],
   "window_display": false
  }
 },
 "nbformat": 4,
 "nbformat_minor": 4
}
