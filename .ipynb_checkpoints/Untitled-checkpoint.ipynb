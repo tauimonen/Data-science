{
 "cells": [
  {
   "cell_type": "code",
   "execution_count": null,
   "id": "db068a5d-a31c-4113-98ac-3a14b3e51140",
   "metadata": {},
   "outputs": [],
   "source": [
    "import pandas as pd\n",
    "import psycopg2"
   ]
  },
  {
   "cell_type": "code",
   "execution_count": null,
   "id": "a6f96fda-79a4-43a6-ae75-7bf37fe14abf",
   "metadata": {},
   "outputs": [],
   "source": [
    "def create_and_connect_database():\n",
    "    # Create connection to the default database.\n",
    "\n",
    "    try:\n",
    "        conn = psycopg2.connect(\"host=localhost dbname=mytestdb user=postgres password='sokea r33tta_6006'\")\n",
    "    except psycopg2.Error as e:\n",
    "        print(\"Error: Could not make connection to the Postgres database\")\n",
    "        print(e)\n",
    "    conn.set_session(autocommit=True)\n",
    "    cur = conn.cursor()\n",
    "    \n",
    "    # Create database\n",
    "    # cur.execute(\"DROP DATABASE sales;\")\n",
    "    cur.execute(\"CREATE DATABASE sales;\")\n",
    "    \n",
    "    # Close connection and connect to accounts database\n",
    "    conn.close()\n",
    "    try:\n",
    "        conn = psycopg2.connect(\"host=localhost dbname=sales user=postgres password='sokea r33tta_6006'\")\n",
    "    except psycopg2.Error as e:\n",
    "        print(\"Error: Could not make connection to the Postgres database\")\n",
    "        print(e)\n",
    "    cur = conn.cursor()\n",
    "    return cur, conn"
   ]
  },
  {
   "cell_type": "code",
   "execution_count": null,
   "id": "4c2c6242-c7c2-4d75-bc0b-a8250320d674",
   "metadata": {},
   "outputs": [],
   "source": [
    "Walmart_sales = pd.read_csv(\"Walmart.csv\")\n",
    "Walmart_sales.head()"
   ]
  }
 ],
 "metadata": {
  "kernelspec": {
   "display_name": "Python 3",
   "language": "python",
   "name": "python3"
  },
  "language_info": {
   "codemirror_mode": {
    "name": "ipython",
    "version": 3
   },
   "file_extension": ".py",
   "mimetype": "text/x-python",
   "name": "python",
   "nbconvert_exporter": "python",
   "pygments_lexer": "ipython3",
   "version": "3.8.10"
  }
 },
 "nbformat": 4,
 "nbformat_minor": 5
}
