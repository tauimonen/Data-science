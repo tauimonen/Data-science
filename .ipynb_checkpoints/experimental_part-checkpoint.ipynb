{
 "cells": [
  {
   "cell_type": "code",
   "execution_count": 1,
   "id": "4946b65c-a189-4da3-a713-6418caa00217",
   "metadata": {},
   "outputs": [],
   "source": [
    "import numpy as np\n",
    "from numba import jit\n",
    "from timeit import timeit"
   ]
  },
  {
   "cell_type": "code",
   "execution_count": 2,
   "id": "b4bd169d-ee91-444a-8975-d88efcfda0f5",
   "metadata": {},
   "outputs": [],
   "source": [
    "# Luo vektorit NumPy-pohjaista ajonottoa varten.\n",
    "\n",
    "a_array = np.random.randn(10**3)\n",
    "b_array = np.random.randn(10**3)\n",
    "\n",
    "# Luo listat Python-pohjaista ajonottoa varten.\n",
    "\n",
    "a_list = list(a_array)\n",
    "b_list = list(b_array)"
   ]
  },
  {
   "cell_type": "code",
   "execution_count": 3,
   "id": "deb724d9-ca0d-46df-b246-80679a6f40d0",
   "metadata": {},
   "outputs": [
    {
     "name": "stdout",
     "output_type": "stream",
     "text": [
      "NumPy a_array (head):\n",
      " [-1.90758958  1.49463724  0.69011027  0.73520087 -1.23961907 -0.45800511\n",
      " -1.79565714 -0.92528196 -0.88421983  0.69033765]\n",
      "NumPy b_array (head):\n",
      " [-0.06606541  1.11902081 -0.76396205  1.43647984  0.42032814 -0.60258319\n",
      "  0.6042424   0.94616442  0.4776362  -2.0961957 ]\n",
      "\n",
      "a_list (head):\n",
      " [-1.9075895823115103, 1.4946372381714235, 0.6901102683249891, 0.7352008706302096, -1.2396190696246423, -0.4580051145611728, -1.7956571361294151, -0.925281964412491, -0.8842198263618171, 0.6903376511463566]\n",
      "\n",
      "b_list (head):\n",
      " [-0.0660654077049989, 1.1190208125849004, -0.7639620467663525, 1.4364798426071197, 0.420328137411007, -0.6025831922661248, 0.6042423997746289, 0.9461644242339442, 0.4776361957505405, -2.096195696327441]\n"
     ]
    }
   ],
   "source": [
    "# Tulostetaan kaikista taulukoista ja listoista ensimmäiset 10, jotta nähdään, että \n",
    "# sisältävät lukuja. \n",
    "\n",
    "print(\"NumPy a_array (head):\\n\", a_array[:10])\n",
    "print(\"NumPy b_array (head):\\n\", b_array[:10])\n",
    "print(\"\\na_list (head):\\n\", a_list[:10])\n",
    "print(\"\\nb_list (head):\\n\", b_list[:10])"
   ]
  },
  {
   "cell_type": "code",
   "execution_count": 4,
   "id": "47d5a5d0-a600-430d-8ad3-9dd3d8609ddf",
   "metadata": {},
   "outputs": [],
   "source": [
    "def dot(a, b):\n",
    "    \"\"\"\n",
    "    Takes two vectors as a parameter and returns their dot product.\n",
    "    Param: array-like floats\n",
    "    Return: float\n",
    "    \"\"\"\n",
    "    \n",
    "    dot_product = 0\n",
    "    for a, b in zip(a, b):\n",
    "        dot_product += a * b\n",
    "    \n",
    "    return dot_product"
   ]
  },
  {
   "cell_type": "code",
   "execution_count": 5,
   "id": "1ce66e6e-3ef8-4c4b-827b-432e70b1c9b9",
   "metadata": {},
   "outputs": [],
   "source": [
    "@jit(nopython=True)\n",
    "def dot_numba(a, b):\n",
    "    \"\"\"\n",
    "    Takes two vectors as a parameter and returns their dot product.\n",
    "    Param: array-like floats\n",
    "    Return: float\n",
    "    \"\"\"\n",
    "    \n",
    "    dot_product = 0\n",
    "    for a, b in zip(a, b):\n",
    "        dot_product += a * b\n",
    "    \n",
    "    return dot_product"
   ]
  },
  {
   "cell_type": "code",
   "execution_count": 6,
   "id": "e1e2c7e0-a40e-41b0-a3a5-9fe23154e5c1",
   "metadata": {},
   "outputs": [],
   "source": [
    "@jit(nopython=True)\n",
    "def dot_np_numba(a, b):\n",
    "    \"\"\"\n",
    "    Takes two vectors as a parameter and returns their dot product.\n",
    "    Param: array-like floats\n",
    "    Return: float\n",
    "    \"\"\"\n",
    "    return np.dot(a, b)"
   ]
  },
  {
   "cell_type": "code",
   "execution_count": 7,
   "id": "63c10275-69a2-41de-a138-f31fa8ec00e9",
   "metadata": {},
   "outputs": [
    {
     "name": "stdout",
     "output_type": "stream",
     "text": [
      "2307.059300000002 ms\n"
     ]
    }
   ],
   "source": [
    "# dot-funktion suoritus Python-listoilla \n",
    "list_time = timeit(lambda: dot(a_list, b_list), number=10000)\n",
    "\n",
    "print((list_time * 1000), \"ms\")"
   ]
  },
  {
   "cell_type": "code",
   "execution_count": 8,
   "id": "d542a4e7-ce91-4f2c-b16c-0b6a1bdd5440",
   "metadata": {},
   "outputs": [
    {
     "name": "stdout",
     "output_type": "stream",
     "text": [
      "284.96110000000033 ms\n"
     ]
    }
   ],
   "source": [
    "# Numba-käännettävän funktion ensimmäinen suoritus\n",
    "numba_time = timeit(lambda: dot_numba(a_array, b_array), number=10000)\n",
    "\n",
    "print((numba_time * 1000), \"ms\")"
   ]
  },
  {
   "cell_type": "code",
   "execution_count": 19,
   "id": "bb10d571-f9e6-4475-bbeb-5d739ac3f48a",
   "metadata": {},
   "outputs": [
    {
     "name": "stdout",
     "output_type": "stream",
     "text": [
      "17.605600000024424 ms\n"
     ]
    }
   ],
   "source": [
    "# Numba-käännettävän funktion toinen suoritus\n",
    "numba_time = timeit(lambda: dot_numba(a_array, b_array), number=10000)\n",
    "\n",
    "print((numba_time * 1000), \"ms\")"
   ]
  },
  {
   "cell_type": "code",
   "execution_count": 14,
   "id": "db593798-808d-4cb2-a684-dd8b2146780d",
   "metadata": {},
   "outputs": [
    {
     "name": "stdout",
     "output_type": "stream",
     "text": [
      "28.7343999999905 ms\n"
     ]
    }
   ],
   "source": [
    "# NumPyn oman dot-operaation suoritus\n",
    "numpy_time = timeit(lambda: np.dot(a_array, b_array), number=10000)\n",
    "\n",
    "print((numpy_time * 1000), \"ms\")"
   ]
  },
  {
   "cell_type": "code",
   "execution_count": 11,
   "id": "9340b585-d865-4fb3-9ee0-18bbe3217e77",
   "metadata": {},
   "outputs": [
    {
     "name": "stdout",
     "output_type": "stream",
     "text": [
      "167.9825000000008 ms\n"
     ]
    }
   ],
   "source": [
    "# Numba-käännetyn NumPy-dot-operaation ensimmäinen suoritus\n",
    "numba_plus_numpy_time = timeit(lambda: dot_np_numba(a_array, b_array), number=10000)\n",
    "\n",
    "print((numba_plus_numpy_time * 1000), \"ms\")"
   ]
  },
  {
   "cell_type": "code",
   "execution_count": 24,
   "id": "5e2b15dd-1b3c-4e24-a264-121ab5d979ca",
   "metadata": {},
   "outputs": [
    {
     "name": "stdout",
     "output_type": "stream",
     "text": [
      "9.165899999999283 ms\n"
     ]
    }
   ],
   "source": [
    "# Numba-käännetyn NumPy-dot-operaation toinen suoritus\n",
    "numba_plus_numpy_time = timeit(lambda: dot_np_numba(a_array, b_array), number=10000)\n",
    "\n",
    "print((numba_plus_numpy_time * 1000), \"ms\")"
   ]
  },
  {
   "cell_type": "code",
   "execution_count": 25,
   "id": "a580c06d-8df9-4f2e-958f-84ad622f1dd1",
   "metadata": {},
   "outputs": [
    {
     "name": "stdout",
     "output_type": "stream",
     "text": [
      "Numba: 131.04121983896044\n",
      "NumPy: 80.28910643691064\n",
      "Numba + NumPy: 251.70024765709672\n"
     ]
    }
   ],
   "source": [
    "# Lasketaan nopeutuskertoimet verrattuna Pythonin list-toteutukseen\n",
    "\n",
    "numba_x = list_time / numba_time\n",
    "numpy_x = list_time / numpy_time\n",
    "numba_plus_numpy_x = list_time / numba_plus_numpy_time\n",
    "\n",
    "print(\"Numba:\", numba_x)\n",
    "print(\"NumPy:\", numpy_x)\n",
    "print(\"Numba + NumPy:\", numba_plus_numpy_x)"
   ]
  },
  {
   "cell_type": "code",
   "execution_count": 16,
   "id": "72e69294-9fb9-40d8-a2a0-58bc56d9f635",
   "metadata": {},
   "outputs": [
    {
     "data": {
      "image/png": "[encoded data removed]",
      "text/plain": [
       "<Figure size 432x288 with 1 Axes>"
      ]
     },
     "metadata": {
      "needs_background": "light"
     },
     "output_type": "display_data"
    }
   ],
   "source": [
    "fig = plt.figure()\n",
    "ax = fig.add_axes([0,0,1,1])\n",
    "langs = ['Numba', 'NumPy', 'NumPy + Numba']\n",
    "students = [numba_x, numpy_x, numba_plus_numpy_x]\n",
    "ax.bar(langs,students)\n",
    "plt.show()"
   ]
  },
  {
   "cell_type": "code",
   "execution_count": null,
   "id": "318aad85-3361-4db4-bbb5-e38646491c5e",
   "metadata": {},
   "outputs": [],
   "source": []
  }
 ],
 "metadata": {
  "kernelspec": {
   "display_name": "Python 3",
   "language": "python",
   "name": "python3"
  },
  "language_info": {
   "codemirror_mode": {
    "name": "ipython",
    "version": 3
   },
   "file_extension": ".py",
   "mimetype": "text/x-python",
   "name": "python",
   "nbconvert_exporter": "python",
   "pygments_lexer": "ipython3",
   "version": "3.8.10"
  }
 },
 "nbformat": 4,
 "nbformat_minor": 5
}
