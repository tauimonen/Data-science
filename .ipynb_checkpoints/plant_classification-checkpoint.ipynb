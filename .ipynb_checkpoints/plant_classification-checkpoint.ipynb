{
 "cells": [
  {
   "cell_type": "code",
   "execution_count": null,
   "id": "13c4d2da-dc2f-4fcc-bacf-787a91659375",
   "metadata": {},
   "outputs": [],
   "source": [
    "# Plant classification using iris-dataset. Using Gaussian naive Bayes to fit the training data \n",
    "# and predict labels of the test data."
   ]
  },
  {
   "cell_type": "code",
   "execution_count": 1,
   "id": "6cb82d25-6ed6-4e68-b332-363aef3c73cf",
   "metadata": {},
   "outputs": [],
   "source": [
    "from sklearn.datasets import load_iris\n",
    "from sklearn.model_selection import train_test_split\n",
    "from sklearn import naive_bayes\n",
    "from sklearn import metrics"
   ]
  },
  {
   "cell_type": "code",
   "execution_count": 2,
   "id": "fdbf86b4-a4da-4add-8a3d-3522da764696",
   "metadata": {},
   "outputs": [],
   "source": [
    "def plant_classification():\n",
    "    # Loading data\n",
    "    iris = load_iris()\n",
    "\n",
    "    X = iris.data\n",
    "    y = iris.target\n",
    "    \n",
    "    # Classifier \"c\"\n",
    "    c = naive_bayes.GaussianNB()\n",
    "    # Splitting the data. Result is deterministic (r-state=0). Using training set size of 80% of the whole data.\n",
    "    train_x, test_x, train_y, test_y = train_test_split(X, y, test_size = 0.20, random_state = 0)\n",
    "    # Training \n",
    "    c.fit(train_x, train_y)\n",
    "    # Predicting\n",
    "    pred = c.predict(test_x) \n",
    "    # Scoring the accuracy\n",
    "    score = metrics.accuracy_score(pred, test_y)\n",
    "\n",
    "    return score"
   ]
  },
  {
   "cell_type": "code",
   "execution_count": 3,
   "id": "1b724f06-a47a-44a9-b1f9-217e2c61f2bd",
   "metadata": {},
   "outputs": [
    {
     "name": "stdout",
     "output_type": "stream",
     "text": [
      "Accuracy is 0.9666666666666667\n"
     ]
    }
   ],
   "source": [
    "print(f\"Accuracy is {plant_classification()}\")"
   ]
  },
  {
   "cell_type": "code",
   "execution_count": null,
   "id": "f49a4f2e-6794-4cff-8b04-c78b62946b34",
   "metadata": {},
   "outputs": [],
   "source": []
  }
 ],
 "metadata": {
  "kernelspec": {
   "display_name": "Python 3",
   "language": "python",
   "name": "python3"
  },
  "language_info": {
   "codemirror_mode": {
    "name": "ipython",
    "version": 3
   },
   "file_extension": ".py",
   "mimetype": "text/x-python",
   "name": "python",
   "nbconvert_exporter": "python",
   "pygments_lexer": "ipython3",
   "version": "3.8.10"
  }
 },
 "nbformat": 4,
 "nbformat_minor": 5
}
