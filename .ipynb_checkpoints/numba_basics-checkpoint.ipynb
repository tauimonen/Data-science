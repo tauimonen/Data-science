{
 "cells": [
  {
   "cell_type": "code",
   "execution_count": 5,
   "id": "6e98f238-84e9-42a7-8996-4e3848618066",
   "metadata": {},
   "outputs": [],
   "source": [
    "import numpy as np\n",
    "import numba\n",
    "from numba import jit"
   ]
  },
  {
   "cell_type": "code",
   "execution_count": 6,
   "id": "1e113340-2f39-46c4-9c4d-e9fc85db6974",
   "metadata": {},
   "outputs": [
    {
     "name": "stdout",
     "output_type": "stream",
     "text": [
      "0.53.1\n"
     ]
    }
   ],
   "source": [
    "print(numba.__version__)"
   ]
  },
  {
   "cell_type": "markdown",
   "id": "5f023e89-44f4-4def-a491-75b1ee895162",
   "metadata": {},
   "source": [
    "Numba uses Python decorators to transform Python functions into functions that compile themselves. The most common Numba decorator is @jit, which creates a normal function for execution on the CPU.\n",
    "\n",
    "Numba works best on numerical functions that make use of NumPy arrays. Here's an example:"
   ]
  },
  {
   "cell_type": "code",
   "execution_count": 7,
   "id": "bc661da8-cca5-4162-90e2-e214c256eb8f",
   "metadata": {},
   "outputs": [],
   "source": [
    "@jit(nopython=True)\n",
    "def go_fast(a):\n",
    "    \"\"\"\n",
    "    Fuction is compiled to machine code when called the first time.\n",
    "    \"\"\"\n",
    "    trace = 0.0\n",
    "    # assuming squqre input matrix\n",
    "    for i in range(a.shape[0]): # Numba likes loops\n",
    "        trace += np.tanh(a[i, i]) # Numba likes NumPy functions\n",
    "    \n",
    "    return a + trace # Numba likes broadcasting"
   ]
  },
  {
   "cell_type": "markdown",
   "id": "e226d636-d229-473d-8362-a47329bd2f26",
   "metadata": {},
   "source": [
    "The nopython=True option requires that the function be fully compiled (so that the Python interpreter calls are completely removed), otherwise an exception is raised. These exceptions usually indicate places in the function that need to be modified in order to achieve better-than-Python performance. We strongly recommend always using nopython=True.\n",
    "\n",
    "The function has not yet been compiled. To do that, we need to call the function:"
   ]
  },
  {
   "cell_type": "code",
   "execution_count": 8,
   "id": "f6888d81-016f-44af-838b-26aa349378e9",
   "metadata": {},
   "outputs": [
    {
     "data": {
      "text/plain": [
       "array([[  9.,  10.,  11.,  12.,  13.,  14.,  15.,  16.,  17.,  18.],\n",
       "       [ 19.,  20.,  21.,  22.,  23.,  24.,  25.,  26.,  27.,  28.],\n",
       "       [ 29.,  30.,  31.,  32.,  33.,  34.,  35.,  36.,  37.,  38.],\n",
       "       [ 39.,  40.,  41.,  42.,  43.,  44.,  45.,  46.,  47.,  48.],\n",
       "       [ 49.,  50.,  51.,  52.,  53.,  54.,  55.,  56.,  57.,  58.],\n",
       "       [ 59.,  60.,  61.,  62.,  63.,  64.,  65.,  66.,  67.,  68.],\n",
       "       [ 69.,  70.,  71.,  72.,  73.,  74.,  75.,  76.,  77.,  78.],\n",
       "       [ 79.,  80.,  81.,  82.,  83.,  84.,  85.,  86.,  87.,  88.],\n",
       "       [ 89.,  90.,  91.,  92.,  93.,  94.,  95.,  96.,  97.,  98.],\n",
       "       [ 99., 100., 101., 102., 103., 104., 105., 106., 107., 108.]])"
      ]
     },
     "execution_count": 8,
     "metadata": {},
     "output_type": "execute_result"
    }
   ],
   "source": [
    "x = np.arange(100).reshape(10, 10)\n",
    "go_fast(x)"
   ]
  },
  {
   "cell_type": "markdown",
   "id": "24084531-5bcb-428b-bef1-52fd27f59fd7",
   "metadata": {},
   "source": [
    "This first time the function was called, a new version of the function was compiled and executed. If we call it again, the previously generated function executions without another compilation step."
   ]
  },
  {
   "cell_type": "code",
   "execution_count": 9,
   "id": "2a9a6e3d-16e3-4f77-9413-ab1b5897848b",
   "metadata": {},
   "outputs": [
    {
     "data": {
      "text/plain": [
       "array([[  9.,  11.,  13.,  15.,  17.,  19.,  21.,  23.,  25.,  27.],\n",
       "       [ 29.,  31.,  33.,  35.,  37.,  39.,  41.,  43.,  45.,  47.],\n",
       "       [ 49.,  51.,  53.,  55.,  57.,  59.,  61.,  63.,  65.,  67.],\n",
       "       [ 69.,  71.,  73.,  75.,  77.,  79.,  81.,  83.,  85.,  87.],\n",
       "       [ 89.,  91.,  93.,  95.,  97.,  99., 101., 103., 105., 107.],\n",
       "       [109., 111., 113., 115., 117., 119., 121., 123., 125., 127.],\n",
       "       [129., 131., 133., 135., 137., 139., 141., 143., 145., 147.],\n",
       "       [149., 151., 153., 155., 157., 159., 161., 163., 165., 167.],\n",
       "       [169., 171., 173., 175., 177., 179., 181., 183., 185., 187.],\n",
       "       [189., 191., 193., 195., 197., 199., 201., 203., 205., 207.]])"
      ]
     },
     "execution_count": 9,
     "metadata": {},
     "output_type": "execute_result"
    }
   ],
   "source": [
    "go_fast(2*x)"
   ]
  },
  {
   "cell_type": "markdown",
   "id": "6360abbe-0ba8-41f6-addb-c708139321e3",
   "metadata": {},
   "source": [
    "To benchmark Numba-compiled functions, it is important to time them without including the compilation step, since the compilation of a given function will only happen once for each set of input types, but the function will be called many times.\n",
    "\n",
    "In a notebook, the %timeit magic function is the best to use because it runs the function many times in a loop to get a more accurate estimate of the execution time of short functions."
   ]
  },
  {
   "cell_type": "code",
   "execution_count": 10,
   "id": "65cd22d4-20d2-4fd9-96c8-e1ee517fb025",
   "metadata": {},
   "outputs": [
    {
     "name": "stdout",
     "output_type": "stream",
     "text": [
      "1 µs ± 12 ns per loop (mean ± std. dev. of 7 runs, 1000000 loops each)\n"
     ]
    }
   ],
   "source": [
    "%timeit go_fast(x)"
   ]
  },
  {
   "cell_type": "markdown",
   "id": "22bd9a44-3d62-49c6-b33c-5a996ea51c32",
   "metadata": {},
   "source": [
    "Let's compare to the uncompiled function. Numba-compiled function have a special .py_func attribute which is the original uncompiled Python function. We should first verify we get the same results:"
   ]
  },
  {
   "cell_type": "code",
   "execution_count": 11,
   "id": "721ed4cf-7a1a-406e-8901-5a95be14d742",
   "metadata": {},
   "outputs": [],
   "source": [
    "np.testing.assert_array_equal(go_fast(x), go_fast.py_func(x))"
   ]
  },
  {
   "cell_type": "markdown",
   "id": "60d97dbf-f56e-4f89-9aea-3f467d663afd",
   "metadata": {},
   "source": [
    "And test the speed of the Python version:"
   ]
  },
  {
   "cell_type": "code",
   "execution_count": 12,
   "id": "bedb38b0-843c-4645-b9ac-8a67f48232f6",
   "metadata": {},
   "outputs": [
    {
     "name": "stdout",
     "output_type": "stream",
     "text": [
      "32.1 µs ± 341 ns per loop (mean ± std. dev. of 7 runs, 10000 loops each)\n"
     ]
    }
   ],
   "source": [
    "%timeit go_fast.py_func(x)"
   ]
  },
  {
   "cell_type": "markdown",
   "id": "7c78d38a-3c54-4eec-bba4-2d54d6e93588",
   "metadata": {},
   "source": [
    "The original Python function is more than 20x slower than the Numba-compiled version. However, the Numba function used explicit loops, which are very fast in Numba and not very fast in Python. Our example function is so simple, we can create an alternate version of go_fast using only NumPy array expressions:"
   ]
  },
  {
   "cell_type": "code",
   "execution_count": 16,
   "id": "c4ab1d82-1bc9-4534-9231-9df50e8adf0a",
   "metadata": {},
   "outputs": [],
   "source": [
    "def go_numpy(a):\n",
    "    return a + np.tanh(np.diagonal(a)).sum()"
   ]
  },
  {
   "cell_type": "code",
   "execution_count": 17,
   "id": "09bf772a-f7c6-4574-91c8-c9e4917b75f4",
   "metadata": {},
   "outputs": [],
   "source": [
    "np.testing.assert_array_equal(go_numpy(x), go_fast(x))"
   ]
  },
  {
   "cell_type": "code",
   "execution_count": 18,
   "id": "e8913386-44c9-443f-a255-62d8d4092c38",
   "metadata": {},
   "outputs": [
    {
     "ename": "SyntaxError",
     "evalue": "invalid syntax (<ipython-input-18-d2381e37b803>, line 2)",
     "output_type": "error",
     "traceback": [
      "\u001b[1;36m  File \u001b[1;32m\"<ipython-input-18-d2381e37b803>\"\u001b[1;36m, line \u001b[1;32m2\u001b[0m\n\u001b[1;33m    get_ipython().run_line_magic('timeit', 'go_numpy(x)')\u001b[0m\n\u001b[1;37m    ^\u001b[0m\n\u001b[1;31mSyntaxError\u001b[0m\u001b[1;31m:\u001b[0m invalid syntax\n"
     ]
    }
   ],
   "source": [
    "@numba.njit()\n",
    "    %timeit go_numpy(x)"
   ]
  },
  {
   "cell_type": "markdown",
   "id": "15c65d74-58b3-4226-8eed-41c136d0d5e9",
   "metadata": {},
   "source": [
    "Numba works best when used with NumPy arrays, but Numba also supports other data types out of the box:\n",
    "\n",
    "int, float\n",
    "tuple, namedtuple\n",
    "list (with some restrictions)\n",
    "... and others. See the Reference Manual for more details.\n",
    "In particular, tuples are useful for returning multiple values from functions:"
   ]
  },
  {
   "cell_type": "code",
   "execution_count": 15,
   "id": "9f638bea-a1e9-4e40-8f34-1b8596ac6dc9",
   "metadata": {},
   "outputs": [],
   "source": [
    "import random\n",
    "\n",
    "@jit(nopython=True)\n",
    "def spherical_to_cartesian(r, theta, phi):\n",
    "    '''Convert spherical coordinates (physics convention) to cartesian coordinates'''\n",
    "    sin_theta = np.sin(theta)\n",
    "    x = r * sin_theta * np.cos(phi)\n",
    "    y = r * sin_theta * np.sin(phi)\n",
    "    z = r * np.cos(theta)\n",
    "    \n",
    "    return x, y, z # return a tuple\n",
    "    \n",
    "@jit(nopython=True)\n",
    "def random_directions(n, r):\n",
    "    '''Return ``n`` 3-vectors in random directions with radius ``r``'''\n",
    "    out = np.empty(shape=(n,3), dtype=np.float64)\n",
    "    \n",
    "    for i in range(n):\n",
    "        # Pick directions randomly in solid angle\n",
    "        phi = random.uniform(0, 2*np.pi)\n",
    "        theta = np.arccos(random.uniform(-1, 1))\n",
    "        # unpack a tuple\n",
    "        x, y, z = spherical_to_cartesian(r, theta, phi)\n",
    "        out[i] = x, y, z\n",
    "    \n",
    "    return out"
   ]
  },
  {
   "cell_type": "code",
   "execution_count": 16,
   "id": "74330e05-7f5e-4f17-97d5-e516baa64072",
   "metadata": {},
   "outputs": [
    {
     "data": {
      "text/plain": [
       "array([[ 0.14195161, -0.96721182,  0.21059685],\n",
       "       [ 0.16572714, -0.62798423, -0.76037512],\n",
       "       [ 0.25065607, -0.9633762 ,  0.09527763],\n",
       "       [ 0.18393569,  0.931642  , -0.31338609],\n",
       "       [ 0.28876905,  0.83635955,  0.46595616],\n",
       "       [ 0.48216994, -0.59350326, -0.64441138],\n",
       "       [ 0.45822492,  0.88837962, -0.02848797],\n",
       "       [-0.46840621,  0.88350602, -0.00356896],\n",
       "       [ 0.91393009,  0.30252424,  0.27057508],\n",
       "       [-0.72112161, -0.19395885,  0.66510419]])"
      ]
     },
     "execution_count": 16,
     "metadata": {},
     "output_type": "execute_result"
    }
   ],
   "source": [
    "random_directions(10, 1.0)"
   ]
  },
  {
   "cell_type": "markdown",
   "id": "0306f547-dc8e-452f-88c0-7cc9cede9884",
   "metadata": {},
   "source": [
    "When Numba is translating Python to machine code, it uses the LLVM library to do most of the optimization and final code generation. This automatically enables a wide range of optimizations that you don't even have to think about. If we were to inspect the output of the compiler for the previous random directions example, we would find that:\n",
    "\n",
    "The function body for spherical_to_cartesian() was inlined directly into the body of the for loop in random_directions, eliminating the overhead of making a function call.\n",
    "The separate calls to sin() and cos() were combined into a single, faster call to an internal sincos() function.\n",
    "These kinds of cross-function optimizations are one of the reasons that Numba can sometimes outperform compiled NumPy code."
   ]
  }
 ],
 "metadata": {
  "kernelspec": {
   "display_name": "Python 3",
   "language": "python",
   "name": "python3"
  },
  "language_info": {
   "codemirror_mode": {
    "name": "ipython",
    "version": 3
   },
   "file_extension": ".py",
   "mimetype": "text/x-python",
   "name": "python",
   "nbconvert_exporter": "python",
   "pygments_lexer": "ipython3",
   "version": "3.8.10"
  }
 },
 "nbformat": 4,
 "nbformat_minor": 5
}
