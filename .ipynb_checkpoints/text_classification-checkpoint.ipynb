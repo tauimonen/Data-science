{
 "cells": [
  {
   "cell_type": "code",
   "execution_count": 25,
   "metadata": {},
   "outputs": [],
   "source": [
    "from collections import Counter\n",
    "import urllib.request\n",
    "from lxml import etree\n",
    " \n",
    "import numpy as np\n",
    "import pandas as pd\n",
    " \n",
    "from sklearn.naive_bayes import MultinomialNB\n",
    "from sklearn.model_selection import cross_val_score\n",
    "from sklearn import model_selection"
   ]
  },
  {
   "cell_type": "code",
   "execution_count": 2,
   "metadata": {},
   "outputs": [],
   "source": [
    "alphabet=\"abcdefghijklmnopqrstuvwxyzäö-\"\n",
    "alphabet_set = set(alphabet)"
   ]
  },
  {
   "cell_type": "code",
   "execution_count": 10,
   "metadata": {},
   "outputs": [],
   "source": [
    "# Returns a list of Finnish words\n",
    "def load_finnish():\n",
    "    finnish_url=\"https://www.cs.helsinki.fi/u/jttoivon/dap/data/kotus-sanalista_v1/kotus-sanalista_v1.xml\"\n",
    "    filename=\"kotus.txt\"\n",
    "    load_from_net=False\n",
    "    if load_from_net:\n",
    "        with urllib.request.urlopen(finnish_url) as data:\n",
    "            lines=[]\n",
    "            for line in data:\n",
    "                lines.append(line.decode('utf-8'))\n",
    "        doc=\"\".join(lines)\n",
    "    else:\n",
    "        with open(filename, \"rb\") as data:\n",
    "            doc=data.read()\n",
    "    tree = etree.XML(doc)\n",
    "    s_elements = tree.xpath('/kotus-sanalista/st/s')\n",
    "    return list(map(lambda s: s.text, s_elements))"
   ]
  },
  {
   "cell_type": "code",
   "execution_count": 19,
   "metadata": {},
   "outputs": [],
   "source": [
    "# Returns a list of English words\n",
    "def load_english():\n",
    "    with open(\"words.txt\", encoding=\"utf-8\") as data:\n",
    "        lines=map(lambda s: s.rstrip(), data.readlines())\n",
    "    return lines"
   ]
  },
  {
   "cell_type": "code",
   "execution_count": 20,
   "metadata": {},
   "outputs": [],
   "source": [
    "# Returns feature matrix\n",
    "def get_features(a):\n",
    "    feature_matrix = pd.DataFrame(index=a, columns=list(alphabet), data=[Counter(x) for x in a])\n",
    "    feature_matrix.fillna(0, inplace=True)\n",
    "    feature_matrix = np.array(feature_matrix)\n",
    "\n",
    "    return feature_matrix"
   ]
  },
  {
   "cell_type": "code",
   "execution_count": 21,
   "metadata": {},
   "outputs": [],
   "source": [
    "# Returns True, if all the chars are valid\n",
    "def contains_valid_chars(s):\n",
    "    for char in s:\n",
    "        if char not in alphabet_set:\n",
    "            return False\n",
    "    return True"
   ]
  },
  {
   "cell_type": "code",
   "execution_count": 22,
   "metadata": {},
   "outputs": [],
   "source": [
    "def get_features_and_labels():\n",
    "    words_fin = load_finnish()\n",
    "    words_eng = load_english()\n",
    "    words_fin_ = []\n",
    "    words_eng_ = []\n",
    "\n",
    "    for word in words_fin:\n",
    "        word = word.lower()\n",
    "        if contains_valid_chars(word):\n",
    "            words_fin_.append(word)\n",
    "    \n",
    "    for word in words_eng:\n",
    "        if contains_valid_chars(word.lower()) and word[0].islower():\n",
    "            words_eng_.append(word.lower())\n",
    " \n",
    "    features_all = get_features(words_fin_ + words_eng_)\n",
    "    labels_all = np.hstack([[0]*len(words_fin_), [1]*len(words_eng_)])\n",
    "\n",
    "    return features_all, labels_all"
   ]
  },
  {
   "cell_type": "code",
   "execution_count": 23,
   "metadata": {},
   "outputs": [],
   "source": [
    "def word_classification():\n",
    "    X, y = get_features_and_labels()\n",
    "    model = MultinomialNB()\n",
    "    accuracy_scores = cross_val_score(model, X, y, cv = model_selection.KFold(n_splits=5, shuffle=True, random_state=0))\n",
    "\n",
    "    return accuracy_scores"
   ]
  },
  {
   "cell_type": "code",
   "execution_count": 27,
   "metadata": {
    "tags": []
   },
   "outputs": [
    {
     "name": "stdout",
     "output_type": "stream",
     "text": [
      "[0.89370104 0.89678673 0.89758288 0.89685042 0.89643642]\n"
     ]
    }
   ],
   "source": [
    "# Printing accuracy scores\n",
    "print(word_classification())"
   ]
  },
  {
   "cell_type": "code",
   "execution_count": null,
   "metadata": {},
   "outputs": [],
   "source": []
  }
 ],
 "metadata": {
  "kernelspec": {
   "display_name": "Python 3",
   "language": "python",
   "name": "python3"
  },
  "language_info": {
   "codemirror_mode": {
    "name": "ipython",
    "version": 3
   },
   "file_extension": ".py",
   "mimetype": "text/x-python",
   "name": "python",
   "nbconvert_exporter": "python",
   "pygments_lexer": "ipython3",
   "version": "3.8.10"
  }
 },
 "nbformat": 4,
 "nbformat_minor": 4
}
