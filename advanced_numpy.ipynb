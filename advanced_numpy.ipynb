{
 "cells": [
  {
   "cell_type": "code",
   "execution_count": 1,
   "id": "9f78e81b-9013-416c-b3ee-6af25ea7eae7",
   "metadata": {},
   "outputs": [],
   "source": [
    "\"\"\"\n",
    "NumPy Training\n",
    "\"\"\"\n",
    "\n",
    "import pandas as pd\n",
    "import numpy as np"
   ]
  },
  {
   "cell_type": "code",
   "execution_count": 3,
   "id": "03f5348e-cd06-4fb4-a47a-2febd9c0e493",
   "metadata": {},
   "outputs": [
    {
     "name": "stdout",
     "output_type": "stream",
     "text": [
      "1.20.3\n"
     ]
    }
   ],
   "source": [
    "print(np.__version__)"
   ]
  },
  {
   "cell_type": "code",
   "execution_count": 4,
   "id": "89dbe726-229a-4926-b2a3-6b93b82defd3",
   "metadata": {},
   "outputs": [
    {
     "data": {
      "text/plain": [
       "[[100, 200, 50, 400], [50, 0, 0, 100], [350, 100, 50, 200]]"
      ]
     },
     "execution_count": 4,
     "metadata": {},
     "output_type": "execute_result"
    }
   ],
   "source": [
    "data = [[100, 200, 50, 400], [50, 0, 0, 100], [350, 100, 50, 200]]\n",
    "data"
   ]
  },
  {
   "cell_type": "code",
   "execution_count": 5,
   "id": "f59d426e-ed9b-4b51-bcbd-c13cb71a82b5",
   "metadata": {},
   "outputs": [
    {
     "data": {
      "text/plain": [
       "array([[100, 200,  50, 400],\n",
       "       [ 50,   0,   0, 100],\n",
       "       [350, 100,  50, 200]])"
      ]
     },
     "execution_count": 5,
     "metadata": {},
     "output_type": "execute_result"
    }
   ],
   "source": [
    "a = np.array(data)\n",
    "a"
   ]
  },
  {
   "cell_type": "code",
   "execution_count": 6,
   "id": "8c026407-98d7-473a-81e2-ee312bc7d229",
   "metadata": {},
   "outputs": [
    {
     "name": "stdout",
     "output_type": "stream",
     "text": [
      "number elements:  12\n",
      "number of dimnesions:  2\n",
      "shape:  (3, 4)\n",
      "data type:  int32\n",
      "strides:  (16, 4)\n",
      "flags: \n",
      "  C_CONTIGUOUS : True\n",
      "  F_CONTIGUOUS : False\n",
      "  OWNDATA : True\n",
      "  WRITEABLE : True\n",
      "  ALIGNED : True\n",
      "  WRITEBACKIFCOPY : False\n",
      "  UPDATEIFCOPY : False\n",
      "\n"
     ]
    }
   ],
   "source": [
    "def print_info(a):\n",
    "    print(\"number elements: \", a.size)\n",
    "    print(\"number of dimnesions: \", a.ndim)\n",
    "    print(\"shape: \", a.shape)\n",
    "    print(\"data type: \", a.dtype)\n",
    "    print(\"strides: \", a.strides)\n",
    "    print(\"flags: \")\n",
    "    print(a.flags)\n",
    "    \n",
    "print_info(a)"
   ]
  },
  {
   "cell_type": "code",
   "execution_count": 7,
   "id": "e9f372e2-6fec-448d-8d7f-36fedcd46f36",
   "metadata": {},
   "outputs": [
    {
     "name": "stdout",
     "output_type": "stream",
     "text": [
      "<memory at 0x0000017C5F7F15F0>\n"
     ]
    }
   ],
   "source": [
    "print(a.data)"
   ]
  },
  {
   "cell_type": "code",
   "execution_count": 8,
   "id": "b07ee2f2-1142-4872-b20d-3add33897a23",
   "metadata": {},
   "outputs": [],
   "source": [
    "abytes = a.ravel().view(dtype=np.uint8)"
   ]
  },
  {
   "cell_type": "code",
   "execution_count": 9,
   "id": "6753087f-bb11-4745-a149-e9b3c235c73a",
   "metadata": {},
   "outputs": [
    {
     "name": "stdout",
     "output_type": "stream",
     "text": [
      "[100   0   0   0 200   0   0   0  50   0   0   0 144   1   0   0  50   0\n",
      "   0   0   0   0   0   0]\n"
     ]
    }
   ],
   "source": [
    "print(abytes[:24])"
   ]
  },
  {
   "cell_type": "code",
   "execution_count": 10,
   "id": "4a45c288-90a0-466b-8ca8-b535100a09bc",
   "metadata": {},
   "outputs": [
    {
     "name": "stdout",
     "output_type": "stream",
     "text": [
      "number elements:  48\n",
      "number of dimnesions:  1\n",
      "shape:  (48,)\n",
      "data type:  uint8\n",
      "strides:  (1,)\n",
      "flags: \n",
      "  C_CONTIGUOUS : True\n",
      "  F_CONTIGUOUS : True\n",
      "  OWNDATA : False\n",
      "  WRITEABLE : True\n",
      "  ALIGNED : True\n",
      "  WRITEBACKIFCOPY : False\n",
      "  UPDATEIFCOPY : False\n",
      "\n"
     ]
    }
   ],
   "source": [
    "print_info(abytes)"
   ]
  },
  {
   "cell_type": "code",
   "execution_count": 11,
   "id": "989404fd-0060-4fbf-a73d-3fde2e034f73",
   "metadata": {},
   "outputs": [
    {
     "data": {
      "text/plain": [
       "array([1, 2, 3])"
      ]
     },
     "execution_count": 11,
     "metadata": {},
     "output_type": "execute_result"
    }
   ],
   "source": [
    "np.array([1,2,3])"
   ]
  },
  {
   "cell_type": "code",
   "execution_count": 12,
   "id": "352e8846-20da-4c5b-a8ba-9bf6eadda06a",
   "metadata": {},
   "outputs": [
    {
     "data": {
      "text/plain": [
       "array([[1, 2, 3],\n",
       "       [4, 5, 6]])"
      ]
     },
     "execution_count": 12,
     "metadata": {},
     "output_type": "execute_result"
    }
   ],
   "source": [
    "np.array([[1,2,3], [4,5,6]])"
   ]
  },
  {
   "cell_type": "code",
   "execution_count": 13,
   "id": "7c1cc010-20ea-45ea-89d7-a363d6e31646",
   "metadata": {},
   "outputs": [
    {
     "data": {
      "text/plain": [
       "array([[[1, 2],\n",
       "        [3, 4]],\n",
       "\n",
       "       [[5, 6],\n",
       "        [7, 8]]])"
      ]
     },
     "execution_count": 13,
     "metadata": {},
     "output_type": "execute_result"
    }
   ],
   "source": [
    "np.array([[[1,2], [3,4]], [[5,6], [7,8]]])"
   ]
  },
  {
   "cell_type": "code",
   "execution_count": 14,
   "id": "6009547f-7394-4531-a20e-03fe5ad14505",
   "metadata": {},
   "outputs": [
    {
     "data": {
      "text/plain": [
       "array([[0., 0., 0., 0.],\n",
       "       [0., 0., 0., 0.],\n",
       "       [0., 0., 0., 0.],\n",
       "       [0., 0., 0., 0.],\n",
       "       [0., 0., 0., 0.]])"
      ]
     },
     "execution_count": 14,
     "metadata": {},
     "output_type": "execute_result"
    }
   ],
   "source": [
    "np.zeros((5,4))"
   ]
  },
  {
   "cell_type": "code",
   "execution_count": 15,
   "id": "edc5d372-c986-47a1-b19d-24d9d3f7f8b8",
   "metadata": {},
   "outputs": [
    {
     "data": {
      "text/plain": [
       "array([[0, 0, 0, 0],\n",
       "       [0, 0, 0, 0],\n",
       "       [0, 0, 0, 0],\n",
       "       [0, 0, 0, 0],\n",
       "       [0, 0, 0, 0]])"
      ]
     },
     "execution_count": 15,
     "metadata": {},
     "output_type": "execute_result"
    }
   ],
   "source": [
    "a = np.zeros((5,4), dtype=int)\n",
    "a"
   ]
  },
  {
   "cell_type": "code",
   "execution_count": 16,
   "id": "fb9ba394-4e55-41ab-834d-07dd51003826",
   "metadata": {},
   "outputs": [
    {
     "data": {
      "text/plain": [
       "dtype('int32')"
      ]
     },
     "execution_count": 16,
     "metadata": {},
     "output_type": "execute_result"
    }
   ],
   "source": [
    "a.dtype"
   ]
  },
  {
   "cell_type": "code",
   "execution_count": 17,
   "id": "6e3b2537-9586-4de5-a9c7-cd249b7bfc46",
   "metadata": {},
   "outputs": [
    {
     "data": {
      "text/plain": [
       "array([[1., 1., 1.],\n",
       "       [1., 1., 1.],\n",
       "       [1., 1., 1.],\n",
       "       [1., 1., 1.]])"
      ]
     },
     "execution_count": 17,
     "metadata": {},
     "output_type": "execute_result"
    }
   ],
   "source": [
    "np.ones((4,3))"
   ]
  },
  {
   "cell_type": "code",
   "execution_count": 18,
   "id": "b195b0b2-5980-4534-9a44-1093dd0cbc02",
   "metadata": {},
   "outputs": [
    {
     "data": {
      "text/plain": [
       "array([[1, 1, 1],\n",
       "       [1, 1, 1],\n",
       "       [1, 1, 1],\n",
       "       [1, 1, 1]])"
      ]
     },
     "execution_count": 18,
     "metadata": {},
     "output_type": "execute_result"
    }
   ],
   "source": [
    "np.ones((4,3), dtype=int)"
   ]
  },
  {
   "cell_type": "code",
   "execution_count": 19,
   "id": "d5634290-c206-42e5-b5e1-55ae591251de",
   "metadata": {},
   "outputs": [
    {
     "data": {
      "text/plain": [
       "array([[5, 5, 5],\n",
       "       [5, 5, 5],\n",
       "       [5, 5, 5]])"
      ]
     },
     "execution_count": 19,
     "metadata": {},
     "output_type": "execute_result"
    }
   ],
   "source": [
    "np.full((3,3), fill_value=5)"
   ]
  },
  {
   "cell_type": "code",
   "execution_count": 20,
   "id": "c72b468b-cb6d-43e4-939f-5388b302e2c2",
   "metadata": {},
   "outputs": [
    {
     "data": {
      "text/plain": [
       "array([[10, 10, 10, 10, 10, 10, 10, 10, 10, 10],\n",
       "       [10, 10, 10, 10, 10, 10, 10, 10, 10, 10],\n",
       "       [10, 10, 10, 10, 10, 10, 10, 10, 10, 10],\n",
       "       [10, 10, 10, 10, 10, 10, 10, 10, 10, 10],\n",
       "       [10, 10, 10, 10, 10, 10, 10, 10, 10, 10],\n",
       "       [10, 10, 10, 10, 10, 10, 10, 10, 10, 10],\n",
       "       [10, 10, 10, 10, 10, 10, 10, 10, 10, 10],\n",
       "       [10, 10, 10, 10, 10, 10, 10, 10, 10, 10],\n",
       "       [10, 10, 10, 10, 10, 10, 10, 10, 10, 10],\n",
       "       [10, 10, 10, 10, 10, 10, 10, 10, 10, 10]])"
      ]
     },
     "execution_count": 20,
     "metadata": {},
     "output_type": "execute_result"
    }
   ],
   "source": [
    "np.full((10,10), fill_value=10)"
   ]
  },
  {
   "cell_type": "code",
   "execution_count": 21,
   "id": "16cbec9d-3767-4e9c-981e-6d6f056cdc8d",
   "metadata": {},
   "outputs": [
    {
     "data": {
      "text/plain": [
       "array([[0.00000000e+000, 0.00000000e+000, 0.00000000e+000,\n",
       "        0.00000000e+000],\n",
       "       [0.00000000e+000, 6.73905541e-321, 1.24610723e-306,\n",
       "        1.69119873e-306]])"
      ]
     },
     "execution_count": 21,
     "metadata": {},
     "output_type": "execute_result"
    }
   ],
   "source": [
    "\"\"\"empty, unlike zeros, does not set the array values to zero, and may \n",
    "therefore be marginally faster. On the other hand, it requires the user\n",
    "to manually set all the values in the array, and should be used with \n",
    "caution.\"\"\"\n",
    "\n",
    "np.empty((2,4))"
   ]
  },
  {
   "cell_type": "code",
   "execution_count": 22,
   "id": "10dd305a-17e9-4193-ab76-b82c8d5801df",
   "metadata": {},
   "outputs": [
    {
     "data": {
      "text/plain": [
       "array([[1, 0, 0, 0, 0],\n",
       "       [0, 1, 0, 0, 0],\n",
       "       [0, 0, 1, 0, 0],\n",
       "       [0, 0, 0, 1, 0],\n",
       "       [0, 0, 0, 0, 1]])"
      ]
     },
     "execution_count": 22,
     "metadata": {},
     "output_type": "execute_result"
    }
   ],
   "source": [
    "np.eye(5, dtype=int)"
   ]
  },
  {
   "cell_type": "code",
   "execution_count": 23,
   "id": "fd64ec75-e606-4837-b080-05f10ac1db18",
   "metadata": {},
   "outputs": [
    {
     "data": {
      "text/plain": [
       "array([[0, 1, 0, 0, 0],\n",
       "       [0, 0, 1, 0, 0],\n",
       "       [0, 0, 0, 1, 0],\n",
       "       [0, 0, 0, 0, 1],\n",
       "       [0, 0, 0, 0, 0]])"
      ]
     },
     "execution_count": 23,
     "metadata": {},
     "output_type": "execute_result"
    }
   ],
   "source": [
    "np.eye(5, dtype=int, k=1) # changing index"
   ]
  },
  {
   "cell_type": "code",
   "execution_count": 41,
   "id": "282c090a-d522-4d7b-ba36-40c6efc45bce",
   "metadata": {},
   "outputs": [
    {
     "data": {
      "text/plain": [
       "array([0, 2, 4, 6, 8])"
      ]
     },
     "execution_count": 41,
     "metadata": {},
     "output_type": "execute_result"
    }
   ],
   "source": [
    "np.arange(0,10,2)"
   ]
  },
  {
   "cell_type": "code",
   "execution_count": 42,
   "id": "886d47a3-6075-45ab-9826-60b6a728dbae",
   "metadata": {},
   "outputs": [
    {
     "data": {
      "text/plain": [
       "array([0.        , 0.78539816, 1.57079633, 2.35619449, 3.14159265])"
      ]
     },
     "execution_count": 42,
     "metadata": {},
     "output_type": "execute_result"
    }
   ],
   "source": [
    "np.linspace(0, np.pi, 5)"
   ]
  },
  {
   "cell_type": "code",
   "execution_count": 44,
   "id": "5e541112-a89c-47fe-bdee-6fb502b4a591",
   "metadata": {},
   "outputs": [
    {
     "data": {
      "text/plain": [
       "array([[0.20221478, 0.38628016, 0.81043605],\n",
       "       [0.32699125, 0.09734076, 0.51719083],\n",
       "       [0.36893317, 0.47050142, 0.71908628]])"
      ]
     },
     "execution_count": 44,
     "metadata": {},
     "output_type": "execute_result"
    }
   ],
   "source": [
    "np.random.random((3,3))"
   ]
  },
  {
   "cell_type": "code",
   "execution_count": 45,
   "id": "ce592eef-3dd2-412b-ab17-07dd7c186b7e",
   "metadata": {},
   "outputs": [
    {
     "data": {
      "text/plain": [
       "array([[ 0.32363318,  0.2929084 ,  0.81586014,  1.81681076],\n",
       "       [ 0.31460792,  2.08406485, -1.43147306,  0.92672242],\n",
       "       [-0.31232314, -0.9251697 ,  1.70145629,  1.40144636]])"
      ]
     },
     "execution_count": 45,
     "metadata": {},
     "output_type": "execute_result"
    }
   ],
   "source": [
    "np.random.normal(0,1,(3,4))"
   ]
  },
  {
   "cell_type": "code",
   "execution_count": 47,
   "id": "08115c2f-b841-4aa1-838a-0b62ff52fa65",
   "metadata": {},
   "outputs": [
    {
     "data": {
      "text/plain": [
       "array([[ 8,  4,  9, -2],\n",
       "       [-1,  1, -1,  7],\n",
       "       [ 3,  5,  7,  9]])"
      ]
     },
     "execution_count": 47,
     "metadata": {},
     "output_type": "execute_result"
    }
   ],
   "source": [
    "np.random.randint(-2, 10, (3,4))"
   ]
  },
  {
   "cell_type": "code",
   "execution_count": 48,
   "id": "b3b5457a-cd0c-4c2a-a968-994591f0139c",
   "metadata": {},
   "outputs": [
    {
     "data": {
      "text/plain": [
       "array([[0.77184649, 0.66914605, 0.07688599, 0.0247964 , 0.98471532,\n",
       "        0.23039298, 0.63699309, 0.74114078, 0.42138626, 0.03698045],\n",
       "       [0.22339673, 0.37436381, 0.02855217, 0.8450493 , 0.90587375,\n",
       "        0.43977665, 0.88459519, 0.28185833, 0.96085841, 0.43806607],\n",
       "       [0.03735999, 0.37618019, 0.2052192 , 0.44865108, 0.81984109,\n",
       "        0.33321545, 0.10574584, 0.41656043, 0.56766171, 0.64539533],\n",
       "       [0.37298213, 0.68326816, 0.35828728, 0.11630758, 0.9097666 ,\n",
       "        0.55191928, 0.85761802, 0.86162786, 0.49325193, 0.22432317],\n",
       "       [0.5081541 , 0.08160825, 0.60367038, 0.97958657, 0.84363573,\n",
       "        0.29940811, 0.07693635, 0.5770806 , 0.52797718, 0.82798135],\n",
       "       [0.16986603, 0.24843141, 0.73186032, 0.88361277, 0.22799732,\n",
       "        0.95340978, 0.5001484 , 0.85755378, 0.57644614, 0.40138905],\n",
       "       [0.31962795, 0.6147332 , 0.14797971, 0.35951427, 0.06337906,\n",
       "        0.33201168, 0.48610334, 0.33806133, 0.83694453, 0.37799568],\n",
       "       [0.1793195 , 0.5266647 , 0.5971787 , 0.31288015, 0.96065766,\n",
       "        0.28908293, 0.2711125 , 0.92130209, 0.21295352, 0.50355145],\n",
       "       [0.88467527, 0.16149346, 0.87262817, 0.6101169 , 0.03224771,\n",
       "        0.51870529, 0.0504916 , 0.27615111, 0.34982635, 0.73346024],\n",
       "       [0.07748658, 0.43684079, 0.52575705, 0.04885554, 0.51610192,\n",
       "        0.65482565, 0.83761824, 0.70550376, 0.72172188, 0.43951139]])"
      ]
     },
     "execution_count": 48,
     "metadata": {},
     "output_type": "execute_result"
    }
   ],
   "source": [
    "np.random.random((10,10))"
   ]
  },
  {
   "cell_type": "code",
   "execution_count": 54,
   "id": "2f923d41-c422-4988-828f-b02d906eaac9",
   "metadata": {},
   "outputs": [
    {
     "data": {
      "text/plain": [
       "array([[ 2.22637941, -4.54693771],\n",
       "       [-0.85149682, -1.80292478],\n",
       "       [-0.70712716,  0.22435459],\n",
       "       [-0.84596368, -1.61800602],\n",
       "       [ 1.9763696 ,  0.11387405],\n",
       "       [-0.39058278,  1.53631568],\n",
       "       [-0.71160141,  0.21902054],\n",
       "       [-0.29707343,  0.01715041],\n",
       "       [-1.10294184, -3.18918507],\n",
       "       [ 2.54916288,  2.01186565]])"
      ]
     },
     "execution_count": 54,
     "metadata": {},
     "output_type": "execute_result"
    }
   ],
   "source": [
    "np.random.normal(0, 2, (10,2))"
   ]
  },
  {
   "cell_type": "code",
   "execution_count": 58,
   "id": "4b7af759-b424-4271-a31e-cbb0068490fd",
   "metadata": {},
   "outputs": [
    {
     "name": "stdout",
     "output_type": "stream",
     "text": [
      "[40 15 72 22 43 82 75  7 34 49]\n",
      "[ 0.50288142 -1.24528809 -1.05795222 -0.90900761  0.55145404  2.29220801\n",
      "  0.04153939 -1.11792545  0.53905832 -0.5961597 ]\n"
     ]
    }
   ],
   "source": [
    "np.random.seed(2)\n",
    "print(np.random.randint(0,100,10))\n",
    "print(np.random.normal(0, 1, 10))"
   ]
  },
  {
   "cell_type": "code",
   "execution_count": 59,
   "id": "3e33db55-d591-4726-80cd-1d2b56bdd665",
   "metadata": {},
   "outputs": [
    {
     "name": "stdout",
     "output_type": "stream",
     "text": [
      "[40 15 72 22 43 82 75  7 34 49]\n",
      "[ 0.50288142 -1.24528809 -1.05795222 -0.90900761  0.55145404  2.29220801\n",
      "  0.04153939 -1.11792545  0.53905832 -0.5961597 ]\n"
     ]
    }
   ],
   "source": [
    "np.random.seed(2)\n",
    "print(np.random.randint(0,100,10))\n",
    "print(np.random.normal(0, 1, 10))"
   ]
  },
  {
   "cell_type": "code",
   "execution_count": 60,
   "id": "0aaa4097-1fe8-4bcf-a0ab-82759a648306",
   "metadata": {},
   "outputs": [
    {
     "data": {
      "text/plain": [
       "array([66, 92, 98, 17, 83, 57, 86, 97, 96, 47])"
      ]
     },
     "execution_count": 60,
     "metadata": {},
     "output_type": "execute_result"
    }
   ],
   "source": [
    "new_generator = np.random.RandomState(seed=123)\n",
    "new_generator.randint(0,100,10)"
   ]
  },
  {
   "cell_type": "code",
   "execution_count": 61,
   "id": "13bb2297-bbe9-4e59-b557-1951bc5f398a",
   "metadata": {},
   "outputs": [],
   "source": [
    "def info(name, a):\n",
    "    print(f\"{name} has dim {a.ndim}, shape {a.shape}, size {a.size}, and dtype {a.dtype}:\")\n",
    "    print(a)"
   ]
  },
  {
   "cell_type": "code",
   "execution_count": 62,
   "id": "b3ab7615-d0fd-4706-ba7e-467e05d828d5",
   "metadata": {},
   "outputs": [
    {
     "name": "stdout",
     "output_type": "stream",
     "text": [
      "b has dim 2, shape (2, 3), size 6, and dtype int32:\n",
      "[[1 2 3]\n",
      " [3 4 5]]\n"
     ]
    }
   ],
   "source": [
    "b = np.array([[1,2,3], [3,4,5]])\n",
    "info(\"b\", b)"
   ]
  },
  {
   "cell_type": "code",
   "execution_count": 63,
   "id": "b9a3ae8e-2a37-489f-b7d9-bb3aaf7d5bdf",
   "metadata": {},
   "outputs": [
    {
     "name": "stdout",
     "output_type": "stream",
     "text": [
      "number elements:  20\n",
      "number of dimnesions:  2\n",
      "shape:  (5, 4)\n",
      "data type:  int32\n",
      "strides:  (16, 4)\n",
      "flags: \n",
      "  C_CONTIGUOUS : True\n",
      "  F_CONTIGUOUS : False\n",
      "  OWNDATA : True\n",
      "  WRITEABLE : True\n",
      "  ALIGNED : True\n",
      "  WRITEBACKIFCOPY : False\n",
      "  UPDATEIFCOPY : False\n",
      "\n"
     ]
    }
   ],
   "source": [
    "print_info(a)"
   ]
  },
  {
   "cell_type": "code",
   "execution_count": 65,
   "id": "3548ba03-b299-4a24-be7e-ab63739b99da",
   "metadata": {},
   "outputs": [
    {
     "name": "stdout",
     "output_type": "stream",
     "text": [
      "c has dim 3, shape (2, 2, 3), size 12, and dtype int32:\n",
      "[[[1 2 3]\n",
      "  [3 4 5]]\n",
      "\n",
      " [[1 2 3]\n",
      "  [3 4 5]]]\n"
     ]
    }
   ],
   "source": [
    "c = np.array([b,b])\n",
    "info(\"c\", c)"
   ]
  },
  {
   "cell_type": "code",
   "execution_count": 66,
   "id": "d42eb15c-28c8-42bd-b89a-7adbdb26cb9a",
   "metadata": {},
   "outputs": [
    {
     "name": "stdout",
     "output_type": "stream",
     "text": [
      "d has dim 4, shape (2, 2, 2, 3), size 24, and dtype int32:\n",
      "[[[[1 2 3]\n",
      "   [3 4 5]]\n",
      "\n",
      "  [[1 2 3]\n",
      "   [3 4 5]]]\n",
      "\n",
      "\n",
      " [[[1 2 3]\n",
      "   [3 4 5]]\n",
      "\n",
      "  [[1 2 3]\n",
      "   [3 4 5]]]]\n"
     ]
    }
   ],
   "source": [
    "d = np.array([c,c])\n",
    "info(\"d\", d)"
   ]
  },
  {
   "cell_type": "code",
   "execution_count": 24,
   "id": "b8c37c6f-e76c-4cac-93e6-657ff97e849c",
   "metadata": {},
   "outputs": [
    {
     "name": "stdout",
     "output_type": "stream",
     "text": [
      "4\n"
     ]
    }
   ],
   "source": [
    "a = np.array([1,4,2,7,9,5])\n",
    "print(a[1])"
   ]
  },
  {
   "cell_type": "code",
   "execution_count": 25,
   "id": "1d0c8999-d5e6-4c65-b9d4-2d338b23ba02",
   "metadata": {},
   "outputs": [
    {
     "name": "stdout",
     "output_type": "stream",
     "text": [
      "9\n"
     ]
    }
   ],
   "source": [
    "print(a[-2])"
   ]
  },
  {
   "cell_type": "code",
   "execution_count": 29,
   "id": "7313e636-e710-4dcd-8786-363bc40fe7b6",
   "metadata": {},
   "outputs": [
    {
     "name": "stdout",
     "output_type": "stream",
     "text": [
      "[[1 2 3]\n",
      " [4 5 6]]\n"
     ]
    }
   ],
   "source": [
    "b=np.array([[1,2,3], [4,5,6]])\n",
    "print(b)"
   ]
  },
  {
   "cell_type": "code",
   "execution_count": 30,
   "id": "154816d8-3a85-4aa7-a62a-8ee8215318a6",
   "metadata": {},
   "outputs": [
    {
     "name": "stdout",
     "output_type": "stream",
     "text": [
      "6\n"
     ]
    }
   ],
   "source": [
    "print(b[1,2])"
   ]
  },
  {
   "cell_type": "code",
   "execution_count": 32,
   "id": "ce9a05d6-cd06-4555-912a-369adf86f9ee",
   "metadata": {},
   "outputs": [
    {
     "name": "stdout",
     "output_type": "stream",
     "text": [
      "2\n",
      "3\n"
     ]
    }
   ],
   "source": [
    "print(b[0,1])\n",
    "print(b[0,-1]) "
   ]
  },
  {
   "cell_type": "code",
   "execution_count": 34,
   "id": "256c9c83-c2d8-4ac5-ac99-f93358a2b739",
   "metadata": {},
   "outputs": [
    {
     "name": "stdout",
     "output_type": "stream",
     "text": [
      "[[9 2 3]\n",
      " [4 5 6]]\n"
     ]
    }
   ],
   "source": [
    "b[0,0] = b[0,0] * 3\n",
    "print(b)"
   ]
  },
  {
   "cell_type": "code",
   "execution_count": 36,
   "id": "0a8fcde7-ca93-4033-b3bb-e96d0a851b9e",
   "metadata": {},
   "outputs": [
    {
     "name": "stdout",
     "output_type": "stream",
     "text": [
      "[9 2 3]\n",
      "[4 5 6]\n"
     ]
    }
   ],
   "source": [
    "print(b[0])  \n",
    "print(b[1]) "
   ]
  },
  {
   "cell_type": "code",
   "execution_count": 40,
   "id": "b1b4b65e-0808-4380-bd76-aa76a22a4118",
   "metadata": {},
   "outputs": [
    {
     "name": "stdout",
     "output_type": "stream",
     "text": [
      "[1 4 2 7 9 5]\n",
      "[4 2]\n",
      "[5 9 7 2 4 1]\n"
     ]
    }
   ],
   "source": [
    "print(a)\n",
    "print(a[1:3])\n",
    "print(a[::-1])"
   ]
  },
  {
   "cell_type": "code",
   "execution_count": 53,
   "id": "d9d775d0-7d3b-491d-aa1a-ffad35ff572e",
   "metadata": {},
   "outputs": [
    {
     "name": "stdout",
     "output_type": "stream",
     "text": [
      "[[9 2 3]\n",
      " [4 5 6]]\n",
      "[9 4]\n"
     ]
    }
   ],
   "source": [
    "print(b)\n",
    "print(b[:,0])"
   ]
  },
  {
   "cell_type": "code",
   "execution_count": 54,
   "id": "eb7d7862-faef-4d17-b1e8-064fe8215982",
   "metadata": {},
   "outputs": [
    {
     "name": "stdout",
     "output_type": "stream",
     "text": [
      "[9 2 3]\n"
     ]
    }
   ],
   "source": [
    "print(b[0,:])"
   ]
  },
  {
   "cell_type": "code",
   "execution_count": 55,
   "id": "9abbf602-7333-45bd-b419-b1e95dad1d56",
   "metadata": {},
   "outputs": [
    {
     "name": "stdout",
     "output_type": "stream",
     "text": [
      "[[2 3]\n",
      " [5 6]]\n"
     ]
    }
   ],
   "source": [
    "print(b[:,1:])"
   ]
  },
  {
   "cell_type": "code",
   "execution_count": 56,
   "id": "4f6d448d-265b-470b-a0b7-1056c97112a0",
   "metadata": {},
   "outputs": [
    {
     "name": "stdout",
     "output_type": "stream",
     "text": [
      "[[9 7 7]\n",
      " [4 7 7]]\n"
     ]
    }
   ],
   "source": [
    "b[:,1:] = 7\n",
    "print(b)"
   ]
  },
  {
   "cell_type": "code",
   "execution_count": 61,
   "id": "1a0c026f-6c64-42b2-a867-c6566814d447",
   "metadata": {},
   "outputs": [
    {
     "name": "stdout",
     "output_type": "stream",
     "text": [
      "[[7 7]\n",
      " [7 7]]\n",
      "[[9 7 7]\n",
      " [4 7 7]]\n"
     ]
    }
   ],
   "source": [
    "print(b[:,1:3])    # First column\n",
    "print(b[0:2,:])  "
   ]
  },
  {
   "cell_type": "code",
   "execution_count": 64,
   "id": "254b2a82-57cc-49a3-9eb3-7c8cc5725163",
   "metadata": {},
   "outputs": [
    {
     "name": "stdout",
     "output_type": "stream",
     "text": [
      "[[7 4 5 1 7]\n",
      " [3 8 6 1 6]\n",
      " [5 8 7 8 4]\n",
      " [5 7 7 2 8]\n",
      " [8 0 5 8 3]]\n"
     ]
    }
   ],
   "source": [
    "a = np.random.randint(0,10,(5,5))\n",
    "print(a)"
   ]
  },
  {
   "cell_type": "code",
   "execution_count": 69,
   "id": "a4d25ede-c041-4547-b348-6dfa13fbacda",
   "metadata": {},
   "outputs": [
    {
     "name": "stdout",
     "output_type": "stream",
     "text": [
      "[7 6 4 8 3]\n",
      "[[6 1]\n",
      " [7 8]\n",
      " [7 2]]\n"
     ]
    }
   ],
   "source": [
    "print(a[:,-1])\n",
    "print(a[1:4,2:4])"
   ]
  },
  {
   "cell_type": "code",
   "execution_count": 70,
   "id": "ad2d0309-b462-4772-b4e1-b4f1fd6b1f8c",
   "metadata": {},
   "outputs": [
    {
     "name": "stdout",
     "output_type": "stream",
     "text": [
      "[[  7   4   5   1   7]\n",
      " [  3   8 100 100   6]\n",
      " [  5   8 100 100   4]\n",
      " [  5   7 100 100   8]\n",
      " [  8   0   5   8   3]]\n"
     ]
    }
   ],
   "source": [
    "a[1:4,2:4] = 100"
   ]
  },
  {
   "cell_type": "code",
   "execution_count": 72,
   "id": "1d7a6170-1056-4a1d-8b8a-39271a607059",
   "metadata": {},
   "outputs": [
    {
     "data": {
      "text/plain": [
       "array([0, 1, 2, 3, 4, 5, 6, 7, 8])"
      ]
     },
     "execution_count": 72,
     "metadata": {},
     "output_type": "execute_result"
    }
   ],
   "source": [
    "a=np.arange(9)\n",
    "a"
   ]
  },
  {
   "cell_type": "code",
   "execution_count": 74,
   "id": "76bd3cd6-408e-4508-b746-11ac8994ea75",
   "metadata": {},
   "outputs": [
    {
     "data": {
      "text/plain": [
       "array([[0, 1, 2],\n",
       "       [3, 4, 5],\n",
       "       [6, 7, 8]])"
      ]
     },
     "execution_count": 74,
     "metadata": {},
     "output_type": "execute_result"
    }
   ],
   "source": [
    "a2 = a.reshape(3,3)\n",
    "a2"
   ]
  },
  {
   "cell_type": "code",
   "execution_count": 81,
   "id": "948bad9a-855c-4693-9e08-609a99527e27",
   "metadata": {},
   "outputs": [
    {
     "name": "stdout",
     "output_type": "stream",
     "text": [
      "[0 1 2 3]\n",
      "[[0 1 2 3]]\n",
      "[[0]\n",
      " [1]\n",
      " [2]\n",
      " [3]]\n",
      "[[0 1]\n",
      " [2 3]]\n"
     ]
    }
   ],
   "source": [
    "d = np.arange(4)\n",
    "print(d)\n",
    "dr = d.reshape(1,4)\n",
    "print(dr)\n",
    "dc = d.reshape(4,1)\n",
    "print(dc)\n",
    "dd = d.reshape(2,2)\n",
    "print(dd)"
   ]
  },
  {
   "cell_type": "code",
   "execution_count": 84,
   "id": "81d44c29-d392-4627-a9bc-42b273c4d57e",
   "metadata": {},
   "outputs": [
    {
     "name": "stdout",
     "output_type": "stream",
     "text": [
      "[0 1 2 3]\n",
      "[[0]\n",
      " [1]\n",
      " [2]\n",
      " [3]]\n",
      "[0 1 2 3]\n"
     ]
    }
   ],
   "source": [
    "print(d)\n",
    "print(d[:, np.newaxis])\n",
    "print(d[np.newaxis:,])"
   ]
  },
  {
   "cell_type": "code",
   "execution_count": 86,
   "id": "e6373da5-b222-49e4-90f5-47b210e750f1",
   "metadata": {},
   "outputs": [
    {
     "name": "stdout",
     "output_type": "stream",
     "text": [
      "[[1 9 7 6]\n",
      " [5 2 0 6]\n",
      " [0 5 9 7]\n",
      " [8 0 2 8]]\n",
      "[[1 5 0 8]\n",
      " [9 2 5 0]\n",
      " [7 0 9 2]\n",
      " [6 6 7 8]]\n"
     ]
    }
   ],
   "source": [
    "a = np.random.randint(0, 10 , (4,4))\n",
    "print(a)\n",
    "print(a.T)"
   ]
  },
  {
   "cell_type": "code",
   "execution_count": 88,
   "id": "c18d34ee-7e46-4152-a449-efe3cfe25db8",
   "metadata": {},
   "outputs": [
    {
     "data": {
      "text/plain": [
       "array([0, 1])"
      ]
     },
     "execution_count": 88,
     "metadata": {},
     "output_type": "execute_result"
    }
   ],
   "source": [
    "a = np.arange(2)\n",
    "a"
   ]
  },
  {
   "cell_type": "code",
   "execution_count": 89,
   "id": "8f72f7a6-5880-4c93-ba02-9a2fbc5169a7",
   "metadata": {},
   "outputs": [
    {
     "data": {
      "text/plain": [
       "array([2, 3, 4])"
      ]
     },
     "execution_count": 89,
     "metadata": {},
     "output_type": "execute_result"
    }
   ],
   "source": [
    "b = np.arange(2,5)\n",
    "b"
   ]
  },
  {
   "cell_type": "code",
   "execution_count": 90,
   "id": "3ebfdb9a-7d40-4058-a3e7-2ffa1c33ec99",
   "metadata": {},
   "outputs": [
    {
     "name": "stdout",
     "output_type": "stream",
     "text": [
      "(2,)\n",
      "(3,)\n"
     ]
    }
   ],
   "source": [
    "print(a.shape)\n",
    "print(b.shape)"
   ]
  },
  {
   "cell_type": "code",
   "execution_count": 92,
   "id": "5b15bb31-3903-4d0f-ab26-81fa124f8574",
   "metadata": {},
   "outputs": [
    {
     "data": {
      "text/plain": [
       "array([0, 1, 2, 3, 4])"
      ]
     },
     "execution_count": 92,
     "metadata": {},
     "output_type": "execute_result"
    }
   ],
   "source": [
    "np.concatenate((a,b))"
   ]
  },
  {
   "cell_type": "code",
   "execution_count": 93,
   "id": "fcdb6b82-1772-46ba-93a4-b68f97a16fbc",
   "metadata": {},
   "outputs": [
    {
     "name": "stdout",
     "output_type": "stream",
     "text": [
      "[[1 2]\n",
      " [3 4]]\n"
     ]
    }
   ],
   "source": [
    "c = np.arange(1,5).reshape(2,2)\n",
    "print(c)"
   ]
  },
  {
   "cell_type": "code",
   "execution_count": 103,
   "id": "3bce4b52-832d-49a9-8051-511ce2711825",
   "metadata": {},
   "outputs": [
    {
     "data": {
      "text/plain": [
       "array([[1, 2],\n",
       "       [3, 4],\n",
       "       [1, 2],\n",
       "       [3, 4],\n",
       "       [1, 2],\n",
       "       [3, 4]])"
      ]
     },
     "execution_count": 103,
     "metadata": {},
     "output_type": "execute_result"
    }
   ],
   "source": [
    "x = np.concatenate((c,c,c))\n",
    "x"
   ]
  },
  {
   "cell_type": "code",
   "execution_count": 104,
   "id": "605580ea-bf72-4bb0-bfbf-bcb9748bcc91",
   "metadata": {},
   "outputs": [
    {
     "data": {
      "text/plain": [
       "array([[1, 2, 1, 2],\n",
       "       [3, 4, 3, 4]])"
      ]
     },
     "execution_count": 104,
     "metadata": {},
     "output_type": "execute_result"
    }
   ],
   "source": [
    "y = np.concatenate((c,c), axis=1)\n",
    "y"
   ]
  },
  {
   "cell_type": "code",
   "execution_count": 107,
   "id": "53671b3f-fe66-4095-aefa-8802500f7bed",
   "metadata": {},
   "outputs": [
    {
     "data": {
      "text/plain": [
       "array([[1, 2, 1, 2],\n",
       "       [3, 4, 3, 4],\n",
       "       [1, 2, 1, 2],\n",
       "       [3, 4, 3, 4],\n",
       "       [1, 2, 1, 2],\n",
       "       [3, 4, 3, 4]])"
      ]
     },
     "execution_count": 107,
     "metadata": {},
     "output_type": "execute_result"
    }
   ],
   "source": [
    "z= np.concatenate((y,y,y))\n",
    "z"
   ]
  },
  {
   "cell_type": "code",
   "execution_count": 111,
   "id": "c573d905-71f3-447c-90ca-9c424319b3b3",
   "metadata": {},
   "outputs": [
    {
     "data": {
      "text/plain": [
       "array([[1, 2, 1, 2],\n",
       "       [3, 4, 3, 4],\n",
       "       [1, 2, 1, 2],\n",
       "       [3, 4, 3, 4],\n",
       "       [1, 2, 1, 2],\n",
       "       [3, 4, 3, 4],\n",
       "       [1, 2, 1, 2],\n",
       "       [3, 4, 3, 4]])"
      ]
     },
     "execution_count": 111,
     "metadata": {},
     "output_type": "execute_result"
    }
   ],
   "source": [
    "np.concatenate(((y,z)))"
   ]
  },
  {
   "cell_type": "code",
   "execution_count": 117,
   "id": "402e10fe-94d6-4718-a54c-d1366f32e1e3",
   "metadata": {},
   "outputs": [
    {
     "name": "stdout",
     "output_type": "stream",
     "text": [
      "[2 3 4]\n"
     ]
    },
    {
     "data": {
      "text/plain": [
       "array([[2, 3, 4],\n",
       "       [2, 3, 4]])"
      ]
     },
     "execution_count": 117,
     "metadata": {},
     "output_type": "execute_result"
    }
   ],
   "source": [
    "print(b)\n",
    "t = np.stack((b,b))\n",
    "t"
   ]
  },
  {
   "cell_type": "code",
   "execution_count": 118,
   "id": "cfba1c67-9a2c-4072-ac8b-c46921854ae2",
   "metadata": {},
   "outputs": [
    {
     "data": {
      "text/plain": [
       "array([[[2, 3, 4],\n",
       "        [2, 3, 4]],\n",
       "\n",
       "       [[2, 3, 4],\n",
       "        [2, 3, 4]]])"
      ]
     },
     "execution_count": 118,
     "metadata": {},
     "output_type": "execute_result"
    }
   ],
   "source": [
    "np.stack((t,t))"
   ]
  },
  {
   "cell_type": "code",
   "execution_count": 119,
   "id": "5fc87f65-3733-41ee-a6ef-c038c26253e0",
   "metadata": {},
   "outputs": [
    {
     "name": "stdout",
     "output_type": "stream",
     "text": [
      "[[ 0  1]\n",
      " [ 2  3]\n",
      " [ 4  5]\n",
      " [ 6  7]\n",
      " [ 8  9]\n",
      " [10 11]]\n"
     ]
    }
   ],
   "source": [
    "d = np.arange(12).reshape(6,2)\n",
    "print(d)"
   ]
  },
  {
   "cell_type": "code",
   "execution_count": 120,
   "id": "d673ad99-31da-4bb2-b408-87486f4933aa",
   "metadata": {},
   "outputs": [
    {
     "name": "stdout",
     "output_type": "stream",
     "text": [
      "[[0 1]\n",
      " [2 3]\n",
      " [4 5]]\n",
      "[[ 6  7]\n",
      " [ 8  9]\n",
      " [10 11]]\n"
     ]
    }
   ],
   "source": [
    "d1, d2 = np.split(d,2)\n",
    "print(d1)\n",
    "print(d2)"
   ]
  },
  {
   "cell_type": "code",
   "execution_count": 121,
   "id": "8f134237-3589-4c4f-9c06-cf10929497dd",
   "metadata": {},
   "outputs": [],
   "source": [
    "d4, d5 = np.split(d,2, axis=1)"
   ]
  },
  {
   "cell_type": "code",
   "execution_count": 122,
   "id": "cd81b2c5-9005-466e-900b-188d0f14468b",
   "metadata": {},
   "outputs": [
    {
     "name": "stdout",
     "output_type": "stream",
     "text": [
      "[[ 0]\n",
      " [ 2]\n",
      " [ 4]\n",
      " [ 6]\n",
      " [ 8]\n",
      " [10]]\n"
     ]
    }
   ],
   "source": [
    "print(d4)"
   ]
  },
  {
   "cell_type": "code",
   "execution_count": 126,
   "id": "c5b56611-f831-40f6-8dd3-b18d88e311bd",
   "metadata": {},
   "outputs": [
    {
     "name": "stdout",
     "output_type": "stream",
     "text": [
      "2\n",
      "int32\n",
      "(6, 1)\n",
      "4\n",
      "6\n",
      "24\n"
     ]
    }
   ],
   "source": [
    "print(d4.ndim)\n",
    "print(d4.dtype)\n",
    "print(d4.shape)\n",
    "print(d4.itemsize)\n",
    "print(d4.size)\n",
    "print(d4.nbytes)"
   ]
  },
  {
   "cell_type": "code",
   "execution_count": 127,
   "id": "b60aa613-5c57-4881-8d75-97562346976d",
   "metadata": {},
   "outputs": [
    {
     "name": "stdout",
     "output_type": "stream",
     "text": [
      "[[ 0  1  2  3  4  5]\n",
      " [ 6  7  8  9 10 11]]\n"
     ]
    }
   ],
   "source": [
    "d = np.arange(12).reshape(2,6)\n",
    "print(d)\n"
   ]
  },
  {
   "cell_type": "code",
   "execution_count": 128,
   "id": "3d8b6a18-c3d7-4090-b262-559d5425472f",
   "metadata": {},
   "outputs": [
    {
     "name": "stdout",
     "output_type": "stream",
     "text": [
      "part 0:\n",
      "[[0 1]\n",
      " [6 7]]\n",
      "part 1:\n",
      "[[2]\n",
      " [8]]\n",
      "part 2:\n",
      "[[ 3  4]\n",
      " [ 9 10]]\n",
      "part 3:\n",
      "[[ 5]\n",
      " [11]]\n"
     ]
    }
   ],
   "source": [
    "parts=np.split(d, (2,3,5), axis=1)\n",
    "for i, p in enumerate(parts):\n",
    "    print(\"part %i:\" % i)\n",
    "    print(p)"
   ]
  },
  {
   "cell_type": "code",
   "execution_count": 129,
   "id": "210ff7da-4d2c-406f-8c1a-053a97a9961a",
   "metadata": {},
   "outputs": [
    {
     "data": {
      "text/plain": [
       "0.94"
      ]
     },
     "execution_count": 129,
     "metadata": {},
     "output_type": "execute_result"
    }
   ],
   "source": [
    "tiheydet = np.array([0.81, 0.75, 0.88, 0.94, 1.08, 1.24, 2.34, 1.00])\n",
    "tiheydet[3]"
   ]
  },
  {
   "cell_type": "code",
   "execution_count": 130,
   "id": "845c128f-4411-4530-93b1-5f3718c3473f",
   "metadata": {},
   "outputs": [
    {
     "name": "stdout",
     "output_type": "stream",
     "text": [
      "[2, 10.4, 'abab']\n"
     ]
    }
   ],
   "source": [
    "L = [1,5.2, \"ab\"]\n",
    "L2 = []\n",
    "for x in L:\n",
    "    L2.append(x*2)\n",
    "print(L2)"
   ]
  },
  {
   "cell_type": "code",
   "execution_count": 131,
   "id": "63b75b5e-c1d6-4bb2-a11a-3939a1200b67",
   "metadata": {},
   "outputs": [
    {
     "data": {
      "text/plain": [
       "array(['1', '5.2', 'ab'], dtype='<U32')"
      ]
     },
     "execution_count": 131,
     "metadata": {},
     "output_type": "execute_result"
    }
   ],
   "source": [
    "L = np.array(L)\n",
    "L"
   ]
  },
  {
   "cell_type": "code",
   "execution_count": 139,
   "id": "66936bd9-820b-4a37-89f8-ae0aede156d6",
   "metadata": {},
   "outputs": [
    {
     "name": "stdout",
     "output_type": "stream",
     "text": [
      "<class 'float'>\n",
      "float64\n",
      "[ 4.2 10.  34.4]\n"
     ]
    }
   ],
   "source": [
    "a=[2.1, 5.0, 17.2]\n",
    "print(type(a[0]))\n",
    "a = np.array(a)\n",
    "print(a.dtype)\n",
    "a2=a*2\n",
    "print(a2)"
   ]
  },
  {
   "cell_type": "code",
   "execution_count": 140,
   "id": "a77fb60e-441f-4f3f-853b-fac3d8708f61",
   "metadata": {},
   "outputs": [
    {
     "name": "stdout",
     "output_type": "stream",
     "text": [
      "[   4.41   -80.    -710.016]\n"
     ]
    }
   ],
   "source": [
    "b = np.array([-1, 3.2, 2.4])\n",
    "print(-a**2*b)"
   ]
  },
  {
   "cell_type": "code",
   "execution_count": 141,
   "id": "975a954c-8085-4809-b7e3-3033c8cde20b",
   "metadata": {},
   "outputs": [
    {
     "name": "stdout",
     "output_type": "stream",
     "text": [
      "[1.  3.2 2.4]\n",
      "[ 0.54030231 -0.99829478 -0.73739372]\n",
      "[ 0.36787944 24.5325302  11.02317638]\n",
      "[0.         1.67807191 1.26303441]\n"
     ]
    }
   ],
   "source": [
    "print(np.abs(b))\n",
    "print(np.cos(b))\n",
    "print(np.exp(b))\n",
    "print(np.log2(np.abs(b)))"
   ]
  },
  {
   "cell_type": "code",
   "execution_count": 143,
   "id": "004ded68-bbbb-4e5b-80c6-930ef5b73b97",
   "metadata": {},
   "outputs": [
    {
     "name": "stdout",
     "output_type": "stream",
     "text": [
      "[[ 72 -53  17  92 -33]\n",
      " [ 95   3 -91 -79 -64]\n",
      " [-13 -30 -12  40 -42]\n",
      " [ 93 -61 -13  74 -12]]\n"
     ]
    }
   ],
   "source": [
    "np.random.seed(0)\n",
    "a = np.random.randint(-100, 100, (4,5))\n",
    "print(a)"
   ]
  },
  {
   "cell_type": "code",
   "execution_count": 149,
   "id": "7545a85d-9192-420c-a058-1a419a74be97",
   "metadata": {},
   "outputs": [
    {
     "name": "stdout",
     "output_type": "stream",
     "text": [
      "-13\n",
      "95\n",
      "-17\n",
      "-27.2\n"
     ]
    }
   ],
   "source": [
    "print(a[:,0].min())\n",
    "print(a.max())\n",
    "print(a.sum())\n",
    "print(a[1].mean())"
   ]
  },
  {
   "cell_type": "code",
   "execution_count": 150,
   "id": "4560ca6a-c46b-4186-acb7-c01531a22dc7",
   "metadata": {},
   "outputs": [
    {
     "name": "stdout",
     "output_type": "stream",
     "text": [
      "[[5 6 8 6]\n",
      " [1 6 4 8]\n",
      " [1 8 5 1]]\n"
     ]
    }
   ],
   "source": [
    "np.random.seed(9)\n",
    "b = np.random.randint(0,10,(3,4))\n",
    "print(b)"
   ]
  },
  {
   "cell_type": "code",
   "execution_count": 151,
   "id": "13d5382a-93c1-42e5-9f74-180ca17eff38",
   "metadata": {},
   "outputs": [
    {
     "name": "stdout",
     "output_type": "stream",
     "text": [
      "[ 7 20 17 15]\n",
      "[25 19 15]\n"
     ]
    }
   ],
   "source": [
    "print(b.sum(axis=0))\n",
    "print(b.sum(axis=1))"
   ]
  },
  {
   "cell_type": "code",
   "execution_count": 152,
   "id": "5947f38e-84ca-4780-a6b2-b2599c43c549",
   "metadata": {},
   "outputs": [
    {
     "data": {
      "text/plain": [
       "60"
      ]
     },
     "execution_count": 152,
     "metadata": {},
     "output_type": "execute_result"
    }
   ],
   "source": [
    "g = np.array([1,2,3,10])\n",
    "np.prod(g)"
   ]
  },
  {
   "cell_type": "code",
   "execution_count": 159,
   "id": "34e53509-d5c4-41e6-98a9-2eca05da4840",
   "metadata": {},
   "outputs": [
    {
     "data": {
      "text/plain": [
       "True"
      ]
     },
     "execution_count": 159,
     "metadata": {},
     "output_type": "execute_result"
    }
   ],
   "source": [
    "np.any([False, False, False, True, False])"
   ]
  },
  {
   "cell_type": "code",
   "execution_count": 163,
   "id": "73242c34-c5bd-4722-a855-116d39924b18",
   "metadata": {},
   "outputs": [
    {
     "name": "stdout",
     "output_type": "stream",
     "text": [
      "7.35 µs ± 63.8 ns per loop (mean ± std. dev. of 7 runs, 100000 loops each)\n"
     ]
    }
   ],
   "source": [
    "a = np.arange(1000)\n",
    "%timeit np.sum(a)"
   ]
  },
  {
   "cell_type": "code",
   "execution_count": 164,
   "id": "fbc6d245-21a3-4a45-994c-7f3d5a764294",
   "metadata": {},
   "outputs": [
    {
     "name": "stdout",
     "output_type": "stream",
     "text": [
      "80.2 µs ± 804 ns per loop (mean ± std. dev. of 7 runs, 10000 loops each)\n"
     ]
    }
   ],
   "source": [
    "%timeit sum(a)"
   ]
  },
  {
   "cell_type": "code",
   "execution_count": 165,
   "id": "7f0f8378-7942-45ed-b12b-5b1beb6715cd",
   "metadata": {},
   "outputs": [
    {
     "data": {
      "text/plain": [
       "array([0, 1, 2])"
      ]
     },
     "execution_count": 165,
     "metadata": {},
     "output_type": "execute_result"
    }
   ],
   "source": [
    "a = np.arange(3)\n",
    "a"
   ]
  },
  {
   "cell_type": "code",
   "execution_count": 166,
   "id": "ffbfe889-bf34-4206-968c-39cc6c1156c2",
   "metadata": {},
   "outputs": [
    {
     "data": {
      "text/plain": [
       "array([4])"
      ]
     },
     "execution_count": 166,
     "metadata": {},
     "output_type": "execute_result"
    }
   ],
   "source": [
    "b = np.array([4])\n",
    "b"
   ]
  },
  {
   "cell_type": "code",
   "execution_count": 167,
   "id": "cb237337-42cb-4a7c-aeae-120d4e614e1c",
   "metadata": {},
   "outputs": [
    {
     "data": {
      "text/plain": [
       "array([4, 5, 6])"
      ]
     },
     "execution_count": 167,
     "metadata": {},
     "output_type": "execute_result"
    }
   ],
   "source": [
    "a + b"
   ]
  },
  {
   "cell_type": "code",
   "execution_count": 168,
   "id": "fa65f874-cd4c-44a2-b609-67a2dc986b03",
   "metadata": {},
   "outputs": [
    {
     "data": {
      "text/plain": [
       "array([4, 5, 6])"
      ]
     },
     "execution_count": 168,
     "metadata": {},
     "output_type": "execute_result"
    }
   ],
   "source": [
    "np.arange(3) + 4"
   ]
  },
  {
   "cell_type": "code",
   "execution_count": 169,
   "id": "fa80ccfd-be2c-4274-8ffb-b5fdb3f89ad1",
   "metadata": {},
   "outputs": [
    {
     "name": "stdout",
     "output_type": "stream",
     "text": [
      "a:\n",
      "[[5 5 5]\n",
      " [5 5 5]\n",
      " [5 5 5]]\n",
      "b: [0 1 2]\n"
     ]
    }
   ],
   "source": [
    "a= np.full((3,3), 5)\n",
    "b = np.arange(3)\n",
    "print(\"a:\", a, sep=\"\\n\")\n",
    "print(\"b:\", b)"
   ]
  },
  {
   "cell_type": "code",
   "execution_count": 170,
   "id": "03c6f924-72a3-4a10-a887-e750c25ea274",
   "metadata": {},
   "outputs": [
    {
     "name": "stdout",
     "output_type": "stream",
     "text": [
      "a+b:\n",
      "[[5 6 7]\n",
      " [5 6 7]\n",
      " [5 6 7]]\n"
     ]
    }
   ],
   "source": [
    "print(\"a+b:\", a+b, sep=\"\\n\")"
   ]
  },
  {
   "cell_type": "code",
   "execution_count": 171,
   "id": "2ceab053-d2a1-4065-850b-aaf2f6d477bd",
   "metadata": {},
   "outputs": [
    {
     "name": "stdout",
     "output_type": "stream",
     "text": [
      "[0 1 2]\n",
      "[[0]\n",
      " [1]\n",
      " [2]]\n"
     ]
    }
   ],
   "source": [
    "\n",
    "a=np.arange(3)\n",
    "b=np.arange(3).reshape((3,1))\n",
    "print(a)\n",
    "print(b)"
   ]
  },
  {
   "cell_type": "code",
   "execution_count": 172,
   "id": "8be327f2-32c9-4238-85b3-e824b75de6ac",
   "metadata": {},
   "outputs": [
    {
     "data": {
      "text/plain": [
       "array([[0, 1, 2],\n",
       "       [1, 2, 3],\n",
       "       [2, 3, 4]])"
      ]
     },
     "execution_count": 172,
     "metadata": {},
     "output_type": "execute_result"
    }
   ],
   "source": [
    "a+b"
   ]
  },
  {
   "cell_type": "code",
   "execution_count": 174,
   "id": "302f6579-f6ca-4f91-8b38-7211de029e51",
   "metadata": {},
   "outputs": [
    {
     "name": "stdout",
     "output_type": "stream",
     "text": [
      "[[0 1 2]\n",
      " [0 1 2]\n",
      " [0 1 2]]\n",
      "[[0 0 0]\n",
      " [1 1 1]\n",
      " [2 2 2]]\n"
     ]
    }
   ],
   "source": [
    "broadcasted_a, broadcasted_b = np.broadcast_arrays(a,b)\n",
    "print(broadcasted_a)\n",
    "print(broadcasted_b)"
   ]
  },
  {
   "cell_type": "code",
   "execution_count": 175,
   "id": "b43e5af1-c0c3-481f-ac30-fa02ec9f550e",
   "metadata": {},
   "outputs": [
    {
     "name": "stderr",
     "output_type": "stream",
     "text": [
      "operands could not be broadcast together with shapes (3,) (2,) \n"
     ]
    }
   ],
   "source": [
    "a=np.array([1,2,3])\n",
    "b=np.array([4,5])\n",
    "try:\n",
    "    a+b\n",
    "except ValueError as e:\n",
    "    import sys\n",
    "    print(e, file=sys.stderr)"
   ]
  },
  {
   "cell_type": "code",
   "execution_count": 7,
   "id": "c4b5aa30-1103-4ce6-ac26-b20cb2c0a830",
   "metadata": {},
   "outputs": [
    {
     "name": "stdout",
     "output_type": "stream",
     "text": [
      "[[0.96277205 0.56689269 0.90281353 0.68570666 0.91825586 0.23731211\n",
      "  0.79386458 0.73610613 0.01273934 0.11390056]]\n",
      "[[0.19895247 0.53888489 0.78545993 0.90392164 0.43698102 0.99741232\n",
      "  0.33491002 0.47644346 0.12327362 0.76826293]]\n",
      "[[False False False  True False  True False False  True  True]]\n"
     ]
    }
   ],
   "source": [
    "a = np.random.random((1, 10))\n",
    "b = np.random.random((1, 10))\n",
    "c = a < b \n",
    "print(a)\n",
    "print(b)\n",
    "print(c)"
   ]
  },
  {
   "cell_type": "code",
   "execution_count": 8,
   "id": "49d5be82-60b2-485c-831a-798f87c2bf31",
   "metadata": {},
   "outputs": [
    {
     "name": "stdout",
     "output_type": "stream",
     "text": [
      "False\n",
      "True\n"
     ]
    }
   ],
   "source": [
    "print(c.all())\n",
    "print(c.any())"
   ]
  },
  {
   "cell_type": "code",
   "execution_count": 11,
   "id": "2eb5a19b-1ee7-4433-8346-b651a5faf10b",
   "metadata": {},
   "outputs": [
    {
     "name": "stdout",
     "output_type": "stream",
     "text": [
      "4\n",
      "[[ True  True  True  True  True False  True  True False False]]\n"
     ]
    }
   ],
   "source": [
    "print(np.sum(c))\n",
    "print(a >= 0.5)"
   ]
  },
  {
   "cell_type": "code",
   "execution_count": 13,
   "id": "69fb72a3-d82a-445f-bfde-e88bbcd541f4",
   "metadata": {},
   "outputs": [],
   "source": [
    "import pandas as pd\n",
    "a=pd.read_csv(\"https://raw.githubusercontent.com/csmastersUH/data_analysis_with_python_2020/master/kumpula-weather-2017.csv\")['Air temperature (degC)'].values"
   ]
  },
  {
   "cell_type": "code",
   "execution_count": 14,
   "id": "2074792b-0895-4ec6-9e32-f4e95566632e",
   "metadata": {},
   "outputs": [
    {
     "data": {
      "text/plain": [
       "array([  0.6,  -3.9,  -6.5, -12.8, -17.8, -17.8,  -3.8,  -0.5,   0.5,\n",
       "         1.7,  -1.6,  -2.8,   1.1,   0.8,  -2.8,  -4.2,  -3.5,   1.1,\n",
       "         1.6,  -0.6,  -1.8,   1. ,   0.1,  -2.2,  -3.8,   1.9,   1.6,\n",
       "         0.8,   0.6,   1. ,   0.2,  -0.6,  -0.8,  -0.2,   0.4,  -2.5,\n",
       "        -7.3, -12.1,  -8.8, -10.1,  -8.3,  -5.4,  -2.7,   1.5,   4.4,\n",
       "         0. ,   0.5,   1.5,   1.9,   2.2,   0.4,  -2.5,  -4.6,  -0.7,\n",
       "        -5.3,  -5.6,  -2. ,  -2.3,   2.1,   1.5,   1.5,   0.9,  -1.8,\n",
       "        -4.2,  -4.2,  -2.9,   0.2,   1.2,   1.4,   2.2,  -0.9,   0.6,\n",
       "         0.6,   3.8,   3.4,   2. ,   1.6,   0.6,   0.2,   1.6,   2.3,\n",
       "         2.5,   0.5,   1.9,   4.8,   6.6,   2.4,   0.4,  -0.4,   0.2,\n",
       "         1.5,   4.3,   3. ,   3.8,   3.3,   4.7,   4.1,   3.3,   3.7,\n",
       "         6. ,   4.3,   1.8,   1.2,  -0.5,  -1.4,  -1.7,   0.6,   0.3,\n",
       "         1.2,   2.5,   5.7,   3.1,   2.9,   3.6,   2.8,   3.2,   4.4,\n",
       "         4.1,   2.3,   2.2,   7.6,   9.4,   9.2,   6.7,  10.1,  11.1,\n",
       "         6.1,   4.4,   1.5,   1.5,   2.9,   5.1,   7.5,   9.8,   9. ,\n",
       "         7.3,   9.4,  11.2,  16.1,  16.9,  14.7,  14.6,  13.3,  12.4,\n",
       "        14.1,  14.1,   9.6,  13.2,  14.1,   9.6,  10.8,   6.5,   6.2,\n",
       "        10. ,   9.9,  10.4,  14.5,  16.4,  12.3,  14. ,  16.3,  16.8,\n",
       "        12.6,  12.6,  14.8,  15.1,  18.4,  19.3,  16.9,  17.8,  12.7,\n",
       "        12.4,  12.2,  10.8,  12.9,  14. ,  13.5,  13.7,  15.3,  16.3,\n",
       "        17.2,  14.1,  16.4,  14.5,  14.1,  14. ,  11.5,  14.7,  16.1,\n",
       "        17.4,  18. ,  16.8,  16.8,  14.7,  15.3,  16.7,  18. ,  15.4,\n",
       "        15. ,  13.7,  14.6,  15.8,  15.6,  16.9,  15.7,  16.1,  17.2,\n",
       "        19. ,  19.1,  17.8,  18.3,  17.8,  18.9,  17.5,  18.2,  16.6,\n",
       "        17.1,  16. ,  15.2,  17.2,  18.3,  18.7,  18.1,  19.6,  17.4,\n",
       "        16.1,  16.4,  17.6,  19. ,  18. ,  18.2,  17.4,  16.2,  14.9,\n",
       "        13.5,  12.9,  11.2,  10.4,  10.7,  12. ,  14.4,  16.8,  17.2,\n",
       "        15.1,  12.9,  12.9,  11.9,  11.4,  10.4,  10.3,  10.6,  13.1,\n",
       "        14.6,  14.6,  14.9,  14.4,  12.9,  12.2,  12.1,   9.9,   8.7,\n",
       "         9. ,   9.2,  12.4,  11.5,  12.8,  12.5,  12.6,  12. ,  12.1,\n",
       "        10.1,   8.9,   8.8,   9.1,   9.2,   8.3,  11.2,   8.8,   7.7,\n",
       "         8.1,   9.3,   8.6,   8.1,   6.9,   6. ,   7.5,   7.2,   8.3,\n",
       "        10.7,   8.5,   8.3,   4.6,   2. ,   0.2,   0.1,   1.3,   0.8,\n",
       "         2.1,   0.3,  -0.3,   3.3,   2.1,   1.2,  -0.4,   0.1,   0.5,\n",
       "         3.2,   8. ,   8.4,   7.5,   3.9,   5.9,   6.7,   7.2,   5.9,\n",
       "         3.1,   2.4,   1.8,   3.1,   3.5,   5.8,   5.9,   4. ,   1.2,\n",
       "         0.9,   1. ,   1.5,   6.1,   4.2,   2.3,   4.6,   3.9,   2.8,\n",
       "         3.1,   0.9,   1.4,   5. ,   1.3,   0. ,  -1.2,  -0.8,   5.2,\n",
       "         4.2,   2. ,   1.4,   1.6,   1.6,   1.6,   1.7,   2.4,   0.1,\n",
       "         2. ,   1. ,   2.6,   2.5,  -0.1,   1.2,  -0.3,   0.3,   1.9,\n",
       "         3.8,   2.8,   3.8,   2.5,   1.6])"
      ]
     },
     "execution_count": 14,
     "metadata": {},
     "output_type": "execute_result"
    }
   ],
   "source": [
    "a"
   ]
  },
  {
   "cell_type": "code",
   "execution_count": 15,
   "id": "11563721-2da9-4469-9f08-bdc2d5b98ded",
   "metadata": {},
   "outputs": [
    {
     "name": "stdout",
     "output_type": "stream",
     "text": [
      "Number of days with the temperature below zero 49\n"
     ]
    }
   ],
   "source": [
    "text = \"Number of days with the temperature below zero\"\n",
    "print(text, np.sum(a < 0))"
   ]
  },
  {
   "cell_type": "code",
   "execution_count": 18,
   "id": "6619c723-b983-4a28-b16d-8b173b91d9a4",
   "metadata": {},
   "outputs": [
    {
     "data": {
      "text/plain": [
       "185"
      ]
     },
     "execution_count": 18,
     "metadata": {},
     "output_type": "execute_result"
    }
   ],
   "source": [
    "np.sum(((a > 0) & (a < 10)))"
   ]
  },
  {
   "cell_type": "code",
   "execution_count": 20,
   "id": "1a79f61e-a351-4083-974e-9da00ee02178",
   "metadata": {},
   "outputs": [
    {
     "name": "stdout",
     "output_type": "stream",
     "text": [
      "[ True False False False False False False False  True  True]\n"
     ]
    }
   ],
   "source": [
    "c = a > 0\n",
    "print(c[:10])"
   ]
  },
  {
   "cell_type": "code",
   "execution_count": 21,
   "id": "bd8970f0-ab21-4bd9-a573-508751754c52",
   "metadata": {},
   "outputs": [
    {
     "data": {
      "text/html": [
       "<div>\n",
       "<style scoped>\n",
       "    .dataframe tbody tr th:only-of-type {\n",
       "        vertical-align: middle;\n",
       "    }\n",
       "\n",
       "    .dataframe tbody tr th {\n",
       "        vertical-align: top;\n",
       "    }\n",
       "\n",
       "    .dataframe thead th {\n",
       "        text-align: right;\n",
       "    }\n",
       "</style>\n",
       "<table border=\"1\" class=\"dataframe\">\n",
       "  <thead>\n",
       "    <tr style=\"text-align: right;\">\n",
       "      <th></th>\n",
       "      <th>Vuosi</th>\n",
       "      <th>Kk</th>\n",
       "      <th>Pv</th>\n",
       "      <th>Klo</th>\n",
       "      <th>Aikavyöhyke</th>\n",
       "      <th>Ylin lämpötila (degC)</th>\n",
       "      <th>Alin lämpötila (degC)</th>\n",
       "    </tr>\n",
       "  </thead>\n",
       "  <tbody>\n",
       "    <tr>\n",
       "      <th>0</th>\n",
       "      <td>2021</td>\n",
       "      <td>1</td>\n",
       "      <td>1</td>\n",
       "      <td>00:00</td>\n",
       "      <td>UTC</td>\n",
       "      <td>0.4</td>\n",
       "      <td>-0.2</td>\n",
       "    </tr>\n",
       "    <tr>\n",
       "      <th>1</th>\n",
       "      <td>2021</td>\n",
       "      <td>1</td>\n",
       "      <td>2</td>\n",
       "      <td>00:00</td>\n",
       "      <td>UTC</td>\n",
       "      <td>-0.1</td>\n",
       "      <td>-2.3</td>\n",
       "    </tr>\n",
       "    <tr>\n",
       "      <th>2</th>\n",
       "      <td>2021</td>\n",
       "      <td>1</td>\n",
       "      <td>3</td>\n",
       "      <td>00:00</td>\n",
       "      <td>UTC</td>\n",
       "      <td>-2.3</td>\n",
       "      <td>-3.9</td>\n",
       "    </tr>\n",
       "    <tr>\n",
       "      <th>3</th>\n",
       "      <td>2021</td>\n",
       "      <td>1</td>\n",
       "      <td>4</td>\n",
       "      <td>00:00</td>\n",
       "      <td>UTC</td>\n",
       "      <td>-2.8</td>\n",
       "      <td>-3.5</td>\n",
       "    </tr>\n",
       "    <tr>\n",
       "      <th>4</th>\n",
       "      <td>2021</td>\n",
       "      <td>1</td>\n",
       "      <td>5</td>\n",
       "      <td>00:00</td>\n",
       "      <td>UTC</td>\n",
       "      <td>-3.2</td>\n",
       "      <td>-5.5</td>\n",
       "    </tr>\n",
       "    <tr>\n",
       "      <th>...</th>\n",
       "      <td>...</td>\n",
       "      <td>...</td>\n",
       "      <td>...</td>\n",
       "      <td>...</td>\n",
       "      <td>...</td>\n",
       "      <td>...</td>\n",
       "      <td>...</td>\n",
       "    </tr>\n",
       "    <tr>\n",
       "      <th>232</th>\n",
       "      <td>2021</td>\n",
       "      <td>8</td>\n",
       "      <td>21</td>\n",
       "      <td>00:00</td>\n",
       "      <td>UTC</td>\n",
       "      <td>19.4</td>\n",
       "      <td>10.4</td>\n",
       "    </tr>\n",
       "    <tr>\n",
       "      <th>233</th>\n",
       "      <td>2021</td>\n",
       "      <td>8</td>\n",
       "      <td>22</td>\n",
       "      <td>00:00</td>\n",
       "      <td>UTC</td>\n",
       "      <td>16.7</td>\n",
       "      <td>10.4</td>\n",
       "    </tr>\n",
       "    <tr>\n",
       "      <th>234</th>\n",
       "      <td>2021</td>\n",
       "      <td>8</td>\n",
       "      <td>23</td>\n",
       "      <td>00:00</td>\n",
       "      <td>UTC</td>\n",
       "      <td>13.1</td>\n",
       "      <td>9.4</td>\n",
       "    </tr>\n",
       "    <tr>\n",
       "      <th>235</th>\n",
       "      <td>2021</td>\n",
       "      <td>8</td>\n",
       "      <td>24</td>\n",
       "      <td>00:00</td>\n",
       "      <td>UTC</td>\n",
       "      <td>13.7</td>\n",
       "      <td>8.1</td>\n",
       "    </tr>\n",
       "    <tr>\n",
       "      <th>236</th>\n",
       "      <td>2021</td>\n",
       "      <td>8</td>\n",
       "      <td>25</td>\n",
       "      <td>00:00</td>\n",
       "      <td>UTC</td>\n",
       "      <td>13.3</td>\n",
       "      <td>9.8</td>\n",
       "    </tr>\n",
       "  </tbody>\n",
       "</table>\n",
       "<p>237 rows × 7 columns</p>\n",
       "</div>"
      ],
      "text/plain": [
       "     Vuosi  Kk  Pv    Klo Aikavyöhyke  Ylin lämpötila (degC)  \\\n",
       "0     2021   1   1  00:00         UTC                    0.4   \n",
       "1     2021   1   2  00:00         UTC                   -0.1   \n",
       "2     2021   1   3  00:00         UTC                   -2.3   \n",
       "3     2021   1   4  00:00         UTC                   -2.8   \n",
       "4     2021   1   5  00:00         UTC                   -3.2   \n",
       "..     ...  ..  ..    ...         ...                    ...   \n",
       "232   2021   8  21  00:00         UTC                   19.4   \n",
       "233   2021   8  22  00:00         UTC                   16.7   \n",
       "234   2021   8  23  00:00         UTC                   13.1   \n",
       "235   2021   8  24  00:00         UTC                   13.7   \n",
       "236   2021   8  25  00:00         UTC                   13.3   \n",
       "\n",
       "     Alin lämpötila (degC)  \n",
       "0                     -0.2  \n",
       "1                     -2.3  \n",
       "2                     -3.9  \n",
       "3                     -3.5  \n",
       "4                     -5.5  \n",
       "..                     ...  \n",
       "232                   10.4  \n",
       "233                   10.4  \n",
       "234                    9.4  \n",
       "235                    8.1  \n",
       "236                    9.8  \n",
       "\n",
       "[237 rows x 7 columns]"
      ]
     },
     "execution_count": 21,
     "metadata": {},
     "output_type": "execute_result"
    }
   ],
   "source": [
    "file = \"saa.csv\"\n",
    "data = pd.read_csv(file)\n",
    "data"
   ]
  },
  {
   "cell_type": "code",
   "execution_count": 33,
   "id": "70c6cf43-d19d-45ab-badc-6e950a8ee3f7",
   "metadata": {},
   "outputs": [
    {
     "name": "stdout",
     "output_type": "stream",
     "text": [
      "125\n"
     ]
    }
   ],
   "source": [
    "days = np.sum(data[\"Ylin lämpötila (degC)\"] > 10)\n",
    "print(days)"
   ]
  },
  {
   "cell_type": "code",
   "execution_count": 34,
   "id": "f0e9677d-5951-4150-a681-d708b119779f",
   "metadata": {},
   "outputs": [
    {
     "data": {
      "text/plain": [
       "0.5296610169491526"
      ]
     },
     "execution_count": 34,
     "metadata": {},
     "output_type": "execute_result"
    }
   ],
   "source": [
    "days / 236"
   ]
  },
  {
   "cell_type": "code",
   "execution_count": 35,
   "id": "bf76b16a-0cf1-4299-b6a5-1915c8efd752",
   "metadata": {},
   "outputs": [
    {
     "name": "stdout",
     "output_type": "stream",
     "text": [
      "[ True False False False False False False False  True  True]\n",
      "[ 0.6  0.5  1.7  1.1  0.8  1.1  1.6  1.   0.1  1.9  1.6  0.8  0.6  1.\n",
      "  0.2  0.4  1.5  4.4  0.5  1.5  1.9  2.2  0.4  2.1  1.5  1.5  0.9  0.2\n",
      "  1.2  1.4  2.2  0.6  0.6  3.8  3.4  2.   1.6  0.6  0.2  1.6  2.3  2.5\n",
      "  0.5  1.9  4.8  6.6  2.4  0.4  0.2  1.5  4.3  3.   3.8  3.3  4.7  4.1\n",
      "  3.3  3.7  6.   4.3  1.8  1.2  0.6  0.3  1.2  2.5  5.7  3.1  2.9  3.6\n",
      "  2.8  3.2  4.4  4.1  2.3  2.2  7.6  9.4  9.2  6.7 10.1 11.1  6.1  4.4\n",
      "  1.5  1.5  2.9  5.1  7.5  9.8  9.   7.3  9.4 11.2 16.1 16.9 14.7 14.6\n",
      " 13.3 12.4 14.1 14.1  9.6 13.2 14.1  9.6 10.8  6.5  6.2 10.   9.9 10.4\n",
      " 14.5 16.4 12.3 14.  16.3 16.8 12.6 12.6 14.8 15.1 18.4 19.3 16.9 17.8\n",
      " 12.7 12.4 12.2 10.8 12.9 14.  13.5 13.7 15.3 16.3 17.2 14.1 16.4 14.5\n",
      " 14.1 14.  11.5 14.7 16.1 17.4 18.  16.8 16.8 14.7 15.3 16.7 18.  15.4\n",
      " 15.  13.7 14.6 15.8 15.6 16.9 15.7 16.1 17.2 19.  19.1 17.8 18.3 17.8\n",
      " 18.9 17.5 18.2 16.6 17.1 16.  15.2 17.2 18.3 18.7 18.1 19.6 17.4 16.1\n",
      " 16.4 17.6 19.  18.  18.2 17.4 16.2 14.9 13.5 12.9 11.2 10.4 10.7 12.\n",
      " 14.4 16.8 17.2 15.1 12.9 12.9 11.9 11.4 10.4 10.3 10.6 13.1 14.6 14.6\n",
      " 14.9 14.4 12.9 12.2 12.1  9.9  8.7  9.   9.2 12.4 11.5 12.8 12.5 12.6\n",
      " 12.  12.1 10.1  8.9  8.8  9.1  9.2  8.3 11.2  8.8  7.7  8.1  9.3  8.6\n",
      "  8.1  6.9  6.   7.5  7.2  8.3 10.7  8.5  8.3  4.6  2.   0.2  0.1  1.3\n",
      "  0.8  2.1  0.3  3.3  2.1  1.2  0.1  0.5  3.2  8.   8.4  7.5  3.9  5.9\n",
      "  6.7  7.2  5.9  3.1  2.4  1.8  3.1  3.5  5.8  5.9  4.   1.2  0.9  1.\n",
      "  1.5  6.1  4.2  2.3  4.6  3.9  2.8  3.1  0.9  1.4  5.   1.3  5.2  4.2\n",
      "  2.   1.4  1.6  1.6  1.6  1.7  2.4  0.1  2.   1.   2.6  2.5  1.2  0.3\n",
      "  1.9  3.8  2.8  3.8  2.5  1.6]\n"
     ]
    }
   ],
   "source": [
    "c = a > 0\n",
    "print(c[:10])\n",
    "print(a[c])"
   ]
  },
  {
   "cell_type": "code",
   "execution_count": 36,
   "id": "a2247892-368e-445f-9f3f-5c55d8199503",
   "metadata": {},
   "outputs": [
    {
     "name": "stdout",
     "output_type": "stream",
     "text": [
      "[ 0.6  0.   0.   0.   0.   0.   0.   0.   0.5  1.7  0.   0.   1.1  0.8\n",
      "  0.   0.   0.   1.1  1.6  0.   0.   1.   0.1  0.   0.   1.9  1.6  0.8\n",
      "  0.6  1.   0.2  0.   0.   0.   0.4  0.   0.   0.   0.   0.   0.   0.\n",
      "  0.   1.5  4.4  0.   0.5  1.5  1.9  2.2  0.4  0.   0.   0.   0.   0.\n",
      "  0.   0.   2.1  1.5  1.5  0.9  0.   0.   0.   0.   0.2  1.2  1.4  2.2\n",
      "  0.   0.6  0.6  3.8  3.4  2.   1.6  0.6  0.2  1.6  2.3  2.5  0.5  1.9\n",
      "  4.8  6.6  2.4  0.4  0.   0.2  1.5  4.3  3.   3.8  3.3  4.7  4.1  3.3\n",
      "  3.7  6.   4.3  1.8  1.2  0.   0.   0.   0.6  0.3  1.2  2.5  5.7  3.1\n",
      "  2.9  3.6  2.8  3.2  4.4  4.1  2.3  2.2  7.6  9.4  9.2  6.7 10.1 11.1\n",
      "  6.1  4.4  1.5  1.5  2.9  5.1  7.5  9.8  9.   7.3  9.4 11.2 16.1 16.9\n",
      " 14.7 14.6 13.3 12.4 14.1 14.1  9.6 13.2 14.1  9.6 10.8  6.5  6.2 10.\n",
      "  9.9 10.4 14.5 16.4 12.3 14.  16.3 16.8 12.6 12.6 14.8 15.1 18.4 19.3\n",
      " 16.9 17.8 12.7 12.4 12.2 10.8 12.9 14.  13.5 13.7 15.3 16.3 17.2 14.1\n",
      " 16.4 14.5 14.1 14.  11.5 14.7 16.1 17.4 18.  16.8 16.8 14.7 15.3 16.7\n",
      " 18.  15.4 15.  13.7 14.6 15.8 15.6 16.9 15.7 16.1 17.2 19.  19.1 17.8\n",
      " 18.3 17.8 18.9 17.5 18.2 16.6 17.1 16.  15.2 17.2 18.3 18.7 18.1 19.6\n",
      " 17.4 16.1 16.4 17.6 19.  18.  18.2 17.4 16.2 14.9 13.5 12.9 11.2 10.4\n",
      " 10.7 12.  14.4 16.8 17.2 15.1 12.9 12.9 11.9 11.4 10.4 10.3 10.6 13.1\n",
      " 14.6 14.6 14.9 14.4 12.9 12.2 12.1  9.9  8.7  9.   9.2 12.4 11.5 12.8\n",
      " 12.5 12.6 12.  12.1 10.1  8.9  8.8  9.1  9.2  8.3 11.2  8.8  7.7  8.1\n",
      "  9.3  8.6  8.1  6.9  6.   7.5  7.2  8.3 10.7  8.5  8.3  4.6  2.   0.2\n",
      "  0.1  1.3  0.8  2.1  0.3  0.   3.3  2.1  1.2  0.   0.1  0.5  3.2  8.\n",
      "  8.4  7.5  3.9  5.9  6.7  7.2  5.9  3.1  2.4  1.8  3.1  3.5  5.8  5.9\n",
      "  4.   1.2  0.9  1.   1.5  6.1  4.2  2.3  4.6  3.9  2.8  3.1  0.9  1.4\n",
      "  5.   1.3  0.   0.   0.   5.2  4.2  2.   1.4  1.6  1.6  1.6  1.7  2.4\n",
      "  0.1  2.   1.   2.6  2.5  0.   1.2  0.   0.3  1.9  3.8  2.8  3.8  2.5\n",
      "  1.6]\n"
     ]
    }
   ],
   "source": [
    "a[~c] = 0\n",
    "print(a)"
   ]
  },
  {
   "cell_type": "code",
   "execution_count": 41,
   "id": "40a31ad1-aa64-4824-9645-714acc57ea7a",
   "metadata": {},
   "outputs": [
    {
     "name": "stdout",
     "output_type": "stream",
     "text": [
      "a: [12 15  0  3  3  7  9 19 18  4  6 12  1  6  7 14 17  5 13  8]\n",
      "a2: [ 0  7 19]\n"
     ]
    }
   ],
   "source": [
    "np.random.seed(0)\n",
    "a=np.random.randint(0, 20,20)\n",
    "a2=np.array([a[2], a[5], a[7]])\n",
    "print(\"a:\", a)\n",
    "print(\"a2:\", a2)"
   ]
  },
  {
   "cell_type": "code",
   "execution_count": 42,
   "id": "084474b1-6358-4f7d-95ba-bb179985402f",
   "metadata": {},
   "outputs": [
    {
     "name": "stdout",
     "output_type": "stream",
     "text": [
      "[ 0  7 19]\n"
     ]
    }
   ],
   "source": [
    "idx = [2,5,7]\n",
    "print(a[idx])"
   ]
  },
  {
   "cell_type": "code",
   "execution_count": 43,
   "id": "771833c5-bf44-45db-9259-59ee3868b823",
   "metadata": {},
   "outputs": [
    {
     "name": "stdout",
     "output_type": "stream",
     "text": [
      "[ 0  7 19]\n"
     ]
    }
   ],
   "source": [
    "print(a[[2,5,7]])"
   ]
  },
  {
   "cell_type": "code",
   "execution_count": 44,
   "id": "f45733e7-d35e-4f89-8491-cce08d2096bf",
   "metadata": {},
   "outputs": [
    {
     "name": "stdout",
     "output_type": "stream",
     "text": [
      "[12 15 -1  3  3 -1  9 -1 18  4  6 12  1  6  7 14 17  5 13  8]\n"
     ]
    }
   ],
   "source": [
    "a[idx] = -1\n",
    "print(a)"
   ]
  },
  {
   "cell_type": "code",
   "execution_count": 46,
   "id": "ea2a26aa-d88f-48cc-b973-6c0cb888b3b0",
   "metadata": {},
   "outputs": [
    {
     "name": "stdout",
     "output_type": "stream",
     "text": [
      "[[ 0  1  2  3]\n",
      " [ 4  5  6  7]\n",
      " [ 8  9 10 11]\n",
      " [12 13 14 15]]\n"
     ]
    }
   ],
   "source": [
    "b = np.arange(16).reshape(4,4)\n",
    "print(b)"
   ]
  },
  {
   "cell_type": "code",
   "execution_count": 47,
   "id": "5ff428a2-8ae7-481c-9acd-8cad183e26a8",
   "metadata": {},
   "outputs": [
    {
     "name": "stdout",
     "output_type": "stream",
     "text": [
      "[ 1 11]\n"
     ]
    }
   ],
   "source": [
    "row = np.array([0,2])\n",
    "col = np.array([1,3])\n",
    "print(b[row,col])"
   ]
  },
  {
   "cell_type": "code",
   "execution_count": 48,
   "id": "da0d2ac3-96d5-4dbe-9544-7872c7f5fc7e",
   "metadata": {},
   "outputs": [
    {
     "name": "stdout",
     "output_type": "stream",
     "text": [
      "[0 2]\n",
      "[1 3]\n"
     ]
    }
   ],
   "source": [
    "print(row)\n",
    "print(col)"
   ]
  },
  {
   "cell_type": "code",
   "execution_count": 49,
   "id": "11647721-a560-4b87-93b9-71d91ad4ac5a",
   "metadata": {},
   "outputs": [
    {
     "name": "stdout",
     "output_type": "stream",
     "text": [
      "[[0 0]\n",
      " [2 2]]\n",
      "[[1 3]\n",
      " [1 3]]\n",
      "[[ 1  3]\n",
      " [ 9 11]]\n"
     ]
    }
   ],
   "source": [
    "\n",
    "row2=np.array([[0, 0], [2,2]])\n",
    "col2=np.array([[1,3], [1,3]])\n",
    "print(row2)\n",
    "print(col2)\n",
    "print(b[row2, col2])"
   ]
  },
  {
   "cell_type": "code",
   "execution_count": 50,
   "id": "8d5187c0-7474-454d-80b0-c66b13120761",
   "metadata": {},
   "outputs": [
    {
     "name": "stdout",
     "output_type": "stream",
     "text": [
      "[[0]\n",
      " [2]]\n",
      "[[1 3]]\n"
     ]
    }
   ],
   "source": [
    "row2 = row.reshape(2,1)\n",
    "col2 = col.reshape(1,2)\n",
    "print(row2)\n",
    "print(col2)"
   ]
  },
  {
   "cell_type": "code",
   "execution_count": 51,
   "id": "27aaa368-9568-40b9-a6c9-46ed4bdb9c13",
   "metadata": {},
   "outputs": [
    {
     "name": "stdout",
     "output_type": "stream",
     "text": [
      "[[ 1  3]\n",
      " [ 9 11]]\n"
     ]
    }
   ],
   "source": [
    "print(b[row2, col2])"
   ]
  },
  {
   "cell_type": "code",
   "execution_count": 52,
   "id": "7d8bde28-3a8d-4e60-a58c-1ddbe50adc0b",
   "metadata": {},
   "outputs": [
    {
     "data": {
      "text/plain": [
       "array([[ 0,  2],\n",
       "       [ 4,  6],\n",
       "       [ 8, 10],\n",
       "       [12, 14]])"
      ]
     },
     "execution_count": 52,
     "metadata": {},
     "output_type": "execute_result"
    }
   ],
   "source": [
    "b[:,[0,2]]"
   ]
  },
  {
   "cell_type": "code",
   "execution_count": 53,
   "id": "3ec0d139-ebff-4899-95c3-a1c704962a2a",
   "metadata": {},
   "outputs": [
    {
     "name": "stdout",
     "output_type": "stream",
     "text": [
      "[1 2 3 4 5]\n"
     ]
    }
   ],
   "source": [
    "a=np.array([2,1,4,3,5])\n",
    "print(np.sort(a))"
   ]
  },
  {
   "cell_type": "code",
   "execution_count": 54,
   "id": "2c81c777-a71c-4fce-b319-76e755a55139",
   "metadata": {},
   "outputs": [
    {
     "name": "stdout",
     "output_type": "stream",
     "text": [
      "[2 1 4 3 5]\n"
     ]
    }
   ],
   "source": [
    "print(a)"
   ]
  },
  {
   "cell_type": "code",
   "execution_count": 55,
   "id": "caeff93b-7f46-429b-a16c-08085b1dcb25",
   "metadata": {},
   "outputs": [
    {
     "data": {
      "text/plain": [
       "array([1, 2, 3, 4, 5])"
      ]
     },
     "execution_count": 55,
     "metadata": {},
     "output_type": "execute_result"
    }
   ],
   "source": [
    "b = np.sort(a)\n",
    "b"
   ]
  },
  {
   "cell_type": "code",
   "execution_count": 56,
   "id": "bf9c5654-8c99-474a-985e-a2d9a165e5cc",
   "metadata": {},
   "outputs": [
    {
     "data": {
      "text/plain": [
       "array([1, 2, 3, 4, 5])"
      ]
     },
     "execution_count": 56,
     "metadata": {},
     "output_type": "execute_result"
    }
   ],
   "source": [
    "a.sort()\n",
    "a"
   ]
  },
  {
   "cell_type": "code",
   "execution_count": 57,
   "id": "439cef90-063e-4dca-ae23-4360d0e84141",
   "metadata": {},
   "outputs": [
    {
     "name": "stdout",
     "output_type": "stream",
     "text": [
      "[[9 4 3 0]\n",
      " [3 5 0 2]\n",
      " [3 8 1 3]\n",
      " [3 3 7 0]]\n"
     ]
    }
   ],
   "source": [
    "b = np.random.randint(0,10,(4,4))\n",
    "print(b)"
   ]
  },
  {
   "cell_type": "code",
   "execution_count": 58,
   "id": "12c53ad2-9349-4c2d-bffb-08597c9352a0",
   "metadata": {},
   "outputs": [
    {
     "data": {
      "text/plain": [
       "array([[3, 3, 0, 0],\n",
       "       [3, 4, 1, 0],\n",
       "       [3, 5, 3, 2],\n",
       "       [9, 8, 7, 3]])"
      ]
     },
     "execution_count": 58,
     "metadata": {},
     "output_type": "execute_result"
    }
   ],
   "source": [
    "np.sort(b, axis=0)"
   ]
  },
  {
   "cell_type": "code",
   "execution_count": 59,
   "id": "9f6f69ea-60c8-45cc-8759-b128012c0702",
   "metadata": {},
   "outputs": [
    {
     "data": {
      "text/plain": [
       "array([[0, 3, 4, 9],\n",
       "       [0, 2, 3, 5],\n",
       "       [1, 3, 3, 8],\n",
       "       [0, 3, 3, 7]])"
      ]
     },
     "execution_count": 59,
     "metadata": {},
     "output_type": "execute_result"
    }
   ],
   "source": [
    "np.sort(b, axis=1)"
   ]
  },
  {
   "cell_type": "code",
   "execution_count": 61,
   "id": "c999e366-7e0b-4648-bab4-08dbba7e8e4f",
   "metadata": {},
   "outputs": [
    {
     "name": "stdout",
     "output_type": "stream",
     "text": [
      "Array a: [23 12 47 35 59]\n",
      "Indices: [1 0 3 2 4]\n"
     ]
    }
   ],
   "source": [
    "a=np.array([23,12,47,35,59])\n",
    "print(\"Array a:\", a)\n",
    "idx = np.argsort(a)\n",
    "print(\"Indices:\", idx)"
   ]
  },
  {
   "cell_type": "code",
   "execution_count": 3,
   "id": "0524bc04-72db-4edb-9daa-7ef39e94ef8c",
   "metadata": {},
   "outputs": [
    {
     "name": "stdout",
     "output_type": "stream",
     "text": [
      "[[5 0]\n",
      " [3 3]\n",
      " [7 9]]\n",
      "[[3 5 2 4]\n",
      " [7 6 8 8]]\n"
     ]
    }
   ],
   "source": [
    "np.random.seed(0)\n",
    "a = np.random.randint(0, 10, (3, 2))\n",
    "b = np.random.randint(0, 10, (2, 4))\n",
    "print(a)\n",
    "print(b)"
   ]
  },
  {
   "cell_type": "code",
   "execution_count": 4,
   "id": "678feeb1-b746-4877-9fe5-8263995f62e7",
   "metadata": {},
   "outputs": [],
   "source": [
    "def info(name, a):\n",
    "    print(f\"{name} has dim {a.ndim}, shape {a.shape}, size {a.size}, and dtype {a.dtype}:\")\n",
    "    print(a)\n",
    "    "
   ]
  },
  {
   "cell_type": "code",
   "execution_count": 6,
   "id": "77edb900-a64e-4be8-8bb9-c6b77d60464f",
   "metadata": {},
   "outputs": [
    {
     "name": "stdout",
     "output_type": "stream",
     "text": [
      "c has dim 2, shape (3, 4), size 12, and dtype int32:\n",
      "[[ 15  25  10  20]\n",
      " [ 30  33  30  36]\n",
      " [ 84  89  86 100]]\n"
     ]
    }
   ],
   "source": [
    "c = np.matmul(a, b)\n",
    "info(\"c\", c)"
   ]
  },
  {
   "cell_type": "code",
   "execution_count": 7,
   "id": "db8679b8-118c-423f-b7ae-66a5470b5b1d",
   "metadata": {},
   "outputs": [
    {
     "name": "stdout",
     "output_type": "stream",
     "text": [
      "[[ 15  25  10  20]\n",
      " [ 30  33  30  36]\n",
      " [ 84  89  86 100]]\n"
     ]
    }
   ],
   "source": [
    "print(a@b)"
   ]
  },
  {
   "cell_type": "code",
   "execution_count": 9,
   "id": "7901605a-c578-4b33-91d6-cd3f7e7a631b",
   "metadata": {},
   "outputs": [
    {
     "name": "stdout",
     "output_type": "stream",
     "text": [
      "Orginal matrix:\n",
      "[[1 6 7]\n",
      " [7 8 1]\n",
      " [5 9 8]]\n",
      "Inverted matrix:\n",
      "[[-0.61111111 -0.16666667  0.55555556]\n",
      " [ 0.56666667  0.3        -0.53333333]\n",
      " [-0.25555556 -0.23333333  0.37777778]]\n",
      "Matrix product:\n",
      "[[ 1.00000000e+00 -2.22044605e-16  4.44089210e-16]\n",
      " [-1.11022302e-16  1.00000000e+00  1.11022302e-16]\n",
      " [-8.88178420e-16 -2.22044605e-16  1.00000000e+00]]\n",
      "Matrix product the other way:\n",
      "[[ 1.00000000e+00  2.66453526e-15  8.88178420e-16]\n",
      " [-8.88178420e-16  1.00000000e+00 -8.88178420e-16]\n",
      " [ 4.44089210e-16  4.44089210e-16  1.00000000e+00]]\n"
     ]
    }
   ],
   "source": [
    "s = np.array([[1, 6 , 7], [7, 8, 1], [5, 9, 8]])\n",
    "print(\"Orginal matrix:\", s, sep=\"\\n\")\n",
    "s_inv = np.linalg.inv(s)\n",
    "print(\"Inverted matrix:\", s_inv, sep=\"\\n\")\n",
    "print(\"Matrix product:\", s @ s_inv, sep=\"\\n\")                            # This should be pretty close to the identity matrix np.eye(3)\n",
    "print(\"Matrix product the other way:\", s_inv @ s, sep=\"\\n\") "
   ]
  },
  {
   "cell_type": "code",
   "execution_count": 10,
   "id": "f3668792-62fe-4360-80b4-075640a2aa27",
   "metadata": {},
   "outputs": [
    {
     "name": "stdout",
     "output_type": "stream",
     "text": [
      "[39 41 57]\n",
      "[1. 4. 2.]\n"
     ]
    }
   ],
   "source": [
    "x = np.array([1, 4, 2])\n",
    "y = s @ x\n",
    "print(y)\n",
    "print(s_inv @ y)"
   ]
  },
  {
   "cell_type": "code",
   "execution_count": 16,
   "id": "0bfd2979-338f-4823-af47-13b355e5c209",
   "metadata": {},
   "outputs": [
    {
     "name": "stdout",
     "output_type": "stream",
     "text": [
      "[[14 56 28]\n",
      " [16 64 32]\n",
      " [22 88 44]]\n"
     ]
    }
   ],
   "source": [
    "z = np.array([[1, 4, 2],\n",
    "            [1, 4, 2],\n",
    "            [1, 4, 2]])\n",
    "\n",
    "f = s @ z\n",
    "print(f)"
   ]
  },
  {
   "cell_type": "code",
   "execution_count": 17,
   "id": "f2735733-42d5-4aa0-8417-3fbc68b936b9",
   "metadata": {},
   "outputs": [],
   "source": [
    "import numpy as np\n",
    "import matplotlib.pyplot as plt"
   ]
  },
  {
   "cell_type": "code",
   "execution_count": 18,
   "id": "635a5675-56dd-4b60-ac5b-f454d298c301",
   "metadata": {},
   "outputs": [
    {
     "data": {
      "image/png": "[encoded data removed]",
      "text/plain": [
       "<Figure size 432x288 with 1 Axes>"
      ]
     },
     "metadata": {
      "needs_background": "light"
     },
     "output_type": "display_data"
    }
   ],
   "source": [
    "a = np.array([2, 5, 7, 4, 7, 0, 3, 1, 9, 2])\n",
    "plt.plot(a)\n",
    "plt.title(\"My first figure\")\n",
    "plt.xlabel(\"My x-axis\")\n",
    "plt.ylabel(\"My y-axis\")\n",
    "plt.show()"
   ]
  },
  {
   "cell_type": "code",
   "execution_count": 21,
   "id": "b3bf06aa-3cbe-4b0e-b10e-9a4f0614bca3",
   "metadata": {},
   "outputs": [
    {
     "name": "stdout",
     "output_type": "stream",
     "text": [
      "(2, 2)\n"
     ]
    },
    {
     "data": {
      "image/png": "[encoded data removed]",
      "text/plain": [
       "<Figure size 432x288 with 4 Axes>"
      ]
     },
     "metadata": {
      "needs_background": "light"
     },
     "output_type": "display_data"
    }
   ],
   "source": [
    "fig, ax = plt.subplots(2, 2)\n",
    "print(ax.shape)"
   ]
  },
  {
   "cell_type": "code",
   "execution_count": 23,
   "id": "f88acc78-f7c9-47e4-85e5-9a3e7940cecc",
   "metadata": {},
   "outputs": [
    {
     "name": "stdout",
     "output_type": "stream",
     "text": [
      "(2, 2)\n"
     ]
    },
    {
     "data": {
      "image/png": "[encoded data removed]",
      "text/plain": [
       "<Figure size 432x288 with 4 Axes>"
      ]
     },
     "metadata": {
      "needs_background": "light"
     },
     "output_type": "display_data"
    }
   ],
   "source": [
    "fig, ax = plt.subplots(2, 2)\n",
    "print(ax.shape)\n",
    "ax[0,0].plot(np.arange(6))          # top left\n",
    "ax[0,1].plot(np.arange(6,0,-1))     # top right\n",
    "ax[1,0].plot((-1)**np.arange(6))    # bottom left\n",
    "ax[1,1].plot((-1)**np.arange(1,7))  # bottom right\n",
    "plt.show()"
   ]
  },
  {
   "cell_type": "code",
   "execution_count": 25,
   "id": "30837041-d2f4-4073-a28f-80abbd251d5a",
   "metadata": {},
   "outputs": [
    {
     "data": {
      "image/png": "[encoded data removed]",
      "text/plain": [
       "<Figure size 432x288 with 1 Axes>"
      ]
     },
     "metadata": {
      "needs_background": "light"
     },
     "output_type": "display_data"
    }
   ],
   "source": [
    "n=5\n",
    "l=256\n",
    "im = np.zeros((l,l))\n",
    "np.random.seed(0)\n",
    "points = np.random.randint(0, l, (2, n**2))  # sample n*n pixels from the array im\n",
    "im[points[0], points[1]] = 1\n",
    "plt.imshow(im);"
   ]
  },
  {
   "cell_type": "code",
   "execution_count": 26,
   "id": "21d37648-a997-45a3-a95f-871e4255fb72",
   "metadata": {},
   "outputs": [
    {
     "data": {
      "image/png": "[encoded data removed]",
      "text/plain": [
       "<Figure size 432x288 with 1 Axes>"
      ]
     },
     "metadata": {
      "needs_background": "light"
     },
     "output_type": "display_data"
    }
   ],
   "source": [
    "\n",
    "from scipy import ndimage\n",
    "im2 = ndimage.gaussian_filter(im, sigma=l/(8.*n))  # blur the image a bit\n",
    "plt.imshow(im2);"
   ]
  },
  {
   "cell_type": "code",
   "execution_count": 30,
   "id": "fb34e8f5-adbe-4bc1-a8ad-11301c1764e7",
   "metadata": {},
   "outputs": [
    {
     "name": "stdout",
     "output_type": "stream",
     "text": [
      "Number of clusters is 12\n"
     ]
    },
    {
     "data": {
      "text/plain": [
       "<matplotlib.image.AxesImage at 0x1fc93048160>"
      ]
     },
     "execution_count": 30,
     "metadata": {},
     "output_type": "execute_result"
    },
    {
     "data": {
      "image/png": "[encoded data removed]",
      "text/plain": [
       "<Figure size 432x288 with 1 Axes>"
      ]
     },
     "metadata": {
      "needs_background": "light"
     },
     "output_type": "display_data"
    }
   ],
   "source": [
    "mask = im2 > im2.mean()\n",
    "label_im, nb_labels = ndimage.label(mask)\n",
    "print(f\"Number of clusters is {nb_labels}\")\n",
    "plt.imshow(label_im)"
   ]
  },
  {
   "cell_type": "code",
   "execution_count": 1,
   "id": "851fc485-99db-429d-b42f-35a716ac1f50",
   "metadata": {},
   "outputs": [],
   "source": [
    "import pandas as pd    # This is the standard way of importing the Pandas library\n",
    "import numpy as np"
   ]
  },
  {
   "cell_type": "code",
   "execution_count": 32,
   "id": "6eadcffe-8a7b-41b1-bf2f-82ed8d54784a",
   "metadata": {},
   "outputs": [
    {
     "data": {
      "text/html": [
       "<div>\n",
       "<style scoped>\n",
       "    .dataframe tbody tr th:only-of-type {\n",
       "        vertical-align: middle;\n",
       "    }\n",
       "\n",
       "    .dataframe tbody tr th {\n",
       "        vertical-align: top;\n",
       "    }\n",
       "\n",
       "    .dataframe thead th {\n",
       "        text-align: right;\n",
       "    }\n",
       "</style>\n",
       "<table border=\"1\" class=\"dataframe\">\n",
       "  <thead>\n",
       "    <tr style=\"text-align: right;\">\n",
       "      <th></th>\n",
       "      <th>Year</th>\n",
       "      <th>m</th>\n",
       "      <th>d</th>\n",
       "      <th>Time</th>\n",
       "      <th>Time zone</th>\n",
       "      <th>Precipitation amount (mm)</th>\n",
       "      <th>Snow depth (cm)</th>\n",
       "      <th>Air temperature (degC)</th>\n",
       "    </tr>\n",
       "  </thead>\n",
       "  <tbody>\n",
       "    <tr>\n",
       "      <th>0</th>\n",
       "      <td>2017</td>\n",
       "      <td>1</td>\n",
       "      <td>1</td>\n",
       "      <td>00:00</td>\n",
       "      <td>UTC</td>\n",
       "      <td>-1.0</td>\n",
       "      <td>-1.0</td>\n",
       "      <td>0.6</td>\n",
       "    </tr>\n",
       "    <tr>\n",
       "      <th>1</th>\n",
       "      <td>2017</td>\n",
       "      <td>1</td>\n",
       "      <td>2</td>\n",
       "      <td>00:00</td>\n",
       "      <td>UTC</td>\n",
       "      <td>4.4</td>\n",
       "      <td>-1.0</td>\n",
       "      <td>-3.9</td>\n",
       "    </tr>\n",
       "    <tr>\n",
       "      <th>2</th>\n",
       "      <td>2017</td>\n",
       "      <td>1</td>\n",
       "      <td>3</td>\n",
       "      <td>00:00</td>\n",
       "      <td>UTC</td>\n",
       "      <td>6.6</td>\n",
       "      <td>7.0</td>\n",
       "      <td>-6.5</td>\n",
       "    </tr>\n",
       "    <tr>\n",
       "      <th>3</th>\n",
       "      <td>2017</td>\n",
       "      <td>1</td>\n",
       "      <td>4</td>\n",
       "      <td>00:00</td>\n",
       "      <td>UTC</td>\n",
       "      <td>-1.0</td>\n",
       "      <td>13.0</td>\n",
       "      <td>-12.8</td>\n",
       "    </tr>\n",
       "    <tr>\n",
       "      <th>4</th>\n",
       "      <td>2017</td>\n",
       "      <td>1</td>\n",
       "      <td>5</td>\n",
       "      <td>00:00</td>\n",
       "      <td>UTC</td>\n",
       "      <td>-1.0</td>\n",
       "      <td>10.0</td>\n",
       "      <td>-17.8</td>\n",
       "    </tr>\n",
       "  </tbody>\n",
       "</table>\n",
       "</div>"
      ],
      "text/plain": [
       "   Year  m  d   Time Time zone  Precipitation amount (mm)  Snow depth (cm)  \\\n",
       "0  2017  1  1  00:00       UTC                       -1.0             -1.0   \n",
       "1  2017  1  2  00:00       UTC                        4.4             -1.0   \n",
       "2  2017  1  3  00:00       UTC                        6.6              7.0   \n",
       "3  2017  1  4  00:00       UTC                       -1.0             13.0   \n",
       "4  2017  1  5  00:00       UTC                       -1.0             10.0   \n",
       "\n",
       "   Air temperature (degC)  \n",
       "0                     0.6  \n",
       "1                    -3.9  \n",
       "2                    -6.5  \n",
       "3                   -12.8  \n",
       "4                   -17.8  "
      ]
     },
     "execution_count": 32,
     "metadata": {},
     "output_type": "execute_result"
    }
   ],
   "source": [
    "wh = pd.read_csv(\"https://raw.githubusercontent.com/csmastersUH/data_analysis_with_python_2020/master/kumpula-weather-2017.csv\")\n",
    "wh.head()"
   ]
  },
  {
   "cell_type": "code",
   "execution_count": 33,
   "id": "a5982e96-5ee8-433a-baef-4e20aa2a30ae",
   "metadata": {},
   "outputs": [
    {
     "data": {
      "text/plain": [
       "0    -1.0\n",
       "1    -1.0\n",
       "2     7.0\n",
       "3    13.0\n",
       "4    10.0\n",
       "Name: Snow depth (cm), dtype: float64"
      ]
     },
     "execution_count": 33,
     "metadata": {},
     "output_type": "execute_result"
    }
   ],
   "source": [
    "wh[\"Snow depth (cm)\"].head()"
   ]
  },
  {
   "cell_type": "code",
   "execution_count": 34,
   "id": "c855d9a5-ddbd-4c6b-b039-51c975894042",
   "metadata": {},
   "outputs": [
    {
     "data": {
      "text/plain": [
       "6.527123287671233"
      ]
     },
     "execution_count": 34,
     "metadata": {},
     "output_type": "execute_result"
    }
   ],
   "source": [
    "wh[\"Air temperature (degC)\"].mean()"
   ]
  },
  {
   "cell_type": "code",
   "execution_count": 35,
   "id": "d9e2128c-8a4f-44fe-b9ee-586927b90210",
   "metadata": {},
   "outputs": [
    {
     "data": {
      "text/html": [
       "<div>\n",
       "<style scoped>\n",
       "    .dataframe tbody tr th:only-of-type {\n",
       "        vertical-align: middle;\n",
       "    }\n",
       "\n",
       "    .dataframe tbody tr th {\n",
       "        vertical-align: top;\n",
       "    }\n",
       "\n",
       "    .dataframe thead th {\n",
       "        text-align: right;\n",
       "    }\n",
       "</style>\n",
       "<table border=\"1\" class=\"dataframe\">\n",
       "  <thead>\n",
       "    <tr style=\"text-align: right;\">\n",
       "      <th></th>\n",
       "      <th>Year</th>\n",
       "      <th>m</th>\n",
       "      <th>d</th>\n",
       "      <th>Time</th>\n",
       "      <th>Precipitation amount (mm)</th>\n",
       "      <th>Snow depth (cm)</th>\n",
       "      <th>Air temperature (degC)</th>\n",
       "    </tr>\n",
       "  </thead>\n",
       "  <tbody>\n",
       "    <tr>\n",
       "      <th>0</th>\n",
       "      <td>2017</td>\n",
       "      <td>1</td>\n",
       "      <td>1</td>\n",
       "      <td>00:00</td>\n",
       "      <td>-1.0</td>\n",
       "      <td>-1.0</td>\n",
       "      <td>0.6</td>\n",
       "    </tr>\n",
       "    <tr>\n",
       "      <th>1</th>\n",
       "      <td>2017</td>\n",
       "      <td>1</td>\n",
       "      <td>2</td>\n",
       "      <td>00:00</td>\n",
       "      <td>4.4</td>\n",
       "      <td>-1.0</td>\n",
       "      <td>-3.9</td>\n",
       "    </tr>\n",
       "    <tr>\n",
       "      <th>2</th>\n",
       "      <td>2017</td>\n",
       "      <td>1</td>\n",
       "      <td>3</td>\n",
       "      <td>00:00</td>\n",
       "      <td>6.6</td>\n",
       "      <td>7.0</td>\n",
       "      <td>-6.5</td>\n",
       "    </tr>\n",
       "    <tr>\n",
       "      <th>3</th>\n",
       "      <td>2017</td>\n",
       "      <td>1</td>\n",
       "      <td>4</td>\n",
       "      <td>00:00</td>\n",
       "      <td>-1.0</td>\n",
       "      <td>13.0</td>\n",
       "      <td>-12.8</td>\n",
       "    </tr>\n",
       "    <tr>\n",
       "      <th>4</th>\n",
       "      <td>2017</td>\n",
       "      <td>1</td>\n",
       "      <td>5</td>\n",
       "      <td>00:00</td>\n",
       "      <td>-1.0</td>\n",
       "      <td>10.0</td>\n",
       "      <td>-17.8</td>\n",
       "    </tr>\n",
       "  </tbody>\n",
       "</table>\n",
       "</div>"
      ],
      "text/plain": [
       "   Year  m  d   Time  Precipitation amount (mm)  Snow depth (cm)  \\\n",
       "0  2017  1  1  00:00                       -1.0             -1.0   \n",
       "1  2017  1  2  00:00                        4.4             -1.0   \n",
       "2  2017  1  3  00:00                        6.6              7.0   \n",
       "3  2017  1  4  00:00                       -1.0             13.0   \n",
       "4  2017  1  5  00:00                       -1.0             10.0   \n",
       "\n",
       "   Air temperature (degC)  \n",
       "0                     0.6  \n",
       "1                    -3.9  \n",
       "2                    -6.5  \n",
       "3                   -12.8  \n",
       "4                   -17.8  "
      ]
     },
     "execution_count": 35,
     "metadata": {},
     "output_type": "execute_result"
    }
   ],
   "source": [
    "wh.drop(\"Time zone\", axis=1).head()"
   ]
  },
  {
   "cell_type": "code",
   "execution_count": 36,
   "id": "09885bf8-c49a-40df-b7ea-e75c6c926130",
   "metadata": {},
   "outputs": [
    {
     "data": {
      "text/html": [
       "<div>\n",
       "<style scoped>\n",
       "    .dataframe tbody tr th:only-of-type {\n",
       "        vertical-align: middle;\n",
       "    }\n",
       "\n",
       "    .dataframe tbody tr th {\n",
       "        vertical-align: top;\n",
       "    }\n",
       "\n",
       "    .dataframe thead th {\n",
       "        text-align: right;\n",
       "    }\n",
       "</style>\n",
       "<table border=\"1\" class=\"dataframe\">\n",
       "  <thead>\n",
       "    <tr style=\"text-align: right;\">\n",
       "      <th></th>\n",
       "      <th>Year</th>\n",
       "      <th>m</th>\n",
       "      <th>d</th>\n",
       "      <th>Time</th>\n",
       "      <th>Time zone</th>\n",
       "      <th>Precipitation amount (mm)</th>\n",
       "      <th>Snow depth (cm)</th>\n",
       "      <th>Air temperature (degC)</th>\n",
       "    </tr>\n",
       "  </thead>\n",
       "  <tbody>\n",
       "    <tr>\n",
       "      <th>0</th>\n",
       "      <td>2017</td>\n",
       "      <td>1</td>\n",
       "      <td>1</td>\n",
       "      <td>00:00</td>\n",
       "      <td>UTC</td>\n",
       "      <td>-1.0</td>\n",
       "      <td>-1.0</td>\n",
       "      <td>0.6</td>\n",
       "    </tr>\n",
       "    <tr>\n",
       "      <th>1</th>\n",
       "      <td>2017</td>\n",
       "      <td>1</td>\n",
       "      <td>2</td>\n",
       "      <td>00:00</td>\n",
       "      <td>UTC</td>\n",
       "      <td>4.4</td>\n",
       "      <td>-1.0</td>\n",
       "      <td>-3.9</td>\n",
       "    </tr>\n",
       "    <tr>\n",
       "      <th>2</th>\n",
       "      <td>2017</td>\n",
       "      <td>1</td>\n",
       "      <td>3</td>\n",
       "      <td>00:00</td>\n",
       "      <td>UTC</td>\n",
       "      <td>6.6</td>\n",
       "      <td>7.0</td>\n",
       "      <td>-6.5</td>\n",
       "    </tr>\n",
       "    <tr>\n",
       "      <th>3</th>\n",
       "      <td>2017</td>\n",
       "      <td>1</td>\n",
       "      <td>4</td>\n",
       "      <td>00:00</td>\n",
       "      <td>UTC</td>\n",
       "      <td>-1.0</td>\n",
       "      <td>13.0</td>\n",
       "      <td>-12.8</td>\n",
       "    </tr>\n",
       "    <tr>\n",
       "      <th>4</th>\n",
       "      <td>2017</td>\n",
       "      <td>1</td>\n",
       "      <td>5</td>\n",
       "      <td>00:00</td>\n",
       "      <td>UTC</td>\n",
       "      <td>-1.0</td>\n",
       "      <td>10.0</td>\n",
       "      <td>-17.8</td>\n",
       "    </tr>\n",
       "  </tbody>\n",
       "</table>\n",
       "</div>"
      ],
      "text/plain": [
       "   Year  m  d   Time Time zone  Precipitation amount (mm)  Snow depth (cm)  \\\n",
       "0  2017  1  1  00:00       UTC                       -1.0             -1.0   \n",
       "1  2017  1  2  00:00       UTC                        4.4             -1.0   \n",
       "2  2017  1  3  00:00       UTC                        6.6              7.0   \n",
       "3  2017  1  4  00:00       UTC                       -1.0             13.0   \n",
       "4  2017  1  5  00:00       UTC                       -1.0             10.0   \n",
       "\n",
       "   Air temperature (degC)  \n",
       "0                     0.6  \n",
       "1                    -3.9  \n",
       "2                    -6.5  \n",
       "3                   -12.8  \n",
       "4                   -17.8  "
      ]
     },
     "execution_count": 36,
     "metadata": {},
     "output_type": "execute_result"
    }
   ],
   "source": [
    "wh.head()  "
   ]
  },
  {
   "cell_type": "code",
   "execution_count": 38,
   "id": "3b613a6b-6b66-4c47-a98f-b79cb872a268",
   "metadata": {},
   "outputs": [
    {
     "data": {
      "text/html": [
       "<div>\n",
       "<style scoped>\n",
       "    .dataframe tbody tr th:only-of-type {\n",
       "        vertical-align: middle;\n",
       "    }\n",
       "\n",
       "    .dataframe tbody tr th {\n",
       "        vertical-align: top;\n",
       "    }\n",
       "\n",
       "    .dataframe thead th {\n",
       "        text-align: right;\n",
       "    }\n",
       "</style>\n",
       "<table border=\"1\" class=\"dataframe\">\n",
       "  <thead>\n",
       "    <tr style=\"text-align: right;\">\n",
       "      <th></th>\n",
       "      <th>Year</th>\n",
       "      <th>m</th>\n",
       "      <th>d</th>\n",
       "      <th>Time</th>\n",
       "      <th>Time zone</th>\n",
       "      <th>Precipitation amount (mm)</th>\n",
       "      <th>Snow depth (cm)</th>\n",
       "      <th>Air temperature (degC)</th>\n",
       "      <th>Rainy</th>\n",
       "      <th>Snow over 10 cm</th>\n",
       "    </tr>\n",
       "  </thead>\n",
       "  <tbody>\n",
       "    <tr>\n",
       "      <th>0</th>\n",
       "      <td>2017</td>\n",
       "      <td>1</td>\n",
       "      <td>1</td>\n",
       "      <td>00:00</td>\n",
       "      <td>UTC</td>\n",
       "      <td>-1.0</td>\n",
       "      <td>-1.0</td>\n",
       "      <td>0.6</td>\n",
       "      <td>False</td>\n",
       "      <td>False</td>\n",
       "    </tr>\n",
       "    <tr>\n",
       "      <th>1</th>\n",
       "      <td>2017</td>\n",
       "      <td>1</td>\n",
       "      <td>2</td>\n",
       "      <td>00:00</td>\n",
       "      <td>UTC</td>\n",
       "      <td>4.4</td>\n",
       "      <td>-1.0</td>\n",
       "      <td>-3.9</td>\n",
       "      <td>False</td>\n",
       "      <td>False</td>\n",
       "    </tr>\n",
       "    <tr>\n",
       "      <th>2</th>\n",
       "      <td>2017</td>\n",
       "      <td>1</td>\n",
       "      <td>3</td>\n",
       "      <td>00:00</td>\n",
       "      <td>UTC</td>\n",
       "      <td>6.6</td>\n",
       "      <td>7.0</td>\n",
       "      <td>-6.5</td>\n",
       "      <td>False</td>\n",
       "      <td>False</td>\n",
       "    </tr>\n",
       "    <tr>\n",
       "      <th>3</th>\n",
       "      <td>2017</td>\n",
       "      <td>1</td>\n",
       "      <td>4</td>\n",
       "      <td>00:00</td>\n",
       "      <td>UTC</td>\n",
       "      <td>-1.0</td>\n",
       "      <td>13.0</td>\n",
       "      <td>-12.8</td>\n",
       "      <td>True</td>\n",
       "      <td>True</td>\n",
       "    </tr>\n",
       "    <tr>\n",
       "      <th>4</th>\n",
       "      <td>2017</td>\n",
       "      <td>1</td>\n",
       "      <td>5</td>\n",
       "      <td>00:00</td>\n",
       "      <td>UTC</td>\n",
       "      <td>-1.0</td>\n",
       "      <td>10.0</td>\n",
       "      <td>-17.8</td>\n",
       "      <td>False</td>\n",
       "      <td>False</td>\n",
       "    </tr>\n",
       "  </tbody>\n",
       "</table>\n",
       "</div>"
      ],
      "text/plain": [
       "   Year  m  d   Time Time zone  Precipitation amount (mm)  Snow depth (cm)  \\\n",
       "0  2017  1  1  00:00       UTC                       -1.0             -1.0   \n",
       "1  2017  1  2  00:00       UTC                        4.4             -1.0   \n",
       "2  2017  1  3  00:00       UTC                        6.6              7.0   \n",
       "3  2017  1  4  00:00       UTC                       -1.0             13.0   \n",
       "4  2017  1  5  00:00       UTC                       -1.0             10.0   \n",
       "\n",
       "   Air temperature (degC)  Rainy  Snow over 10 cm  \n",
       "0                     0.6  False            False  \n",
       "1                    -3.9  False            False  \n",
       "2                    -6.5  False            False  \n",
       "3                   -12.8   True             True  \n",
       "4                   -17.8  False            False  "
      ]
     },
     "execution_count": 38,
     "metadata": {},
     "output_type": "execute_result"
    }
   ],
   "source": [
    "wh[\"Snow over 10 cm\"] = wh[\"Snow depth (cm)\"] > 10\n",
    "wh.head()"
   ]
  },
  {
   "cell_type": "code",
   "execution_count": 40,
   "id": "c6abc3be-b9e9-4fbd-ba8c-2b8ab4f3b95b",
   "metadata": {},
   "outputs": [
    {
     "data": {
      "text/plain": [
       "0    1\n",
       "1    4\n",
       "2    5\n",
       "3    2\n",
       "4    5\n",
       "5    2\n",
       "dtype: int64"
      ]
     },
     "execution_count": 40,
     "metadata": {},
     "output_type": "execute_result"
    }
   ],
   "source": [
    "s = pd.Series([1, 4, 5, 2, 5, 2])\n",
    "s"
   ]
  },
  {
   "cell_type": "code",
   "execution_count": 42,
   "id": "ce9fc7f9-c025-435c-b485-9333e48ae050",
   "metadata": {},
   "outputs": [
    {
     "data": {
      "text/plain": [
       "0    1\n",
       "1    4\n",
       "2    5\n",
       "3    2\n",
       "4    5\n",
       "5    2\n",
       "Name: Grades, dtype: int64"
      ]
     },
     "execution_count": 42,
     "metadata": {},
     "output_type": "execute_result"
    }
   ],
   "source": [
    "s.name = \"Grades\"\n",
    "s"
   ]
  },
  {
   "cell_type": "code",
   "execution_count": 44,
   "id": "a6e0a532-3bb9-4a00-83ce-80080e3f48f6",
   "metadata": {},
   "outputs": [
    {
     "name": "stdout",
     "output_type": "stream",
     "text": [
      "Name: Grades, dtype: int64, size: 6\n"
     ]
    }
   ],
   "source": [
    "print(f\"Name: {s.name}, dtype: {s.dtype}, size: {s.size}\")"
   ]
  },
  {
   "cell_type": "code",
   "execution_count": 45,
   "id": "23216520-1fd3-4b94-98eb-d8eb8b16b143",
   "metadata": {},
   "outputs": [
    {
     "data": {
      "text/plain": [
       "4"
      ]
     },
     "execution_count": 45,
     "metadata": {},
     "output_type": "execute_result"
    }
   ],
   "source": [
    "s[1]"
   ]
  },
  {
   "cell_type": "code",
   "execution_count": 46,
   "id": "6a8d59d5-386c-435d-b655-9e178717425e",
   "metadata": {},
   "outputs": [
    {
     "name": "stdout",
     "output_type": "stream",
     "text": [
      "0    1\n",
      "5    2\n",
      "Name: Grades, dtype: int64\n"
     ]
    }
   ],
   "source": [
    "s2 = s[[0,5]]\n",
    "print(s2)"
   ]
  },
  {
   "cell_type": "code",
   "execution_count": 47,
   "id": "ca872dbe-e2fd-4e38-8de1-908b7ff571c5",
   "metadata": {},
   "outputs": [
    {
     "data": {
      "text/plain": [
       "4    5\n",
       "5    2\n",
       "Name: Grades, dtype: int64"
      ]
     },
     "execution_count": 47,
     "metadata": {},
     "output_type": "execute_result"
    }
   ],
   "source": [
    "t = s[-2:]\n",
    "t"
   ]
  },
  {
   "cell_type": "code",
   "execution_count": 51,
   "id": "15fa6bcc-0921-4ced-b83e-4dcc987d11f5",
   "metadata": {},
   "outputs": [
    {
     "data": {
      "text/plain": [
       "5"
      ]
     },
     "execution_count": 51,
     "metadata": {},
     "output_type": "execute_result"
    }
   ],
   "source": [
    "t[4]"
   ]
  },
  {
   "cell_type": "code",
   "execution_count": 52,
   "id": "a930cd53-79ca-4d5b-8c55-dfb700b5e31e",
   "metadata": {},
   "outputs": [
    {
     "name": "stdout",
     "output_type": "stream",
     "text": [
      "Int64Index([0, 5], dtype='int64')\n",
      "[1 2]\n"
     ]
    }
   ],
   "source": [
    "print(s2.index)\n",
    "print(s2.values)"
   ]
  },
  {
   "cell_type": "code",
   "execution_count": 53,
   "id": "c6f82dd5-eedc-40e2-b13f-44d4ef57121b",
   "metadata": {},
   "outputs": [
    {
     "data": {
      "text/plain": [
       "a    1\n",
       "b    4\n",
       "c    5\n",
       "d    2\n",
       "e    5\n",
       "f    2\n",
       "dtype: int64"
      ]
     },
     "execution_count": 53,
     "metadata": {},
     "output_type": "execute_result"
    }
   ],
   "source": [
    "s3 = pd.Series([1, 4, 5, 2, 5, 2], index=list(\"abcdef\"))\n",
    "s3"
   ]
  },
  {
   "cell_type": "code",
   "execution_count": 54,
   "id": "199569d1-5051-4cd1-b8f6-5c492f3789be",
   "metadata": {},
   "outputs": [
    {
     "data": {
      "text/plain": [
       "Index(['a', 'b', 'c', 'd', 'e', 'f'], dtype='object')"
      ]
     },
     "execution_count": 54,
     "metadata": {},
     "output_type": "execute_result"
    }
   ],
   "source": [
    "s3.index"
   ]
  },
  {
   "cell_type": "code",
   "execution_count": 55,
   "id": "e4a9fa67-c152-4102-ab6f-5b4e66427215",
   "metadata": {},
   "outputs": [
    {
     "data": {
      "text/plain": [
       "4"
      ]
     },
     "execution_count": 55,
     "metadata": {},
     "output_type": "execute_result"
    }
   ],
   "source": [
    "s3[\"b\"]"
   ]
  },
  {
   "cell_type": "code",
   "execution_count": 5,
   "id": "113fdf8c-d8d1-49d9-bb39-ab920d5f7d4d",
   "metadata": {},
   "outputs": [
    {
     "data": {
      "text/plain": [
       "1     Jack\n",
       "2    Jones\n",
       "3    James\n",
       "dtype: object"
      ]
     },
     "execution_count": 5,
     "metadata": {},
     "output_type": "execute_result"
    }
   ],
   "source": [
    "import pandas as pd\n",
    "import numpy as np\n",
    "\n",
    "s4 = pd.Series([\"Jack\", \"Jones\", \"James\"], index=[1,2,3])\n",
    "s4"
   ]
  },
  {
   "cell_type": "code",
   "execution_count": 3,
   "id": "5a5bb308-7a2c-4636-ad61-893ab71bd079",
   "metadata": {},
   "outputs": [
    {
     "name": "stdout",
     "output_type": "stream",
     "text": [
      "Jack\n",
      "Jones\n"
     ]
    }
   ],
   "source": [
    "print(s4.loc[1])\n",
    "print(s4.iloc[1])"
   ]
  },
  {
   "cell_type": "code",
   "execution_count": 4,
   "id": "edc8c284-60f5-4403-a995-93b24bfbdeb0",
   "metadata": {},
   "outputs": [
    {
     "data": {
      "text/plain": [
       "2001     Bush\n",
       "2005     Bush\n",
       "2009    Obama\n",
       "2013    Obama\n",
       "2017    Trump\n",
       "Name: Presidents, dtype: object"
      ]
     },
     "execution_count": 4,
     "metadata": {},
     "output_type": "execute_result"
    }
   ],
   "source": [
    "d = { 2001 : \"Bush\", 2005: \"Bush\", 2009: \"Obama\", 2013: \"Obama\", 2017 : \"Trump\"}\n",
    "s4 = pd.Series(d, name=\"Presidents\")\n",
    "s4"
   ]
  },
  {
   "cell_type": "code",
   "execution_count": 8,
   "id": "4f37cb88-3e7c-4f9e-b840-46257faad7a9",
   "metadata": {},
   "outputs": [
    {
     "data": {
      "text/html": [
       "<div>\n",
       "<style scoped>\n",
       "    .dataframe tbody tr th:only-of-type {\n",
       "        vertical-align: middle;\n",
       "    }\n",
       "\n",
       "    .dataframe tbody tr th {\n",
       "        vertical-align: top;\n",
       "    }\n",
       "\n",
       "    .dataframe thead th {\n",
       "        text-align: right;\n",
       "    }\n",
       "</style>\n",
       "<table border=\"1\" class=\"dataframe\">\n",
       "  <thead>\n",
       "    <tr style=\"text-align: right;\">\n",
       "      <th></th>\n",
       "      <th>First</th>\n",
       "      <th>Second</th>\n",
       "      <th>Third</th>\n",
       "    </tr>\n",
       "  </thead>\n",
       "  <tbody>\n",
       "    <tr>\n",
       "      <th>a</th>\n",
       "      <td>0.094469</td>\n",
       "      <td>-0.963863</td>\n",
       "      <td>1.109019</td>\n",
       "    </tr>\n",
       "    <tr>\n",
       "      <th>b</th>\n",
       "      <td>-1.254439</td>\n",
       "      <td>-0.857080</td>\n",
       "      <td>0.817721</td>\n",
       "    </tr>\n",
       "  </tbody>\n",
       "</table>\n",
       "</div>"
      ],
      "text/plain": [
       "      First    Second     Third\n",
       "a  0.094469 -0.963863  1.109019\n",
       "b -1.254439 -0.857080  0.817721"
      ]
     },
     "execution_count": 8,
     "metadata": {},
     "output_type": "execute_result"
    }
   ],
   "source": [
    "df=pd.DataFrame(np.random.randn(2,3), columns=[\"First\", \"Second\", \"Third\"], index=[\"a\", \"b\"])\n",
    "df"
   ]
  },
  {
   "cell_type": "code",
   "execution_count": 9,
   "id": "81084f1a-e35e-41a3-af0f-5887bbb4dd1c",
   "metadata": {},
   "outputs": [
    {
     "data": {
      "text/plain": [
       "Index(['a', 'b'], dtype='object')"
      ]
     },
     "execution_count": 9,
     "metadata": {},
     "output_type": "execute_result"
    }
   ],
   "source": [
    "df.index"
   ]
  },
  {
   "cell_type": "code",
   "execution_count": 10,
   "id": "d8c22532-381d-4b1d-8269-1c3aea94a35e",
   "metadata": {},
   "outputs": [
    {
     "data": {
      "text/plain": [
       "Index(['First', 'Second', 'Third'], dtype='object')"
      ]
     },
     "execution_count": 10,
     "metadata": {},
     "output_type": "execute_result"
    }
   ],
   "source": [
    "df.columns"
   ]
  },
  {
   "cell_type": "code",
   "execution_count": 17,
   "id": "dc1bd4ae-42ac-4486-bc3a-9b3c4cd12db5",
   "metadata": {},
   "outputs": [
    {
     "name": "stdout",
     "output_type": "stream",
     "text": [
      "a    0.094469\n",
      "b   -1.254439\n",
      "Name: First, dtype: float64\n",
      "a    0.094469\n",
      "b   -1.254439\n",
      "Name: First, dtype: float64\n"
     ]
    }
   ],
   "source": [
    "print(df.First)\n",
    "print(df[\"First\"])"
   ]
  },
  {
   "cell_type": "code",
   "execution_count": 18,
   "id": "ff1cfdd1-3de0-48b4-9d52-191e1f8d743a",
   "metadata": {},
   "outputs": [
    {
     "data": {
      "text/html": [
       "<div>\n",
       "<style scoped>\n",
       "    .dataframe tbody tr th:only-of-type {\n",
       "        vertical-align: middle;\n",
       "    }\n",
       "\n",
       "    .dataframe tbody tr th {\n",
       "        vertical-align: top;\n",
       "    }\n",
       "\n",
       "    .dataframe thead th {\n",
       "        text-align: right;\n",
       "    }\n",
       "</style>\n",
       "<table border=\"1\" class=\"dataframe\">\n",
       "  <thead>\n",
       "    <tr style=\"text-align: right;\">\n",
       "      <th></th>\n",
       "      <th>0</th>\n",
       "      <th>1</th>\n",
       "      <th>2</th>\n",
       "    </tr>\n",
       "  </thead>\n",
       "  <tbody>\n",
       "    <tr>\n",
       "      <th>a</th>\n",
       "      <td>-0.419716</td>\n",
       "      <td>1.613895</td>\n",
       "      <td>-0.561920</td>\n",
       "    </tr>\n",
       "    <tr>\n",
       "      <th>b</th>\n",
       "      <td>-0.612075</td>\n",
       "      <td>0.065970</td>\n",
       "      <td>1.625661</td>\n",
       "    </tr>\n",
       "  </tbody>\n",
       "</table>\n",
       "</div>"
      ],
      "text/plain": [
       "          0         1         2\n",
       "a -0.419716  1.613895 -0.561920\n",
       "b -0.612075  0.065970  1.625661"
      ]
     },
     "execution_count": 18,
     "metadata": {},
     "output_type": "execute_result"
    }
   ],
   "source": [
    "df2=pd.DataFrame(np.random.randn(2,3), index=[\"a\", \"b\"])\n",
    "df2"
   ]
  },
  {
   "cell_type": "code",
   "execution_count": 20,
   "id": "8fd3ac13-968f-4385-b345-ac68888785bf",
   "metadata": {},
   "outputs": [
    {
     "data": {
      "text/plain": [
       "RangeIndex(start=0, stop=3, step=1)"
      ]
     },
     "execution_count": 20,
     "metadata": {},
     "output_type": "execute_result"
    }
   ],
   "source": [
    "df2.columns"
   ]
  },
  {
   "cell_type": "code",
   "execution_count": 21,
   "id": "83b69226-e41b-4f76-ada6-bdd1f4045a20",
   "metadata": {},
   "outputs": [
    {
     "data": {
      "text/plain": [
       "0    1\n",
       "1    2\n",
       "2    3\n",
       "dtype: int64"
      ]
     },
     "execution_count": 21,
     "metadata": {},
     "output_type": "execute_result"
    }
   ],
   "source": [
    "s1 = pd.Series([1,2,3])\n",
    "s1"
   ]
  },
  {
   "cell_type": "code",
   "execution_count": 23,
   "id": "ba209098-eb0e-4eb6-a94d-0bd09fd867f2",
   "metadata": {},
   "outputs": [
    {
     "data": {
      "text/plain": [
       "0    4\n",
       "1    5\n",
       "2    6\n",
       "Name: b, dtype: int64"
      ]
     },
     "execution_count": 23,
     "metadata": {},
     "output_type": "execute_result"
    }
   ],
   "source": [
    "s2 = pd.Series([4,5,6], name = \"b\")\n",
    "s2"
   ]
  },
  {
   "cell_type": "code",
   "execution_count": 24,
   "id": "ff0f623a-6d04-48aa-8041-3bcd52508291",
   "metadata": {},
   "outputs": [
    {
     "data": {
      "text/html": [
       "<div>\n",
       "<style scoped>\n",
       "    .dataframe tbody tr th:only-of-type {\n",
       "        vertical-align: middle;\n",
       "    }\n",
       "\n",
       "    .dataframe tbody tr th {\n",
       "        vertical-align: top;\n",
       "    }\n",
       "\n",
       "    .dataframe thead th {\n",
       "        text-align: right;\n",
       "    }\n",
       "</style>\n",
       "<table border=\"1\" class=\"dataframe\">\n",
       "  <thead>\n",
       "    <tr style=\"text-align: right;\">\n",
       "      <th></th>\n",
       "      <th>a</th>\n",
       "    </tr>\n",
       "  </thead>\n",
       "  <tbody>\n",
       "    <tr>\n",
       "      <th>0</th>\n",
       "      <td>1</td>\n",
       "    </tr>\n",
       "    <tr>\n",
       "      <th>1</th>\n",
       "      <td>2</td>\n",
       "    </tr>\n",
       "    <tr>\n",
       "      <th>2</th>\n",
       "      <td>3</td>\n",
       "    </tr>\n",
       "  </tbody>\n",
       "</table>\n",
       "</div>"
      ],
      "text/plain": [
       "   a\n",
       "0  1\n",
       "1  2\n",
       "2  3"
      ]
     },
     "execution_count": 24,
     "metadata": {},
     "output_type": "execute_result"
    }
   ],
   "source": [
    "pd.DataFrame(s1, columns=[\"a\"])"
   ]
  },
  {
   "cell_type": "code",
   "execution_count": 25,
   "id": "988df358-65b1-47ec-a29d-db53a2705638",
   "metadata": {},
   "outputs": [
    {
     "data": {
      "text/html": [
       "<div>\n",
       "<style scoped>\n",
       "    .dataframe tbody tr th:only-of-type {\n",
       "        vertical-align: middle;\n",
       "    }\n",
       "\n",
       "    .dataframe tbody tr th {\n",
       "        vertical-align: top;\n",
       "    }\n",
       "\n",
       "    .dataframe thead th {\n",
       "        text-align: right;\n",
       "    }\n",
       "</style>\n",
       "<table border=\"1\" class=\"dataframe\">\n",
       "  <thead>\n",
       "    <tr style=\"text-align: right;\">\n",
       "      <th></th>\n",
       "      <th>0</th>\n",
       "    </tr>\n",
       "  </thead>\n",
       "  <tbody>\n",
       "    <tr>\n",
       "      <th>0</th>\n",
       "      <td>1</td>\n",
       "    </tr>\n",
       "    <tr>\n",
       "      <th>1</th>\n",
       "      <td>2</td>\n",
       "    </tr>\n",
       "    <tr>\n",
       "      <th>2</th>\n",
       "      <td>3</td>\n",
       "    </tr>\n",
       "  </tbody>\n",
       "</table>\n",
       "</div>"
      ],
      "text/plain": [
       "   0\n",
       "0  1\n",
       "1  2\n",
       "2  3"
      ]
     },
     "execution_count": 25,
     "metadata": {},
     "output_type": "execute_result"
    }
   ],
   "source": [
    "pd.DataFrame(s1)"
   ]
  },
  {
   "cell_type": "code",
   "execution_count": 26,
   "id": "766787b3-3ca3-4968-b0be-a39bbe802444",
   "metadata": {},
   "outputs": [
    {
     "data": {
      "text/html": [
       "<div>\n",
       "<style scoped>\n",
       "    .dataframe tbody tr th:only-of-type {\n",
       "        vertical-align: middle;\n",
       "    }\n",
       "\n",
       "    .dataframe tbody tr th {\n",
       "        vertical-align: top;\n",
       "    }\n",
       "\n",
       "    .dataframe thead th {\n",
       "        text-align: right;\n",
       "    }\n",
       "</style>\n",
       "<table border=\"1\" class=\"dataframe\">\n",
       "  <thead>\n",
       "    <tr style=\"text-align: right;\">\n",
       "      <th></th>\n",
       "      <th>b</th>\n",
       "    </tr>\n",
       "  </thead>\n",
       "  <tbody>\n",
       "    <tr>\n",
       "      <th>0</th>\n",
       "      <td>4</td>\n",
       "    </tr>\n",
       "    <tr>\n",
       "      <th>1</th>\n",
       "      <td>5</td>\n",
       "    </tr>\n",
       "    <tr>\n",
       "      <th>2</th>\n",
       "      <td>6</td>\n",
       "    </tr>\n",
       "  </tbody>\n",
       "</table>\n",
       "</div>"
      ],
      "text/plain": [
       "   b\n",
       "0  4\n",
       "1  5\n",
       "2  6"
      ]
     },
     "execution_count": 26,
     "metadata": {},
     "output_type": "execute_result"
    }
   ],
   "source": [
    "pd.DataFrame(s2)"
   ]
  },
  {
   "cell_type": "code",
   "execution_count": 27,
   "id": "529cbd5a-7dc5-4cbe-bdc3-4bfaf54e7f15",
   "metadata": {},
   "outputs": [
    {
     "data": {
      "text/html": [
       "<div>\n",
       "<style scoped>\n",
       "    .dataframe tbody tr th:only-of-type {\n",
       "        vertical-align: middle;\n",
       "    }\n",
       "\n",
       "    .dataframe tbody tr th {\n",
       "        vertical-align: top;\n",
       "    }\n",
       "\n",
       "    .dataframe thead th {\n",
       "        text-align: right;\n",
       "    }\n",
       "</style>\n",
       "<table border=\"1\" class=\"dataframe\">\n",
       "  <thead>\n",
       "    <tr style=\"text-align: right;\">\n",
       "      <th></th>\n",
       "      <th>a</th>\n",
       "      <th>b</th>\n",
       "    </tr>\n",
       "  </thead>\n",
       "  <tbody>\n",
       "    <tr>\n",
       "      <th>0</th>\n",
       "      <td>1</td>\n",
       "      <td>4</td>\n",
       "    </tr>\n",
       "    <tr>\n",
       "      <th>1</th>\n",
       "      <td>2</td>\n",
       "      <td>5</td>\n",
       "    </tr>\n",
       "    <tr>\n",
       "      <th>2</th>\n",
       "      <td>3</td>\n",
       "      <td>6</td>\n",
       "    </tr>\n",
       "  </tbody>\n",
       "</table>\n",
       "</div>"
      ],
      "text/plain": [
       "   a  b\n",
       "0  1  4\n",
       "1  2  5\n",
       "2  3  6"
      ]
     },
     "execution_count": 27,
     "metadata": {},
     "output_type": "execute_result"
    }
   ],
   "source": [
    "pd.DataFrame({\"a\": s1, \"b\": s2})"
   ]
  },
  {
   "cell_type": "code",
   "execution_count": 28,
   "id": "ed8dc314-0e6e-43b4-9999-d272df596dad",
   "metadata": {},
   "outputs": [
    {
     "data": {
      "text/html": [
       "<div>\n",
       "<style scoped>\n",
       "    .dataframe tbody tr th:only-of-type {\n",
       "        vertical-align: middle;\n",
       "    }\n",
       "\n",
       "    .dataframe tbody tr th {\n",
       "        vertical-align: top;\n",
       "    }\n",
       "\n",
       "    .dataframe thead th {\n",
       "        text-align: right;\n",
       "    }\n",
       "</style>\n",
       "<table border=\"1\" class=\"dataframe\">\n",
       "  <thead>\n",
       "    <tr style=\"text-align: right;\">\n",
       "      <th></th>\n",
       "      <th>Wage</th>\n",
       "      <th>Name</th>\n",
       "      <th>Age</th>\n",
       "    </tr>\n",
       "  </thead>\n",
       "  <tbody>\n",
       "    <tr>\n",
       "      <th>0</th>\n",
       "      <td>1000</td>\n",
       "      <td>Jack</td>\n",
       "      <td>21</td>\n",
       "    </tr>\n",
       "    <tr>\n",
       "      <th>1</th>\n",
       "      <td>1500</td>\n",
       "      <td>John</td>\n",
       "      <td>29</td>\n",
       "    </tr>\n",
       "  </tbody>\n",
       "</table>\n",
       "</div>"
      ],
      "text/plain": [
       "   Wage  Name  Age\n",
       "0  1000  Jack   21\n",
       "1  1500  John   29"
      ]
     },
     "execution_count": 28,
     "metadata": {},
     "output_type": "execute_result"
    }
   ],
   "source": [
    "df=pd.DataFrame([{\"Wage\" : 1000, \"Name\" : \"Jack\", \"Age\" : 21}, {\"Wage\" : 1500, \"Name\" : \"John\", \"Age\" : 29}])\n",
    "df"
   ]
  },
  {
   "cell_type": "code",
   "execution_count": 29,
   "id": "6bd39711-7349-4165-ac71-c16adfdfead9",
   "metadata": {},
   "outputs": [
    {
     "data": {
      "text/plain": [
       "0    1000\n",
       "1    1500\n",
       "Name: Wage, dtype: int64"
      ]
     },
     "execution_count": 29,
     "metadata": {},
     "output_type": "execute_result"
    }
   ],
   "source": [
    "df[\"Wage\"]"
   ]
  },
  {
   "cell_type": "code",
   "execution_count": 30,
   "id": "2ce5e32f-f02d-4718-afe2-e4d285f21e63",
   "metadata": {},
   "outputs": [
    {
     "data": {
      "text/html": [
       "<div>\n",
       "<style scoped>\n",
       "    .dataframe tbody tr th:only-of-type {\n",
       "        vertical-align: middle;\n",
       "    }\n",
       "\n",
       "    .dataframe tbody tr th {\n",
       "        vertical-align: top;\n",
       "    }\n",
       "\n",
       "    .dataframe thead th {\n",
       "        text-align: right;\n",
       "    }\n",
       "</style>\n",
       "<table border=\"1\" class=\"dataframe\">\n",
       "  <thead>\n",
       "    <tr style=\"text-align: right;\">\n",
       "      <th></th>\n",
       "      <th>Wage</th>\n",
       "      <th>Name</th>\n",
       "    </tr>\n",
       "  </thead>\n",
       "  <tbody>\n",
       "    <tr>\n",
       "      <th>0</th>\n",
       "      <td>1000</td>\n",
       "      <td>Jack</td>\n",
       "    </tr>\n",
       "    <tr>\n",
       "      <th>1</th>\n",
       "      <td>1500</td>\n",
       "      <td>John</td>\n",
       "    </tr>\n",
       "  </tbody>\n",
       "</table>\n",
       "</div>"
      ],
      "text/plain": [
       "   Wage  Name\n",
       "0  1000  Jack\n",
       "1  1500  John"
      ]
     },
     "execution_count": 30,
     "metadata": {},
     "output_type": "execute_result"
    }
   ],
   "source": [
    "df[[\"Wage\", \"Name\"]]"
   ]
  },
  {
   "cell_type": "code",
   "execution_count": 31,
   "id": "30c4e5c4-88d1-43a1-a953-b02e5997c657",
   "metadata": {},
   "outputs": [
    {
     "data": {
      "text/html": [
       "<div>\n",
       "<style scoped>\n",
       "    .dataframe tbody tr th:only-of-type {\n",
       "        vertical-align: middle;\n",
       "    }\n",
       "\n",
       "    .dataframe tbody tr th {\n",
       "        vertical-align: top;\n",
       "    }\n",
       "\n",
       "    .dataframe thead th {\n",
       "        text-align: right;\n",
       "    }\n",
       "</style>\n",
       "<table border=\"1\" class=\"dataframe\">\n",
       "  <thead>\n",
       "    <tr style=\"text-align: right;\">\n",
       "      <th></th>\n",
       "      <th>Wage</th>\n",
       "      <th>Name</th>\n",
       "      <th>Age</th>\n",
       "    </tr>\n",
       "  </thead>\n",
       "  <tbody>\n",
       "    <tr>\n",
       "      <th>0</th>\n",
       "      <td>1000</td>\n",
       "      <td>Jack</td>\n",
       "      <td>21</td>\n",
       "    </tr>\n",
       "  </tbody>\n",
       "</table>\n",
       "</div>"
      ],
      "text/plain": [
       "   Wage  Name  Age\n",
       "0  1000  Jack   21"
      ]
     },
     "execution_count": 31,
     "metadata": {},
     "output_type": "execute_result"
    }
   ],
   "source": [
    "df[0:1]"
   ]
  },
  {
   "cell_type": "code",
   "execution_count": 32,
   "id": "575dcec6-3dd6-40e0-ad61-503b37f80fc6",
   "metadata": {},
   "outputs": [
    {
     "data": {
      "text/html": [
       "<div>\n",
       "<style scoped>\n",
       "    .dataframe tbody tr th:only-of-type {\n",
       "        vertical-align: middle;\n",
       "    }\n",
       "\n",
       "    .dataframe tbody tr th {\n",
       "        vertical-align: top;\n",
       "    }\n",
       "\n",
       "    .dataframe thead th {\n",
       "        text-align: right;\n",
       "    }\n",
       "</style>\n",
       "<table border=\"1\" class=\"dataframe\">\n",
       "  <thead>\n",
       "    <tr style=\"text-align: right;\">\n",
       "      <th></th>\n",
       "      <th>Wage</th>\n",
       "      <th>Name</th>\n",
       "      <th>Age</th>\n",
       "    </tr>\n",
       "  </thead>\n",
       "  <tbody>\n",
       "    <tr>\n",
       "      <th>1</th>\n",
       "      <td>1500</td>\n",
       "      <td>John</td>\n",
       "      <td>29</td>\n",
       "    </tr>\n",
       "  </tbody>\n",
       "</table>\n",
       "</div>"
      ],
      "text/plain": [
       "   Wage  Name  Age\n",
       "1  1500  John   29"
      ]
     },
     "execution_count": 32,
     "metadata": {},
     "output_type": "execute_result"
    }
   ],
   "source": [
    "df[df.Wage > 1200]"
   ]
  },
  {
   "cell_type": "code",
   "execution_count": 33,
   "id": "57fe88d2-6319-4e45-91c9-bfd9338db949",
   "metadata": {},
   "outputs": [
    {
     "data": {
      "text/html": [
       "<div>\n",
       "<style scoped>\n",
       "    .dataframe tbody tr th:only-of-type {\n",
       "        vertical-align: middle;\n",
       "    }\n",
       "\n",
       "    .dataframe tbody tr th {\n",
       "        vertical-align: top;\n",
       "    }\n",
       "\n",
       "    .dataframe thead th {\n",
       "        text-align: right;\n",
       "    }\n",
       "</style>\n",
       "<table border=\"1\" class=\"dataframe\">\n",
       "  <thead>\n",
       "    <tr style=\"text-align: right;\">\n",
       "      <th></th>\n",
       "      <th>Wage</th>\n",
       "      <th>Name</th>\n",
       "      <th>Age</th>\n",
       "    </tr>\n",
       "  </thead>\n",
       "  <tbody>\n",
       "    <tr>\n",
       "      <th>0</th>\n",
       "      <td>1000</td>\n",
       "      <td>Jack</td>\n",
       "      <td>21</td>\n",
       "    </tr>\n",
       "    <tr>\n",
       "      <th>1</th>\n",
       "      <td>1500</td>\n",
       "      <td>John</td>\n",
       "      <td>29</td>\n",
       "    </tr>\n",
       "  </tbody>\n",
       "</table>\n",
       "</div>"
      ],
      "text/plain": [
       "   Wage  Name  Age\n",
       "0  1000  Jack   21\n",
       "1  1500  John   29"
      ]
     },
     "execution_count": 33,
     "metadata": {},
     "output_type": "execute_result"
    }
   ],
   "source": [
    "df"
   ]
  },
  {
   "cell_type": "code",
   "execution_count": 36,
   "id": "4b9ceed1-f026-4303-8285-f2153b99882b",
   "metadata": {},
   "outputs": [
    {
     "data": {
      "text/plain": [
       "1000"
      ]
     },
     "execution_count": 36,
     "metadata": {},
     "output_type": "execute_result"
    }
   ],
   "source": [
    "df[\"Wage\"][0]"
   ]
  },
  {
   "cell_type": "code",
   "execution_count": 37,
   "id": "464d9b0b-b3e3-4682-ab9e-1353a50d12ae",
   "metadata": {},
   "outputs": [
    {
     "data": {
      "text/plain": [
       "1500"
      ]
     },
     "execution_count": 37,
     "metadata": {},
     "output_type": "execute_result"
    }
   ],
   "source": [
    "df[\"Wage\"][1]"
   ]
  },
  {
   "cell_type": "code",
   "execution_count": 38,
   "id": "cf38a861-655f-4d24-b151-62897bae5381",
   "metadata": {},
   "outputs": [
    {
     "data": {
      "text/plain": [
       "1500"
      ]
     },
     "execution_count": 38,
     "metadata": {},
     "output_type": "execute_result"
    }
   ],
   "source": [
    "df.loc[1, \"Wage\"]"
   ]
  },
  {
   "cell_type": "code",
   "execution_count": 39,
   "id": "4ee199f7-c6b7-4325-ad18-c0b2298b4091",
   "metadata": {},
   "outputs": [
    {
     "data": {
      "text/plain": [
       "'John'"
      ]
     },
     "execution_count": 39,
     "metadata": {},
     "output_type": "execute_result"
    }
   ],
   "source": [
    "df.iloc[1,1]"
   ]
  },
  {
   "cell_type": "code",
   "execution_count": 40,
   "id": "1aefa8d8-3277-46fb-980a-f5620ef35d06",
   "metadata": {},
   "outputs": [
    {
     "data": {
      "text/plain": [
       "29"
      ]
     },
     "execution_count": 40,
     "metadata": {},
     "output_type": "execute_result"
    }
   ],
   "source": [
    "df.iloc[-1,-1]"
   ]
  },
  {
   "cell_type": "code",
   "execution_count": 42,
   "id": "17409915-e4cc-43f7-9aec-09d711f4c667",
   "metadata": {},
   "outputs": [
    {
     "data": {
      "text/plain": [
       "Name    John\n",
       "Age       29\n",
       "Name: 1, dtype: object"
      ]
     },
     "execution_count": 42,
     "metadata": {},
     "output_type": "execute_result"
    }
   ],
   "source": [
    "df.loc[1, [\"Name\", \"Age\"]]"
   ]
  },
  {
   "cell_type": "code",
   "execution_count": 2,
   "id": "c91e8ae0-6a5f-455f-b0dd-adc622259ea9",
   "metadata": {},
   "outputs": [],
   "source": [
    "wh = pd.read_csv(\"https://raw.githubusercontent.com/csmastersUH/data_analysis_with_python_2020/master/kumpula-weather-2017.csv\")"
   ]
  },
  {
   "cell_type": "code",
   "execution_count": 44,
   "id": "998ccaaf-83ac-405f-ab51-6713c3f7dffa",
   "metadata": {},
   "outputs": [
    {
     "data": {
      "text/html": [
       "<div>\n",
       "<style scoped>\n",
       "    .dataframe tbody tr th:only-of-type {\n",
       "        vertical-align: middle;\n",
       "    }\n",
       "\n",
       "    .dataframe tbody tr th {\n",
       "        vertical-align: top;\n",
       "    }\n",
       "\n",
       "    .dataframe thead th {\n",
       "        text-align: right;\n",
       "    }\n",
       "</style>\n",
       "<table border=\"1\" class=\"dataframe\">\n",
       "  <thead>\n",
       "    <tr style=\"text-align: right;\">\n",
       "      <th></th>\n",
       "      <th>Year</th>\n",
       "      <th>m</th>\n",
       "      <th>d</th>\n",
       "      <th>Time</th>\n",
       "      <th>Time zone</th>\n",
       "      <th>Precipitation amount (mm)</th>\n",
       "      <th>Snow depth (cm)</th>\n",
       "      <th>Air temperature (degC)</th>\n",
       "    </tr>\n",
       "  </thead>\n",
       "  <tbody>\n",
       "    <tr>\n",
       "      <th>0</th>\n",
       "      <td>2017</td>\n",
       "      <td>1</td>\n",
       "      <td>1</td>\n",
       "      <td>00:00</td>\n",
       "      <td>UTC</td>\n",
       "      <td>-1.0</td>\n",
       "      <td>-1.0</td>\n",
       "      <td>0.6</td>\n",
       "    </tr>\n",
       "    <tr>\n",
       "      <th>1</th>\n",
       "      <td>2017</td>\n",
       "      <td>1</td>\n",
       "      <td>2</td>\n",
       "      <td>00:00</td>\n",
       "      <td>UTC</td>\n",
       "      <td>4.4</td>\n",
       "      <td>-1.0</td>\n",
       "      <td>-3.9</td>\n",
       "    </tr>\n",
       "    <tr>\n",
       "      <th>2</th>\n",
       "      <td>2017</td>\n",
       "      <td>1</td>\n",
       "      <td>3</td>\n",
       "      <td>00:00</td>\n",
       "      <td>UTC</td>\n",
       "      <td>6.6</td>\n",
       "      <td>7.0</td>\n",
       "      <td>-6.5</td>\n",
       "    </tr>\n",
       "    <tr>\n",
       "      <th>3</th>\n",
       "      <td>2017</td>\n",
       "      <td>1</td>\n",
       "      <td>4</td>\n",
       "      <td>00:00</td>\n",
       "      <td>UTC</td>\n",
       "      <td>-1.0</td>\n",
       "      <td>13.0</td>\n",
       "      <td>-12.8</td>\n",
       "    </tr>\n",
       "    <tr>\n",
       "      <th>4</th>\n",
       "      <td>2017</td>\n",
       "      <td>1</td>\n",
       "      <td>5</td>\n",
       "      <td>00:00</td>\n",
       "      <td>UTC</td>\n",
       "      <td>-1.0</td>\n",
       "      <td>10.0</td>\n",
       "      <td>-17.8</td>\n",
       "    </tr>\n",
       "    <tr>\n",
       "      <th>...</th>\n",
       "      <td>...</td>\n",
       "      <td>...</td>\n",
       "      <td>...</td>\n",
       "      <td>...</td>\n",
       "      <td>...</td>\n",
       "      <td>...</td>\n",
       "      <td>...</td>\n",
       "      <td>...</td>\n",
       "    </tr>\n",
       "    <tr>\n",
       "      <th>360</th>\n",
       "      <td>2017</td>\n",
       "      <td>12</td>\n",
       "      <td>27</td>\n",
       "      <td>00:00</td>\n",
       "      <td>UTC</td>\n",
       "      <td>1.1</td>\n",
       "      <td>-1.0</td>\n",
       "      <td>3.8</td>\n",
       "    </tr>\n",
       "    <tr>\n",
       "      <th>361</th>\n",
       "      <td>2017</td>\n",
       "      <td>12</td>\n",
       "      <td>28</td>\n",
       "      <td>00:00</td>\n",
       "      <td>UTC</td>\n",
       "      <td>3.7</td>\n",
       "      <td>-1.0</td>\n",
       "      <td>2.8</td>\n",
       "    </tr>\n",
       "    <tr>\n",
       "      <th>362</th>\n",
       "      <td>2017</td>\n",
       "      <td>12</td>\n",
       "      <td>29</td>\n",
       "      <td>00:00</td>\n",
       "      <td>UTC</td>\n",
       "      <td>7.8</td>\n",
       "      <td>-1.0</td>\n",
       "      <td>3.8</td>\n",
       "    </tr>\n",
       "    <tr>\n",
       "      <th>363</th>\n",
       "      <td>2017</td>\n",
       "      <td>12</td>\n",
       "      <td>30</td>\n",
       "      <td>00:00</td>\n",
       "      <td>UTC</td>\n",
       "      <td>4.1</td>\n",
       "      <td>-1.0</td>\n",
       "      <td>2.5</td>\n",
       "    </tr>\n",
       "    <tr>\n",
       "      <th>364</th>\n",
       "      <td>2017</td>\n",
       "      <td>12</td>\n",
       "      <td>31</td>\n",
       "      <td>00:00</td>\n",
       "      <td>UTC</td>\n",
       "      <td>3.2</td>\n",
       "      <td>-1.0</td>\n",
       "      <td>1.6</td>\n",
       "    </tr>\n",
       "  </tbody>\n",
       "</table>\n",
       "<p>365 rows × 8 columns</p>\n",
       "</div>"
      ],
      "text/plain": [
       "     Year   m   d   Time Time zone  Precipitation amount (mm)  \\\n",
       "0    2017   1   1  00:00       UTC                       -1.0   \n",
       "1    2017   1   2  00:00       UTC                        4.4   \n",
       "2    2017   1   3  00:00       UTC                        6.6   \n",
       "3    2017   1   4  00:00       UTC                       -1.0   \n",
       "4    2017   1   5  00:00       UTC                       -1.0   \n",
       "..    ...  ..  ..    ...       ...                        ...   \n",
       "360  2017  12  27  00:00       UTC                        1.1   \n",
       "361  2017  12  28  00:00       UTC                        3.7   \n",
       "362  2017  12  29  00:00       UTC                        7.8   \n",
       "363  2017  12  30  00:00       UTC                        4.1   \n",
       "364  2017  12  31  00:00       UTC                        3.2   \n",
       "\n",
       "     Snow depth (cm)  Air temperature (degC)  \n",
       "0               -1.0                     0.6  \n",
       "1               -1.0                    -3.9  \n",
       "2                7.0                    -6.5  \n",
       "3               13.0                   -12.8  \n",
       "4               10.0                   -17.8  \n",
       "..               ...                     ...  \n",
       "360             -1.0                     3.8  \n",
       "361             -1.0                     2.8  \n",
       "362             -1.0                     3.8  \n",
       "363             -1.0                     2.5  \n",
       "364             -1.0                     1.6  \n",
       "\n",
       "[365 rows x 8 columns]"
      ]
     },
     "execution_count": 44,
     "metadata": {},
     "output_type": "execute_result"
    }
   ],
   "source": [
    "wh"
   ]
  },
  {
   "cell_type": "code",
   "execution_count": 3,
   "id": "47f274cd-912f-4e43-828d-ed49b561634d",
   "metadata": {},
   "outputs": [
    {
     "name": "stderr",
     "output_type": "stream",
     "text": [
      "<ipython-input-3-84bf55d8c2fc>:2: FutureWarning: Dropping of nuisance columns in DataFrame reductions (with 'numeric_only=None') is deprecated; in a future version this will raise TypeError.  Select only valid columns before calling the reduction.\n",
      "  wh2.mean()\n"
     ]
    },
    {
     "data": {
      "text/plain": [
       "Precipitation amount (mm)    1.966301\n",
       "Snow depth (cm)              0.966480\n",
       "Air temperature (degC)       6.527123\n",
       "dtype: float64"
      ]
     },
     "execution_count": 3,
     "metadata": {},
     "output_type": "execute_result"
    }
   ],
   "source": [
    "wh2 = wh.drop([\"Year\", \"m\", \"d\"], axis=1)\n",
    "wh2.mean()"
   ]
  },
  {
   "cell_type": "code",
   "execution_count": 4,
   "id": "cf5b2b01-7dba-44ef-bc76-89e5ac5acb77",
   "metadata": {},
   "outputs": [
    {
     "data": {
      "text/html": [
       "<div>\n",
       "<style scoped>\n",
       "    .dataframe tbody tr th:only-of-type {\n",
       "        vertical-align: middle;\n",
       "    }\n",
       "\n",
       "    .dataframe tbody tr th {\n",
       "        vertical-align: top;\n",
       "    }\n",
       "\n",
       "    .dataframe thead th {\n",
       "        text-align: right;\n",
       "    }\n",
       "</style>\n",
       "<table border=\"1\" class=\"dataframe\">\n",
       "  <thead>\n",
       "    <tr style=\"text-align: right;\">\n",
       "      <th></th>\n",
       "      <th>Year</th>\n",
       "      <th>m</th>\n",
       "      <th>d</th>\n",
       "      <th>Precipitation amount (mm)</th>\n",
       "      <th>Snow depth (cm)</th>\n",
       "      <th>Air temperature (degC)</th>\n",
       "    </tr>\n",
       "  </thead>\n",
       "  <tbody>\n",
       "    <tr>\n",
       "      <th>count</th>\n",
       "      <td>365.0</td>\n",
       "      <td>365.000000</td>\n",
       "      <td>365.000000</td>\n",
       "      <td>365.000000</td>\n",
       "      <td>358.000000</td>\n",
       "      <td>365.000000</td>\n",
       "    </tr>\n",
       "    <tr>\n",
       "      <th>mean</th>\n",
       "      <td>2017.0</td>\n",
       "      <td>6.526027</td>\n",
       "      <td>15.720548</td>\n",
       "      <td>1.966301</td>\n",
       "      <td>0.966480</td>\n",
       "      <td>6.527123</td>\n",
       "    </tr>\n",
       "    <tr>\n",
       "      <th>std</th>\n",
       "      <td>0.0</td>\n",
       "      <td>3.452584</td>\n",
       "      <td>8.808321</td>\n",
       "      <td>4.858423</td>\n",
       "      <td>3.717472</td>\n",
       "      <td>7.183934</td>\n",
       "    </tr>\n",
       "    <tr>\n",
       "      <th>min</th>\n",
       "      <td>2017.0</td>\n",
       "      <td>1.000000</td>\n",
       "      <td>1.000000</td>\n",
       "      <td>-1.000000</td>\n",
       "      <td>-1.000000</td>\n",
       "      <td>-17.800000</td>\n",
       "    </tr>\n",
       "    <tr>\n",
       "      <th>25%</th>\n",
       "      <td>2017.0</td>\n",
       "      <td>4.000000</td>\n",
       "      <td>8.000000</td>\n",
       "      <td>-1.000000</td>\n",
       "      <td>-1.000000</td>\n",
       "      <td>1.200000</td>\n",
       "    </tr>\n",
       "    <tr>\n",
       "      <th>50%</th>\n",
       "      <td>2017.0</td>\n",
       "      <td>7.000000</td>\n",
       "      <td>16.000000</td>\n",
       "      <td>0.200000</td>\n",
       "      <td>-1.000000</td>\n",
       "      <td>4.800000</td>\n",
       "    </tr>\n",
       "    <tr>\n",
       "      <th>75%</th>\n",
       "      <td>2017.0</td>\n",
       "      <td>10.000000</td>\n",
       "      <td>23.000000</td>\n",
       "      <td>2.700000</td>\n",
       "      <td>0.000000</td>\n",
       "      <td>12.900000</td>\n",
       "    </tr>\n",
       "    <tr>\n",
       "      <th>max</th>\n",
       "      <td>2017.0</td>\n",
       "      <td>12.000000</td>\n",
       "      <td>31.000000</td>\n",
       "      <td>35.000000</td>\n",
       "      <td>15.000000</td>\n",
       "      <td>19.600000</td>\n",
       "    </tr>\n",
       "  </tbody>\n",
       "</table>\n",
       "</div>"
      ],
      "text/plain": [
       "         Year           m           d  Precipitation amount (mm)  \\\n",
       "count   365.0  365.000000  365.000000                 365.000000   \n",
       "mean   2017.0    6.526027   15.720548                   1.966301   \n",
       "std       0.0    3.452584    8.808321                   4.858423   \n",
       "min    2017.0    1.000000    1.000000                  -1.000000   \n",
       "25%    2017.0    4.000000    8.000000                  -1.000000   \n",
       "50%    2017.0    7.000000   16.000000                   0.200000   \n",
       "75%    2017.0   10.000000   23.000000                   2.700000   \n",
       "max    2017.0   12.000000   31.000000                  35.000000   \n",
       "\n",
       "       Snow depth (cm)  Air temperature (degC)  \n",
       "count       358.000000              365.000000  \n",
       "mean          0.966480                6.527123  \n",
       "std           3.717472                7.183934  \n",
       "min          -1.000000              -17.800000  \n",
       "25%          -1.000000                1.200000  \n",
       "50%          -1.000000                4.800000  \n",
       "75%           0.000000               12.900000  \n",
       "max          15.000000               19.600000  "
      ]
     },
     "execution_count": 4,
     "metadata": {},
     "output_type": "execute_result"
    }
   ],
   "source": [
    "wh.describe()"
   ]
  },
  {
   "cell_type": "code",
   "execution_count": 5,
   "id": "ba1eafdb-0893-47a8-96f8-6d4d230342b8",
   "metadata": {},
   "outputs": [
    {
     "data": {
      "text/plain": [
       "array([-1.,  7., 13., 10., 12.,  9.,  8.,  5.,  6.,  4.,  3., 15., 14.,\n",
       "        2., nan,  0.])"
      ]
     },
     "execution_count": 5,
     "metadata": {},
     "output_type": "execute_result"
    }
   ],
   "source": [
    "wh[\"Snow depth (cm)\"].unique()"
   ]
  },
  {
   "cell_type": "code",
   "execution_count": 6,
   "id": "d3f704a9-07fd-4f77-bf77-8ae8a4f4c37c",
   "metadata": {},
   "outputs": [
    {
     "data": {
      "text/plain": [
       "0    1\n",
       "1    3\n",
       "2    2\n",
       "dtype: int64"
      ]
     },
     "execution_count": 6,
     "metadata": {},
     "output_type": "execute_result"
    }
   ],
   "source": [
    "pd.Series([1,3,2])"
   ]
  },
  {
   "cell_type": "code",
   "execution_count": 7,
   "id": "494479bc-aa8b-4d16-a88c-16a68a9f3e8f",
   "metadata": {},
   "outputs": [
    {
     "data": {
      "text/plain": [
       "0    1.0\n",
       "1    3.0\n",
       "2    2.0\n",
       "3    NaN\n",
       "dtype: float64"
      ]
     },
     "execution_count": 7,
     "metadata": {},
     "output_type": "execute_result"
    }
   ],
   "source": [
    "pd.Series([1,3,2,np.nan])"
   ]
  },
  {
   "cell_type": "code",
   "execution_count": 8,
   "id": "67811e54-2832-46bc-8e46-6a3274bd7c62",
   "metadata": {},
   "outputs": [
    {
     "data": {
      "text/plain": [
       "0    jack\n",
       "1     joe\n",
       "2    None\n",
       "dtype: object"
      ]
     },
     "execution_count": 8,
     "metadata": {},
     "output_type": "execute_result"
    }
   ],
   "source": [
    "pd.Series([\"jack\", \"joe\", None])"
   ]
  },
  {
   "cell_type": "code",
   "execution_count": 9,
   "id": "fb0ddf19-745c-4da3-9988-ccbf1ab67151",
   "metadata": {},
   "outputs": [
    {
     "data": {
      "text/html": [
       "<div>\n",
       "<style scoped>\n",
       "    .dataframe tbody tr th:only-of-type {\n",
       "        vertical-align: middle;\n",
       "    }\n",
       "\n",
       "    .dataframe tbody tr th {\n",
       "        vertical-align: top;\n",
       "    }\n",
       "\n",
       "    .dataframe thead th {\n",
       "        text-align: right;\n",
       "    }\n",
       "</style>\n",
       "<table border=\"1\" class=\"dataframe\">\n",
       "  <thead>\n",
       "    <tr style=\"text-align: right;\">\n",
       "      <th></th>\n",
       "      <th>Year</th>\n",
       "      <th>m</th>\n",
       "      <th>d</th>\n",
       "      <th>Time</th>\n",
       "      <th>Time zone</th>\n",
       "      <th>Precipitation amount (mm)</th>\n",
       "      <th>Snow depth (cm)</th>\n",
       "      <th>Air temperature (degC)</th>\n",
       "    </tr>\n",
       "  </thead>\n",
       "  <tbody>\n",
       "    <tr>\n",
       "      <th>0</th>\n",
       "      <td>False</td>\n",
       "      <td>False</td>\n",
       "      <td>False</td>\n",
       "      <td>False</td>\n",
       "      <td>False</td>\n",
       "      <td>False</td>\n",
       "      <td>False</td>\n",
       "      <td>False</td>\n",
       "    </tr>\n",
       "    <tr>\n",
       "      <th>1</th>\n",
       "      <td>False</td>\n",
       "      <td>False</td>\n",
       "      <td>False</td>\n",
       "      <td>False</td>\n",
       "      <td>False</td>\n",
       "      <td>False</td>\n",
       "      <td>False</td>\n",
       "      <td>False</td>\n",
       "    </tr>\n",
       "    <tr>\n",
       "      <th>2</th>\n",
       "      <td>False</td>\n",
       "      <td>False</td>\n",
       "      <td>False</td>\n",
       "      <td>False</td>\n",
       "      <td>False</td>\n",
       "      <td>False</td>\n",
       "      <td>False</td>\n",
       "      <td>False</td>\n",
       "    </tr>\n",
       "    <tr>\n",
       "      <th>3</th>\n",
       "      <td>False</td>\n",
       "      <td>False</td>\n",
       "      <td>False</td>\n",
       "      <td>False</td>\n",
       "      <td>False</td>\n",
       "      <td>False</td>\n",
       "      <td>False</td>\n",
       "      <td>False</td>\n",
       "    </tr>\n",
       "    <tr>\n",
       "      <th>4</th>\n",
       "      <td>False</td>\n",
       "      <td>False</td>\n",
       "      <td>False</td>\n",
       "      <td>False</td>\n",
       "      <td>False</td>\n",
       "      <td>False</td>\n",
       "      <td>False</td>\n",
       "      <td>False</td>\n",
       "    </tr>\n",
       "    <tr>\n",
       "      <th>...</th>\n",
       "      <td>...</td>\n",
       "      <td>...</td>\n",
       "      <td>...</td>\n",
       "      <td>...</td>\n",
       "      <td>...</td>\n",
       "      <td>...</td>\n",
       "      <td>...</td>\n",
       "      <td>...</td>\n",
       "    </tr>\n",
       "    <tr>\n",
       "      <th>360</th>\n",
       "      <td>False</td>\n",
       "      <td>False</td>\n",
       "      <td>False</td>\n",
       "      <td>False</td>\n",
       "      <td>False</td>\n",
       "      <td>False</td>\n",
       "      <td>False</td>\n",
       "      <td>False</td>\n",
       "    </tr>\n",
       "    <tr>\n",
       "      <th>361</th>\n",
       "      <td>False</td>\n",
       "      <td>False</td>\n",
       "      <td>False</td>\n",
       "      <td>False</td>\n",
       "      <td>False</td>\n",
       "      <td>False</td>\n",
       "      <td>False</td>\n",
       "      <td>False</td>\n",
       "    </tr>\n",
       "    <tr>\n",
       "      <th>362</th>\n",
       "      <td>False</td>\n",
       "      <td>False</td>\n",
       "      <td>False</td>\n",
       "      <td>False</td>\n",
       "      <td>False</td>\n",
       "      <td>False</td>\n",
       "      <td>False</td>\n",
       "      <td>False</td>\n",
       "    </tr>\n",
       "    <tr>\n",
       "      <th>363</th>\n",
       "      <td>False</td>\n",
       "      <td>False</td>\n",
       "      <td>False</td>\n",
       "      <td>False</td>\n",
       "      <td>False</td>\n",
       "      <td>False</td>\n",
       "      <td>False</td>\n",
       "      <td>False</td>\n",
       "    </tr>\n",
       "    <tr>\n",
       "      <th>364</th>\n",
       "      <td>False</td>\n",
       "      <td>False</td>\n",
       "      <td>False</td>\n",
       "      <td>False</td>\n",
       "      <td>False</td>\n",
       "      <td>False</td>\n",
       "      <td>False</td>\n",
       "      <td>False</td>\n",
       "    </tr>\n",
       "  </tbody>\n",
       "</table>\n",
       "<p>365 rows × 8 columns</p>\n",
       "</div>"
      ],
      "text/plain": [
       "      Year      m      d   Time  Time zone  Precipitation amount (mm)  \\\n",
       "0    False  False  False  False      False                      False   \n",
       "1    False  False  False  False      False                      False   \n",
       "2    False  False  False  False      False                      False   \n",
       "3    False  False  False  False      False                      False   \n",
       "4    False  False  False  False      False                      False   \n",
       "..     ...    ...    ...    ...        ...                        ...   \n",
       "360  False  False  False  False      False                      False   \n",
       "361  False  False  False  False      False                      False   \n",
       "362  False  False  False  False      False                      False   \n",
       "363  False  False  False  False      False                      False   \n",
       "364  False  False  False  False      False                      False   \n",
       "\n",
       "     Snow depth (cm)  Air temperature (degC)  \n",
       "0              False                   False  \n",
       "1              False                   False  \n",
       "2              False                   False  \n",
       "3              False                   False  \n",
       "4              False                   False  \n",
       "..               ...                     ...  \n",
       "360            False                   False  \n",
       "361            False                   False  \n",
       "362            False                   False  \n",
       "363            False                   False  \n",
       "364            False                   False  \n",
       "\n",
       "[365 rows x 8 columns]"
      ]
     },
     "execution_count": 9,
     "metadata": {},
     "output_type": "execute_result"
    }
   ],
   "source": [
    "wh.isnull()"
   ]
  },
  {
   "cell_type": "code",
   "execution_count": 10,
   "id": "0cd718c2-ff10-4f40-84d1-070f8177558f",
   "metadata": {},
   "outputs": [
    {
     "data": {
      "text/html": [
       "<div>\n",
       "<style scoped>\n",
       "    .dataframe tbody tr th:only-of-type {\n",
       "        vertical-align: middle;\n",
       "    }\n",
       "\n",
       "    .dataframe tbody tr th {\n",
       "        vertical-align: top;\n",
       "    }\n",
       "\n",
       "    .dataframe thead th {\n",
       "        text-align: right;\n",
       "    }\n",
       "</style>\n",
       "<table border=\"1\" class=\"dataframe\">\n",
       "  <thead>\n",
       "    <tr style=\"text-align: right;\">\n",
       "      <th></th>\n",
       "      <th>Year</th>\n",
       "      <th>m</th>\n",
       "      <th>d</th>\n",
       "      <th>Time</th>\n",
       "      <th>Time zone</th>\n",
       "      <th>Precipitation amount (mm)</th>\n",
       "      <th>Snow depth (cm)</th>\n",
       "      <th>Air temperature (degC)</th>\n",
       "    </tr>\n",
       "  </thead>\n",
       "  <tbody>\n",
       "    <tr>\n",
       "      <th>74</th>\n",
       "      <td>2017</td>\n",
       "      <td>3</td>\n",
       "      <td>16</td>\n",
       "      <td>00:00</td>\n",
       "      <td>UTC</td>\n",
       "      <td>1.8</td>\n",
       "      <td>NaN</td>\n",
       "      <td>3.4</td>\n",
       "    </tr>\n",
       "    <tr>\n",
       "      <th>163</th>\n",
       "      <td>2017</td>\n",
       "      <td>6</td>\n",
       "      <td>13</td>\n",
       "      <td>00:00</td>\n",
       "      <td>UTC</td>\n",
       "      <td>0.6</td>\n",
       "      <td>NaN</td>\n",
       "      <td>12.6</td>\n",
       "    </tr>\n",
       "    <tr>\n",
       "      <th>308</th>\n",
       "      <td>2017</td>\n",
       "      <td>11</td>\n",
       "      <td>5</td>\n",
       "      <td>00:00</td>\n",
       "      <td>UTC</td>\n",
       "      <td>0.2</td>\n",
       "      <td>NaN</td>\n",
       "      <td>8.4</td>\n",
       "    </tr>\n",
       "    <tr>\n",
       "      <th>309</th>\n",
       "      <td>2017</td>\n",
       "      <td>11</td>\n",
       "      <td>6</td>\n",
       "      <td>00:00</td>\n",
       "      <td>UTC</td>\n",
       "      <td>2.0</td>\n",
       "      <td>NaN</td>\n",
       "      <td>7.5</td>\n",
       "    </tr>\n",
       "    <tr>\n",
       "      <th>313</th>\n",
       "      <td>2017</td>\n",
       "      <td>11</td>\n",
       "      <td>10</td>\n",
       "      <td>00:00</td>\n",
       "      <td>UTC</td>\n",
       "      <td>3.6</td>\n",
       "      <td>NaN</td>\n",
       "      <td>7.2</td>\n",
       "    </tr>\n",
       "    <tr>\n",
       "      <th>321</th>\n",
       "      <td>2017</td>\n",
       "      <td>11</td>\n",
       "      <td>18</td>\n",
       "      <td>00:00</td>\n",
       "      <td>UTC</td>\n",
       "      <td>11.3</td>\n",
       "      <td>NaN</td>\n",
       "      <td>5.9</td>\n",
       "    </tr>\n",
       "    <tr>\n",
       "      <th>328</th>\n",
       "      <td>2017</td>\n",
       "      <td>11</td>\n",
       "      <td>25</td>\n",
       "      <td>00:00</td>\n",
       "      <td>UTC</td>\n",
       "      <td>8.5</td>\n",
       "      <td>NaN</td>\n",
       "      <td>4.2</td>\n",
       "    </tr>\n",
       "  </tbody>\n",
       "</table>\n",
       "</div>"
      ],
      "text/plain": [
       "     Year   m   d   Time Time zone  Precipitation amount (mm)  \\\n",
       "74   2017   3  16  00:00       UTC                        1.8   \n",
       "163  2017   6  13  00:00       UTC                        0.6   \n",
       "308  2017  11   5  00:00       UTC                        0.2   \n",
       "309  2017  11   6  00:00       UTC                        2.0   \n",
       "313  2017  11  10  00:00       UTC                        3.6   \n",
       "321  2017  11  18  00:00       UTC                       11.3   \n",
       "328  2017  11  25  00:00       UTC                        8.5   \n",
       "\n",
       "     Snow depth (cm)  Air temperature (degC)  \n",
       "74               NaN                     3.4  \n",
       "163              NaN                    12.6  \n",
       "308              NaN                     8.4  \n",
       "309              NaN                     7.5  \n",
       "313              NaN                     7.2  \n",
       "321              NaN                     5.9  \n",
       "328              NaN                     4.2  "
      ]
     },
     "execution_count": 10,
     "metadata": {},
     "output_type": "execute_result"
    }
   ],
   "source": [
    "wh[wh.isnull().any(axis=1)]"
   ]
  },
  {
   "cell_type": "code",
   "execution_count": 11,
   "id": "cfa8a017-bde8-479c-a5ab-501d6d910204",
   "metadata": {},
   "outputs": [
    {
     "data": {
      "text/plain": [
       "(358, 8)"
      ]
     },
     "execution_count": 11,
     "metadata": {},
     "output_type": "execute_result"
    }
   ],
   "source": [
    "wh.dropna().shape"
   ]
  },
  {
   "cell_type": "code",
   "execution_count": 12,
   "id": "2a301f52-834e-4c22-9b28-b5c65377ba2d",
   "metadata": {},
   "outputs": [
    {
     "data": {
      "text/plain": [
       "(365, 7)"
      ]
     },
     "execution_count": 12,
     "metadata": {},
     "output_type": "execute_result"
    }
   ],
   "source": [
    "wh.dropna(axis=1).shape"
   ]
  },
  {
   "cell_type": "code",
   "execution_count": 13,
   "id": "65305d3b-e614-47ce-aebc-f310bfd960a5",
   "metadata": {},
   "outputs": [
    {
     "data": {
      "text/html": [
       "<div>\n",
       "<style scoped>\n",
       "    .dataframe tbody tr th:only-of-type {\n",
       "        vertical-align: middle;\n",
       "    }\n",
       "\n",
       "    .dataframe tbody tr th {\n",
       "        vertical-align: top;\n",
       "    }\n",
       "\n",
       "    .dataframe thead th {\n",
       "        text-align: right;\n",
       "    }\n",
       "</style>\n",
       "<table border=\"1\" class=\"dataframe\">\n",
       "  <thead>\n",
       "    <tr style=\"text-align: right;\">\n",
       "      <th></th>\n",
       "      <th>Year</th>\n",
       "      <th>m</th>\n",
       "      <th>d</th>\n",
       "      <th>Time</th>\n",
       "      <th>Time zone</th>\n",
       "      <th>Precipitation amount (mm)</th>\n",
       "      <th>Snow depth (cm)</th>\n",
       "      <th>Air temperature (degC)</th>\n",
       "    </tr>\n",
       "  </thead>\n",
       "  <tbody>\n",
       "  </tbody>\n",
       "</table>\n",
       "</div>"
      ],
      "text/plain": [
       "Empty DataFrame\n",
       "Columns: [Year, m, d, Time, Time zone, Precipitation amount (mm), Snow depth (cm), Air temperature (degC)]\n",
       "Index: []"
      ]
     },
     "execution_count": 13,
     "metadata": {},
     "output_type": "execute_result"
    }
   ],
   "source": [
    "wh = wh.fillna(method=\"ffill\")\n",
    "wh[wh.isnull().any(axis=1)]"
   ]
  },
  {
   "cell_type": "code",
   "execution_count": 15,
   "id": "23805b9a-9c2d-45ea-af03-f25093e7102c",
   "metadata": {},
   "outputs": [
    {
     "data": {
      "text/plain": [
       "0    1\n",
       "1    2\n",
       "dtype: object"
      ]
     },
     "execution_count": 15,
     "metadata": {},
     "output_type": "execute_result"
    }
   ],
   "source": [
    "q = pd.Series([\"1\", \"2\"])\n",
    "q"
   ]
  },
  {
   "cell_type": "code",
   "execution_count": 17,
   "id": "05ab566b-c91d-4ea3-84f6-58b94f9370aa",
   "metadata": {},
   "outputs": [
    {
     "data": {
      "text/plain": [
       "0    1\n",
       "1    2\n",
       "dtype: int64"
      ]
     },
     "execution_count": 17,
     "metadata": {},
     "output_type": "execute_result"
    }
   ],
   "source": [
    "q = q.map(int)\n",
    "q"
   ]
  },
  {
   "cell_type": "code",
   "execution_count": 18,
   "id": "d917827c-852c-4a57-8938-4e6e7839d924",
   "metadata": {},
   "outputs": [
    {
     "data": {
      "text/plain": [
       "0    1\n",
       "1    2\n",
       "dtype: object"
      ]
     },
     "execution_count": 18,
     "metadata": {},
     "output_type": "execute_result"
    }
   ],
   "source": [
    "pd.Series([1,2]).map(str)"
   ]
  },
  {
   "cell_type": "code",
   "execution_count": 19,
   "id": "ed57b6b1-95b8-42b3-9689-fc531893c9cf",
   "metadata": {},
   "outputs": [
    {
     "data": {
      "text/plain": [
       "0    1\n",
       "1    1\n",
       "dtype: int8"
      ]
     },
     "execution_count": 19,
     "metadata": {},
     "output_type": "execute_result"
    }
   ],
   "source": [
    "pd.to_numeric(pd.Series([1,1.0]), downcast=\"integer\")"
   ]
  },
  {
   "cell_type": "code",
   "execution_count": 20,
   "id": "9e9c527b-6c1b-499d-89f2-4212ab641abb",
   "metadata": {},
   "outputs": [
    {
     "data": {
      "text/plain": [
       "0    1.0\n",
       "1    NaN\n",
       "dtype: float64"
      ]
     },
     "execution_count": 20,
     "metadata": {},
     "output_type": "execute_result"
    }
   ],
   "source": [
    "pd.to_numeric(pd.Series([1, \"a\"]), errors=\"coerce\")"
   ]
  },
  {
   "cell_type": "code",
   "execution_count": 21,
   "id": "09447597-15d5-457d-9771-22d0c16bac5c",
   "metadata": {},
   "outputs": [
    {
     "data": {
      "text/plain": [
       "0    1\n",
       "1    2\n",
       "dtype: object"
      ]
     },
     "execution_count": 21,
     "metadata": {},
     "output_type": "execute_result"
    }
   ],
   "source": [
    "pd.Series([1,2,]).astype(str)"
   ]
  },
  {
   "cell_type": "code",
   "execution_count": 22,
   "id": "1f82416c-14c7-4d5d-bee0-8cd1ee6b4903",
   "metadata": {},
   "outputs": [
    {
     "name": "stdout",
     "output_type": "stream",
     "text": [
      "a    int64\n",
      "b    int64\n",
      "c    int64\n",
      "dtype: object\n",
      "   a  b  c\n",
      "0  1  4  7\n",
      "1  2  5  8\n",
      "2  3  6  9\n"
     ]
    }
   ],
   "source": [
    "df = pd.DataFrame({\"a\": [1,2,3], \"b\" : [4,5,6], \"c\" : [7,8,9]})\n",
    "print(df.dtypes)\n",
    "print(df)"
   ]
  },
  {
   "cell_type": "code",
   "execution_count": 23,
   "id": "fcdcf978-8a67-49b5-b7e5-912cd908c669",
   "metadata": {},
   "outputs": [
    {
     "data": {
      "text/html": [
       "<div>\n",
       "<style scoped>\n",
       "    .dataframe tbody tr th:only-of-type {\n",
       "        vertical-align: middle;\n",
       "    }\n",
       "\n",
       "    .dataframe tbody tr th {\n",
       "        vertical-align: top;\n",
       "    }\n",
       "\n",
       "    .dataframe thead th {\n",
       "        text-align: right;\n",
       "    }\n",
       "</style>\n",
       "<table border=\"1\" class=\"dataframe\">\n",
       "  <thead>\n",
       "    <tr style=\"text-align: right;\">\n",
       "      <th></th>\n",
       "      <th>a</th>\n",
       "      <th>b</th>\n",
       "      <th>c</th>\n",
       "    </tr>\n",
       "  </thead>\n",
       "  <tbody>\n",
       "    <tr>\n",
       "      <th>0</th>\n",
       "      <td>1.0</td>\n",
       "      <td>4.0</td>\n",
       "      <td>7.0</td>\n",
       "    </tr>\n",
       "    <tr>\n",
       "      <th>1</th>\n",
       "      <td>2.0</td>\n",
       "      <td>5.0</td>\n",
       "      <td>8.0</td>\n",
       "    </tr>\n",
       "    <tr>\n",
       "      <th>2</th>\n",
       "      <td>3.0</td>\n",
       "      <td>6.0</td>\n",
       "      <td>9.0</td>\n",
       "    </tr>\n",
       "  </tbody>\n",
       "</table>\n",
       "</div>"
      ],
      "text/plain": [
       "     a    b    c\n",
       "0  1.0  4.0  7.0\n",
       "1  2.0  5.0  8.0\n",
       "2  3.0  6.0  9.0"
      ]
     },
     "execution_count": 23,
     "metadata": {},
     "output_type": "execute_result"
    }
   ],
   "source": [
    "df.astype(float)"
   ]
  },
  {
   "cell_type": "code",
   "execution_count": 24,
   "id": "b5066d6d-ba8e-401c-812e-4220a9a7d3c3",
   "metadata": {},
   "outputs": [
    {
     "name": "stdout",
     "output_type": "stream",
     "text": [
      "a      int64\n",
      "b    float64\n",
      "c     object\n",
      "dtype: object\n",
      "   a    b  c\n",
      "0  1  4.0  7\n",
      "1  2  5.0  8\n",
      "2  3  6.0  9\n"
     ]
    }
   ],
   "source": [
    "df2 = df.astype({\"b\" : float, \"c\" : str}) \n",
    "print(df2.dtypes)\n",
    "print(df2)"
   ]
  },
  {
   "cell_type": "code",
   "execution_count": 2,
   "id": "a749ca41-6045-47b2-921e-8f479c753bb7",
   "metadata": {},
   "outputs": [],
   "source": [
    "def makedf(cols, ind):\n",
    "    data = {c : [str(c) + str(i) for i in ind] for c in cols}\n",
    "    return pd.DataFrame(data, ind)"
   ]
  },
  {
   "cell_type": "code",
   "execution_count": 3,
   "id": "a5f13ba4-182a-4180-8c7b-2a762c05e898",
   "metadata": {},
   "outputs": [
    {
     "data": {
      "text/html": [
       "<div>\n",
       "<style scoped>\n",
       "    .dataframe tbody tr th:only-of-type {\n",
       "        vertical-align: middle;\n",
       "    }\n",
       "\n",
       "    .dataframe tbody tr th {\n",
       "        vertical-align: top;\n",
       "    }\n",
       "\n",
       "    .dataframe thead th {\n",
       "        text-align: right;\n",
       "    }\n",
       "</style>\n",
       "<table border=\"1\" class=\"dataframe\">\n",
       "  <thead>\n",
       "    <tr style=\"text-align: right;\">\n",
       "      <th></th>\n",
       "      <th>A</th>\n",
       "      <th>B</th>\n",
       "    </tr>\n",
       "  </thead>\n",
       "  <tbody>\n",
       "    <tr>\n",
       "      <th>0</th>\n",
       "      <td>A0</td>\n",
       "      <td>B0</td>\n",
       "    </tr>\n",
       "    <tr>\n",
       "      <th>1</th>\n",
       "      <td>A1</td>\n",
       "      <td>B1</td>\n",
       "    </tr>\n",
       "  </tbody>\n",
       "</table>\n",
       "</div>"
      ],
      "text/plain": [
       "    A   B\n",
       "0  A0  B0\n",
       "1  A1  B1"
      ]
     },
     "execution_count": 3,
     "metadata": {},
     "output_type": "execute_result"
    }
   ],
   "source": [
    "a = makedf(\"AB\", [0,1])\n",
    "a"
   ]
  },
  {
   "cell_type": "code",
   "execution_count": 4,
   "id": "5aa41397-3427-472b-8f30-53f088689269",
   "metadata": {},
   "outputs": [
    {
     "data": {
      "text/html": [
       "<div>\n",
       "<style scoped>\n",
       "    .dataframe tbody tr th:only-of-type {\n",
       "        vertical-align: middle;\n",
       "    }\n",
       "\n",
       "    .dataframe tbody tr th {\n",
       "        vertical-align: top;\n",
       "    }\n",
       "\n",
       "    .dataframe thead th {\n",
       "        text-align: right;\n",
       "    }\n",
       "</style>\n",
       "<table border=\"1\" class=\"dataframe\">\n",
       "  <thead>\n",
       "    <tr style=\"text-align: right;\">\n",
       "      <th></th>\n",
       "      <th>A</th>\n",
       "      <th>B</th>\n",
       "    </tr>\n",
       "  </thead>\n",
       "  <tbody>\n",
       "    <tr>\n",
       "      <th>2</th>\n",
       "      <td>A2</td>\n",
       "      <td>B2</td>\n",
       "    </tr>\n",
       "    <tr>\n",
       "      <th>3</th>\n",
       "      <td>A3</td>\n",
       "      <td>B3</td>\n",
       "    </tr>\n",
       "  </tbody>\n",
       "</table>\n",
       "</div>"
      ],
      "text/plain": [
       "    A   B\n",
       "2  A2  B2\n",
       "3  A3  B3"
      ]
     },
     "execution_count": 4,
     "metadata": {},
     "output_type": "execute_result"
    }
   ],
   "source": [
    "b = makedf(\"AB\", [2,3])\n",
    "b"
   ]
  },
  {
   "cell_type": "code",
   "execution_count": 6,
   "id": "5b6b7ec9-feb7-42fe-b7b1-ac962cd0daa6",
   "metadata": {},
   "outputs": [
    {
     "data": {
      "text/html": [
       "<div>\n",
       "<style scoped>\n",
       "    .dataframe tbody tr th:only-of-type {\n",
       "        vertical-align: middle;\n",
       "    }\n",
       "\n",
       "    .dataframe tbody tr th {\n",
       "        vertical-align: top;\n",
       "    }\n",
       "\n",
       "    .dataframe thead th {\n",
       "        text-align: right;\n",
       "    }\n",
       "</style>\n",
       "<table border=\"1\" class=\"dataframe\">\n",
       "  <thead>\n",
       "    <tr style=\"text-align: right;\">\n",
       "      <th></th>\n",
       "      <th>C</th>\n",
       "      <th>D</th>\n",
       "    </tr>\n",
       "  </thead>\n",
       "  <tbody>\n",
       "    <tr>\n",
       "      <th>0</th>\n",
       "      <td>C0</td>\n",
       "      <td>D0</td>\n",
       "    </tr>\n",
       "    <tr>\n",
       "      <th>1</th>\n",
       "      <td>C1</td>\n",
       "      <td>D1</td>\n",
       "    </tr>\n",
       "  </tbody>\n",
       "</table>\n",
       "</div>"
      ],
      "text/plain": [
       "    C   D\n",
       "0  C0  D0\n",
       "1  C1  D1"
      ]
     },
     "execution_count": 6,
     "metadata": {},
     "output_type": "execute_result"
    }
   ],
   "source": [
    "c = makedf(\"CD\", [0,1])\n",
    "c"
   ]
  },
  {
   "cell_type": "code",
   "execution_count": 7,
   "id": "0cd6d14b-df89-41fd-8839-cb0ac4ec08c4",
   "metadata": {},
   "outputs": [
    {
     "data": {
      "text/html": [
       "<div>\n",
       "<style scoped>\n",
       "    .dataframe tbody tr th:only-of-type {\n",
       "        vertical-align: middle;\n",
       "    }\n",
       "\n",
       "    .dataframe tbody tr th {\n",
       "        vertical-align: top;\n",
       "    }\n",
       "\n",
       "    .dataframe thead th {\n",
       "        text-align: right;\n",
       "    }\n",
       "</style>\n",
       "<table border=\"1\" class=\"dataframe\">\n",
       "  <thead>\n",
       "    <tr style=\"text-align: right;\">\n",
       "      <th></th>\n",
       "      <th>B</th>\n",
       "      <th>C</th>\n",
       "    </tr>\n",
       "  </thead>\n",
       "  <tbody>\n",
       "    <tr>\n",
       "      <th>2</th>\n",
       "      <td>B2</td>\n",
       "      <td>C2</td>\n",
       "    </tr>\n",
       "    <tr>\n",
       "      <th>3</th>\n",
       "      <td>B3</td>\n",
       "      <td>C3</td>\n",
       "    </tr>\n",
       "  </tbody>\n",
       "</table>\n",
       "</div>"
      ],
      "text/plain": [
       "    B   C\n",
       "2  B2  C2\n",
       "3  B3  C3"
      ]
     },
     "execution_count": 7,
     "metadata": {},
     "output_type": "execute_result"
    }
   ],
   "source": [
    "d = makedf(\"BC\", [2,3])\n",
    "d"
   ]
  },
  {
   "cell_type": "code",
   "execution_count": 8,
   "id": "ef661e27-5436-4d59-bf6a-7b33f6b88361",
   "metadata": {},
   "outputs": [
    {
     "data": {
      "text/html": [
       "<div>\n",
       "<style scoped>\n",
       "    .dataframe tbody tr th:only-of-type {\n",
       "        vertical-align: middle;\n",
       "    }\n",
       "\n",
       "    .dataframe tbody tr th {\n",
       "        vertical-align: top;\n",
       "    }\n",
       "\n",
       "    .dataframe thead th {\n",
       "        text-align: right;\n",
       "    }\n",
       "</style>\n",
       "<table border=\"1\" class=\"dataframe\">\n",
       "  <thead>\n",
       "    <tr style=\"text-align: right;\">\n",
       "      <th></th>\n",
       "      <th>A</th>\n",
       "      <th>B</th>\n",
       "    </tr>\n",
       "  </thead>\n",
       "  <tbody>\n",
       "    <tr>\n",
       "      <th>0</th>\n",
       "      <td>A0</td>\n",
       "      <td>B0</td>\n",
       "    </tr>\n",
       "    <tr>\n",
       "      <th>1</th>\n",
       "      <td>A1</td>\n",
       "      <td>B1</td>\n",
       "    </tr>\n",
       "    <tr>\n",
       "      <th>2</th>\n",
       "      <td>A2</td>\n",
       "      <td>B2</td>\n",
       "    </tr>\n",
       "    <tr>\n",
       "      <th>3</th>\n",
       "      <td>A3</td>\n",
       "      <td>B3</td>\n",
       "    </tr>\n",
       "  </tbody>\n",
       "</table>\n",
       "</div>"
      ],
      "text/plain": [
       "    A   B\n",
       "0  A0  B0\n",
       "1  A1  B1\n",
       "2  A2  B2\n",
       "3  A3  B3"
      ]
     },
     "execution_count": 8,
     "metadata": {},
     "output_type": "execute_result"
    }
   ],
   "source": [
    "pd.concat([a, b])"
   ]
  },
  {
   "cell_type": "code",
   "execution_count": 11,
   "id": "92dcbb50-6395-469b-9ea3-3ceb03c922d0",
   "metadata": {},
   "outputs": [
    {
     "data": {
      "text/html": [
       "<div>\n",
       "<style scoped>\n",
       "    .dataframe tbody tr th:only-of-type {\n",
       "        vertical-align: middle;\n",
       "    }\n",
       "\n",
       "    .dataframe tbody tr th {\n",
       "        vertical-align: top;\n",
       "    }\n",
       "\n",
       "    .dataframe thead th {\n",
       "        text-align: right;\n",
       "    }\n",
       "</style>\n",
       "<table border=\"1\" class=\"dataframe\">\n",
       "  <thead>\n",
       "    <tr style=\"text-align: right;\">\n",
       "      <th></th>\n",
       "      <th>A</th>\n",
       "      <th>B</th>\n",
       "      <th>A</th>\n",
       "      <th>B</th>\n",
       "    </tr>\n",
       "  </thead>\n",
       "  <tbody>\n",
       "    <tr>\n",
       "      <th>0</th>\n",
       "      <td>A0</td>\n",
       "      <td>B0</td>\n",
       "      <td>NaN</td>\n",
       "      <td>NaN</td>\n",
       "    </tr>\n",
       "    <tr>\n",
       "      <th>1</th>\n",
       "      <td>A1</td>\n",
       "      <td>B1</td>\n",
       "      <td>NaN</td>\n",
       "      <td>NaN</td>\n",
       "    </tr>\n",
       "    <tr>\n",
       "      <th>2</th>\n",
       "      <td>NaN</td>\n",
       "      <td>NaN</td>\n",
       "      <td>A2</td>\n",
       "      <td>B2</td>\n",
       "    </tr>\n",
       "    <tr>\n",
       "      <th>3</th>\n",
       "      <td>NaN</td>\n",
       "      <td>NaN</td>\n",
       "      <td>A3</td>\n",
       "      <td>B3</td>\n",
       "    </tr>\n",
       "  </tbody>\n",
       "</table>\n",
       "</div>"
      ],
      "text/plain": [
       "     A    B    A    B\n",
       "0   A0   B0  NaN  NaN\n",
       "1   A1   B1  NaN  NaN\n",
       "2  NaN  NaN   A2   B2\n",
       "3  NaN  NaN   A3   B3"
      ]
     },
     "execution_count": 11,
     "metadata": {},
     "output_type": "execute_result"
    }
   ],
   "source": [
    "df = pd.concat([a, b], axis=1)\n",
    "df"
   ]
  },
  {
   "cell_type": "code",
   "execution_count": 15,
   "id": "5913d42b-6507-4976-bb2a-0143ac69af2c",
   "metadata": {},
   "outputs": [
    {
     "data": {
      "text/html": [
       "<div>\n",
       "<style scoped>\n",
       "    .dataframe tbody tr th:only-of-type {\n",
       "        vertical-align: middle;\n",
       "    }\n",
       "\n",
       "    .dataframe tbody tr th {\n",
       "        vertical-align: top;\n",
       "    }\n",
       "\n",
       "    .dataframe thead th {\n",
       "        text-align: right;\n",
       "    }\n",
       "</style>\n",
       "<table border=\"1\" class=\"dataframe\">\n",
       "  <thead>\n",
       "    <tr style=\"text-align: right;\">\n",
       "      <th></th>\n",
       "      <th>A</th>\n",
       "      <th>B</th>\n",
       "      <th>A</th>\n",
       "      <th>B</th>\n",
       "    </tr>\n",
       "  </thead>\n",
       "  <tbody>\n",
       "    <tr>\n",
       "      <th>0</th>\n",
       "      <td>A0</td>\n",
       "      <td>B0</td>\n",
       "      <td>0</td>\n",
       "      <td>0</td>\n",
       "    </tr>\n",
       "    <tr>\n",
       "      <th>1</th>\n",
       "      <td>A1</td>\n",
       "      <td>B1</td>\n",
       "      <td>0</td>\n",
       "      <td>0</td>\n",
       "    </tr>\n",
       "    <tr>\n",
       "      <th>2</th>\n",
       "      <td>0</td>\n",
       "      <td>0</td>\n",
       "      <td>A2</td>\n",
       "      <td>B2</td>\n",
       "    </tr>\n",
       "    <tr>\n",
       "      <th>3</th>\n",
       "      <td>0</td>\n",
       "      <td>0</td>\n",
       "      <td>A3</td>\n",
       "      <td>B3</td>\n",
       "    </tr>\n",
       "  </tbody>\n",
       "</table>\n",
       "</div>"
      ],
      "text/plain": [
       "    A   B   A   B\n",
       "0  A0  B0   0   0\n",
       "1  A1  B1   0   0\n",
       "2   0   0  A2  B2\n",
       "3   0   0  A3  B3"
      ]
     },
     "execution_count": 15,
     "metadata": {},
     "output_type": "execute_result"
    }
   ],
   "source": [
    "df.fillna(0)"
   ]
  },
  {
   "cell_type": "code",
   "execution_count": 16,
   "id": "e4f3f37b-32f9-427f-8f9c-07c1d8ba95bb",
   "metadata": {},
   "outputs": [
    {
     "data": {
      "text/html": [
       "<div>\n",
       "<style scoped>\n",
       "    .dataframe tbody tr th:only-of-type {\n",
       "        vertical-align: middle;\n",
       "    }\n",
       "\n",
       "    .dataframe tbody tr th {\n",
       "        vertical-align: top;\n",
       "    }\n",
       "\n",
       "    .dataframe thead th {\n",
       "        text-align: right;\n",
       "    }\n",
       "</style>\n",
       "<table border=\"1\" class=\"dataframe\">\n",
       "  <thead>\n",
       "    <tr style=\"text-align: right;\">\n",
       "      <th></th>\n",
       "      <th>A</th>\n",
       "      <th>B</th>\n",
       "    </tr>\n",
       "  </thead>\n",
       "  <tbody>\n",
       "    <tr>\n",
       "      <th>0</th>\n",
       "      <td>A0</td>\n",
       "      <td>B0</td>\n",
       "    </tr>\n",
       "    <tr>\n",
       "      <th>1</th>\n",
       "      <td>A1</td>\n",
       "      <td>B1</td>\n",
       "    </tr>\n",
       "    <tr>\n",
       "      <th>0</th>\n",
       "      <td>A0</td>\n",
       "      <td>B0</td>\n",
       "    </tr>\n",
       "    <tr>\n",
       "      <th>1</th>\n",
       "      <td>A1</td>\n",
       "      <td>B1</td>\n",
       "    </tr>\n",
       "  </tbody>\n",
       "</table>\n",
       "</div>"
      ],
      "text/plain": [
       "    A   B\n",
       "0  A0  B0\n",
       "1  A1  B1\n",
       "0  A0  B0\n",
       "1  A1  B1"
      ]
     },
     "execution_count": 16,
     "metadata": {},
     "output_type": "execute_result"
    }
   ],
   "source": [
    "\n",
    "r=pd.concat([a,a])\n",
    "r"
   ]
  },
  {
   "cell_type": "code",
   "execution_count": 17,
   "id": "505567f8-a7ad-4adc-b929-435950a80051",
   "metadata": {},
   "outputs": [
    {
     "data": {
      "text/plain": [
       "0    A0\n",
       "0    A0\n",
       "Name: A, dtype: object"
      ]
     },
     "execution_count": 17,
     "metadata": {},
     "output_type": "execute_result"
    }
   ],
   "source": [
    "r.loc[0,\"A\"]"
   ]
  },
  {
   "cell_type": "code",
   "execution_count": 18,
   "id": "216c24d2-be52-4194-a9ab-6b4119f06aeb",
   "metadata": {},
   "outputs": [
    {
     "name": "stderr",
     "output_type": "stream",
     "text": [
      "Indexes have overlapping values: Int64Index([0, 1], dtype='int64')\n"
     ]
    }
   ],
   "source": [
    "try:\n",
    "    pd.concat([a, a], verify_integrity=True)\n",
    "except ValueError as e:\n",
    "    import sys \n",
    "    print(e, file=sys.stderr)"
   ]
  },
  {
   "cell_type": "code",
   "execution_count": 19,
   "id": "e63946b5-7cd2-4ebc-ac54-6213ec14b637",
   "metadata": {},
   "outputs": [
    {
     "data": {
      "text/html": [
       "<div>\n",
       "<style scoped>\n",
       "    .dataframe tbody tr th:only-of-type {\n",
       "        vertical-align: middle;\n",
       "    }\n",
       "\n",
       "    .dataframe tbody tr th {\n",
       "        vertical-align: top;\n",
       "    }\n",
       "\n",
       "    .dataframe thead th {\n",
       "        text-align: right;\n",
       "    }\n",
       "</style>\n",
       "<table border=\"1\" class=\"dataframe\">\n",
       "  <thead>\n",
       "    <tr style=\"text-align: right;\">\n",
       "      <th></th>\n",
       "      <th>A</th>\n",
       "      <th>B</th>\n",
       "    </tr>\n",
       "  </thead>\n",
       "  <tbody>\n",
       "    <tr>\n",
       "      <th>0</th>\n",
       "      <td>A0</td>\n",
       "      <td>B0</td>\n",
       "    </tr>\n",
       "    <tr>\n",
       "      <th>1</th>\n",
       "      <td>A1</td>\n",
       "      <td>B1</td>\n",
       "    </tr>\n",
       "    <tr>\n",
       "      <th>2</th>\n",
       "      <td>A0</td>\n",
       "      <td>B0</td>\n",
       "    </tr>\n",
       "    <tr>\n",
       "      <th>3</th>\n",
       "      <td>A1</td>\n",
       "      <td>B1</td>\n",
       "    </tr>\n",
       "  </tbody>\n",
       "</table>\n",
       "</div>"
      ],
      "text/plain": [
       "    A   B\n",
       "0  A0  B0\n",
       "1  A1  B1\n",
       "2  A0  B0\n",
       "3  A1  B1"
      ]
     },
     "execution_count": 19,
     "metadata": {},
     "output_type": "execute_result"
    }
   ],
   "source": [
    "pd.concat([a, a], ignore_index=True)"
   ]
  },
  {
   "cell_type": "code",
   "execution_count": 20,
   "id": "82a19bfd-d69b-4bad-a222-abcf8d42141a",
   "metadata": {},
   "outputs": [
    {
     "data": {
      "text/html": [
       "<div>\n",
       "<style scoped>\n",
       "    .dataframe tbody tr th:only-of-type {\n",
       "        vertical-align: middle;\n",
       "    }\n",
       "\n",
       "    .dataframe tbody tr th {\n",
       "        vertical-align: top;\n",
       "    }\n",
       "\n",
       "    .dataframe thead th {\n",
       "        text-align: right;\n",
       "    }\n",
       "</style>\n",
       "<table border=\"1\" class=\"dataframe\">\n",
       "  <thead>\n",
       "    <tr style=\"text-align: right;\">\n",
       "      <th></th>\n",
       "      <th></th>\n",
       "      <th>A</th>\n",
       "      <th>B</th>\n",
       "    </tr>\n",
       "  </thead>\n",
       "  <tbody>\n",
       "    <tr>\n",
       "      <th rowspan=\"2\" valign=\"top\">first</th>\n",
       "      <th>0</th>\n",
       "      <td>A0</td>\n",
       "      <td>B0</td>\n",
       "    </tr>\n",
       "    <tr>\n",
       "      <th>1</th>\n",
       "      <td>A1</td>\n",
       "      <td>B1</td>\n",
       "    </tr>\n",
       "    <tr>\n",
       "      <th rowspan=\"2\" valign=\"top\">second</th>\n",
       "      <th>0</th>\n",
       "      <td>A0</td>\n",
       "      <td>B0</td>\n",
       "    </tr>\n",
       "    <tr>\n",
       "      <th>1</th>\n",
       "      <td>A1</td>\n",
       "      <td>B1</td>\n",
       "    </tr>\n",
       "  </tbody>\n",
       "</table>\n",
       "</div>"
      ],
      "text/plain": [
       "           A   B\n",
       "first  0  A0  B0\n",
       "       1  A1  B1\n",
       "second 0  A0  B0\n",
       "       1  A1  B1"
      ]
     },
     "execution_count": 20,
     "metadata": {},
     "output_type": "execute_result"
    }
   ],
   "source": [
    "r2 = pd.concat([a, a], keys=[\"first\", \"second\"])\n",
    "r2"
   ]
  },
  {
   "cell_type": "code",
   "execution_count": 21,
   "id": "a61f9484-2200-44de-852e-250edbc1ba82",
   "metadata": {},
   "outputs": [
    {
     "data": {
      "text/html": [
       "<div>\n",
       "<style scoped>\n",
       "    .dataframe tbody tr th:only-of-type {\n",
       "        vertical-align: middle;\n",
       "    }\n",
       "\n",
       "    .dataframe tbody tr th {\n",
       "        vertical-align: top;\n",
       "    }\n",
       "\n",
       "    .dataframe thead th {\n",
       "        text-align: right;\n",
       "    }\n",
       "</style>\n",
       "<table border=\"1\" class=\"dataframe\">\n",
       "  <thead>\n",
       "    <tr style=\"text-align: right;\">\n",
       "      <th></th>\n",
       "      <th>A</th>\n",
       "      <th>B</th>\n",
       "      <th>C</th>\n",
       "      <th>D</th>\n",
       "    </tr>\n",
       "  </thead>\n",
       "  <tbody>\n",
       "    <tr>\n",
       "      <th>0</th>\n",
       "      <td>A0</td>\n",
       "      <td>B0</td>\n",
       "      <td>C0</td>\n",
       "      <td>D0</td>\n",
       "    </tr>\n",
       "    <tr>\n",
       "      <th>1</th>\n",
       "      <td>A1</td>\n",
       "      <td>B1</td>\n",
       "      <td>C1</td>\n",
       "      <td>D1</td>\n",
       "    </tr>\n",
       "  </tbody>\n",
       "</table>\n",
       "</div>"
      ],
      "text/plain": [
       "    A   B   C   D\n",
       "0  A0  B0  C0  D0\n",
       "1  A1  B1  C1  D1"
      ]
     },
     "execution_count": 21,
     "metadata": {},
     "output_type": "execute_result"
    }
   ],
   "source": [
    "pd.concat([a, c], axis=1)"
   ]
  },
  {
   "cell_type": "code",
   "execution_count": 22,
   "id": "4e0d6704-a557-4512-b2c7-973a56e4e66a",
   "metadata": {},
   "outputs": [
    {
     "data": {
      "text/html": [
       "<div>\n",
       "<style scoped>\n",
       "    .dataframe tbody tr th:only-of-type {\n",
       "        vertical-align: middle;\n",
       "    }\n",
       "\n",
       "    .dataframe tbody tr th {\n",
       "        vertical-align: top;\n",
       "    }\n",
       "\n",
       "    .dataframe thead th {\n",
       "        text-align: right;\n",
       "    }\n",
       "</style>\n",
       "<table border=\"1\" class=\"dataframe\">\n",
       "  <thead>\n",
       "    <tr style=\"text-align: right;\">\n",
       "      <th></th>\n",
       "      <th>A</th>\n",
       "      <th>B</th>\n",
       "      <th>C</th>\n",
       "    </tr>\n",
       "  </thead>\n",
       "  <tbody>\n",
       "    <tr>\n",
       "      <th>0</th>\n",
       "      <td>A0</td>\n",
       "      <td>B0</td>\n",
       "      <td>NaN</td>\n",
       "    </tr>\n",
       "    <tr>\n",
       "      <th>1</th>\n",
       "      <td>A1</td>\n",
       "      <td>B1</td>\n",
       "      <td>NaN</td>\n",
       "    </tr>\n",
       "    <tr>\n",
       "      <th>2</th>\n",
       "      <td>NaN</td>\n",
       "      <td>B2</td>\n",
       "      <td>C2</td>\n",
       "    </tr>\n",
       "    <tr>\n",
       "      <th>3</th>\n",
       "      <td>NaN</td>\n",
       "      <td>B3</td>\n",
       "      <td>C3</td>\n",
       "    </tr>\n",
       "  </tbody>\n",
       "</table>\n",
       "</div>"
      ],
      "text/plain": [
       "     A   B    C\n",
       "0   A0  B0  NaN\n",
       "1   A1  B1  NaN\n",
       "2  NaN  B2   C2\n",
       "3  NaN  B3   C3"
      ]
     },
     "execution_count": 22,
     "metadata": {},
     "output_type": "execute_result"
    }
   ],
   "source": [
    "pd.concat([a,d])"
   ]
  },
  {
   "cell_type": "code",
   "execution_count": 24,
   "id": "8feab68f-8d03-4c0a-bba1-8424396520d5",
   "metadata": {},
   "outputs": [
    {
     "data": {
      "text/html": [
       "<div>\n",
       "<style scoped>\n",
       "    .dataframe tbody tr th:only-of-type {\n",
       "        vertical-align: middle;\n",
       "    }\n",
       "\n",
       "    .dataframe tbody tr th {\n",
       "        vertical-align: top;\n",
       "    }\n",
       "\n",
       "    .dataframe thead th {\n",
       "        text-align: right;\n",
       "    }\n",
       "</style>\n",
       "<table border=\"1\" class=\"dataframe\">\n",
       "  <thead>\n",
       "    <tr style=\"text-align: right;\">\n",
       "      <th></th>\n",
       "      <th>A</th>\n",
       "      <th>B</th>\n",
       "      <th>C</th>\n",
       "    </tr>\n",
       "  </thead>\n",
       "  <tbody>\n",
       "    <tr>\n",
       "      <th>0</th>\n",
       "      <td>A0</td>\n",
       "      <td>B0</td>\n",
       "      <td>NaN</td>\n",
       "    </tr>\n",
       "    <tr>\n",
       "      <th>1</th>\n",
       "      <td>A1</td>\n",
       "      <td>B1</td>\n",
       "      <td>NaN</td>\n",
       "    </tr>\n",
       "    <tr>\n",
       "      <th>2</th>\n",
       "      <td>NaN</td>\n",
       "      <td>B2</td>\n",
       "      <td>C2</td>\n",
       "    </tr>\n",
       "    <tr>\n",
       "      <th>3</th>\n",
       "      <td>NaN</td>\n",
       "      <td>B3</td>\n",
       "      <td>C3</td>\n",
       "    </tr>\n",
       "  </tbody>\n",
       "</table>\n",
       "</div>"
      ],
      "text/plain": [
       "     A   B    C\n",
       "0   A0  B0  NaN\n",
       "1   A1  B1  NaN\n",
       "2  NaN  B2   C2\n",
       "3  NaN  B3   C3"
      ]
     },
     "execution_count": 24,
     "metadata": {},
     "output_type": "execute_result"
    }
   ],
   "source": [
    "pd.concat([a,d], sort=True)"
   ]
  },
  {
   "cell_type": "code",
   "execution_count": 25,
   "id": "73bfad9e-e441-420f-9584-e822a0474eda",
   "metadata": {},
   "outputs": [
    {
     "name": "stdout",
     "output_type": "stream",
     "text": [
      "    A   B\n",
      "0  A0  B0\n",
      "1  A1  B1\n",
      "    B   C\n",
      "2  B2  C2\n",
      "3  B3  C3\n"
     ]
    }
   ],
   "source": [
    "print(a)\n",
    "print(d)"
   ]
  },
  {
   "cell_type": "code",
   "execution_count": 26,
   "id": "6e73e76f-49df-41ee-b697-9357bbbb3d4a",
   "metadata": {},
   "outputs": [
    {
     "data": {
      "text/html": [
       "<div>\n",
       "<style scoped>\n",
       "    .dataframe tbody tr th:only-of-type {\n",
       "        vertical-align: middle;\n",
       "    }\n",
       "\n",
       "    .dataframe tbody tr th {\n",
       "        vertical-align: top;\n",
       "    }\n",
       "\n",
       "    .dataframe thead th {\n",
       "        text-align: right;\n",
       "    }\n",
       "</style>\n",
       "<table border=\"1\" class=\"dataframe\">\n",
       "  <thead>\n",
       "    <tr style=\"text-align: right;\">\n",
       "      <th></th>\n",
       "      <th>B</th>\n",
       "    </tr>\n",
       "  </thead>\n",
       "  <tbody>\n",
       "    <tr>\n",
       "      <th>0</th>\n",
       "      <td>B0</td>\n",
       "    </tr>\n",
       "    <tr>\n",
       "      <th>1</th>\n",
       "      <td>B1</td>\n",
       "    </tr>\n",
       "    <tr>\n",
       "      <th>2</th>\n",
       "      <td>B2</td>\n",
       "    </tr>\n",
       "    <tr>\n",
       "      <th>3</th>\n",
       "      <td>B3</td>\n",
       "    </tr>\n",
       "  </tbody>\n",
       "</table>\n",
       "</div>"
      ],
      "text/plain": [
       "    B\n",
       "0  B0\n",
       "1  B1\n",
       "2  B2\n",
       "3  B3"
      ]
     },
     "execution_count": 26,
     "metadata": {},
     "output_type": "execute_result"
    }
   ],
   "source": [
    "pd.concat([a,d], join=\"inner\")"
   ]
  },
  {
   "cell_type": "code",
   "execution_count": null,
   "id": "3c8a1811-2a0d-4c71-a40d-345fff29983f",
   "metadata": {},
   "outputs": [],
   "source": [
    "pd.concat([a,d], join=\"inner\")"
   ]
  },
  {
   "cell_type": "code",
   "execution_count": 1,
   "id": "7b516c84-a73a-4694-8406-b31b4b089a5e",
   "metadata": {},
   "outputs": [],
   "source": [
    "import pandas as pd\n",
    "import numpy as np"
   ]
  },
  {
   "cell_type": "code",
   "execution_count": 2,
   "id": "e609c14f-d283-4cad-9ade-13d258f77731",
   "metadata": {},
   "outputs": [
    {
     "data": {
      "text/html": [
       "<div>\n",
       "<style scoped>\n",
       "    .dataframe tbody tr th:only-of-type {\n",
       "        vertical-align: middle;\n",
       "    }\n",
       "\n",
       "    .dataframe tbody tr th {\n",
       "        vertical-align: top;\n",
       "    }\n",
       "\n",
       "    .dataframe thead th {\n",
       "        text-align: right;\n",
       "    }\n",
       "</style>\n",
       "<table border=\"1\" class=\"dataframe\">\n",
       "  <thead>\n",
       "    <tr style=\"text-align: right;\">\n",
       "      <th></th>\n",
       "      <th>Wage</th>\n",
       "      <th>Name</th>\n",
       "      <th>Age</th>\n",
       "    </tr>\n",
       "  </thead>\n",
       "  <tbody>\n",
       "    <tr>\n",
       "      <th>0</th>\n",
       "      <td>1000</td>\n",
       "      <td>Jack</td>\n",
       "      <td>21</td>\n",
       "    </tr>\n",
       "    <tr>\n",
       "      <th>1</th>\n",
       "      <td>1500</td>\n",
       "      <td>John</td>\n",
       "      <td>29</td>\n",
       "    </tr>\n",
       "  </tbody>\n",
       "</table>\n",
       "</div>"
      ],
      "text/plain": [
       "   Wage  Name  Age\n",
       "0  1000  Jack   21\n",
       "1  1500  John   29"
      ]
     },
     "execution_count": 2,
     "metadata": {},
     "output_type": "execute_result"
    }
   ],
   "source": [
    "df = pd.DataFrame([[1000, \"Jack\", 21], [1500, \"John\", 29]], columns=[\"Wage\", \"Name\", \"Age\"])\n",
    "df"
   ]
  },
  {
   "cell_type": "code",
   "execution_count": 3,
   "id": "46038081-5df4-40c0-86a2-107c597cad02",
   "metadata": {},
   "outputs": [
    {
     "data": {
      "text/html": [
       "<div>\n",
       "<style scoped>\n",
       "    .dataframe tbody tr th:only-of-type {\n",
       "        vertical-align: middle;\n",
       "    }\n",
       "\n",
       "    .dataframe tbody tr th {\n",
       "        vertical-align: top;\n",
       "    }\n",
       "\n",
       "    .dataframe thead th {\n",
       "        text-align: right;\n",
       "    }\n",
       "</style>\n",
       "<table border=\"1\" class=\"dataframe\">\n",
       "  <thead>\n",
       "    <tr style=\"text-align: right;\">\n",
       "      <th></th>\n",
       "      <th>Name</th>\n",
       "      <th>Occupation</th>\n",
       "    </tr>\n",
       "  </thead>\n",
       "  <tbody>\n",
       "    <tr>\n",
       "      <th>0</th>\n",
       "      <td>John</td>\n",
       "      <td>Plumber</td>\n",
       "    </tr>\n",
       "    <tr>\n",
       "      <th>1</th>\n",
       "      <td>Jack</td>\n",
       "      <td>Carpenter</td>\n",
       "    </tr>\n",
       "  </tbody>\n",
       "</table>\n",
       "</div>"
      ],
      "text/plain": [
       "   Name Occupation\n",
       "0  John    Plumber\n",
       "1  Jack  Carpenter"
      ]
     },
     "execution_count": 3,
     "metadata": {},
     "output_type": "execute_result"
    }
   ],
   "source": [
    "df2 = pd.DataFrame({\"Name\" : [\"John\", \"Jack\"], \"Occupation\": [\"Plumber\", \"Carpenter\"]})\n",
    "df2"
   ]
  },
  {
   "cell_type": "code",
   "execution_count": 4,
   "id": "335d91c2-e73a-4550-bb17-3c29bc9b2de9",
   "metadata": {},
   "outputs": [
    {
     "data": {
      "text/html": [
       "<div>\n",
       "<style scoped>\n",
       "    .dataframe tbody tr th:only-of-type {\n",
       "        vertical-align: middle;\n",
       "    }\n",
       "\n",
       "    .dataframe tbody tr th {\n",
       "        vertical-align: top;\n",
       "    }\n",
       "\n",
       "    .dataframe thead th {\n",
       "        text-align: right;\n",
       "    }\n",
       "</style>\n",
       "<table border=\"1\" class=\"dataframe\">\n",
       "  <thead>\n",
       "    <tr style=\"text-align: right;\">\n",
       "      <th></th>\n",
       "      <th>Wage</th>\n",
       "      <th>Name</th>\n",
       "      <th>Age</th>\n",
       "      <th>Occupation</th>\n",
       "    </tr>\n",
       "  </thead>\n",
       "  <tbody>\n",
       "    <tr>\n",
       "      <th>0</th>\n",
       "      <td>1000</td>\n",
       "      <td>Jack</td>\n",
       "      <td>21</td>\n",
       "      <td>Carpenter</td>\n",
       "    </tr>\n",
       "    <tr>\n",
       "      <th>1</th>\n",
       "      <td>1500</td>\n",
       "      <td>John</td>\n",
       "      <td>29</td>\n",
       "      <td>Plumber</td>\n",
       "    </tr>\n",
       "  </tbody>\n",
       "</table>\n",
       "</div>"
      ],
      "text/plain": [
       "   Wage  Name  Age Occupation\n",
       "0  1000  Jack   21  Carpenter\n",
       "1  1500  John   29    Plumber"
      ]
     },
     "execution_count": 4,
     "metadata": {},
     "output_type": "execute_result"
    }
   ],
   "source": [
    "pd.merge(df, df2)"
   ]
  },
  {
   "cell_type": "code",
   "execution_count": 5,
   "id": "df204a14-89aa-47ee-a1d2-5339cd58f915",
   "metadata": {},
   "outputs": [],
   "source": [
    "wh = pd.read_csv(\"https://raw.githubusercontent.com/csmastersUH/data_analysis_with_python_2020/master/kumpula-weather-2017.csv\")"
   ]
  },
  {
   "cell_type": "code",
   "execution_count": 6,
   "id": "97b3ada3-c0f7-405e-bf2e-223e90a74351",
   "metadata": {},
   "outputs": [
    {
     "data": {
      "text/html": [
       "<div>\n",
       "<style scoped>\n",
       "    .dataframe tbody tr th:only-of-type {\n",
       "        vertical-align: middle;\n",
       "    }\n",
       "\n",
       "    .dataframe tbody tr th {\n",
       "        vertical-align: top;\n",
       "    }\n",
       "\n",
       "    .dataframe thead th {\n",
       "        text-align: right;\n",
       "    }\n",
       "</style>\n",
       "<table border=\"1\" class=\"dataframe\">\n",
       "  <thead>\n",
       "    <tr style=\"text-align: right;\">\n",
       "      <th></th>\n",
       "      <th>Year</th>\n",
       "      <th>Month</th>\n",
       "      <th>Day</th>\n",
       "      <th>Time</th>\n",
       "      <th>Time zone</th>\n",
       "      <th>Precipitation</th>\n",
       "      <th>Snow</th>\n",
       "      <th>Temperature</th>\n",
       "    </tr>\n",
       "  </thead>\n",
       "  <tbody>\n",
       "    <tr>\n",
       "      <th>0</th>\n",
       "      <td>2017</td>\n",
       "      <td>1</td>\n",
       "      <td>1</td>\n",
       "      <td>00:00</td>\n",
       "      <td>UTC</td>\n",
       "      <td>-1.0</td>\n",
       "      <td>-1.0</td>\n",
       "      <td>0.6</td>\n",
       "    </tr>\n",
       "    <tr>\n",
       "      <th>1</th>\n",
       "      <td>2017</td>\n",
       "      <td>1</td>\n",
       "      <td>2</td>\n",
       "      <td>00:00</td>\n",
       "      <td>UTC</td>\n",
       "      <td>4.4</td>\n",
       "      <td>-1.0</td>\n",
       "      <td>-3.9</td>\n",
       "    </tr>\n",
       "    <tr>\n",
       "      <th>2</th>\n",
       "      <td>2017</td>\n",
       "      <td>1</td>\n",
       "      <td>3</td>\n",
       "      <td>00:00</td>\n",
       "      <td>UTC</td>\n",
       "      <td>6.6</td>\n",
       "      <td>7.0</td>\n",
       "      <td>-6.5</td>\n",
       "    </tr>\n",
       "    <tr>\n",
       "      <th>3</th>\n",
       "      <td>2017</td>\n",
       "      <td>1</td>\n",
       "      <td>4</td>\n",
       "      <td>00:00</td>\n",
       "      <td>UTC</td>\n",
       "      <td>-1.0</td>\n",
       "      <td>13.0</td>\n",
       "      <td>-12.8</td>\n",
       "    </tr>\n",
       "    <tr>\n",
       "      <th>4</th>\n",
       "      <td>2017</td>\n",
       "      <td>1</td>\n",
       "      <td>5</td>\n",
       "      <td>00:00</td>\n",
       "      <td>UTC</td>\n",
       "      <td>-1.0</td>\n",
       "      <td>10.0</td>\n",
       "      <td>-17.8</td>\n",
       "    </tr>\n",
       "  </tbody>\n",
       "</table>\n",
       "</div>"
      ],
      "text/plain": [
       "   Year  Month  Day   Time Time zone  Precipitation  Snow  Temperature\n",
       "0  2017      1    1  00:00       UTC           -1.0  -1.0          0.6\n",
       "1  2017      1    2  00:00       UTC            4.4  -1.0         -3.9\n",
       "2  2017      1    3  00:00       UTC            6.6   7.0         -6.5\n",
       "3  2017      1    4  00:00       UTC           -1.0  13.0        -12.8\n",
       "4  2017      1    5  00:00       UTC           -1.0  10.0        -17.8"
      ]
     },
     "execution_count": 6,
     "metadata": {},
     "output_type": "execute_result"
    }
   ],
   "source": [
    "wh3 = wh.rename(columns={\"m\": \"Month\", \"d\": \"Day\", \"Precipitation amount (mm)\" : \"Precipitation\",\n",
    "                         \"Snow depth (cm)\" : \"Snow\", \"Air temperature (degC)\" : \"Temperature\"})\n",
    "wh3.head()"
   ]
  },
  {
   "cell_type": "code",
   "execution_count": 7,
   "id": "a427c5b0-e04f-46f6-8251-c304a2575080",
   "metadata": {},
   "outputs": [
    {
     "data": {
      "text/plain": [
       "<pandas.core.groupby.generic.DataFrameGroupBy object at 0x0000012485D921C0>"
      ]
     },
     "execution_count": 7,
     "metadata": {},
     "output_type": "execute_result"
    }
   ],
   "source": [
    "groups = wh3.groupby(\"Month\")\n",
    "groups"
   ]
  },
  {
   "cell_type": "code",
   "execution_count": 8,
   "id": "4449ae34-d0fb-44d1-bbea-48b660574a3c",
   "metadata": {},
   "outputs": [
    {
     "data": {
      "text/plain": [
       "12"
      ]
     },
     "execution_count": 8,
     "metadata": {},
     "output_type": "execute_result"
    }
   ],
   "source": [
    "len(groups)"
   ]
  },
  {
   "cell_type": "code",
   "execution_count": 13,
   "id": "38462a38-aa08-4e1b-838e-80012c89feb8",
   "metadata": {},
   "outputs": [
    {
     "name": "stdout",
     "output_type": "stream",
     "text": [
      "1 31\n",
      "2 28\n",
      "3 31\n",
      "4 30\n",
      "5 31\n",
      "6 30\n",
      "7 31\n",
      "8 31\n",
      "9 30\n",
      "10 31\n",
      "11 30\n",
      "12 31\n"
     ]
    }
   ],
   "source": [
    "for key, group in groups:\n",
    "    print(key, len(group))"
   ]
  },
  {
   "cell_type": "code",
   "execution_count": 11,
   "id": "8eec0fc3-b3d9-46c3-acd6-24fbf73a1c58",
   "metadata": {},
   "outputs": [
    {
     "data": {
      "text/html": [
       "<div>\n",
       "<style scoped>\n",
       "    .dataframe tbody tr th:only-of-type {\n",
       "        vertical-align: middle;\n",
       "    }\n",
       "\n",
       "    .dataframe tbody tr th {\n",
       "        vertical-align: top;\n",
       "    }\n",
       "\n",
       "    .dataframe thead th {\n",
       "        text-align: right;\n",
       "    }\n",
       "</style>\n",
       "<table border=\"1\" class=\"dataframe\">\n",
       "  <thead>\n",
       "    <tr style=\"text-align: right;\">\n",
       "      <th></th>\n",
       "      <th>Year</th>\n",
       "      <th>Month</th>\n",
       "      <th>Day</th>\n",
       "      <th>Time</th>\n",
       "      <th>Time zone</th>\n",
       "      <th>Precipitation</th>\n",
       "      <th>Snow</th>\n",
       "      <th>Temperature</th>\n",
       "    </tr>\n",
       "  </thead>\n",
       "  <tbody>\n",
       "    <tr>\n",
       "      <th>0</th>\n",
       "      <td>2017</td>\n",
       "      <td>1</td>\n",
       "      <td>1</td>\n",
       "      <td>00:00</td>\n",
       "      <td>UTC</td>\n",
       "      <td>-1.0</td>\n",
       "      <td>-1.0</td>\n",
       "      <td>0.6</td>\n",
       "    </tr>\n",
       "    <tr>\n",
       "      <th>1</th>\n",
       "      <td>2017</td>\n",
       "      <td>1</td>\n",
       "      <td>2</td>\n",
       "      <td>00:00</td>\n",
       "      <td>UTC</td>\n",
       "      <td>4.4</td>\n",
       "      <td>-1.0</td>\n",
       "      <td>-3.9</td>\n",
       "    </tr>\n",
       "    <tr>\n",
       "      <th>2</th>\n",
       "      <td>2017</td>\n",
       "      <td>1</td>\n",
       "      <td>3</td>\n",
       "      <td>00:00</td>\n",
       "      <td>UTC</td>\n",
       "      <td>6.6</td>\n",
       "      <td>7.0</td>\n",
       "      <td>-6.5</td>\n",
       "    </tr>\n",
       "    <tr>\n",
       "      <th>3</th>\n",
       "      <td>2017</td>\n",
       "      <td>1</td>\n",
       "      <td>4</td>\n",
       "      <td>00:00</td>\n",
       "      <td>UTC</td>\n",
       "      <td>-1.0</td>\n",
       "      <td>13.0</td>\n",
       "      <td>-12.8</td>\n",
       "    </tr>\n",
       "    <tr>\n",
       "      <th>4</th>\n",
       "      <td>2017</td>\n",
       "      <td>1</td>\n",
       "      <td>5</td>\n",
       "      <td>00:00</td>\n",
       "      <td>UTC</td>\n",
       "      <td>-1.0</td>\n",
       "      <td>10.0</td>\n",
       "      <td>-17.8</td>\n",
       "    </tr>\n",
       "    <tr>\n",
       "      <th>5</th>\n",
       "      <td>2017</td>\n",
       "      <td>1</td>\n",
       "      <td>6</td>\n",
       "      <td>00:00</td>\n",
       "      <td>UTC</td>\n",
       "      <td>0.3</td>\n",
       "      <td>10.0</td>\n",
       "      <td>-17.8</td>\n",
       "    </tr>\n",
       "    <tr>\n",
       "      <th>6</th>\n",
       "      <td>2017</td>\n",
       "      <td>1</td>\n",
       "      <td>7</td>\n",
       "      <td>00:00</td>\n",
       "      <td>UTC</td>\n",
       "      <td>5.3</td>\n",
       "      <td>10.0</td>\n",
       "      <td>-3.8</td>\n",
       "    </tr>\n",
       "    <tr>\n",
       "      <th>7</th>\n",
       "      <td>2017</td>\n",
       "      <td>1</td>\n",
       "      <td>8</td>\n",
       "      <td>00:00</td>\n",
       "      <td>UTC</td>\n",
       "      <td>-1.0</td>\n",
       "      <td>12.0</td>\n",
       "      <td>-0.5</td>\n",
       "    </tr>\n",
       "    <tr>\n",
       "      <th>8</th>\n",
       "      <td>2017</td>\n",
       "      <td>1</td>\n",
       "      <td>9</td>\n",
       "      <td>00:00</td>\n",
       "      <td>UTC</td>\n",
       "      <td>1.1</td>\n",
       "      <td>12.0</td>\n",
       "      <td>0.5</td>\n",
       "    </tr>\n",
       "    <tr>\n",
       "      <th>9</th>\n",
       "      <td>2017</td>\n",
       "      <td>1</td>\n",
       "      <td>10</td>\n",
       "      <td>00:00</td>\n",
       "      <td>UTC</td>\n",
       "      <td>0.3</td>\n",
       "      <td>9.0</td>\n",
       "      <td>1.7</td>\n",
       "    </tr>\n",
       "    <tr>\n",
       "      <th>10</th>\n",
       "      <td>2017</td>\n",
       "      <td>1</td>\n",
       "      <td>11</td>\n",
       "      <td>00:00</td>\n",
       "      <td>UTC</td>\n",
       "      <td>-1.0</td>\n",
       "      <td>7.0</td>\n",
       "      <td>-1.6</td>\n",
       "    </tr>\n",
       "    <tr>\n",
       "      <th>11</th>\n",
       "      <td>2017</td>\n",
       "      <td>1</td>\n",
       "      <td>12</td>\n",
       "      <td>00:00</td>\n",
       "      <td>UTC</td>\n",
       "      <td>8.0</td>\n",
       "      <td>7.0</td>\n",
       "      <td>-2.8</td>\n",
       "    </tr>\n",
       "    <tr>\n",
       "      <th>12</th>\n",
       "      <td>2017</td>\n",
       "      <td>1</td>\n",
       "      <td>13</td>\n",
       "      <td>00:00</td>\n",
       "      <td>UTC</td>\n",
       "      <td>0.1</td>\n",
       "      <td>13.0</td>\n",
       "      <td>1.1</td>\n",
       "    </tr>\n",
       "    <tr>\n",
       "      <th>13</th>\n",
       "      <td>2017</td>\n",
       "      <td>1</td>\n",
       "      <td>14</td>\n",
       "      <td>00:00</td>\n",
       "      <td>UTC</td>\n",
       "      <td>0.1</td>\n",
       "      <td>8.0</td>\n",
       "      <td>0.8</td>\n",
       "    </tr>\n",
       "    <tr>\n",
       "      <th>14</th>\n",
       "      <td>2017</td>\n",
       "      <td>1</td>\n",
       "      <td>15</td>\n",
       "      <td>00:00</td>\n",
       "      <td>UTC</td>\n",
       "      <td>-1.0</td>\n",
       "      <td>8.0</td>\n",
       "      <td>-2.8</td>\n",
       "    </tr>\n",
       "    <tr>\n",
       "      <th>15</th>\n",
       "      <td>2017</td>\n",
       "      <td>1</td>\n",
       "      <td>16</td>\n",
       "      <td>00:00</td>\n",
       "      <td>UTC</td>\n",
       "      <td>-1.0</td>\n",
       "      <td>8.0</td>\n",
       "      <td>-4.2</td>\n",
       "    </tr>\n",
       "    <tr>\n",
       "      <th>16</th>\n",
       "      <td>2017</td>\n",
       "      <td>1</td>\n",
       "      <td>17</td>\n",
       "      <td>00:00</td>\n",
       "      <td>UTC</td>\n",
       "      <td>0.2</td>\n",
       "      <td>8.0</td>\n",
       "      <td>-3.5</td>\n",
       "    </tr>\n",
       "    <tr>\n",
       "      <th>17</th>\n",
       "      <td>2017</td>\n",
       "      <td>1</td>\n",
       "      <td>18</td>\n",
       "      <td>00:00</td>\n",
       "      <td>UTC</td>\n",
       "      <td>0.9</td>\n",
       "      <td>8.0</td>\n",
       "      <td>1.1</td>\n",
       "    </tr>\n",
       "    <tr>\n",
       "      <th>18</th>\n",
       "      <td>2017</td>\n",
       "      <td>1</td>\n",
       "      <td>19</td>\n",
       "      <td>00:00</td>\n",
       "      <td>UTC</td>\n",
       "      <td>-1.0</td>\n",
       "      <td>5.0</td>\n",
       "      <td>1.6</td>\n",
       "    </tr>\n",
       "    <tr>\n",
       "      <th>19</th>\n",
       "      <td>2017</td>\n",
       "      <td>1</td>\n",
       "      <td>20</td>\n",
       "      <td>00:00</td>\n",
       "      <td>UTC</td>\n",
       "      <td>0.3</td>\n",
       "      <td>5.0</td>\n",
       "      <td>-0.6</td>\n",
       "    </tr>\n",
       "    <tr>\n",
       "      <th>20</th>\n",
       "      <td>2017</td>\n",
       "      <td>1</td>\n",
       "      <td>21</td>\n",
       "      <td>00:00</td>\n",
       "      <td>UTC</td>\n",
       "      <td>0.4</td>\n",
       "      <td>5.0</td>\n",
       "      <td>-1.8</td>\n",
       "    </tr>\n",
       "    <tr>\n",
       "      <th>21</th>\n",
       "      <td>2017</td>\n",
       "      <td>1</td>\n",
       "      <td>22</td>\n",
       "      <td>00:00</td>\n",
       "      <td>UTC</td>\n",
       "      <td>0.2</td>\n",
       "      <td>5.0</td>\n",
       "      <td>1.0</td>\n",
       "    </tr>\n",
       "    <tr>\n",
       "      <th>22</th>\n",
       "      <td>2017</td>\n",
       "      <td>1</td>\n",
       "      <td>23</td>\n",
       "      <td>00:00</td>\n",
       "      <td>UTC</td>\n",
       "      <td>0.1</td>\n",
       "      <td>6.0</td>\n",
       "      <td>0.1</td>\n",
       "    </tr>\n",
       "    <tr>\n",
       "      <th>23</th>\n",
       "      <td>2017</td>\n",
       "      <td>1</td>\n",
       "      <td>24</td>\n",
       "      <td>00:00</td>\n",
       "      <td>UTC</td>\n",
       "      <td>-1.0</td>\n",
       "      <td>6.0</td>\n",
       "      <td>-2.2</td>\n",
       "    </tr>\n",
       "    <tr>\n",
       "      <th>24</th>\n",
       "      <td>2017</td>\n",
       "      <td>1</td>\n",
       "      <td>25</td>\n",
       "      <td>00:00</td>\n",
       "      <td>UTC</td>\n",
       "      <td>0.6</td>\n",
       "      <td>6.0</td>\n",
       "      <td>-3.8</td>\n",
       "    </tr>\n",
       "    <tr>\n",
       "      <th>25</th>\n",
       "      <td>2017</td>\n",
       "      <td>1</td>\n",
       "      <td>26</td>\n",
       "      <td>00:00</td>\n",
       "      <td>UTC</td>\n",
       "      <td>-1.0</td>\n",
       "      <td>6.0</td>\n",
       "      <td>1.9</td>\n",
       "    </tr>\n",
       "    <tr>\n",
       "      <th>26</th>\n",
       "      <td>2017</td>\n",
       "      <td>1</td>\n",
       "      <td>27</td>\n",
       "      <td>00:00</td>\n",
       "      <td>UTC</td>\n",
       "      <td>-1.0</td>\n",
       "      <td>4.0</td>\n",
       "      <td>1.6</td>\n",
       "    </tr>\n",
       "    <tr>\n",
       "      <th>27</th>\n",
       "      <td>2017</td>\n",
       "      <td>1</td>\n",
       "      <td>28</td>\n",
       "      <td>00:00</td>\n",
       "      <td>UTC</td>\n",
       "      <td>1.8</td>\n",
       "      <td>4.0</td>\n",
       "      <td>0.8</td>\n",
       "    </tr>\n",
       "    <tr>\n",
       "      <th>28</th>\n",
       "      <td>2017</td>\n",
       "      <td>1</td>\n",
       "      <td>29</td>\n",
       "      <td>00:00</td>\n",
       "      <td>UTC</td>\n",
       "      <td>2.6</td>\n",
       "      <td>3.0</td>\n",
       "      <td>0.6</td>\n",
       "    </tr>\n",
       "    <tr>\n",
       "      <th>29</th>\n",
       "      <td>2017</td>\n",
       "      <td>1</td>\n",
       "      <td>30</td>\n",
       "      <td>00:00</td>\n",
       "      <td>UTC</td>\n",
       "      <td>5.6</td>\n",
       "      <td>5.0</td>\n",
       "      <td>1.0</td>\n",
       "    </tr>\n",
       "    <tr>\n",
       "      <th>30</th>\n",
       "      <td>2017</td>\n",
       "      <td>1</td>\n",
       "      <td>31</td>\n",
       "      <td>00:00</td>\n",
       "      <td>UTC</td>\n",
       "      <td>-1.0</td>\n",
       "      <td>4.0</td>\n",
       "      <td>0.2</td>\n",
       "    </tr>\n",
       "  </tbody>\n",
       "</table>\n",
       "</div>"
      ],
      "text/plain": [
       "    Year  Month  Day   Time Time zone  Precipitation  Snow  Temperature\n",
       "0   2017      1    1  00:00       UTC           -1.0  -1.0          0.6\n",
       "1   2017      1    2  00:00       UTC            4.4  -1.0         -3.9\n",
       "2   2017      1    3  00:00       UTC            6.6   7.0         -6.5\n",
       "3   2017      1    4  00:00       UTC           -1.0  13.0        -12.8\n",
       "4   2017      1    5  00:00       UTC           -1.0  10.0        -17.8\n",
       "5   2017      1    6  00:00       UTC            0.3  10.0        -17.8\n",
       "6   2017      1    7  00:00       UTC            5.3  10.0         -3.8\n",
       "7   2017      1    8  00:00       UTC           -1.0  12.0         -0.5\n",
       "8   2017      1    9  00:00       UTC            1.1  12.0          0.5\n",
       "9   2017      1   10  00:00       UTC            0.3   9.0          1.7\n",
       "10  2017      1   11  00:00       UTC           -1.0   7.0         -1.6\n",
       "11  2017      1   12  00:00       UTC            8.0   7.0         -2.8\n",
       "12  2017      1   13  00:00       UTC            0.1  13.0          1.1\n",
       "13  2017      1   14  00:00       UTC            0.1   8.0          0.8\n",
       "14  2017      1   15  00:00       UTC           -1.0   8.0         -2.8\n",
       "15  2017      1   16  00:00       UTC           -1.0   8.0         -4.2\n",
       "16  2017      1   17  00:00       UTC            0.2   8.0         -3.5\n",
       "17  2017      1   18  00:00       UTC            0.9   8.0          1.1\n",
       "18  2017      1   19  00:00       UTC           -1.0   5.0          1.6\n",
       "19  2017      1   20  00:00       UTC            0.3   5.0         -0.6\n",
       "20  2017      1   21  00:00       UTC            0.4   5.0         -1.8\n",
       "21  2017      1   22  00:00       UTC            0.2   5.0          1.0\n",
       "22  2017      1   23  00:00       UTC            0.1   6.0          0.1\n",
       "23  2017      1   24  00:00       UTC           -1.0   6.0         -2.2\n",
       "24  2017      1   25  00:00       UTC            0.6   6.0         -3.8\n",
       "25  2017      1   26  00:00       UTC           -1.0   6.0          1.9\n",
       "26  2017      1   27  00:00       UTC           -1.0   4.0          1.6\n",
       "27  2017      1   28  00:00       UTC            1.8   4.0          0.8\n",
       "28  2017      1   29  00:00       UTC            2.6   3.0          0.6\n",
       "29  2017      1   30  00:00       UTC            5.6   5.0          1.0\n",
       "30  2017      1   31  00:00       UTC           -1.0   4.0          0.2"
      ]
     },
     "execution_count": 11,
     "metadata": {},
     "output_type": "execute_result"
    }
   ],
   "source": [
    "groups.get_group(1)    "
   ]
  },
  {
   "cell_type": "code",
   "execution_count": 14,
   "id": "c920a2b9-d9f9-480e-bae3-a44382e212d8",
   "metadata": {},
   "outputs": [
    {
     "data": {
      "text/plain": [
       "Month\n",
       "1     -2.316129\n",
       "2     -2.389286\n",
       "3      0.983871\n",
       "4      2.676667\n",
       "5      9.783871\n",
       "6     13.726667\n",
       "7     16.035484\n",
       "8     16.183871\n",
       "9     11.826667\n",
       "10     5.454839\n",
       "11     3.950000\n",
       "12     1.741935\n",
       "Name: Temperature, dtype: float64"
      ]
     },
     "execution_count": 14,
     "metadata": {},
     "output_type": "execute_result"
    }
   ],
   "source": [
    "groups[\"Temperature\"].mean()"
   ]
  },
  {
   "cell_type": "code",
   "execution_count": 15,
   "id": "cb5674a7-1532-43db-9499-478a93589413",
   "metadata": {},
   "outputs": [
    {
     "data": {
      "text/plain": [
       "Month\n",
       "1      26.9\n",
       "2      21.0\n",
       "3      29.7\n",
       "4      26.9\n",
       "5      -5.9\n",
       "6      59.3\n",
       "7      14.2\n",
       "8      70.1\n",
       "9      51.2\n",
       "10    173.5\n",
       "11    117.2\n",
       "12    133.6\n",
       "Name: Precipitation, dtype: float64"
      ]
     },
     "execution_count": 15,
     "metadata": {},
     "output_type": "execute_result"
    }
   ],
   "source": [
    "groups[\"Precipitation\"].sum()"
   ]
  },
  {
   "cell_type": "code",
   "execution_count": 16,
   "id": "10531b44-6d2e-4ead-906c-fa2f6ebb31c2",
   "metadata": {},
   "outputs": [
    {
     "data": {
      "text/html": [
       "<div>\n",
       "<style scoped>\n",
       "    .dataframe tbody tr th:only-of-type {\n",
       "        vertical-align: middle;\n",
       "    }\n",
       "\n",
       "    .dataframe tbody tr th {\n",
       "        vertical-align: top;\n",
       "    }\n",
       "\n",
       "    .dataframe thead th {\n",
       "        text-align: right;\n",
       "    }\n",
       "</style>\n",
       "<table border=\"1\" class=\"dataframe\">\n",
       "  <thead>\n",
       "    <tr style=\"text-align: right;\">\n",
       "      <th></th>\n",
       "      <th>Year</th>\n",
       "      <th>Month</th>\n",
       "      <th>Day</th>\n",
       "      <th>Time</th>\n",
       "      <th>Time zone</th>\n",
       "      <th>Precipitation</th>\n",
       "      <th>Snow</th>\n",
       "      <th>Temperature</th>\n",
       "    </tr>\n",
       "  </thead>\n",
       "  <tbody>\n",
       "    <tr>\n",
       "      <th>0</th>\n",
       "      <td>2017</td>\n",
       "      <td>1</td>\n",
       "      <td>1</td>\n",
       "      <td>00:00</td>\n",
       "      <td>UTC</td>\n",
       "      <td>0.0</td>\n",
       "      <td>0.0</td>\n",
       "      <td>0.6</td>\n",
       "    </tr>\n",
       "    <tr>\n",
       "      <th>1</th>\n",
       "      <td>2017</td>\n",
       "      <td>1</td>\n",
       "      <td>2</td>\n",
       "      <td>00:00</td>\n",
       "      <td>UTC</td>\n",
       "      <td>4.4</td>\n",
       "      <td>0.0</td>\n",
       "      <td>-3.9</td>\n",
       "    </tr>\n",
       "    <tr>\n",
       "      <th>2</th>\n",
       "      <td>2017</td>\n",
       "      <td>1</td>\n",
       "      <td>3</td>\n",
       "      <td>00:00</td>\n",
       "      <td>UTC</td>\n",
       "      <td>6.6</td>\n",
       "      <td>7.0</td>\n",
       "      <td>-6.5</td>\n",
       "    </tr>\n",
       "    <tr>\n",
       "      <th>3</th>\n",
       "      <td>2017</td>\n",
       "      <td>1</td>\n",
       "      <td>4</td>\n",
       "      <td>00:00</td>\n",
       "      <td>UTC</td>\n",
       "      <td>0.0</td>\n",
       "      <td>13.0</td>\n",
       "      <td>-12.8</td>\n",
       "    </tr>\n",
       "    <tr>\n",
       "      <th>4</th>\n",
       "      <td>2017</td>\n",
       "      <td>1</td>\n",
       "      <td>5</td>\n",
       "      <td>00:00</td>\n",
       "      <td>UTC</td>\n",
       "      <td>0.0</td>\n",
       "      <td>10.0</td>\n",
       "      <td>-17.8</td>\n",
       "    </tr>\n",
       "  </tbody>\n",
       "</table>\n",
       "</div>"
      ],
      "text/plain": [
       "   Year  Month  Day   Time Time zone  Precipitation  Snow  Temperature\n",
       "0  2017      1    1  00:00       UTC            0.0   0.0          0.6\n",
       "1  2017      1    2  00:00       UTC            4.4   0.0         -3.9\n",
       "2  2017      1    3  00:00       UTC            6.6   7.0         -6.5\n",
       "3  2017      1    4  00:00       UTC            0.0  13.0        -12.8\n",
       "4  2017      1    5  00:00       UTC            0.0  10.0        -17.8"
      ]
     },
     "execution_count": 16,
     "metadata": {},
     "output_type": "execute_result"
    }
   ],
   "source": [
    "wh4 = wh3.copy()\n",
    "wh4.loc[wh4.Precipitation == -1, \"Precipitation\"] = 0\n",
    "wh4.loc[wh4.Snow == -1, \"Snow\"] = 0\n",
    "wh4.head()"
   ]
  },
  {
   "cell_type": "code",
   "execution_count": 17,
   "id": "70993ff6-9adb-42ec-8c95-319b14dce5b2",
   "metadata": {},
   "outputs": [
    {
     "data": {
      "text/plain": [
       "Month\n",
       "1      26.9\n",
       "2      21.0\n",
       "3      29.7\n",
       "4      26.9\n",
       "5      -5.9\n",
       "6      59.3\n",
       "7      14.2\n",
       "8      70.1\n",
       "9      51.2\n",
       "10    173.5\n",
       "11    117.2\n",
       "12    133.6\n",
       "Name: Precipitation, dtype: float64"
      ]
     },
     "execution_count": 17,
     "metadata": {},
     "output_type": "execute_result"
    }
   ],
   "source": [
    "wh3.groupby(\"Month\")[\"Precipitation\"].sum()"
   ]
  },
  {
   "cell_type": "code",
   "execution_count": null,
   "id": "0d78ea8f-ba8e-44b2-bb61-f4f1b868516f",
   "metadata": {},
   "outputs": [],
   "source": []
  }
 ],
 "metadata": {
  "kernelspec": {
   "display_name": "Python 3",
   "language": "python",
   "name": "python3"
  },
  "language_info": {
   "codemirror_mode": {
    "name": "ipython",
    "version": 3
   },
   "file_extension": ".py",
   "mimetype": "text/x-python",
   "name": "python",
   "nbconvert_exporter": "python",
   "pygments_lexer": "ipython3",
   "version": "3.8.10"
  }
 },
 "nbformat": 4,
 "nbformat_minor": 5
}
