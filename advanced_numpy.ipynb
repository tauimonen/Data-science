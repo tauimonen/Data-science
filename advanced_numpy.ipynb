{
 "cells": [
  {
   "cell_type": "code",
   "execution_count": 2,
   "id": "9f78e81b-9013-416c-b3ee-6af25ea7eae7",
   "metadata": {},
   "outputs": [],
   "source": [
    "import numpy as np"
   ]
  },
  {
   "cell_type": "code",
   "execution_count": 3,
   "id": "03f5348e-cd06-4fb4-a47a-2febd9c0e493",
   "metadata": {},
   "outputs": [
    {
     "name": "stdout",
     "output_type": "stream",
     "text": [
      "1.20.3\n"
     ]
    }
   ],
   "source": [
    "print(np.__version__)"
   ]
  },
  {
   "cell_type": "code",
   "execution_count": 4,
   "id": "89dbe726-229a-4926-b2a3-6b93b82defd3",
   "metadata": {},
   "outputs": [
    {
     "data": {
      "text/plain": [
       "[[100, 200, 50, 400], [50, 0, 0, 100], [350, 100, 50, 200]]"
      ]
     },
     "execution_count": 4,
     "metadata": {},
     "output_type": "execute_result"
    }
   ],
   "source": [
    "data = [[100, 200, 50, 400], [50, 0, 0, 100], [350, 100, 50, 200]]\n",
    "data"
   ]
  },
  {
   "cell_type": "code",
   "execution_count": 5,
   "id": "f59d426e-ed9b-4b51-bcbd-c13cb71a82b5",
   "metadata": {},
   "outputs": [
    {
     "data": {
      "text/plain": [
       "array([[100, 200,  50, 400],\n",
       "       [ 50,   0,   0, 100],\n",
       "       [350, 100,  50, 200]])"
      ]
     },
     "execution_count": 5,
     "metadata": {},
     "output_type": "execute_result"
    }
   ],
   "source": [
    "a = np.array(data)\n",
    "a"
   ]
  },
  {
   "cell_type": "code",
   "execution_count": 6,
   "id": "8c026407-98d7-473a-81e2-ee312bc7d229",
   "metadata": {},
   "outputs": [
    {
     "name": "stdout",
     "output_type": "stream",
     "text": [
      "number elements:  12\n",
      "number of dimnesions:  2\n",
      "shape:  (3, 4)\n",
      "data type:  int32\n",
      "strides:  (16, 4)\n",
      "flags: \n",
      "  C_CONTIGUOUS : True\n",
      "  F_CONTIGUOUS : False\n",
      "  OWNDATA : True\n",
      "  WRITEABLE : True\n",
      "  ALIGNED : True\n",
      "  WRITEBACKIFCOPY : False\n",
      "  UPDATEIFCOPY : False\n",
      "\n"
     ]
    }
   ],
   "source": [
    "def print_info(a):\n",
    "    print(\"number elements: \", a.size)\n",
    "    print(\"number of dimnesions: \", a.ndim)\n",
    "    print(\"shape: \", a.shape)\n",
    "    print(\"data type: \", a.dtype)\n",
    "    print(\"strides: \", a.strides)\n",
    "    print(\"flags: \")\n",
    "    print(a.flags)\n",
    "    \n",
    "print_info(a)"
   ]
  },
  {
   "cell_type": "code",
   "execution_count": 7,
   "id": "e9f372e2-6fec-448d-8d7f-36fedcd46f36",
   "metadata": {},
   "outputs": [
    {
     "name": "stdout",
     "output_type": "stream",
     "text": [
      "<memory at 0x0000017C5F7F15F0>\n"
     ]
    }
   ],
   "source": [
    "print(a.data)"
   ]
  },
  {
   "cell_type": "code",
   "execution_count": 8,
   "id": "b07ee2f2-1142-4872-b20d-3add33897a23",
   "metadata": {},
   "outputs": [],
   "source": [
    "abytes = a.ravel().view(dtype=np.uint8)"
   ]
  },
  {
   "cell_type": "code",
   "execution_count": 9,
   "id": "6753087f-bb11-4745-a149-e9b3c235c73a",
   "metadata": {},
   "outputs": [
    {
     "name": "stdout",
     "output_type": "stream",
     "text": [
      "[100   0   0   0 200   0   0   0  50   0   0   0 144   1   0   0  50   0\n",
      "   0   0   0   0   0   0]\n"
     ]
    }
   ],
   "source": [
    "print(abytes[:24])"
   ]
  },
  {
   "cell_type": "code",
   "execution_count": 10,
   "id": "4a45c288-90a0-466b-8ca8-b535100a09bc",
   "metadata": {},
   "outputs": [
    {
     "name": "stdout",
     "output_type": "stream",
     "text": [
      "number elements:  48\n",
      "number of dimnesions:  1\n",
      "shape:  (48,)\n",
      "data type:  uint8\n",
      "strides:  (1,)\n",
      "flags: \n",
      "  C_CONTIGUOUS : True\n",
      "  F_CONTIGUOUS : True\n",
      "  OWNDATA : False\n",
      "  WRITEABLE : True\n",
      "  ALIGNED : True\n",
      "  WRITEBACKIFCOPY : False\n",
      "  UPDATEIFCOPY : False\n",
      "\n"
     ]
    }
   ],
   "source": [
    "print_info(abytes)"
   ]
  },
  {
   "cell_type": "code",
   "execution_count": 11,
   "id": "989404fd-0060-4fbf-a73d-3fde2e034f73",
   "metadata": {},
   "outputs": [
    {
     "data": {
      "text/plain": [
       "array([1, 2, 3])"
      ]
     },
     "execution_count": 11,
     "metadata": {},
     "output_type": "execute_result"
    }
   ],
   "source": [
    "np.array([1,2,3])"
   ]
  },
  {
   "cell_type": "code",
   "execution_count": 12,
   "id": "352e8846-20da-4c5b-a8ba-9bf6eadda06a",
   "metadata": {},
   "outputs": [
    {
     "data": {
      "text/plain": [
       "array([[1, 2, 3],\n",
       "       [4, 5, 6]])"
      ]
     },
     "execution_count": 12,
     "metadata": {},
     "output_type": "execute_result"
    }
   ],
   "source": [
    "np.array([[1,2,3], [4,5,6]])"
   ]
  },
  {
   "cell_type": "code",
   "execution_count": 13,
   "id": "7c1cc010-20ea-45ea-89d7-a363d6e31646",
   "metadata": {},
   "outputs": [
    {
     "data": {
      "text/plain": [
       "array([[[1, 2],\n",
       "        [3, 4]],\n",
       "\n",
       "       [[5, 6],\n",
       "        [7, 8]]])"
      ]
     },
     "execution_count": 13,
     "metadata": {},
     "output_type": "execute_result"
    }
   ],
   "source": [
    "np.array([[[1,2], [3,4]], [[5,6], [7,8]]])"
   ]
  },
  {
   "cell_type": "code",
   "execution_count": 14,
   "id": "6009547f-7394-4531-a20e-03fe5ad14505",
   "metadata": {},
   "outputs": [
    {
     "data": {
      "text/plain": [
       "array([[0., 0., 0., 0.],\n",
       "       [0., 0., 0., 0.],\n",
       "       [0., 0., 0., 0.],\n",
       "       [0., 0., 0., 0.],\n",
       "       [0., 0., 0., 0.]])"
      ]
     },
     "execution_count": 14,
     "metadata": {},
     "output_type": "execute_result"
    }
   ],
   "source": [
    "np.zeros((5,4))"
   ]
  },
  {
   "cell_type": "code",
   "execution_count": 15,
   "id": "edc5d372-c986-47a1-b19d-24d9d3f7f8b8",
   "metadata": {},
   "outputs": [
    {
     "data": {
      "text/plain": [
       "array([[0, 0, 0, 0],\n",
       "       [0, 0, 0, 0],\n",
       "       [0, 0, 0, 0],\n",
       "       [0, 0, 0, 0],\n",
       "       [0, 0, 0, 0]])"
      ]
     },
     "execution_count": 15,
     "metadata": {},
     "output_type": "execute_result"
    }
   ],
   "source": [
    "a = np.zeros((5,4), dtype=int)\n",
    "a"
   ]
  },
  {
   "cell_type": "code",
   "execution_count": 16,
   "id": "fb9ba394-4e55-41ab-834d-07dd51003826",
   "metadata": {},
   "outputs": [
    {
     "data": {
      "text/plain": [
       "dtype('int32')"
      ]
     },
     "execution_count": 16,
     "metadata": {},
     "output_type": "execute_result"
    }
   ],
   "source": [
    "a.dtype"
   ]
  },
  {
   "cell_type": "code",
   "execution_count": 17,
   "id": "6e3b2537-9586-4de5-a9c7-cd249b7bfc46",
   "metadata": {},
   "outputs": [
    {
     "data": {
      "text/plain": [
       "array([[1., 1., 1.],\n",
       "       [1., 1., 1.],\n",
       "       [1., 1., 1.],\n",
       "       [1., 1., 1.]])"
      ]
     },
     "execution_count": 17,
     "metadata": {},
     "output_type": "execute_result"
    }
   ],
   "source": [
    "np.ones((4,3))"
   ]
  },
  {
   "cell_type": "code",
   "execution_count": 18,
   "id": "b195b0b2-5980-4534-9a44-1093dd0cbc02",
   "metadata": {},
   "outputs": [
    {
     "data": {
      "text/plain": [
       "array([[1, 1, 1],\n",
       "       [1, 1, 1],\n",
       "       [1, 1, 1],\n",
       "       [1, 1, 1]])"
      ]
     },
     "execution_count": 18,
     "metadata": {},
     "output_type": "execute_result"
    }
   ],
   "source": [
    "np.ones((4,3), dtype=int)"
   ]
  },
  {
   "cell_type": "code",
   "execution_count": 19,
   "id": "d5634290-c206-42e5-b5e1-55ae591251de",
   "metadata": {},
   "outputs": [
    {
     "data": {
      "text/plain": [
       "array([[5, 5, 5],\n",
       "       [5, 5, 5],\n",
       "       [5, 5, 5]])"
      ]
     },
     "execution_count": 19,
     "metadata": {},
     "output_type": "execute_result"
    }
   ],
   "source": [
    "np.full((3,3), fill_value=5)"
   ]
  },
  {
   "cell_type": "code",
   "execution_count": 20,
   "id": "c72b468b-cb6d-43e4-939f-5388b302e2c2",
   "metadata": {},
   "outputs": [
    {
     "data": {
      "text/plain": [
       "array([[10, 10, 10, 10, 10, 10, 10, 10, 10, 10],\n",
       "       [10, 10, 10, 10, 10, 10, 10, 10, 10, 10],\n",
       "       [10, 10, 10, 10, 10, 10, 10, 10, 10, 10],\n",
       "       [10, 10, 10, 10, 10, 10, 10, 10, 10, 10],\n",
       "       [10, 10, 10, 10, 10, 10, 10, 10, 10, 10],\n",
       "       [10, 10, 10, 10, 10, 10, 10, 10, 10, 10],\n",
       "       [10, 10, 10, 10, 10, 10, 10, 10, 10, 10],\n",
       "       [10, 10, 10, 10, 10, 10, 10, 10, 10, 10],\n",
       "       [10, 10, 10, 10, 10, 10, 10, 10, 10, 10],\n",
       "       [10, 10, 10, 10, 10, 10, 10, 10, 10, 10]])"
      ]
     },
     "execution_count": 20,
     "metadata": {},
     "output_type": "execute_result"
    }
   ],
   "source": [
    "np.full((10,10), fill_value=10)"
   ]
  },
  {
   "cell_type": "code",
   "execution_count": 21,
   "id": "16cbec9d-3767-4e9c-981e-6d6f056cdc8d",
   "metadata": {},
   "outputs": [
    {
     "data": {
      "text/plain": [
       "array([[0.00000000e+000, 0.00000000e+000, 0.00000000e+000,\n",
       "        0.00000000e+000],\n",
       "       [0.00000000e+000, 6.73905541e-321, 1.24610723e-306,\n",
       "        1.69119873e-306]])"
      ]
     },
     "execution_count": 21,
     "metadata": {},
     "output_type": "execute_result"
    }
   ],
   "source": [
    "\"\"\"empty, unlike zeros, does not set the array values to zero, and may \n",
    "therefore be marginally faster. On the other hand, it requires the user\n",
    "to manually set all the values in the array, and should be used with \n",
    "caution.\"\"\"\n",
    "\n",
    "np.empty((2,4))"
   ]
  },
  {
   "cell_type": "code",
   "execution_count": 22,
   "id": "10dd305a-17e9-4193-ab76-b82c8d5801df",
   "metadata": {},
   "outputs": [
    {
     "data": {
      "text/plain": [
       "array([[1, 0, 0, 0, 0],\n",
       "       [0, 1, 0, 0, 0],\n",
       "       [0, 0, 1, 0, 0],\n",
       "       [0, 0, 0, 1, 0],\n",
       "       [0, 0, 0, 0, 1]])"
      ]
     },
     "execution_count": 22,
     "metadata": {},
     "output_type": "execute_result"
    }
   ],
   "source": [
    "np.eye(5, dtype=int)"
   ]
  },
  {
   "cell_type": "code",
   "execution_count": 23,
   "id": "fd64ec75-e606-4837-b080-05f10ac1db18",
   "metadata": {},
   "outputs": [
    {
     "data": {
      "text/plain": [
       "array([[0, 1, 0, 0, 0],\n",
       "       [0, 0, 1, 0, 0],\n",
       "       [0, 0, 0, 1, 0],\n",
       "       [0, 0, 0, 0, 1],\n",
       "       [0, 0, 0, 0, 0]])"
      ]
     },
     "execution_count": 23,
     "metadata": {},
     "output_type": "execute_result"
    }
   ],
   "source": [
    "np.eye(5, dtype=int, k=1) # changing index"
   ]
  },
  {
   "cell_type": "code",
   "execution_count": 41,
   "id": "282c090a-d522-4d7b-ba36-40c6efc45bce",
   "metadata": {},
   "outputs": [
    {
     "data": {
      "text/plain": [
       "array([0, 2, 4, 6, 8])"
      ]
     },
     "execution_count": 41,
     "metadata": {},
     "output_type": "execute_result"
    }
   ],
   "source": [
    "np.arange(0,10,2)"
   ]
  },
  {
   "cell_type": "code",
   "execution_count": 42,
   "id": "886d47a3-6075-45ab-9826-60b6a728dbae",
   "metadata": {},
   "outputs": [
    {
     "data": {
      "text/plain": [
       "array([0.        , 0.78539816, 1.57079633, 2.35619449, 3.14159265])"
      ]
     },
     "execution_count": 42,
     "metadata": {},
     "output_type": "execute_result"
    }
   ],
   "source": [
    "np.linspace(0, np.pi, 5)"
   ]
  },
  {
   "cell_type": "code",
   "execution_count": 44,
   "id": "5e541112-a89c-47fe-bdee-6fb502b4a591",
   "metadata": {},
   "outputs": [
    {
     "data": {
      "text/plain": [
       "array([[0.20221478, 0.38628016, 0.81043605],\n",
       "       [0.32699125, 0.09734076, 0.51719083],\n",
       "       [0.36893317, 0.47050142, 0.71908628]])"
      ]
     },
     "execution_count": 44,
     "metadata": {},
     "output_type": "execute_result"
    }
   ],
   "source": [
    "np.random.random((3,3))"
   ]
  },
  {
   "cell_type": "code",
   "execution_count": 45,
   "id": "ce592eef-3dd2-412b-ab17-07dd7c186b7e",
   "metadata": {},
   "outputs": [
    {
     "data": {
      "text/plain": [
       "array([[ 0.32363318,  0.2929084 ,  0.81586014,  1.81681076],\n",
       "       [ 0.31460792,  2.08406485, -1.43147306,  0.92672242],\n",
       "       [-0.31232314, -0.9251697 ,  1.70145629,  1.40144636]])"
      ]
     },
     "execution_count": 45,
     "metadata": {},
     "output_type": "execute_result"
    }
   ],
   "source": [
    "np.random.normal(0,1,(3,4))"
   ]
  },
  {
   "cell_type": "code",
   "execution_count": 47,
   "id": "08115c2f-b841-4aa1-838a-0b62ff52fa65",
   "metadata": {},
   "outputs": [
    {
     "data": {
      "text/plain": [
       "array([[ 8,  4,  9, -2],\n",
       "       [-1,  1, -1,  7],\n",
       "       [ 3,  5,  7,  9]])"
      ]
     },
     "execution_count": 47,
     "metadata": {},
     "output_type": "execute_result"
    }
   ],
   "source": [
    "np.random.randint(-2, 10, (3,4))"
   ]
  },
  {
   "cell_type": "code",
   "execution_count": 48,
   "id": "b3b5457a-cd0c-4c2a-a968-994591f0139c",
   "metadata": {},
   "outputs": [
    {
     "data": {
      "text/plain": [
       "array([[0.77184649, 0.66914605, 0.07688599, 0.0247964 , 0.98471532,\n",
       "        0.23039298, 0.63699309, 0.74114078, 0.42138626, 0.03698045],\n",
       "       [0.22339673, 0.37436381, 0.02855217, 0.8450493 , 0.90587375,\n",
       "        0.43977665, 0.88459519, 0.28185833, 0.96085841, 0.43806607],\n",
       "       [0.03735999, 0.37618019, 0.2052192 , 0.44865108, 0.81984109,\n",
       "        0.33321545, 0.10574584, 0.41656043, 0.56766171, 0.64539533],\n",
       "       [0.37298213, 0.68326816, 0.35828728, 0.11630758, 0.9097666 ,\n",
       "        0.55191928, 0.85761802, 0.86162786, 0.49325193, 0.22432317],\n",
       "       [0.5081541 , 0.08160825, 0.60367038, 0.97958657, 0.84363573,\n",
       "        0.29940811, 0.07693635, 0.5770806 , 0.52797718, 0.82798135],\n",
       "       [0.16986603, 0.24843141, 0.73186032, 0.88361277, 0.22799732,\n",
       "        0.95340978, 0.5001484 , 0.85755378, 0.57644614, 0.40138905],\n",
       "       [0.31962795, 0.6147332 , 0.14797971, 0.35951427, 0.06337906,\n",
       "        0.33201168, 0.48610334, 0.33806133, 0.83694453, 0.37799568],\n",
       "       [0.1793195 , 0.5266647 , 0.5971787 , 0.31288015, 0.96065766,\n",
       "        0.28908293, 0.2711125 , 0.92130209, 0.21295352, 0.50355145],\n",
       "       [0.88467527, 0.16149346, 0.87262817, 0.6101169 , 0.03224771,\n",
       "        0.51870529, 0.0504916 , 0.27615111, 0.34982635, 0.73346024],\n",
       "       [0.07748658, 0.43684079, 0.52575705, 0.04885554, 0.51610192,\n",
       "        0.65482565, 0.83761824, 0.70550376, 0.72172188, 0.43951139]])"
      ]
     },
     "execution_count": 48,
     "metadata": {},
     "output_type": "execute_result"
    }
   ],
   "source": [
    "np.random.random((10,10))"
   ]
  },
  {
   "cell_type": "code",
   "execution_count": 54,
   "id": "2f923d41-c422-4988-828f-b02d906eaac9",
   "metadata": {},
   "outputs": [
    {
     "data": {
      "text/plain": [
       "array([[ 2.22637941, -4.54693771],\n",
       "       [-0.85149682, -1.80292478],\n",
       "       [-0.70712716,  0.22435459],\n",
       "       [-0.84596368, -1.61800602],\n",
       "       [ 1.9763696 ,  0.11387405],\n",
       "       [-0.39058278,  1.53631568],\n",
       "       [-0.71160141,  0.21902054],\n",
       "       [-0.29707343,  0.01715041],\n",
       "       [-1.10294184, -3.18918507],\n",
       "       [ 2.54916288,  2.01186565]])"
      ]
     },
     "execution_count": 54,
     "metadata": {},
     "output_type": "execute_result"
    }
   ],
   "source": [
    "np.random.normal(0, 2, (10,2))"
   ]
  },
  {
   "cell_type": "code",
   "execution_count": 58,
   "id": "4b7af759-b424-4271-a31e-cbb0068490fd",
   "metadata": {},
   "outputs": [
    {
     "name": "stdout",
     "output_type": "stream",
     "text": [
      "[40 15 72 22 43 82 75  7 34 49]\n",
      "[ 0.50288142 -1.24528809 -1.05795222 -0.90900761  0.55145404  2.29220801\n",
      "  0.04153939 -1.11792545  0.53905832 -0.5961597 ]\n"
     ]
    }
   ],
   "source": [
    "np.random.seed(2)\n",
    "print(np.random.randint(0,100,10))\n",
    "print(np.random.normal(0, 1, 10))"
   ]
  },
  {
   "cell_type": "code",
   "execution_count": 59,
   "id": "3e33db55-d591-4726-80cd-1d2b56bdd665",
   "metadata": {},
   "outputs": [
    {
     "name": "stdout",
     "output_type": "stream",
     "text": [
      "[40 15 72 22 43 82 75  7 34 49]\n",
      "[ 0.50288142 -1.24528809 -1.05795222 -0.90900761  0.55145404  2.29220801\n",
      "  0.04153939 -1.11792545  0.53905832 -0.5961597 ]\n"
     ]
    }
   ],
   "source": [
    "np.random.seed(2)\n",
    "print(np.random.randint(0,100,10))\n",
    "print(np.random.normal(0, 1, 10))"
   ]
  },
  {
   "cell_type": "code",
   "execution_count": 60,
   "id": "0aaa4097-1fe8-4bcf-a0ab-82759a648306",
   "metadata": {},
   "outputs": [
    {
     "data": {
      "text/plain": [
       "array([66, 92, 98, 17, 83, 57, 86, 97, 96, 47])"
      ]
     },
     "execution_count": 60,
     "metadata": {},
     "output_type": "execute_result"
    }
   ],
   "source": [
    "new_generator = np.random.RandomState(seed=123)\n",
    "new_generator.randint(0,100,10)"
   ]
  },
  {
   "cell_type": "code",
   "execution_count": 61,
   "id": "13bb2297-bbe9-4e59-b557-1951bc5f398a",
   "metadata": {},
   "outputs": [],
   "source": [
    "def info(name, a):\n",
    "    print(f\"{name} has dim {a.ndim}, shape {a.shape}, size {a.size}, and dtype {a.dtype}:\")\n",
    "    print(a)"
   ]
  },
  {
   "cell_type": "code",
   "execution_count": 62,
   "id": "b3ab7615-d0fd-4706-ba7e-467e05d828d5",
   "metadata": {},
   "outputs": [
    {
     "name": "stdout",
     "output_type": "stream",
     "text": [
      "b has dim 2, shape (2, 3), size 6, and dtype int32:\n",
      "[[1 2 3]\n",
      " [3 4 5]]\n"
     ]
    }
   ],
   "source": [
    "b = np.array([[1,2,3], [3,4,5]])\n",
    "info(\"b\", b)"
   ]
  },
  {
   "cell_type": "code",
   "execution_count": 63,
   "id": "b9a3ae8e-2a37-489f-b7d9-bb3aaf7d5bdf",
   "metadata": {},
   "outputs": [
    {
     "name": "stdout",
     "output_type": "stream",
     "text": [
      "number elements:  20\n",
      "number of dimnesions:  2\n",
      "shape:  (5, 4)\n",
      "data type:  int32\n",
      "strides:  (16, 4)\n",
      "flags: \n",
      "  C_CONTIGUOUS : True\n",
      "  F_CONTIGUOUS : False\n",
      "  OWNDATA : True\n",
      "  WRITEABLE : True\n",
      "  ALIGNED : True\n",
      "  WRITEBACKIFCOPY : False\n",
      "  UPDATEIFCOPY : False\n",
      "\n"
     ]
    }
   ],
   "source": [
    "print_info(a)"
   ]
  },
  {
   "cell_type": "code",
   "execution_count": 65,
   "id": "3548ba03-b299-4a24-be7e-ab63739b99da",
   "metadata": {},
   "outputs": [
    {
     "name": "stdout",
     "output_type": "stream",
     "text": [
      "c has dim 3, shape (2, 2, 3), size 12, and dtype int32:\n",
      "[[[1 2 3]\n",
      "  [3 4 5]]\n",
      "\n",
      " [[1 2 3]\n",
      "  [3 4 5]]]\n"
     ]
    }
   ],
   "source": [
    "c = np.array([b,b])\n",
    "info(\"c\", c)"
   ]
  },
  {
   "cell_type": "code",
   "execution_count": 66,
   "id": "d42eb15c-28c8-42bd-b89a-7adbdb26cb9a",
   "metadata": {},
   "outputs": [
    {
     "name": "stdout",
     "output_type": "stream",
     "text": [
      "d has dim 4, shape (2, 2, 2, 3), size 24, and dtype int32:\n",
      "[[[[1 2 3]\n",
      "   [3 4 5]]\n",
      "\n",
      "  [[1 2 3]\n",
      "   [3 4 5]]]\n",
      "\n",
      "\n",
      " [[[1 2 3]\n",
      "   [3 4 5]]\n",
      "\n",
      "  [[1 2 3]\n",
      "   [3 4 5]]]]\n"
     ]
    }
   ],
   "source": [
    "d = np.array([c,c])\n",
    "info(\"d\", d)"
   ]
  },
  {
   "cell_type": "code",
   "execution_count": 24,
   "id": "b8c37c6f-e76c-4cac-93e6-657ff97e849c",
   "metadata": {},
   "outputs": [
    {
     "name": "stdout",
     "output_type": "stream",
     "text": [
      "4\n"
     ]
    }
   ],
   "source": [
    "a = np.array([1,4,2,7,9,5])\n",
    "print(a[1])"
   ]
  },
  {
   "cell_type": "code",
   "execution_count": 25,
   "id": "1d0c8999-d5e6-4c65-b9d4-2d338b23ba02",
   "metadata": {},
   "outputs": [
    {
     "name": "stdout",
     "output_type": "stream",
     "text": [
      "9\n"
     ]
    }
   ],
   "source": [
    "print(a[-2])"
   ]
  },
  {
   "cell_type": "code",
   "execution_count": 29,
   "id": "7313e636-e710-4dcd-8786-363bc40fe7b6",
   "metadata": {},
   "outputs": [
    {
     "name": "stdout",
     "output_type": "stream",
     "text": [
      "[[1 2 3]\n",
      " [4 5 6]]\n"
     ]
    }
   ],
   "source": [
    "b=np.array([[1,2,3], [4,5,6]])\n",
    "print(b)"
   ]
  },
  {
   "cell_type": "code",
   "execution_count": 30,
   "id": "154816d8-3a85-4aa7-a62a-8ee8215318a6",
   "metadata": {},
   "outputs": [
    {
     "name": "stdout",
     "output_type": "stream",
     "text": [
      "6\n"
     ]
    }
   ],
   "source": [
    "print(b[1,2])"
   ]
  },
  {
   "cell_type": "code",
   "execution_count": 32,
   "id": "ce9a05d6-cd06-4555-912a-369adf86f9ee",
   "metadata": {},
   "outputs": [
    {
     "name": "stdout",
     "output_type": "stream",
     "text": [
      "2\n",
      "3\n"
     ]
    }
   ],
   "source": [
    "print(b[0,1])\n",
    "print(b[0,-1]) "
   ]
  },
  {
   "cell_type": "code",
   "execution_count": 34,
   "id": "256c9c83-c2d8-4ac5-ac99-f93358a2b739",
   "metadata": {},
   "outputs": [
    {
     "name": "stdout",
     "output_type": "stream",
     "text": [
      "[[9 2 3]\n",
      " [4 5 6]]\n"
     ]
    }
   ],
   "source": [
    "b[0,0] = b[0,0] * 3\n",
    "print(b)"
   ]
  },
  {
   "cell_type": "code",
   "execution_count": 36,
   "id": "0a8fcde7-ca93-4033-b3bb-e96d0a851b9e",
   "metadata": {},
   "outputs": [
    {
     "name": "stdout",
     "output_type": "stream",
     "text": [
      "[9 2 3]\n",
      "[4 5 6]\n"
     ]
    }
   ],
   "source": [
    "print(b[0])  \n",
    "print(b[1]) "
   ]
  },
  {
   "cell_type": "code",
   "execution_count": 40,
   "id": "b1b4b65e-0808-4380-bd76-aa76a22a4118",
   "metadata": {},
   "outputs": [
    {
     "name": "stdout",
     "output_type": "stream",
     "text": [
      "[1 4 2 7 9 5]\n",
      "[4 2]\n",
      "[5 9 7 2 4 1]\n"
     ]
    }
   ],
   "source": [
    "print(a)\n",
    "print(a[1:3])\n",
    "print(a[::-1])"
   ]
  },
  {
   "cell_type": "code",
   "execution_count": 53,
   "id": "d9d775d0-7d3b-491d-aa1a-ffad35ff572e",
   "metadata": {},
   "outputs": [
    {
     "name": "stdout",
     "output_type": "stream",
     "text": [
      "[[9 2 3]\n",
      " [4 5 6]]\n",
      "[9 4]\n"
     ]
    }
   ],
   "source": [
    "print(b)\n",
    "print(b[:,0])"
   ]
  },
  {
   "cell_type": "code",
   "execution_count": 54,
   "id": "eb7d7862-faef-4d17-b1e8-064fe8215982",
   "metadata": {},
   "outputs": [
    {
     "name": "stdout",
     "output_type": "stream",
     "text": [
      "[9 2 3]\n"
     ]
    }
   ],
   "source": [
    "print(b[0,:])"
   ]
  },
  {
   "cell_type": "code",
   "execution_count": 55,
   "id": "9abbf602-7333-45bd-b419-b1e95dad1d56",
   "metadata": {},
   "outputs": [
    {
     "name": "stdout",
     "output_type": "stream",
     "text": [
      "[[2 3]\n",
      " [5 6]]\n"
     ]
    }
   ],
   "source": [
    "print(b[:,1:])"
   ]
  },
  {
   "cell_type": "code",
   "execution_count": 56,
   "id": "4f6d448d-265b-470b-a0b7-1056c97112a0",
   "metadata": {},
   "outputs": [
    {
     "name": "stdout",
     "output_type": "stream",
     "text": [
      "[[9 7 7]\n",
      " [4 7 7]]\n"
     ]
    }
   ],
   "source": [
    "b[:,1:] = 7\n",
    "print(b)"
   ]
  },
  {
   "cell_type": "code",
   "execution_count": 61,
   "id": "1a0c026f-6c64-42b2-a867-c6566814d447",
   "metadata": {},
   "outputs": [
    {
     "name": "stdout",
     "output_type": "stream",
     "text": [
      "[[7 7]\n",
      " [7 7]]\n",
      "[[9 7 7]\n",
      " [4 7 7]]\n"
     ]
    }
   ],
   "source": [
    "print(b[:,1:3])    # First column\n",
    "print(b[0:2,:])  "
   ]
  },
  {
   "cell_type": "code",
   "execution_count": 64,
   "id": "254b2a82-57cc-49a3-9eb3-7c8cc5725163",
   "metadata": {},
   "outputs": [
    {
     "name": "stdout",
     "output_type": "stream",
     "text": [
      "[[7 4 5 1 7]\n",
      " [3 8 6 1 6]\n",
      " [5 8 7 8 4]\n",
      " [5 7 7 2 8]\n",
      " [8 0 5 8 3]]\n"
     ]
    }
   ],
   "source": [
    "a = np.random.randint(0,10,(5,5))\n",
    "print(a)"
   ]
  },
  {
   "cell_type": "code",
   "execution_count": 69,
   "id": "a4d25ede-c041-4547-b348-6dfa13fbacda",
   "metadata": {},
   "outputs": [
    {
     "name": "stdout",
     "output_type": "stream",
     "text": [
      "[7 6 4 8 3]\n",
      "[[6 1]\n",
      " [7 8]\n",
      " [7 2]]\n"
     ]
    }
   ],
   "source": [
    "print(a[:,-1])\n",
    "print(a[1:4,2:4])"
   ]
  },
  {
   "cell_type": "code",
   "execution_count": 70,
   "id": "ad2d0309-b462-4772-b4e1-b4f1fd6b1f8c",
   "metadata": {},
   "outputs": [
    {
     "name": "stdout",
     "output_type": "stream",
     "text": [
      "[[  7   4   5   1   7]\n",
      " [  3   8 100 100   6]\n",
      " [  5   8 100 100   4]\n",
      " [  5   7 100 100   8]\n",
      " [  8   0   5   8   3]]\n"
     ]
    }
   ],
   "source": [
    "a[1:4,2:4] = 100"
   ]
  },
  {
   "cell_type": "code",
   "execution_count": 72,
   "id": "1d7a6170-1056-4a1d-8b8a-39271a607059",
   "metadata": {},
   "outputs": [
    {
     "data": {
      "text/plain": [
       "array([0, 1, 2, 3, 4, 5, 6, 7, 8])"
      ]
     },
     "execution_count": 72,
     "metadata": {},
     "output_type": "execute_result"
    }
   ],
   "source": [
    "a=np.arange(9)\n",
    "a"
   ]
  },
  {
   "cell_type": "code",
   "execution_count": 74,
   "id": "76bd3cd6-408e-4508-b746-11ac8994ea75",
   "metadata": {},
   "outputs": [
    {
     "data": {
      "text/plain": [
       "array([[0, 1, 2],\n",
       "       [3, 4, 5],\n",
       "       [6, 7, 8]])"
      ]
     },
     "execution_count": 74,
     "metadata": {},
     "output_type": "execute_result"
    }
   ],
   "source": [
    "a2 = a.reshape(3,3)\n",
    "a2"
   ]
  },
  {
   "cell_type": "code",
   "execution_count": 81,
   "id": "948bad9a-855c-4693-9e08-609a99527e27",
   "metadata": {},
   "outputs": [
    {
     "name": "stdout",
     "output_type": "stream",
     "text": [
      "[0 1 2 3]\n",
      "[[0 1 2 3]]\n",
      "[[0]\n",
      " [1]\n",
      " [2]\n",
      " [3]]\n",
      "[[0 1]\n",
      " [2 3]]\n"
     ]
    }
   ],
   "source": [
    "d = np.arange(4)\n",
    "print(d)\n",
    "dr = d.reshape(1,4)\n",
    "print(dr)\n",
    "dc = d.reshape(4,1)\n",
    "print(dc)\n",
    "dd = d.reshape(2,2)\n",
    "print(dd)"
   ]
  },
  {
   "cell_type": "code",
   "execution_count": 84,
   "id": "81d44c29-d392-4627-a9bc-42b273c4d57e",
   "metadata": {},
   "outputs": [
    {
     "name": "stdout",
     "output_type": "stream",
     "text": [
      "[0 1 2 3]\n",
      "[[0]\n",
      " [1]\n",
      " [2]\n",
      " [3]]\n",
      "[0 1 2 3]\n"
     ]
    }
   ],
   "source": [
    "print(d)\n",
    "print(d[:, np.newaxis])\n",
    "print(d[np.newaxis:,])"
   ]
  },
  {
   "cell_type": "code",
   "execution_count": 86,
   "id": "e6373da5-b222-49e4-90f5-47b210e750f1",
   "metadata": {},
   "outputs": [
    {
     "name": "stdout",
     "output_type": "stream",
     "text": [
      "[[1 9 7 6]\n",
      " [5 2 0 6]\n",
      " [0 5 9 7]\n",
      " [8 0 2 8]]\n",
      "[[1 5 0 8]\n",
      " [9 2 5 0]\n",
      " [7 0 9 2]\n",
      " [6 6 7 8]]\n"
     ]
    }
   ],
   "source": [
    "a = np.random.randint(0, 10 , (4,4))\n",
    "print(a)\n",
    "print(a.T)"
   ]
  },
  {
   "cell_type": "code",
   "execution_count": 88,
   "id": "c18d34ee-7e46-4152-a449-efe3cfe25db8",
   "metadata": {},
   "outputs": [
    {
     "data": {
      "text/plain": [
       "array([0, 1])"
      ]
     },
     "execution_count": 88,
     "metadata": {},
     "output_type": "execute_result"
    }
   ],
   "source": [
    "a = np.arange(2)\n",
    "a"
   ]
  },
  {
   "cell_type": "code",
   "execution_count": 89,
   "id": "8f72f7a6-5880-4c93-ba02-9a2fbc5169a7",
   "metadata": {},
   "outputs": [
    {
     "data": {
      "text/plain": [
       "array([2, 3, 4])"
      ]
     },
     "execution_count": 89,
     "metadata": {},
     "output_type": "execute_result"
    }
   ],
   "source": [
    "b = np.arange(2,5)\n",
    "b"
   ]
  },
  {
   "cell_type": "code",
   "execution_count": 90,
   "id": "3ebfdb9a-7d40-4058-a3e7-2ffa1c33ec99",
   "metadata": {},
   "outputs": [
    {
     "name": "stdout",
     "output_type": "stream",
     "text": [
      "(2,)\n",
      "(3,)\n"
     ]
    }
   ],
   "source": [
    "print(a.shape)\n",
    "print(b.shape)"
   ]
  },
  {
   "cell_type": "code",
   "execution_count": 92,
   "id": "5b15bb31-3903-4d0f-ab26-81fa124f8574",
   "metadata": {},
   "outputs": [
    {
     "data": {
      "text/plain": [
       "array([0, 1, 2, 3, 4])"
      ]
     },
     "execution_count": 92,
     "metadata": {},
     "output_type": "execute_result"
    }
   ],
   "source": [
    "np.concatenate((a,b))"
   ]
  },
  {
   "cell_type": "code",
   "execution_count": 93,
   "id": "fcdb6b82-1772-46ba-93a4-b68f97a16fbc",
   "metadata": {},
   "outputs": [
    {
     "name": "stdout",
     "output_type": "stream",
     "text": [
      "[[1 2]\n",
      " [3 4]]\n"
     ]
    }
   ],
   "source": [
    "c = np.arange(1,5).reshape(2,2)\n",
    "print(c)"
   ]
  },
  {
   "cell_type": "code",
   "execution_count": 103,
   "id": "3bce4b52-832d-49a9-8051-511ce2711825",
   "metadata": {},
   "outputs": [
    {
     "data": {
      "text/plain": [
       "array([[1, 2],\n",
       "       [3, 4],\n",
       "       [1, 2],\n",
       "       [3, 4],\n",
       "       [1, 2],\n",
       "       [3, 4]])"
      ]
     },
     "execution_count": 103,
     "metadata": {},
     "output_type": "execute_result"
    }
   ],
   "source": [
    "x = np.concatenate((c,c,c))\n",
    "x"
   ]
  },
  {
   "cell_type": "code",
   "execution_count": 104,
   "id": "605580ea-bf72-4bb0-bfbf-bcb9748bcc91",
   "metadata": {},
   "outputs": [
    {
     "data": {
      "text/plain": [
       "array([[1, 2, 1, 2],\n",
       "       [3, 4, 3, 4]])"
      ]
     },
     "execution_count": 104,
     "metadata": {},
     "output_type": "execute_result"
    }
   ],
   "source": [
    "y = np.concatenate((c,c), axis=1)\n",
    "y"
   ]
  },
  {
   "cell_type": "code",
   "execution_count": 107,
   "id": "53671b3f-fe66-4095-aefa-8802500f7bed",
   "metadata": {},
   "outputs": [
    {
     "data": {
      "text/plain": [
       "array([[1, 2, 1, 2],\n",
       "       [3, 4, 3, 4],\n",
       "       [1, 2, 1, 2],\n",
       "       [3, 4, 3, 4],\n",
       "       [1, 2, 1, 2],\n",
       "       [3, 4, 3, 4]])"
      ]
     },
     "execution_count": 107,
     "metadata": {},
     "output_type": "execute_result"
    }
   ],
   "source": [
    "z= np.concatenate((y,y,y))\n",
    "z"
   ]
  },
  {
   "cell_type": "code",
   "execution_count": 111,
   "id": "c573d905-71f3-447c-90ca-9c424319b3b3",
   "metadata": {},
   "outputs": [
    {
     "data": {
      "text/plain": [
       "array([[1, 2, 1, 2],\n",
       "       [3, 4, 3, 4],\n",
       "       [1, 2, 1, 2],\n",
       "       [3, 4, 3, 4],\n",
       "       [1, 2, 1, 2],\n",
       "       [3, 4, 3, 4],\n",
       "       [1, 2, 1, 2],\n",
       "       [3, 4, 3, 4]])"
      ]
     },
     "execution_count": 111,
     "metadata": {},
     "output_type": "execute_result"
    }
   ],
   "source": [
    "np.concatenate(((y,z)))"
   ]
  },
  {
   "cell_type": "code",
   "execution_count": 117,
   "id": "402e10fe-94d6-4718-a54c-d1366f32e1e3",
   "metadata": {},
   "outputs": [
    {
     "name": "stdout",
     "output_type": "stream",
     "text": [
      "[2 3 4]\n"
     ]
    },
    {
     "data": {
      "text/plain": [
       "array([[2, 3, 4],\n",
       "       [2, 3, 4]])"
      ]
     },
     "execution_count": 117,
     "metadata": {},
     "output_type": "execute_result"
    }
   ],
   "source": [
    "print(b)\n",
    "t = np.stack((b,b))\n",
    "t"
   ]
  },
  {
   "cell_type": "code",
   "execution_count": 118,
   "id": "cfba1c67-9a2c-4072-ac8b-c46921854ae2",
   "metadata": {},
   "outputs": [
    {
     "data": {
      "text/plain": [
       "array([[[2, 3, 4],\n",
       "        [2, 3, 4]],\n",
       "\n",
       "       [[2, 3, 4],\n",
       "        [2, 3, 4]]])"
      ]
     },
     "execution_count": 118,
     "metadata": {},
     "output_type": "execute_result"
    }
   ],
   "source": [
    "np.stack((t,t))"
   ]
  },
  {
   "cell_type": "code",
   "execution_count": 119,
   "id": "5fc87f65-3733-41ee-a6ef-c038c26253e0",
   "metadata": {},
   "outputs": [
    {
     "name": "stdout",
     "output_type": "stream",
     "text": [
      "[[ 0  1]\n",
      " [ 2  3]\n",
      " [ 4  5]\n",
      " [ 6  7]\n",
      " [ 8  9]\n",
      " [10 11]]\n"
     ]
    }
   ],
   "source": [
    "d = np.arange(12).reshape(6,2)\n",
    "print(d)"
   ]
  },
  {
   "cell_type": "code",
   "execution_count": 120,
   "id": "d673ad99-31da-4bb2-b408-87486f4933aa",
   "metadata": {},
   "outputs": [
    {
     "name": "stdout",
     "output_type": "stream",
     "text": [
      "[[0 1]\n",
      " [2 3]\n",
      " [4 5]]\n",
      "[[ 6  7]\n",
      " [ 8  9]\n",
      " [10 11]]\n"
     ]
    }
   ],
   "source": [
    "d1, d2 = np.split(d,2)\n",
    "print(d1)\n",
    "print(d2)"
   ]
  },
  {
   "cell_type": "code",
   "execution_count": 121,
   "id": "8f134237-3589-4c4f-9c06-cf10929497dd",
   "metadata": {},
   "outputs": [],
   "source": [
    "d4, d5 = np.split(d,2, axis=1)"
   ]
  },
  {
   "cell_type": "code",
   "execution_count": 122,
   "id": "cd81b2c5-9005-466e-900b-188d0f14468b",
   "metadata": {},
   "outputs": [
    {
     "name": "stdout",
     "output_type": "stream",
     "text": [
      "[[ 0]\n",
      " [ 2]\n",
      " [ 4]\n",
      " [ 6]\n",
      " [ 8]\n",
      " [10]]\n"
     ]
    }
   ],
   "source": [
    "print(d4)"
   ]
  },
  {
   "cell_type": "code",
   "execution_count": 126,
   "id": "c5b56611-f831-40f6-8dd3-b18d88e311bd",
   "metadata": {},
   "outputs": [
    {
     "name": "stdout",
     "output_type": "stream",
     "text": [
      "2\n",
      "int32\n",
      "(6, 1)\n",
      "4\n",
      "6\n",
      "24\n"
     ]
    }
   ],
   "source": [
    "print(d4.ndim)\n",
    "print(d4.dtype)\n",
    "print(d4.shape)\n",
    "print(d4.itemsize)\n",
    "print(d4.size)\n",
    "print(d4.nbytes)"
   ]
  },
  {
   "cell_type": "code",
   "execution_count": 127,
   "id": "b60aa613-5c57-4881-8d75-97562346976d",
   "metadata": {},
   "outputs": [
    {
     "name": "stdout",
     "output_type": "stream",
     "text": [
      "[[ 0  1  2  3  4  5]\n",
      " [ 6  7  8  9 10 11]]\n"
     ]
    }
   ],
   "source": [
    "d = np.arange(12).reshape(2,6)\n",
    "print(d)\n"
   ]
  },
  {
   "cell_type": "code",
   "execution_count": 128,
   "id": "3d8b6a18-c3d7-4090-b262-559d5425472f",
   "metadata": {},
   "outputs": [
    {
     "name": "stdout",
     "output_type": "stream",
     "text": [
      "part 0:\n",
      "[[0 1]\n",
      " [6 7]]\n",
      "part 1:\n",
      "[[2]\n",
      " [8]]\n",
      "part 2:\n",
      "[[ 3  4]\n",
      " [ 9 10]]\n",
      "part 3:\n",
      "[[ 5]\n",
      " [11]]\n"
     ]
    }
   ],
   "source": [
    "parts=np.split(d, (2,3,5), axis=1)\n",
    "for i, p in enumerate(parts):\n",
    "    print(\"part %i:\" % i)\n",
    "    print(p)"
   ]
  },
  {
   "cell_type": "code",
   "execution_count": 129,
   "id": "210ff7da-4d2c-406f-8c1a-053a97a9961a",
   "metadata": {},
   "outputs": [
    {
     "data": {
      "text/plain": [
       "0.94"
      ]
     },
     "execution_count": 129,
     "metadata": {},
     "output_type": "execute_result"
    }
   ],
   "source": [
    "tiheydet = np.array([0.81, 0.75, 0.88, 0.94, 1.08, 1.24, 2.34, 1.00])\n",
    "tiheydet[3]"
   ]
  },
  {
   "cell_type": "code",
   "execution_count": 130,
   "id": "845c128f-4411-4530-93b1-5f3718c3473f",
   "metadata": {},
   "outputs": [
    {
     "name": "stdout",
     "output_type": "stream",
     "text": [
      "[2, 10.4, 'abab']\n"
     ]
    }
   ],
   "source": [
    "L = [1,5.2, \"ab\"]\n",
    "L2 = []\n",
    "for x in L:\n",
    "    L2.append(x*2)\n",
    "print(L2)"
   ]
  },
  {
   "cell_type": "code",
   "execution_count": 131,
   "id": "63b75b5e-c1d6-4bb2-a11a-3939a1200b67",
   "metadata": {},
   "outputs": [
    {
     "data": {
      "text/plain": [
       "array(['1', '5.2', 'ab'], dtype='<U32')"
      ]
     },
     "execution_count": 131,
     "metadata": {},
     "output_type": "execute_result"
    }
   ],
   "source": [
    "L = np.array(L)\n",
    "L"
   ]
  },
  {
   "cell_type": "code",
   "execution_count": 139,
   "id": "66936bd9-820b-4a37-89f8-ae0aede156d6",
   "metadata": {},
   "outputs": [
    {
     "name": "stdout",
     "output_type": "stream",
     "text": [
      "<class 'float'>\n",
      "float64\n",
      "[ 4.2 10.  34.4]\n"
     ]
    }
   ],
   "source": [
    "a=[2.1, 5.0, 17.2]\n",
    "print(type(a[0]))\n",
    "a = np.array(a)\n",
    "print(a.dtype)\n",
    "a2=a*2\n",
    "print(a2)"
   ]
  },
  {
   "cell_type": "code",
   "execution_count": 140,
   "id": "a77fb60e-441f-4f3f-853b-fac3d8708f61",
   "metadata": {},
   "outputs": [
    {
     "name": "stdout",
     "output_type": "stream",
     "text": [
      "[   4.41   -80.    -710.016]\n"
     ]
    }
   ],
   "source": [
    "b = np.array([-1, 3.2, 2.4])\n",
    "print(-a**2*b)"
   ]
  },
  {
   "cell_type": "code",
   "execution_count": 141,
   "id": "975a954c-8085-4809-b7e3-3033c8cde20b",
   "metadata": {},
   "outputs": [
    {
     "name": "stdout",
     "output_type": "stream",
     "text": [
      "[1.  3.2 2.4]\n",
      "[ 0.54030231 -0.99829478 -0.73739372]\n",
      "[ 0.36787944 24.5325302  11.02317638]\n",
      "[0.         1.67807191 1.26303441]\n"
     ]
    }
   ],
   "source": [
    "print(np.abs(b))\n",
    "print(np.cos(b))\n",
    "print(np.exp(b))\n",
    "print(np.log2(np.abs(b)))"
   ]
  },
  {
   "cell_type": "code",
   "execution_count": 143,
   "id": "004ded68-bbbb-4e5b-80c6-930ef5b73b97",
   "metadata": {},
   "outputs": [
    {
     "name": "stdout",
     "output_type": "stream",
     "text": [
      "[[ 72 -53  17  92 -33]\n",
      " [ 95   3 -91 -79 -64]\n",
      " [-13 -30 -12  40 -42]\n",
      " [ 93 -61 -13  74 -12]]\n"
     ]
    }
   ],
   "source": [
    "np.random.seed(0)\n",
    "a = np.random.randint(-100, 100, (4,5))\n",
    "print(a)"
   ]
  },
  {
   "cell_type": "code",
   "execution_count": 149,
   "id": "7545a85d-9192-420c-a058-1a419a74be97",
   "metadata": {},
   "outputs": [
    {
     "name": "stdout",
     "output_type": "stream",
     "text": [
      "-13\n",
      "95\n",
      "-17\n",
      "-27.2\n"
     ]
    }
   ],
   "source": [
    "print(a[:,0].min())\n",
    "print(a.max())\n",
    "print(a.sum())\n",
    "print(a[1].mean())"
   ]
  },
  {
   "cell_type": "code",
   "execution_count": 150,
   "id": "4560ca6a-c46b-4186-acb7-c01531a22dc7",
   "metadata": {},
   "outputs": [
    {
     "name": "stdout",
     "output_type": "stream",
     "text": [
      "[[5 6 8 6]\n",
      " [1 6 4 8]\n",
      " [1 8 5 1]]\n"
     ]
    }
   ],
   "source": [
    "np.random.seed(9)\n",
    "b = np.random.randint(0,10,(3,4))\n",
    "print(b)"
   ]
  },
  {
   "cell_type": "code",
   "execution_count": 151,
   "id": "13d5382a-93c1-42e5-9f74-180ca17eff38",
   "metadata": {},
   "outputs": [
    {
     "name": "stdout",
     "output_type": "stream",
     "text": [
      "[ 7 20 17 15]\n",
      "[25 19 15]\n"
     ]
    }
   ],
   "source": [
    "print(b.sum(axis=0))\n",
    "print(b.sum(axis=1))"
   ]
  },
  {
   "cell_type": "code",
   "execution_count": 152,
   "id": "5947f38e-84ca-4780-a6b2-b2599c43c549",
   "metadata": {},
   "outputs": [
    {
     "data": {
      "text/plain": [
       "60"
      ]
     },
     "execution_count": 152,
     "metadata": {},
     "output_type": "execute_result"
    }
   ],
   "source": [
    "g = np.array([1,2,3,10])\n",
    "np.prod(g)"
   ]
  },
  {
   "cell_type": "code",
   "execution_count": 159,
   "id": "34e53509-d5c4-41e6-98a9-2eca05da4840",
   "metadata": {},
   "outputs": [
    {
     "data": {
      "text/plain": [
       "True"
      ]
     },
     "execution_count": 159,
     "metadata": {},
     "output_type": "execute_result"
    }
   ],
   "source": [
    "np.any([False, False, False, True, False])"
   ]
  },
  {
   "cell_type": "code",
   "execution_count": 163,
   "id": "73242c34-c5bd-4722-a855-116d39924b18",
   "metadata": {},
   "outputs": [
    {
     "name": "stdout",
     "output_type": "stream",
     "text": [
      "7.35 µs ± 63.8 ns per loop (mean ± std. dev. of 7 runs, 100000 loops each)\n"
     ]
    }
   ],
   "source": [
    "a = np.arange(1000)\n",
    "%timeit np.sum(a)"
   ]
  },
  {
   "cell_type": "code",
   "execution_count": 164,
   "id": "fbc6d245-21a3-4a45-994c-7f3d5a764294",
   "metadata": {},
   "outputs": [
    {
     "name": "stdout",
     "output_type": "stream",
     "text": [
      "80.2 µs ± 804 ns per loop (mean ± std. dev. of 7 runs, 10000 loops each)\n"
     ]
    }
   ],
   "source": [
    "%timeit sum(a)"
   ]
  },
  {
   "cell_type": "code",
   "execution_count": 165,
   "id": "7f0f8378-7942-45ed-b12b-5b1beb6715cd",
   "metadata": {},
   "outputs": [
    {
     "data": {
      "text/plain": [
       "array([0, 1, 2])"
      ]
     },
     "execution_count": 165,
     "metadata": {},
     "output_type": "execute_result"
    }
   ],
   "source": [
    "a = np.arange(3)\n",
    "a"
   ]
  },
  {
   "cell_type": "code",
   "execution_count": 166,
   "id": "ffbfe889-bf34-4206-968c-39cc6c1156c2",
   "metadata": {},
   "outputs": [
    {
     "data": {
      "text/plain": [
       "array([4])"
      ]
     },
     "execution_count": 166,
     "metadata": {},
     "output_type": "execute_result"
    }
   ],
   "source": [
    "b = np.array([4])\n",
    "b"
   ]
  },
  {
   "cell_type": "code",
   "execution_count": 167,
   "id": "cb237337-42cb-4a7c-aeae-120d4e614e1c",
   "metadata": {},
   "outputs": [
    {
     "data": {
      "text/plain": [
       "array([4, 5, 6])"
      ]
     },
     "execution_count": 167,
     "metadata": {},
     "output_type": "execute_result"
    }
   ],
   "source": [
    "a + b"
   ]
  },
  {
   "cell_type": "code",
   "execution_count": 168,
   "id": "fa65f874-cd4c-44a2-b609-67a2dc986b03",
   "metadata": {},
   "outputs": [
    {
     "data": {
      "text/plain": [
       "array([4, 5, 6])"
      ]
     },
     "execution_count": 168,
     "metadata": {},
     "output_type": "execute_result"
    }
   ],
   "source": [
    "np.arange(3) + 4"
   ]
  },
  {
   "cell_type": "code",
   "execution_count": 169,
   "id": "fa80ccfd-be2c-4274-8ffb-b5fdb3f89ad1",
   "metadata": {},
   "outputs": [
    {
     "name": "stdout",
     "output_type": "stream",
     "text": [
      "a:\n",
      "[[5 5 5]\n",
      " [5 5 5]\n",
      " [5 5 5]]\n",
      "b: [0 1 2]\n"
     ]
    }
   ],
   "source": [
    "a= np.full((3,3), 5)\n",
    "b = np.arange(3)\n",
    "print(\"a:\", a, sep=\"\\n\")\n",
    "print(\"b:\", b)"
   ]
  },
  {
   "cell_type": "code",
   "execution_count": 170,
   "id": "03c6f924-72a3-4a10-a887-e750c25ea274",
   "metadata": {},
   "outputs": [
    {
     "name": "stdout",
     "output_type": "stream",
     "text": [
      "a+b:\n",
      "[[5 6 7]\n",
      " [5 6 7]\n",
      " [5 6 7]]\n"
     ]
    }
   ],
   "source": [
    "print(\"a+b:\", a+b, sep=\"\\n\")"
   ]
  },
  {
   "cell_type": "code",
   "execution_count": 171,
   "id": "2ceab053-d2a1-4065-850b-aaf2f6d477bd",
   "metadata": {},
   "outputs": [
    {
     "name": "stdout",
     "output_type": "stream",
     "text": [
      "[0 1 2]\n",
      "[[0]\n",
      " [1]\n",
      " [2]]\n"
     ]
    }
   ],
   "source": [
    "\n",
    "a=np.arange(3)\n",
    "b=np.arange(3).reshape((3,1))\n",
    "print(a)\n",
    "print(b)"
   ]
  },
  {
   "cell_type": "code",
   "execution_count": 172,
   "id": "8be327f2-32c9-4238-85b3-e824b75de6ac",
   "metadata": {},
   "outputs": [
    {
     "data": {
      "text/plain": [
       "array([[0, 1, 2],\n",
       "       [1, 2, 3],\n",
       "       [2, 3, 4]])"
      ]
     },
     "execution_count": 172,
     "metadata": {},
     "output_type": "execute_result"
    }
   ],
   "source": [
    "a+b"
   ]
  },
  {
   "cell_type": "code",
   "execution_count": 174,
   "id": "302f6579-f6ca-4f91-8b38-7211de029e51",
   "metadata": {},
   "outputs": [
    {
     "name": "stdout",
     "output_type": "stream",
     "text": [
      "[[0 1 2]\n",
      " [0 1 2]\n",
      " [0 1 2]]\n",
      "[[0 0 0]\n",
      " [1 1 1]\n",
      " [2 2 2]]\n"
     ]
    }
   ],
   "source": [
    "broadcasted_a, broadcasted_b = np.broadcast_arrays(a,b)\n",
    "print(broadcasted_a)\n",
    "print(broadcasted_b)"
   ]
  },
  {
   "cell_type": "code",
   "execution_count": 175,
   "id": "b43e5af1-c0c3-481f-ac30-fa02ec9f550e",
   "metadata": {},
   "outputs": [
    {
     "name": "stderr",
     "output_type": "stream",
     "text": [
      "operands could not be broadcast together with shapes (3,) (2,) \n"
     ]
    }
   ],
   "source": [
    "a=np.array([1,2,3])\n",
    "b=np.array([4,5])\n",
    "try:\n",
    "    a+b\n",
    "except ValueError as e:\n",
    "    import sys\n",
    "    print(e, file=sys.stderr)"
   ]
  },
  {
   "cell_type": "code",
   "execution_count": null,
   "id": "c4b5aa30-1103-4ce6-ac26-b20cb2c0a830",
   "metadata": {},
   "outputs": [],
   "source": []
  }
 ],
 "metadata": {
  "kernelspec": {
   "display_name": "Python 3",
   "language": "python",
   "name": "python3"
  },
  "language_info": {
   "codemirror_mode": {
    "name": "ipython",
    "version": 3
   },
   "file_extension": ".py",
   "mimetype": "text/x-python",
   "name": "python",
   "nbconvert_exporter": "python",
   "pygments_lexer": "ipython3",
   "version": "3.8.10"
  }
 },
 "nbformat": 4,
 "nbformat_minor": 5
}
