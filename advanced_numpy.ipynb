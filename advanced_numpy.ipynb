{
 "cells": [
  {
   "cell_type": "code",
   "execution_count": 2,
   "id": "9f78e81b-9013-416c-b3ee-6af25ea7eae7",
   "metadata": {},
   "outputs": [],
   "source": [
    "import numpy as np"
   ]
  },
  {
   "cell_type": "code",
   "execution_count": 3,
   "id": "03f5348e-cd06-4fb4-a47a-2febd9c0e493",
   "metadata": {},
   "outputs": [
    {
     "name": "stdout",
     "output_type": "stream",
     "text": [
      "1.20.3\n"
     ]
    }
   ],
   "source": [
    "print(np.__version__)"
   ]
  },
  {
   "cell_type": "code",
   "execution_count": 4,
   "id": "89dbe726-229a-4926-b2a3-6b93b82defd3",
   "metadata": {},
   "outputs": [
    {
     "data": {
      "text/plain": [
       "[[100, 200, 50, 400], [50, 0, 0, 100], [350, 100, 50, 200]]"
      ]
     },
     "execution_count": 4,
     "metadata": {},
     "output_type": "execute_result"
    }
   ],
   "source": [
    "data = [[100, 200, 50, 400], [50, 0, 0, 100], [350, 100, 50, 200]]\n",
    "data"
   ]
  },
  {
   "cell_type": "code",
   "execution_count": 6,
   "id": "f59d426e-ed9b-4b51-bcbd-c13cb71a82b5",
   "metadata": {},
   "outputs": [
    {
     "data": {
      "text/plain": [
       "array([[100, 200,  50, 400],\n",
       "       [ 50,   0,   0, 100],\n",
       "       [350, 100,  50, 200]])"
      ]
     },
     "execution_count": 6,
     "metadata": {},
     "output_type": "execute_result"
    }
   ],
   "source": [
    "a = np.array(data)\n",
    "a"
   ]
  },
  {
   "cell_type": "code",
   "execution_count": 7,
   "id": "8c026407-98d7-473a-81e2-ee312bc7d229",
   "metadata": {},
   "outputs": [
    {
     "name": "stdout",
     "output_type": "stream",
     "text": [
      "number elements:  12\n",
      "number of dimnesions:  2\n",
      "shape:  (3, 4)\n",
      "data type:  int32\n",
      "strides:  (16, 4)\n",
      "flags: \n",
      "  C_CONTIGUOUS : True\n",
      "  F_CONTIGUOUS : False\n",
      "  OWNDATA : True\n",
      "  WRITEABLE : True\n",
      "  ALIGNED : True\n",
      "  WRITEBACKIFCOPY : False\n",
      "  UPDATEIFCOPY : False\n",
      "\n"
     ]
    }
   ],
   "source": [
    "def print_info(a):\n",
    "    print(\"number elements: \", a.size)\n",
    "    print(\"number of dimnesions: \", a.ndim)\n",
    "    print(\"shape: \", a.shape)\n",
    "    print(\"data type: \", a.dtype)\n",
    "    print(\"strides: \", a.strides)\n",
    "    print(\"flags: \")\n",
    "    print(a.flags)\n",
    "    \n",
    "print_info(a)"
   ]
  },
  {
   "cell_type": "code",
   "execution_count": 8,
   "id": "e9f372e2-6fec-448d-8d7f-36fedcd46f36",
   "metadata": {},
   "outputs": [
    {
     "name": "stdout",
     "output_type": "stream",
     "text": [
      "<memory at 0x00000244E12A4EE0>\n"
     ]
    }
   ],
   "source": [
    "print(a.data)"
   ]
  },
  {
   "cell_type": "code",
   "execution_count": 11,
   "id": "b07ee2f2-1142-4872-b20d-3add33897a23",
   "metadata": {},
   "outputs": [],
   "source": [
    "abytes = a.ravel().view(dtype=np.uint8)"
   ]
  },
  {
   "cell_type": "code",
   "execution_count": 13,
   "id": "6753087f-bb11-4745-a149-e9b3c235c73a",
   "metadata": {},
   "outputs": [
    {
     "name": "stdout",
     "output_type": "stream",
     "text": [
      "[100   0   0   0 200   0   0   0  50   0   0   0 144   1   0   0  50   0\n",
      "   0   0   0   0   0   0]\n"
     ]
    }
   ],
   "source": [
    "print(abytes[:24])"
   ]
  },
  {
   "cell_type": "code",
   "execution_count": 14,
   "id": "4a45c288-90a0-466b-8ca8-b535100a09bc",
   "metadata": {},
   "outputs": [
    {
     "name": "stdout",
     "output_type": "stream",
     "text": [
      "number elements:  48\n",
      "number of dimnesions:  1\n",
      "shape:  (48,)\n",
      "data type:  uint8\n",
      "strides:  (1,)\n",
      "flags: \n",
      "  C_CONTIGUOUS : True\n",
      "  F_CONTIGUOUS : True\n",
      "  OWNDATA : False\n",
      "  WRITEABLE : True\n",
      "  ALIGNED : True\n",
      "  WRITEBACKIFCOPY : False\n",
      "  UPDATEIFCOPY : False\n",
      "\n"
     ]
    }
   ],
   "source": [
    "print_info(abytes)"
   ]
  },
  {
   "cell_type": "code",
   "execution_count": 15,
   "id": "989404fd-0060-4fbf-a73d-3fde2e034f73",
   "metadata": {},
   "outputs": [
    {
     "data": {
      "text/plain": [
       "array([1, 2, 3])"
      ]
     },
     "execution_count": 15,
     "metadata": {},
     "output_type": "execute_result"
    }
   ],
   "source": [
    "np.array([1,2,3])"
   ]
  },
  {
   "cell_type": "code",
   "execution_count": 18,
   "id": "352e8846-20da-4c5b-a8ba-9bf6eadda06a",
   "metadata": {},
   "outputs": [
    {
     "data": {
      "text/plain": [
       "array([[1, 2, 3],\n",
       "       [4, 5, 6]])"
      ]
     },
     "execution_count": 18,
     "metadata": {},
     "output_type": "execute_result"
    }
   ],
   "source": [
    "np.array([[1,2,3], [4,5,6]])"
   ]
  },
  {
   "cell_type": "code",
   "execution_count": 19,
   "id": "7c1cc010-20ea-45ea-89d7-a363d6e31646",
   "metadata": {},
   "outputs": [
    {
     "data": {
      "text/plain": [
       "array([[[1, 2],\n",
       "        [3, 4]],\n",
       "\n",
       "       [[5, 6],\n",
       "        [7, 8]]])"
      ]
     },
     "execution_count": 19,
     "metadata": {},
     "output_type": "execute_result"
    }
   ],
   "source": [
    "np.array([[[1,2], [3,4]], [[5,6], [7,8]]])"
   ]
  },
  {
   "cell_type": "code",
   "execution_count": 21,
   "id": "6009547f-7394-4531-a20e-03fe5ad14505",
   "metadata": {},
   "outputs": [
    {
     "data": {
      "text/plain": [
       "array([[0., 0., 0., 0.],\n",
       "       [0., 0., 0., 0.],\n",
       "       [0., 0., 0., 0.],\n",
       "       [0., 0., 0., 0.],\n",
       "       [0., 0., 0., 0.]])"
      ]
     },
     "execution_count": 21,
     "metadata": {},
     "output_type": "execute_result"
    }
   ],
   "source": [
    "np.zeros((5,4))"
   ]
  },
  {
   "cell_type": "code",
   "execution_count": 23,
   "id": "edc5d372-c986-47a1-b19d-24d9d3f7f8b8",
   "metadata": {},
   "outputs": [
    {
     "data": {
      "text/plain": [
       "array([[0, 0, 0, 0],\n",
       "       [0, 0, 0, 0],\n",
       "       [0, 0, 0, 0],\n",
       "       [0, 0, 0, 0],\n",
       "       [0, 0, 0, 0]])"
      ]
     },
     "execution_count": 23,
     "metadata": {},
     "output_type": "execute_result"
    }
   ],
   "source": [
    "a = np.zeros((5,4), dtype=int)\n",
    "a"
   ]
  },
  {
   "cell_type": "code",
   "execution_count": 24,
   "id": "fb9ba394-4e55-41ab-834d-07dd51003826",
   "metadata": {},
   "outputs": [
    {
     "data": {
      "text/plain": [
       "dtype('int32')"
      ]
     },
     "execution_count": 24,
     "metadata": {},
     "output_type": "execute_result"
    }
   ],
   "source": [
    "a.dtype"
   ]
  },
  {
   "cell_type": "code",
   "execution_count": 25,
   "id": "6e3b2537-9586-4de5-a9c7-cd249b7bfc46",
   "metadata": {},
   "outputs": [
    {
     "data": {
      "text/plain": [
       "array([[1., 1., 1.],\n",
       "       [1., 1., 1.],\n",
       "       [1., 1., 1.],\n",
       "       [1., 1., 1.]])"
      ]
     },
     "execution_count": 25,
     "metadata": {},
     "output_type": "execute_result"
    }
   ],
   "source": [
    "np.ones((4,3))"
   ]
  },
  {
   "cell_type": "code",
   "execution_count": 26,
   "id": "b195b0b2-5980-4534-9a44-1093dd0cbc02",
   "metadata": {},
   "outputs": [
    {
     "data": {
      "text/plain": [
       "array([[1, 1, 1],\n",
       "       [1, 1, 1],\n",
       "       [1, 1, 1],\n",
       "       [1, 1, 1]])"
      ]
     },
     "execution_count": 26,
     "metadata": {},
     "output_type": "execute_result"
    }
   ],
   "source": [
    "np.ones((4,3), dtype=int)"
   ]
  },
  {
   "cell_type": "code",
   "execution_count": 27,
   "id": "d5634290-c206-42e5-b5e1-55ae591251de",
   "metadata": {},
   "outputs": [
    {
     "data": {
      "text/plain": [
       "array([[5, 5, 5],\n",
       "       [5, 5, 5],\n",
       "       [5, 5, 5]])"
      ]
     },
     "execution_count": 27,
     "metadata": {},
     "output_type": "execute_result"
    }
   ],
   "source": [
    "np.full((3,3), fill_value=5)"
   ]
  },
  {
   "cell_type": "code",
   "execution_count": 32,
   "id": "c72b468b-cb6d-43e4-939f-5388b302e2c2",
   "metadata": {},
   "outputs": [
    {
     "data": {
      "text/plain": [
       "array([[10, 10, 10, 10, 10, 10, 10, 10, 10, 10],\n",
       "       [10, 10, 10, 10, 10, 10, 10, 10, 10, 10],\n",
       "       [10, 10, 10, 10, 10, 10, 10, 10, 10, 10],\n",
       "       [10, 10, 10, 10, 10, 10, 10, 10, 10, 10],\n",
       "       [10, 10, 10, 10, 10, 10, 10, 10, 10, 10],\n",
       "       [10, 10, 10, 10, 10, 10, 10, 10, 10, 10],\n",
       "       [10, 10, 10, 10, 10, 10, 10, 10, 10, 10],\n",
       "       [10, 10, 10, 10, 10, 10, 10, 10, 10, 10],\n",
       "       [10, 10, 10, 10, 10, 10, 10, 10, 10, 10],\n",
       "       [10, 10, 10, 10, 10, 10, 10, 10, 10, 10]])"
      ]
     },
     "execution_count": 32,
     "metadata": {},
     "output_type": "execute_result"
    }
   ],
   "source": [
    "np.full((10,10), fill_value=10)"
   ]
  },
  {
   "cell_type": "code",
   "execution_count": 34,
   "id": "16cbec9d-3767-4e9c-981e-6d6f056cdc8d",
   "metadata": {},
   "outputs": [
    {
     "data": {
      "text/plain": [
       "array([[0.00000000e+000, 0.00000000e+000, 0.00000000e+000,\n",
       "        0.00000000e+000],\n",
       "       [0.00000000e+000, 5.94855038e-321, 1.42410974e-306,\n",
       "        8.34451927e-308]])"
      ]
     },
     "execution_count": 34,
     "metadata": {},
     "output_type": "execute_result"
    }
   ],
   "source": [
    "\"\"\"empty, unlike zeros, does not set the array values to zero, and may \n",
    "therefore be marginally faster. On the other hand, it requires the user\n",
    "to manually set all the values in the array, and should be used with \n",
    "caution.\"\"\"\n",
    "\n",
    "np.empty((2,4))"
   ]
  },
  {
   "cell_type": "code",
   "execution_count": 40,
   "id": "10dd305a-17e9-4193-ab76-b82c8d5801df",
   "metadata": {},
   "outputs": [
    {
     "data": {
      "text/plain": [
       "array([[1, 0, 0, 0, 0],\n",
       "       [0, 1, 0, 0, 0],\n",
       "       [0, 0, 1, 0, 0],\n",
       "       [0, 0, 0, 1, 0],\n",
       "       [0, 0, 0, 0, 1]])"
      ]
     },
     "execution_count": 40,
     "metadata": {},
     "output_type": "execute_result"
    }
   ],
   "source": [
    "np.eye(5, dtype=int)"
   ]
  },
  {
   "cell_type": "code",
   "execution_count": 38,
   "id": "fd64ec75-e606-4837-b080-05f10ac1db18",
   "metadata": {},
   "outputs": [
    {
     "data": {
      "text/plain": [
       "array([[0, 1, 0, 0, 0],\n",
       "       [0, 0, 1, 0, 0],\n",
       "       [0, 0, 0, 1, 0],\n",
       "       [0, 0, 0, 0, 1],\n",
       "       [0, 0, 0, 0, 0]])"
      ]
     },
     "execution_count": 38,
     "metadata": {},
     "output_type": "execute_result"
    }
   ],
   "source": [
    "np.eye(5, dtype=int, k=1) # changing index"
   ]
  },
  {
   "cell_type": "code",
   "execution_count": 41,
   "id": "282c090a-d522-4d7b-ba36-40c6efc45bce",
   "metadata": {},
   "outputs": [
    {
     "data": {
      "text/plain": [
       "array([0, 2, 4, 6, 8])"
      ]
     },
     "execution_count": 41,
     "metadata": {},
     "output_type": "execute_result"
    }
   ],
   "source": [
    "np.arange(0,10,2)"
   ]
  },
  {
   "cell_type": "code",
   "execution_count": 42,
   "id": "886d47a3-6075-45ab-9826-60b6a728dbae",
   "metadata": {},
   "outputs": [
    {
     "data": {
      "text/plain": [
       "array([0.        , 0.78539816, 1.57079633, 2.35619449, 3.14159265])"
      ]
     },
     "execution_count": 42,
     "metadata": {},
     "output_type": "execute_result"
    }
   ],
   "source": [
    "np.linspace(0, np.pi, 5)"
   ]
  },
  {
   "cell_type": "code",
   "execution_count": 44,
   "id": "5e541112-a89c-47fe-bdee-6fb502b4a591",
   "metadata": {},
   "outputs": [
    {
     "data": {
      "text/plain": [
       "array([[0.20221478, 0.38628016, 0.81043605],\n",
       "       [0.32699125, 0.09734076, 0.51719083],\n",
       "       [0.36893317, 0.47050142, 0.71908628]])"
      ]
     },
     "execution_count": 44,
     "metadata": {},
     "output_type": "execute_result"
    }
   ],
   "source": [
    "np.random.random((3,3))"
   ]
  },
  {
   "cell_type": "code",
   "execution_count": 45,
   "id": "ce592eef-3dd2-412b-ab17-07dd7c186b7e",
   "metadata": {},
   "outputs": [
    {
     "data": {
      "text/plain": [
       "array([[ 0.32363318,  0.2929084 ,  0.81586014,  1.81681076],\n",
       "       [ 0.31460792,  2.08406485, -1.43147306,  0.92672242],\n",
       "       [-0.31232314, -0.9251697 ,  1.70145629,  1.40144636]])"
      ]
     },
     "execution_count": 45,
     "metadata": {},
     "output_type": "execute_result"
    }
   ],
   "source": [
    "np.random.normal(0,1,(3,4))"
   ]
  },
  {
   "cell_type": "code",
   "execution_count": 47,
   "id": "08115c2f-b841-4aa1-838a-0b62ff52fa65",
   "metadata": {},
   "outputs": [
    {
     "data": {
      "text/plain": [
       "array([[ 8,  4,  9, -2],\n",
       "       [-1,  1, -1,  7],\n",
       "       [ 3,  5,  7,  9]])"
      ]
     },
     "execution_count": 47,
     "metadata": {},
     "output_type": "execute_result"
    }
   ],
   "source": [
    "np.random.randint(-2, 10, (3,4))"
   ]
  },
  {
   "cell_type": "code",
   "execution_count": 48,
   "id": "b3b5457a-cd0c-4c2a-a968-994591f0139c",
   "metadata": {},
   "outputs": [
    {
     "data": {
      "text/plain": [
       "array([[0.77184649, 0.66914605, 0.07688599, 0.0247964 , 0.98471532,\n",
       "        0.23039298, 0.63699309, 0.74114078, 0.42138626, 0.03698045],\n",
       "       [0.22339673, 0.37436381, 0.02855217, 0.8450493 , 0.90587375,\n",
       "        0.43977665, 0.88459519, 0.28185833, 0.96085841, 0.43806607],\n",
       "       [0.03735999, 0.37618019, 0.2052192 , 0.44865108, 0.81984109,\n",
       "        0.33321545, 0.10574584, 0.41656043, 0.56766171, 0.64539533],\n",
       "       [0.37298213, 0.68326816, 0.35828728, 0.11630758, 0.9097666 ,\n",
       "        0.55191928, 0.85761802, 0.86162786, 0.49325193, 0.22432317],\n",
       "       [0.5081541 , 0.08160825, 0.60367038, 0.97958657, 0.84363573,\n",
       "        0.29940811, 0.07693635, 0.5770806 , 0.52797718, 0.82798135],\n",
       "       [0.16986603, 0.24843141, 0.73186032, 0.88361277, 0.22799732,\n",
       "        0.95340978, 0.5001484 , 0.85755378, 0.57644614, 0.40138905],\n",
       "       [0.31962795, 0.6147332 , 0.14797971, 0.35951427, 0.06337906,\n",
       "        0.33201168, 0.48610334, 0.33806133, 0.83694453, 0.37799568],\n",
       "       [0.1793195 , 0.5266647 , 0.5971787 , 0.31288015, 0.96065766,\n",
       "        0.28908293, 0.2711125 , 0.92130209, 0.21295352, 0.50355145],\n",
       "       [0.88467527, 0.16149346, 0.87262817, 0.6101169 , 0.03224771,\n",
       "        0.51870529, 0.0504916 , 0.27615111, 0.34982635, 0.73346024],\n",
       "       [0.07748658, 0.43684079, 0.52575705, 0.04885554, 0.51610192,\n",
       "        0.65482565, 0.83761824, 0.70550376, 0.72172188, 0.43951139]])"
      ]
     },
     "execution_count": 48,
     "metadata": {},
     "output_type": "execute_result"
    }
   ],
   "source": [
    "np.random.random((10,10))"
   ]
  },
  {
   "cell_type": "code",
   "execution_count": 54,
   "id": "2f923d41-c422-4988-828f-b02d906eaac9",
   "metadata": {},
   "outputs": [
    {
     "data": {
      "text/plain": [
       "array([[ 2.22637941, -4.54693771],\n",
       "       [-0.85149682, -1.80292478],\n",
       "       [-0.70712716,  0.22435459],\n",
       "       [-0.84596368, -1.61800602],\n",
       "       [ 1.9763696 ,  0.11387405],\n",
       "       [-0.39058278,  1.53631568],\n",
       "       [-0.71160141,  0.21902054],\n",
       "       [-0.29707343,  0.01715041],\n",
       "       [-1.10294184, -3.18918507],\n",
       "       [ 2.54916288,  2.01186565]])"
      ]
     },
     "execution_count": 54,
     "metadata": {},
     "output_type": "execute_result"
    }
   ],
   "source": [
    "np.random.normal(0, 2, (10,2))"
   ]
  },
  {
   "cell_type": "code",
   "execution_count": 58,
   "id": "4b7af759-b424-4271-a31e-cbb0068490fd",
   "metadata": {},
   "outputs": [
    {
     "name": "stdout",
     "output_type": "stream",
     "text": [
      "[40 15 72 22 43 82 75  7 34 49]\n",
      "[ 0.50288142 -1.24528809 -1.05795222 -0.90900761  0.55145404  2.29220801\n",
      "  0.04153939 -1.11792545  0.53905832 -0.5961597 ]\n"
     ]
    }
   ],
   "source": [
    "np.random.seed(2)\n",
    "print(np.random.randint(0,100,10))\n",
    "print(np.random.normal(0, 1, 10))"
   ]
  },
  {
   "cell_type": "code",
   "execution_count": 59,
   "id": "3e33db55-d591-4726-80cd-1d2b56bdd665",
   "metadata": {},
   "outputs": [
    {
     "name": "stdout",
     "output_type": "stream",
     "text": [
      "[40 15 72 22 43 82 75  7 34 49]\n",
      "[ 0.50288142 -1.24528809 -1.05795222 -0.90900761  0.55145404  2.29220801\n",
      "  0.04153939 -1.11792545  0.53905832 -0.5961597 ]\n"
     ]
    }
   ],
   "source": [
    "np.random.seed(2)\n",
    "print(np.random.randint(0,100,10))\n",
    "print(np.random.normal(0, 1, 10))"
   ]
  },
  {
   "cell_type": "code",
   "execution_count": 60,
   "id": "0aaa4097-1fe8-4bcf-a0ab-82759a648306",
   "metadata": {},
   "outputs": [
    {
     "data": {
      "text/plain": [
       "array([66, 92, 98, 17, 83, 57, 86, 97, 96, 47])"
      ]
     },
     "execution_count": 60,
     "metadata": {},
     "output_type": "execute_result"
    }
   ],
   "source": [
    "new_generator = np.random.RandomState(seed=123)\n",
    "new_generator.randint(0,100,10)"
   ]
  },
  {
   "cell_type": "code",
   "execution_count": 61,
   "id": "13bb2297-bbe9-4e59-b557-1951bc5f398a",
   "metadata": {},
   "outputs": [],
   "source": [
    "def info(name, a):\n",
    "    print(f\"{name} has dim {a.ndim}, shape {a.shape}, size {a.size}, and dtype {a.dtype}:\")\n",
    "    print(a)"
   ]
  },
  {
   "cell_type": "code",
   "execution_count": 62,
   "id": "b3ab7615-d0fd-4706-ba7e-467e05d828d5",
   "metadata": {},
   "outputs": [
    {
     "name": "stdout",
     "output_type": "stream",
     "text": [
      "b has dim 2, shape (2, 3), size 6, and dtype int32:\n",
      "[[1 2 3]\n",
      " [3 4 5]]\n"
     ]
    }
   ],
   "source": [
    "b = np.array([[1,2,3], [3,4,5]])\n",
    "info(\"b\", b)"
   ]
  },
  {
   "cell_type": "code",
   "execution_count": 63,
   "id": "b9a3ae8e-2a37-489f-b7d9-bb3aaf7d5bdf",
   "metadata": {},
   "outputs": [
    {
     "name": "stdout",
     "output_type": "stream",
     "text": [
      "number elements:  20\n",
      "number of dimnesions:  2\n",
      "shape:  (5, 4)\n",
      "data type:  int32\n",
      "strides:  (16, 4)\n",
      "flags: \n",
      "  C_CONTIGUOUS : True\n",
      "  F_CONTIGUOUS : False\n",
      "  OWNDATA : True\n",
      "  WRITEABLE : True\n",
      "  ALIGNED : True\n",
      "  WRITEBACKIFCOPY : False\n",
      "  UPDATEIFCOPY : False\n",
      "\n"
     ]
    }
   ],
   "source": [
    "print_info(a)"
   ]
  },
  {
   "cell_type": "code",
   "execution_count": 65,
   "id": "3548ba03-b299-4a24-be7e-ab63739b99da",
   "metadata": {},
   "outputs": [
    {
     "name": "stdout",
     "output_type": "stream",
     "text": [
      "c has dim 3, shape (2, 2, 3), size 12, and dtype int32:\n",
      "[[[1 2 3]\n",
      "  [3 4 5]]\n",
      "\n",
      " [[1 2 3]\n",
      "  [3 4 5]]]\n"
     ]
    }
   ],
   "source": [
    "c = np.array([b,b])\n",
    "info(\"c\", c)"
   ]
  }
 ],
 "metadata": {
  "kernelspec": {
   "display_name": "Python 3",
   "language": "python",
   "name": "python3"
  },
  "language_info": {
   "codemirror_mode": {
    "name": "ipython",
    "version": 3
   },
   "file_extension": ".py",
   "mimetype": "text/x-python",
   "name": "python",
   "nbconvert_exporter": "python",
   "pygments_lexer": "ipython3",
   "version": "3.8.10"
  }
 },
 "nbformat": 4,
 "nbformat_minor": 5
}
