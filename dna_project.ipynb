{
 "cells": [
  {
   "cell_type": "code",
   "execution_count": 108,
   "id": "97dfae04-b81a-45a4-80f5-5e575b875f53",
   "metadata": {},
   "outputs": [],
   "source": [
    "from collections import defaultdict\n",
    "from itertools import product\n",
    "\n",
    "import numpy as np\n",
    "from numpy.random import choice\n",
    "from bs4 import BeautifulSoup"
   ]
  },
  {
   "cell_type": "code",
   "execution_count": 109,
   "id": "ca7fdb12-dc96-472b-aba5-45170167026e",
   "metadata": {},
   "outputs": [],
   "source": [
    "def dna_to_rna(s):\n",
    "    \"\"\"\n",
    "    Converting DNA sequence to RNA sequence. Function returns a RNA sequence, if input\n",
    "    is valid and error message if not.\n",
    "    param: String\n",
    "    return: String\n",
    "    \"\"\"\n",
    "    try:\n",
    "        if len(s) > 0:\n",
    "            switcher = {\"A\" : \"A\",\n",
    "                    \"C\" : \"C\",\n",
    "                    \"G\" : \"G\",\n",
    "                    \"T\" : \"U\" }\n",
    "            return \"\".join(switcher.get(x) for x in s)\n",
    "        else: return \"Not a valid DNA sequence\" \n",
    "    except:\n",
    "        return \"Not a valid DNA sequence\" "
   ]
  },
  {
   "cell_type": "code",
   "execution_count": 110,
   "id": "85cf0ac8-656d-4d95-ab34-898f8f12a572",
   "metadata": {},
   "outputs": [],
   "source": [
    "def test_dna_to_rna():\n",
    "    \"\"\"\n",
    "    Function to test if the dna_to_rna fuction returns a valid output.\n",
    "    \"\"\"\n",
    "\n",
    "    def output_test():\n",
    "        \"\"\"\n",
    "        Testing if the conversion is valid.\n",
    "        \"\"\"\n",
    "        if dna_to_rna(\"AACGTGATTTG\") == \"AACGUGAUUUG\":\n",
    "            return True\n",
    "        else: return False\n",
    "    \n",
    "    def empty_input_test():\n",
    "        \"\"\"\n",
    "        Testing error with empty input.\n",
    "        \"\"\"\n",
    "        if dna_to_rna(\"\") != \"Not a valid DNA sequence\":\n",
    "            return False\n",
    "        else: return True\n",
    "    \n",
    "    def wrong_input_test():\n",
    "        \"\"\"\n",
    "        Testing with wrong input.\n",
    "        \"\"\"\n",
    "        if dna_to_rna(\"abc\") != \"Not a valid DNA sequence\":\n",
    "            return False\n",
    "        else: return True\n",
    "\n",
    "    # Printing if test has passed or failed.\n",
    "    if output_test() == True and empty_input_test() == True and wrong_input_test() == True:\n",
    "        print(\"Test is passed.\")\n",
    "    else: print(\"Test failed.\")"
   ]
  },
  {
   "cell_type": "code",
   "execution_count": 111,
   "id": "d007ae96-ebac-4825-9816-ad5d017e27db",
   "metadata": {},
   "outputs": [
    {
     "name": "stdout",
     "output_type": "stream",
     "text": [
      "AACGUGAUUUG\n",
      "Test is passed.\n"
     ]
    }
   ],
   "source": [
    "print(dna_to_rna(\"AACGTGATTTG\"))\n",
    "test_dna_to_rna()"
   ]
  },
  {
   "cell_type": "markdown",
   "id": "285229e0-5b57-4873-99ef-8c4341bea728",
   "metadata": {},
   "source": [
    "### Idea of solution\n",
    "\n",
    "Converting DNA sequence to RNA sequence with dna_to_rna function. Function returns a RNA \n",
    "sequence, if the input is valid, and error message if not. Funtion test_dna_to_rna acts \n",
    "as a test program and prints if the test is passed or not. Commenting describes more \n",
    "about how functions work."
   ]
  },
  {
   "cell_type": "code",
   "execution_count": 106,
   "id": "b825cfa3-d88b-4427-92e8-32b23fedf976",
   "metadata": {},
   "outputs": [],
   "source": [
    "def get_dict():\n",
    "    \"\"\"\n",
    "    Function opens the Codon usage table and converts it to a dictionary, where \n",
    "    dict key is a RNA triplet sequence and value corresponding amino acid.\n",
    "    Return: dict\n",
    "    \"\"\"\n",
    "    \n",
    "    # Open the html file\n",
    "    with open(\"Codon usage table.html\") as fp:\n",
    "        soup = BeautifulSoup(fp, \"html.parser\")\n",
    "\n",
    "    # Create conversion dict \n",
    "    data = []\n",
    "    conversion_dict = {}\n",
    "    for row in soup.pre:\n",
    "        data.append(row)\n",
    "    rows = []\n",
    "    data = data[0].split(\")\")\n",
    "    for row in data:\n",
    "        rows.append(row.strip())\n",
    "    for r in rows:\n",
    "        r.strip()\n",
    "        splitted = r.split(\" \")\n",
    "        if splitted[0] and splitted[1]:\n",
    "            dna = splitted[0].replace(\" \", \"\")\n",
    "            amino_acid = splitted[1].replace(\" \", \"\")\n",
    "            conversion_dict[dna] = amino_acid\n",
    "\n",
    "    return conversion_dict   "
   ]
  },
  {
   "cell_type": "code",
   "execution_count": 107,
   "id": "7c8ef6f5-db7a-499c-b77e-c9bf96af418e",
   "metadata": {},
   "outputs": [
    {
     "name": "stdout",
     "output_type": "stream",
     "text": [
      "{'UUU': 'F', 'UCU': 'S', 'UAU': 'Y', 'UGU': 'C', 'UUC': 'F', 'UCC': 'S', 'UAC': 'Y', 'UGC': 'C', 'UUA': 'L', 'UCA': 'S', 'UAA': '*', 'UGA': '*', 'UUG': 'L', 'UCG': 'S', 'UAG': '*', 'UGG': 'W', 'CUU': 'L', 'CCU': 'P', 'CAU': 'H', 'CGU': 'R', 'CUC': 'L', 'CCC': 'P', 'CAC': 'H', 'CGC': 'R', 'CUA': 'L', 'CCA': 'P', 'CAA': 'Q', 'CGA': 'R', 'CUG': 'L', 'CCG': 'P', 'CAG': 'Q', 'CGG': 'R', 'AUU': 'I', 'ACU': 'T', 'AAU': 'N', 'AGU': 'S', 'AUC': 'I', 'ACC': 'T', 'AAC': 'N', 'AGC': 'S', 'AUA': 'I', 'ACA': 'T', 'AAA': 'K', 'AGA': 'R', 'AUG': 'M', 'ACG': 'T', 'AAG': 'K', 'AGG': 'R', 'GUU': 'V', 'GCU': 'A', 'GAU': 'D', 'GGU': 'G', 'GUC': 'V', 'GCC': 'A', 'GAC': 'D', 'GGC': 'G', 'GUA': 'V', 'GCA': 'A', 'GAA': 'E', 'GGA': 'G', 'GUG': 'V', 'GCG': 'A', 'GAG': 'E', 'GGG': 'G'}\n"
     ]
    }
   ],
   "source": [
    "codon_to_aa = get_dict()\n",
    "print(codon_to_aa)"
   ]
  },
  {
   "cell_type": "markdown",
   "id": "264e4ddd-64c7-44ce-b6cf-4c38aec0fe8a",
   "metadata": {},
   "source": [
    "### Idea of solution\n",
    "\n",
    "Function get_dict opens the Codon usage table and converts it to a dictionary, where dict key is a RNA triplet sequence and value corresponding amino acid. Codon usage table.html is saved in the src and function uses the BeatifulSoup library to parse the html file. Function then separates the needed values and creates and returns the conversion dict."
   ]
  },
  {
   "cell_type": "code",
   "execution_count": null,
   "id": "12deb055-ea0b-43a5-bb15-a58be6a757a2",
   "metadata": {},
   "outputs": [],
   "source": []
  }
 ],
 "metadata": {
  "kernelspec": {
   "display_name": "Python 3",
   "language": "python",
   "name": "python3"
  },
  "language_info": {
   "codemirror_mode": {
    "name": "ipython",
    "version": 3
   },
   "file_extension": ".py",
   "mimetype": "text/x-python",
   "name": "python",
   "nbconvert_exporter": "python",
   "pygments_lexer": "ipython3",
   "version": "3.8.10"
  }
 },
 "nbformat": 4,
 "nbformat_minor": 5
}
