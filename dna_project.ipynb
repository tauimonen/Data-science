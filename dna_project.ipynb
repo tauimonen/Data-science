{
 "cells": [
  {
   "cell_type": "code",
   "execution_count": 1,
   "id": "97dfae04-b81a-45a4-80f5-5e575b875f53",
   "metadata": {},
   "outputs": [],
   "source": [
    "from collections import defaultdict\n",
    "from itertools import product\n",
    "\n",
    "import numpy as np\n",
    "from numpy.random import choice"
   ]
  },
  {
   "cell_type": "code",
   "execution_count": 2,
   "id": "ca7fdb12-dc96-472b-aba5-45170167026e",
   "metadata": {},
   "outputs": [],
   "source": [
    "def dna_to_rna(s):\n",
    "    \"\"\"\n",
    "    Converting DNA sequence to RNA sequence. Function returns a RNA sequence, if input\n",
    "    is valid and error message if not.\n",
    "    param: String\n",
    "    return: String\n",
    "    \"\"\"\n",
    "    try:\n",
    "        if len(s) > 0:\n",
    "            switcher = {\"A\" : \"A\",\n",
    "                    \"C\" : \"C\",\n",
    "                    \"G\" : \"G\",\n",
    "                    \"T\" : \"U\" }\n",
    "            return \"\".join(switcher.get(x) for x in s)\n",
    "        else: return \"Not a valid DNA sequence\" \n",
    "    except:\n",
    "        return \"Not a valid DNA sequence\" "
   ]
  },
  {
   "cell_type": "code",
   "execution_count": 7,
   "id": "85cf0ac8-656d-4d95-ab34-898f8f12a572",
   "metadata": {},
   "outputs": [],
   "source": [
    "def test_dna_to_rna():\n",
    "    \"\"\"\n",
    "    Function to test if the dna_to_rna fuction returns a valid output.\n",
    "    \"\"\"\n",
    "\n",
    "    def output_test():\n",
    "        \"\"\"\n",
    "        Testing if the conversion is valid.\n",
    "        \"\"\"\n",
    "        if dna_to_rna(\"AACGTGATTTG\") == \"AACGUGAUUUG\":\n",
    "            return True\n",
    "        else: return False\n",
    "    \n",
    "    def empty_input_test():\n",
    "        \"\"\"\n",
    "        Testing error with empty input.\n",
    "        \"\"\"\n",
    "        if dna_to_rna(\"\") != \"Not a valid DNA sequence\":\n",
    "            return False\n",
    "        else: return True\n",
    "    \n",
    "    def wrong_input_test():\n",
    "        \"\"\"\n",
    "        Testing with wrong input.\n",
    "        \"\"\"\n",
    "        if dna_to_rna(\"abc\") != \"Not a valid DNA sequence\":\n",
    "            return False\n",
    "        else: return True\n",
    "\n",
    "    # Printing if test has passed or failed.\n",
    "    if output_test() == True and empty_input_test() == True and wrong_input_test() == True:\n",
    "        print(\"Test is passed.\")\n",
    "    else: print(\"Test failed.\")"
   ]
  },
  {
   "cell_type": "code",
   "execution_count": 8,
   "id": "d007ae96-ebac-4825-9816-ad5d017e27db",
   "metadata": {},
   "outputs": [
    {
     "name": "stdout",
     "output_type": "stream",
     "text": [
      "AACGUGAUUUG\n",
      "True True True\n",
      "Test is passed.\n"
     ]
    }
   ],
   "source": [
    "print(dna_to_rna(\"AACGTGATTTG\"))\n",
    "test_dna_to_rna()"
   ]
  },
  {
   "cell_type": "code",
   "execution_count": null,
   "id": "7fc845d2-d1e3-41a6-a6cd-3e6404450705",
   "metadata": {},
   "outputs": [],
   "source": [
    "### Idea of solution\n",
    "\n",
    "Converting DNA sequence to RNA sequence with dna_to_rna function. Function returns a RNA \n",
    "sequence, if the input is valid, and error message if not. Funtion test_dna_to_rna acts \n",
    "as a test program and prints if the test is passed or not. Commenting describes more about how functions work."
   ]
  }
 ],
 "metadata": {
  "kernelspec": {
   "display_name": "Python 3",
   "language": "python",
   "name": "python3"
  },
  "language_info": {
   "codemirror_mode": {
    "name": "ipython",
    "version": 3
   },
   "file_extension": ".py",
   "mimetype": "text/x-python",
   "name": "python",
   "nbconvert_exporter": "python",
   "pygments_lexer": "ipython3",
   "version": "3.8.10"
  }
 },
 "nbformat": 4,
 "nbformat_minor": 5
}
