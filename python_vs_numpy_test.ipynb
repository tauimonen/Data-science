{
 "cells": [
  {
   "cell_type": "code",
   "execution_count": 1,
   "id": "d53e2a0a-9b84-4513-9b0a-7703d199c00d",
   "metadata": {},
   "outputs": [],
   "source": [
    "import numpy as np"
   ]
  },
  {
   "cell_type": "code",
   "execution_count": 2,
   "id": "0be42b04-7aa2-412b-b956-e94b7371c31d",
   "metadata": {},
   "outputs": [
    {
     "name": "stdout",
     "output_type": "stream",
     "text": [
      "13 ms ± 137 µs per loop (mean ± std. dev. of 7 runs, 100 loops each)\n"
     ]
    }
   ],
   "source": [
    "# Python for-loop vs NumPy and vectorized arrays\n",
    "\n",
    "# squares all the values\n",
    "def squares(values):\n",
    "    result = []\n",
    "    for v in values:\n",
    "        result.append(v * v)\n",
    "    return result\n",
    "   \n",
    "# create 100,000 numbers\n",
    "to_square = range(100000)\n",
    "\n",
    "# timing the operation\n",
    "%timeit squares(to_square)"
   ]
  },
  {
   "cell_type": "code",
   "execution_count": 3,
   "id": "aaf3661f-7696-4ef9-8bf8-ef3edbb6ec14",
   "metadata": {},
   "outputs": [
    {
     "name": "stdout",
     "output_type": "stream",
     "text": [
      "58.9 µs ± 1.67 µs per loop (mean ± std. dev. of 7 runs, 10000 loops each)\n"
     ]
    }
   ],
   "source": [
    "# numpy array\n",
    "array_to_square = np.arange(0, 100000)\n",
    "# timing a vectorized operation\n",
    "%timeit array_to_square ** 2"
   ]
  },
  {
   "cell_type": "code",
   "execution_count": 6,
   "id": "bcebb2cf-0a95-4826-a513-f3421b45df6e",
   "metadata": {},
   "outputs": [
    {
     "ename": "ModuleNotFoundError",
     "evalue": "No module named 'legate'",
     "output_type": "error",
     "traceback": [
      "\u001b[1;31m---------------------------------------------------------------------------\u001b[0m",
      "\u001b[1;31mModuleNotFoundError\u001b[0m                       Traceback (most recent call last)",
      "\u001b[1;32m<ipython-input-6-43758961d693>\u001b[0m in \u001b[0;36m<module>\u001b[1;34m\u001b[0m\n\u001b[1;32m----> 1\u001b[1;33m \u001b[1;32mimport\u001b[0m \u001b[0mlegate\u001b[0m\u001b[1;33m.\u001b[0m\u001b[0mnumpy\u001b[0m \u001b[1;32mas\u001b[0m \u001b[0mnp\u001b[0m\u001b[1;33m\u001b[0m\u001b[1;33m\u001b[0m\u001b[0m\n\u001b[0m",
      "\u001b[1;31mModuleNotFoundError\u001b[0m: No module named 'legate'"
     ]
    }
   ],
   "source": [
    "import legate.numpy as np"
   ]
  },
  {
   "cell_type": "code",
   "execution_count": null,
   "id": "426e8ef3-0deb-4e8a-b57c-692c1e11c176",
   "metadata": {},
   "outputs": [],
   "source": []
  }
 ],
 "metadata": {
  "kernelspec": {
   "display_name": "Python 3",
   "language": "python",
   "name": "python3"
  },
  "language_info": {
   "codemirror_mode": {
    "name": "ipython",
    "version": 3
   },
   "file_extension": ".py",
   "mimetype": "text/x-python",
   "name": "python",
   "nbconvert_exporter": "python",
   "pygments_lexer": "ipython3",
   "version": "3.8.10"
  }
 },
 "nbformat": 4,
 "nbformat_minor": 5
}
